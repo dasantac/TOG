{
 "cells": [
  {
   "cell_type": "markdown",
   "id": "bfff2878",
   "metadata": {},
   "source": [
    "# Context\n",
    "This notebook drives the training process for different models."
   ]
  },
  {
   "cell_type": "code",
   "execution_count": 1,
   "id": "537c2fd5",
   "metadata": {},
   "outputs": [],
   "source": [
    "# Set project's environment variables\n",
    "import os\n",
    "import sys\n",
    "from dotenv import load_dotenv\n",
    "load_dotenv(dotenv_path=\"../project.env\")\n",
    "sys.path.append(os.environ[\"PYTHONPATH\"])\n",
    "\n",
    "import pickle"
   ]
  },
  {
   "cell_type": "code",
   "execution_count": 2,
   "id": "bfd0cbe4",
   "metadata": {},
   "outputs": [
    {
     "name": "stdout",
     "output_type": "stream",
     "text": [
      "\n",
      "\n",
      "Chosen class grouping: two-classes\n",
      "\n",
      "\n",
      "Directory /Users/diego/Desktop/iteso/TOG/ exists. Continuing with execution\n",
      "Directory /Users/diego/Desktop/iteso/TOG/data exists. Continuing with execution\n",
      "Directory /Users/diego/Desktop/iteso/TOG/src exists. Continuing with execution\n",
      "Directory /Users/diego/Desktop/iteso/TOG/bin exists. Continuing with execution\n",
      "Directory /Users/diego/Desktop/iteso/TOG/media exists. Continuing with execution\n",
      "Directory /Users/diego/Desktop/iteso/TOG/scores exists. Continuing with execution\n",
      "Directory /Users/diego/Desktop/iteso/TOG/data/PH3/two-classes exists. Continuing with execution\n",
      "Directory /Users/diego/Desktop/iteso/TOG/bin/gen/TRAIN exists. Continuing with execution\n",
      "Directory /Users/diego/Desktop/iteso/TOG/data/PH1/two-classes exists. Continuing with execution\n",
      "Directory /Users/diego/Desktop/iteso/TOG/data/PH2/two-classes exists. Continuing with execution\n",
      "Directory /Users/diego/Desktop/iteso/TOG/data/PH3/two-classes exists. Continuing with execution\n",
      "device: mps\n",
      "Directory /Users/diego/Desktop/iteso/TOG/bin/load/TRAIN/distilbert-base-uncased exists. Continuing with execution\n",
      "Directory /Users/diego/Desktop/iteso/TOG/bin/load/TRAIN/prajjwal1/bert-tiny exists. Continuing with execution\n",
      "Directory /Users/diego/Desktop/iteso/TOG/bin/load/TRAIN/bert-base-uncased exists. Continuing with execution\n",
      "Directory /Users/diego/Desktop/iteso/TOG/bin/load/TRAIN/bert-large-uncased exists. Continuing with execution\n"
     ]
    }
   ],
   "source": [
    "# Import project-wide and PH2 specific variables and functions\n",
    "import superheader as sup\n",
    "import TRAINheader as train"
   ]
  },
  {
   "cell_type": "code",
   "execution_count": 3,
   "id": "178865f6",
   "metadata": {},
   "outputs": [],
   "source": [
    "TRAIN_classes = 'two-classes'"
   ]
  },
  {
   "cell_type": "markdown",
   "id": "1080dc06",
   "metadata": {},
   "source": [
    "# Model training"
   ]
  },
  {
   "cell_type": "markdown",
   "id": "62cdbd68",
   "metadata": {},
   "source": [
    "## KNN"
   ]
  },
  {
   "cell_type": "markdown",
   "id": "f0a96d30",
   "metadata": {},
   "source": [
    "### Active Hand prediction"
   ]
  },
  {
   "cell_type": "code",
   "execution_count": 4,
   "id": "0f660be5",
   "metadata": {},
   "outputs": [
    {
     "name": "stdout",
     "output_type": "stream",
     "text": [
      "updating best... 0.8892215568862275\n",
      "\t{'PH2': True, 'PH3': True, 'reducer': 'pca', 'kernel': '', 'n': 1, 'data_unit': 'AHpf', 'label_col': 'active_hand', 'class_list': 'two-classes'}\n",
      "\t{'arch': 'KNN', 'k': 1}\n",
      "Directory /Users/diego/Desktop/iteso/TOG/bin/gen/TRAIN/two-classes/KNN/AHpf exists. Continuing with execution\n",
      "updating best... 0.9021956087824351\n",
      "\t{'PH2': True, 'PH3': True, 'reducer': 'pca', 'kernel': '', 'n': 1, 'data_unit': 'AHpf', 'label_col': 'active_hand', 'class_list': 'two-classes'}\n",
      "\t{'arch': 'KNN', 'k': 3}\n",
      "Directory /Users/diego/Desktop/iteso/TOG/bin/gen/TRAIN/two-classes/KNN/AHpf exists. Continuing with execution\n",
      "updating best... 0.907185628742515\n",
      "\t{'PH2': True, 'PH3': True, 'reducer': 'pca', 'kernel': '', 'n': 1, 'data_unit': 'AHpf', 'label_col': 'active_hand', 'class_list': 'two-classes'}\n",
      "\t{'arch': 'KNN', 'k': 5}\n",
      "Directory /Users/diego/Desktop/iteso/TOG/bin/gen/TRAIN/two-classes/KNN/AHpf exists. Continuing with execution\n",
      "updating best... 0.908183632734531\n",
      "\t{'PH2': True, 'PH3': True, 'reducer': 'pca', 'kernel': '', 'n': 1, 'data_unit': 'AHpf', 'label_col': 'active_hand', 'class_list': 'two-classes'}\n",
      "\t{'arch': 'KNN', 'k': 6}\n",
      "Directory /Users/diego/Desktop/iteso/TOG/bin/gen/TRAIN/two-classes/KNN/AHpf exists. Continuing with execution\n",
      "updating best... 0.9151696606786427\n",
      "\t{'PH2': True, 'PH3': True, 'reducer': 'pca', 'kernel': '', 'n': 1, 'data_unit': 'AHpf', 'label_col': 'active_hand', 'class_list': 'two-classes'}\n",
      "\t{'arch': 'KNN', 'k': 7}\n",
      "Directory /Users/diego/Desktop/iteso/TOG/bin/gen/TRAIN/two-classes/KNN/AHpf exists. Continuing with execution\n",
      "updating best... 0.9171656686626747\n",
      "\t{'PH2': True, 'PH3': True, 'reducer': 'pca', 'kernel': '', 'n': 1, 'data_unit': 'AHpf', 'label_col': 'active_hand', 'class_list': 'two-classes'}\n",
      "\t{'arch': 'KNN', 'k': 9}\n",
      "Directory /Users/diego/Desktop/iteso/TOG/bin/gen/TRAIN/two-classes/KNN/AHpf exists. Continuing with execution\n",
      "updating best... 0.9191616766467066\n",
      "\t{'PH2': True, 'PH3': True, 'reducer': 'pca', 'kernel': '', 'n': 1, 'data_unit': 'AHpf', 'label_col': 'active_hand', 'class_list': 'two-classes'}\n",
      "\t{'arch': 'KNN', 'k': 11}\n",
      "Directory /Users/diego/Desktop/iteso/TOG/bin/gen/TRAIN/two-classes/KNN/AHpf exists. Continuing with execution\n",
      "updating best... 0.9211576846307385\n",
      "\t{'PH2': True, 'PH3': True, 'reducer': 'pca', 'kernel': '', 'n': 1, 'data_unit': 'AHpf', 'label_col': 'active_hand', 'class_list': 'two-classes'}\n",
      "\t{'arch': 'KNN', 'k': 14}\n",
      "Directory /Users/diego/Desktop/iteso/TOG/bin/gen/TRAIN/two-classes/KNN/AHpf exists. Continuing with execution\n",
      "updating best... 0.9271457085828343\n",
      "\t{'PH2': True, 'PH3': True, 'reducer': 'kpca', 'kernel': 'cosine', 'n': 1, 'data_unit': 'AHpf', 'label_col': 'active_hand', 'class_list': 'two-classes'}\n",
      "\t{'arch': 'KNN', 'k': 1}\n",
      "Directory /Users/diego/Desktop/iteso/TOG/bin/gen/TRAIN/two-classes/KNN/AHpf exists. Continuing with execution\n",
      "updating best... 0.9391217564870259\n",
      "\t{'PH2': True, 'PH3': True, 'reducer': 'kpca', 'kernel': 'cosine', 'n': 1, 'data_unit': 'AHpf', 'label_col': 'active_hand', 'class_list': 'two-classes'}\n",
      "\t{'arch': 'KNN', 'k': 3}\n",
      "Directory /Users/diego/Desktop/iteso/TOG/bin/gen/TRAIN/two-classes/KNN/AHpf exists. Continuing with execution\n",
      "updating best... 0.9431137724550899\n",
      "\t{'PH2': True, 'PH3': True, 'reducer': 'kpca', 'kernel': 'cosine', 'n': 1, 'data_unit': 'AHpf', 'label_col': 'active_hand', 'class_list': 'two-classes'}\n",
      "\t{'arch': 'KNN', 'k': 5}\n",
      "Directory /Users/diego/Desktop/iteso/TOG/bin/gen/TRAIN/two-classes/KNN/AHpf exists. Continuing with execution\n",
      "updating best... 0.9441117764471058\n",
      "\t{'PH2': True, 'PH3': True, 'reducer': 'kpca', 'kernel': 'cosine', 'n': 1, 'data_unit': 'AHpf', 'label_col': 'active_hand', 'class_list': 'two-classes'}\n",
      "\t{'arch': 'KNN', 'k': 6}\n",
      "Directory /Users/diego/Desktop/iteso/TOG/bin/gen/TRAIN/two-classes/KNN/AHpf exists. Continuing with execution\n",
      "updating best... 0.9451097804391217\n",
      "\t{'PH2': True, 'PH3': True, 'reducer': 'kpca', 'kernel': 'cosine', 'n': 1, 'data_unit': 'AHpf', 'label_col': 'active_hand', 'class_list': 'two-classes'}\n",
      "\t{'arch': 'KNN', 'k': 8}\n",
      "Directory /Users/diego/Desktop/iteso/TOG/bin/gen/TRAIN/two-classes/KNN/AHpf exists. Continuing with execution\n",
      "updating best... 0.9461077844311377\n",
      "\t{'PH2': True, 'PH3': True, 'reducer': 'kpca', 'kernel': 'cosine', 'n': 1, 'data_unit': 'AHpf', 'label_col': 'active_hand', 'class_list': 'two-classes'}\n",
      "\t{'arch': 'KNN', 'k': 9}\n",
      "Directory /Users/diego/Desktop/iteso/TOG/bin/gen/TRAIN/two-classes/KNN/AHpf exists. Continuing with execution\n",
      "updating best... 0.9481037924151696\n",
      "\t{'PH2': True, 'PH3': True, 'reducer': 'kpca', 'kernel': 'cosine', 'n': 1, 'data_unit': 'AHpf', 'label_col': 'active_hand', 'class_list': 'two-classes'}\n",
      "\t{'arch': 'KNN', 'k': 10}\n",
      "Directory /Users/diego/Desktop/iteso/TOG/bin/gen/TRAIN/two-classes/KNN/AHpf exists. Continuing with execution\n",
      "updating best... 0.9491017964071856\n",
      "\t{'PH2': True, 'PH3': True, 'reducer': 'kpca', 'kernel': 'cosine', 'n': 1, 'data_unit': 'AHpf', 'label_col': 'active_hand', 'class_list': 'two-classes'}\n",
      "\t{'arch': 'KNN', 'k': 11}\n",
      "Directory /Users/diego/Desktop/iteso/TOG/bin/gen/TRAIN/two-classes/KNN/AHpf exists. Continuing with execution\n",
      "updating best... 0.9680638722554891\n",
      "\t{'PH2': True, 'PH3': True, 'reducer': 'umap', 'kernel': '', 'n': 1, 'data_unit': 'AHpf', 'label_col': 'active_hand', 'class_list': 'two-classes'}\n",
      "\t{'arch': 'KNN', 'k': 1}\n",
      "Directory /Users/diego/Desktop/iteso/TOG/bin/gen/TRAIN/two-classes/KNN/AHpf exists. Continuing with execution\n",
      "updating best... 0.9760479041916168\n",
      "\t{'PH2': True, 'PH3': True, 'reducer': 'umap', 'kernel': '', 'n': 1, 'data_unit': 'AHpf', 'label_col': 'active_hand', 'class_list': 'two-classes'}\n",
      "\t{'arch': 'KNN', 'k': 2}\n",
      "Directory /Users/diego/Desktop/iteso/TOG/bin/gen/TRAIN/two-classes/KNN/AHpf exists. Continuing with execution\n",
      "updating best... 0.9780439121756487\n",
      "\t{'PH2': True, 'PH3': True, 'reducer': 'umap', 'kernel': '', 'n': 1, 'data_unit': 'AHpf', 'label_col': 'active_hand', 'class_list': 'two-classes'}\n",
      "\t{'arch': 'KNN', 'k': 4}\n",
      "Directory /Users/diego/Desktop/iteso/TOG/bin/gen/TRAIN/two-classes/KNN/AHpf exists. Continuing with execution\n",
      "updating best... 0.9830339321357285\n",
      "\t{'PH2': True, 'PH3': True, 'reducer': 'kpca', 'kernel': 'cosine', 'n': 2, 'data_unit': 'AHpf', 'label_col': 'active_hand', 'class_list': 'two-classes'}\n",
      "\t{'arch': 'KNN', 'k': 3}\n",
      "Directory /Users/diego/Desktop/iteso/TOG/bin/gen/TRAIN/two-classes/KNN/AHpf exists. Continuing with execution\n",
      "updating best... 0.9840319361277445\n",
      "\t{'PH2': True, 'PH3': True, 'reducer': 'kpca', 'kernel': 'cosine', 'n': 3, 'data_unit': 'AHpf', 'label_col': 'active_hand', 'class_list': 'two-classes'}\n",
      "\t{'arch': 'KNN', 'k': 5}\n",
      "Directory /Users/diego/Desktop/iteso/TOG/bin/gen/TRAIN/two-classes/KNN/AHpf exists. Continuing with execution\n",
      "updating best... 0.9850299401197605\n",
      "\t{'PH2': True, 'PH3': True, 'reducer': 'pca', 'kernel': '', 'n': 4, 'data_unit': 'AHpf', 'label_col': 'active_hand', 'class_list': 'two-classes'}\n",
      "\t{'arch': 'KNN', 'k': 5}\n",
      "Directory /Users/diego/Desktop/iteso/TOG/bin/gen/TRAIN/two-classes/KNN/AHpf exists. Continuing with execution\n",
      "Data Unit: AHpf\n",
      "Best score: 0.9850299401197605\n",
      "Best data config: {'PH2': True, 'PH3': True, 'reducer': 'pca', 'kernel': '', 'n': 4, 'data_unit': 'AHpf', 'label_col': 'active_hand', 'class_list': 'two-classes'}\n",
      "Best train config: {'arch': 'KNN', 'k': 5}\n"
     ]
    }
   ],
   "source": [
    "train.arch.find_best(sup.DATA_AH_PF, sup.active_hand_col, TRAIN_classes, sup.TRAIN_KNN_CODE)"
   ]
  },
  {
   "cell_type": "markdown",
   "id": "20e70816",
   "metadata": {},
   "source": [
    "### Sign prediction"
   ]
  },
  {
   "cell_type": "code",
   "execution_count": 5,
   "id": "36e0fd65",
   "metadata": {},
   "outputs": [
    {
     "name": "stdout",
     "output_type": "stream",
     "text": [
      "updating best... 0.54296875\n",
      "\t{'PH2': True, 'PH3': True, 'reducer': 'pca', 'kernel': '', 'n': 1, 'data_unit': 'Spf', 'label_col': 'class_numeric', 'class_list': 'two-classes'}\n",
      "\t{'arch': 'KNN', 'k': 1}\n",
      "Directory /Users/diego/Desktop/iteso/TOG/bin/gen/TRAIN/two-classes/KNN/Spf exists. Continuing with execution\n",
      "updating best... 0.55859375\n",
      "\t{'PH2': True, 'PH3': True, 'reducer': 'pca', 'kernel': '', 'n': 1, 'data_unit': 'Spf', 'label_col': 'class_numeric', 'class_list': 'two-classes'}\n",
      "\t{'arch': 'KNN', 'k': 2}\n",
      "Directory /Users/diego/Desktop/iteso/TOG/bin/gen/TRAIN/two-classes/KNN/Spf exists. Continuing with execution\n",
      "updating best... 0.560546875\n",
      "\t{'PH2': True, 'PH3': True, 'reducer': 'pca', 'kernel': '', 'n': 1, 'data_unit': 'Spf', 'label_col': 'class_numeric', 'class_list': 'two-classes'}\n",
      "\t{'arch': 'KNN', 'k': 3}\n",
      "Directory /Users/diego/Desktop/iteso/TOG/bin/gen/TRAIN/two-classes/KNN/Spf exists. Continuing with execution\n",
      "updating best... 0.572265625\n",
      "\t{'PH2': True, 'PH3': True, 'reducer': 'pca', 'kernel': '', 'n': 1, 'data_unit': 'Spf', 'label_col': 'class_numeric', 'class_list': 'two-classes'}\n",
      "\t{'arch': 'KNN', 'k': 15}\n",
      "Directory /Users/diego/Desktop/iteso/TOG/bin/gen/TRAIN/two-classes/KNN/Spf exists. Continuing with execution\n",
      "updating best... 0.607421875\n",
      "\t{'PH2': True, 'PH3': True, 'reducer': 'kpca', 'kernel': 'poly', 'n': 1, 'data_unit': 'Spf', 'label_col': 'class_numeric', 'class_list': 'two-classes'}\n",
      "\t{'arch': 'KNN', 'k': 1}\n",
      "Directory /Users/diego/Desktop/iteso/TOG/bin/gen/TRAIN/two-classes/KNN/Spf exists. Continuing with execution\n",
      "updating best... 0.626953125\n",
      "\t{'PH2': True, 'PH3': True, 'reducer': 'kpca', 'kernel': 'poly', 'n': 1, 'data_unit': 'Spf', 'label_col': 'class_numeric', 'class_list': 'two-classes'}\n",
      "\t{'arch': 'KNN', 'k': 3}\n",
      "Directory /Users/diego/Desktop/iteso/TOG/bin/gen/TRAIN/two-classes/KNN/Spf exists. Continuing with execution\n",
      "updating best... 0.64453125\n",
      "\t{'PH2': True, 'PH3': True, 'reducer': 'kpca', 'kernel': 'poly', 'n': 1, 'data_unit': 'Spf', 'label_col': 'class_numeric', 'class_list': 'two-classes'}\n",
      "\t{'arch': 'KNN', 'k': 10}\n",
      "Directory /Users/diego/Desktop/iteso/TOG/bin/gen/TRAIN/two-classes/KNN/Spf exists. Continuing with execution\n",
      "updating best... 0.646484375\n",
      "\t{'PH2': True, 'PH3': True, 'reducer': 'kpca', 'kernel': 'poly', 'n': 1, 'data_unit': 'Spf', 'label_col': 'class_numeric', 'class_list': 'two-classes'}\n",
      "\t{'arch': 'KNN', 'k': 11}\n",
      "Directory /Users/diego/Desktop/iteso/TOG/bin/gen/TRAIN/two-classes/KNN/Spf exists. Continuing with execution\n",
      "updating best... 0.87109375\n",
      "\t{'PH2': True, 'PH3': True, 'reducer': 'umap', 'kernel': '', 'n': 1, 'data_unit': 'Spf', 'label_col': 'class_numeric', 'class_list': 'two-classes'}\n",
      "\t{'arch': 'KNN', 'k': 1}\n",
      "Directory /Users/diego/Desktop/iteso/TOG/bin/gen/TRAIN/two-classes/KNN/Spf exists. Continuing with execution\n",
      "updating best... 0.89453125\n",
      "\t{'PH2': True, 'PH3': True, 'reducer': 'umap', 'kernel': '', 'n': 1, 'data_unit': 'Spf', 'label_col': 'class_numeric', 'class_list': 'two-classes'}\n",
      "\t{'arch': 'KNN', 'k': 3}\n",
      "Directory /Users/diego/Desktop/iteso/TOG/bin/gen/TRAIN/two-classes/KNN/Spf exists. Continuing with execution\n",
      "updating best... 0.896484375\n",
      "\t{'PH2': True, 'PH3': True, 'reducer': 'umap', 'kernel': '', 'n': 1, 'data_unit': 'Spf', 'label_col': 'class_numeric', 'class_list': 'two-classes'}\n",
      "\t{'arch': 'KNN', 'k': 5}\n",
      "Directory /Users/diego/Desktop/iteso/TOG/bin/gen/TRAIN/two-classes/KNN/Spf exists. Continuing with execution\n",
      "updating best... 0.900390625\n",
      "\t{'PH2': True, 'PH3': True, 'reducer': 'umap', 'kernel': '', 'n': 1, 'data_unit': 'Spf', 'label_col': 'class_numeric', 'class_list': 'two-classes'}\n",
      "\t{'arch': 'KNN', 'k': 8}\n",
      "Directory /Users/diego/Desktop/iteso/TOG/bin/gen/TRAIN/two-classes/KNN/Spf exists. Continuing with execution\n",
      "updating best... 0.943359375\n",
      "\t{'PH2': True, 'PH3': True, 'reducer': 'umap', 'kernel': '', 'n': 2, 'data_unit': 'Spf', 'label_col': 'class_numeric', 'class_list': 'two-classes'}\n",
      "\t{'arch': 'KNN', 'k': 1}\n",
      "Directory /Users/diego/Desktop/iteso/TOG/bin/gen/TRAIN/two-classes/KNN/Spf exists. Continuing with execution\n",
      "updating best... 0.947265625\n",
      "\t{'PH2': True, 'PH3': True, 'reducer': 'umap', 'kernel': '', 'n': 2, 'data_unit': 'Spf', 'label_col': 'class_numeric', 'class_list': 'two-classes'}\n",
      "\t{'arch': 'KNN', 'k': 2}\n",
      "Directory /Users/diego/Desktop/iteso/TOG/bin/gen/TRAIN/two-classes/KNN/Spf exists. Continuing with execution\n",
      "updating best... 0.951171875\n",
      "\t{'PH2': True, 'PH3': True, 'reducer': 'umap', 'kernel': '', 'n': 2, 'data_unit': 'Spf', 'label_col': 'class_numeric', 'class_list': 'two-classes'}\n",
      "\t{'arch': 'KNN', 'k': 3}\n",
      "Directory /Users/diego/Desktop/iteso/TOG/bin/gen/TRAIN/two-classes/KNN/Spf exists. Continuing with execution\n",
      "updating best... 0.953125\n",
      "\t{'PH2': True, 'PH3': True, 'reducer': 'umap', 'kernel': '', 'n': 2, 'data_unit': 'Spf', 'label_col': 'class_numeric', 'class_list': 'two-classes'}\n",
      "\t{'arch': 'KNN', 'k': 5}\n",
      "Directory /Users/diego/Desktop/iteso/TOG/bin/gen/TRAIN/two-classes/KNN/Spf exists. Continuing with execution\n",
      "updating best... 0.966796875\n",
      "\t{'PH2': True, 'PH3': True, 'reducer': 'umap', 'kernel': '', 'n': 3, 'data_unit': 'Spf', 'label_col': 'class_numeric', 'class_list': 'two-classes'}\n",
      "\t{'arch': 'KNN', 'k': 1}\n",
      "Directory /Users/diego/Desktop/iteso/TOG/bin/gen/TRAIN/two-classes/KNN/Spf exists. Continuing with execution\n",
      "updating best... 0.96875\n",
      "\t{'PH2': True, 'PH3': True, 'reducer': 'umap', 'kernel': '', 'n': 7, 'data_unit': 'Spf', 'label_col': 'class_numeric', 'class_list': 'two-classes'}\n",
      "\t{'arch': 'KNN', 'k': 3}\n",
      "Directory /Users/diego/Desktop/iteso/TOG/bin/gen/TRAIN/two-classes/KNN/Spf exists. Continuing with execution\n",
      "updating best... 0.97265625\n",
      "\t{'PH2': True, 'PH3': True, 'reducer': 'kpca', 'kernel': 'cosine', 'n': 10, 'data_unit': 'Spf', 'label_col': 'class_numeric', 'class_list': 'two-classes'}\n",
      "\t{'arch': 'KNN', 'k': 1}\n",
      "Directory /Users/diego/Desktop/iteso/TOG/bin/gen/TRAIN/two-classes/KNN/Spf exists. Continuing with execution\n",
      "updating best... 0.974609375\n",
      "\t{'PH2': True, 'PH3': True, 'reducer': 'kpca', 'kernel': 'cosine', 'n': 11, 'data_unit': 'Spf', 'label_col': 'class_numeric', 'class_list': 'two-classes'}\n",
      "\t{'arch': 'KNN', 'k': 3}\n",
      "Directory /Users/diego/Desktop/iteso/TOG/bin/gen/TRAIN/two-classes/KNN/Spf exists. Continuing with execution\n",
      "updating best... 0.9765625\n",
      "\t{'PH2': True, 'PH3': True, 'reducer': 'kpca', 'kernel': 'cosine', 'n': 12, 'data_unit': 'Spf', 'label_col': 'class_numeric', 'class_list': 'two-classes'}\n",
      "\t{'arch': 'KNN', 'k': 1}\n",
      "Directory /Users/diego/Desktop/iteso/TOG/bin/gen/TRAIN/two-classes/KNN/Spf exists. Continuing with execution\n",
      "updating best... 0.98046875\n",
      "\t{'PH2': True, 'PH3': True, 'reducer': 'kpca', 'kernel': 'cosine', 'n': 15, 'data_unit': 'Spf', 'label_col': 'class_numeric', 'class_list': 'two-classes'}\n",
      "\t{'arch': 'KNN', 'k': 1}\n",
      "Directory /Users/diego/Desktop/iteso/TOG/bin/gen/TRAIN/two-classes/KNN/Spf exists. Continuing with execution\n",
      "updating best... 0.984375\n",
      "\t{'PH2': False, 'PH3': True, 'reducer': 'umap', 'kernel': '', 'n': 4, 'data_unit': 'Spf', 'label_col': 'class_numeric', 'class_list': 'two-classes'}\n",
      "\t{'arch': 'KNN', 'k': 1}\n",
      "Directory /Users/diego/Desktop/iteso/TOG/bin/gen/TRAIN/two-classes/KNN/Spf exists. Continuing with execution\n",
      "updating best... 0.9921875\n",
      "\t{'PH2': False, 'PH3': True, 'reducer': 'pca', 'kernel': '', 'n': 8, 'data_unit': 'Spf', 'label_col': 'class_numeric', 'class_list': 'two-classes'}\n",
      "\t{'arch': 'KNN', 'k': 1}\n",
      "Directory /Users/diego/Desktop/iteso/TOG/bin/gen/TRAIN/two-classes/KNN/Spf exists. Continuing with execution\n",
      "Data Unit: Spf\n",
      "Best score: 0.9921875\n",
      "Best data config: {'PH2': False, 'PH3': True, 'reducer': 'pca', 'kernel': '', 'n': 8, 'data_unit': 'Spf', 'label_col': 'class_numeric', 'class_list': 'two-classes'}\n",
      "Best train config: {'arch': 'KNN', 'k': 1}\n"
     ]
    }
   ],
   "source": [
    "train.arch.find_best(sup.DATA_S_PF, sup.class_numeric_column, TRAIN_classes, sup.TRAIN_KNN_CODE)"
   ]
  },
  {
   "cell_type": "code",
   "execution_count": 6,
   "id": "82248a3b",
   "metadata": {},
   "outputs": [
    {
     "name": "stdout",
     "output_type": "stream",
     "text": [
      "updating best... 0.6511627906976745\n",
      "\t{'PH2': True, 'PH3': True, 'reducer': 'pca', 'kernel': '', 'n': 1, 'data_unit': 'Spv', 'label_col': 'class_numeric', 'class_list': 'two-classes'}\n",
      "\t{'arch': 'KNN', 'k': 1}\n",
      "Directory /Users/diego/Desktop/iteso/TOG/bin/gen/TRAIN/two-classes/KNN/Spv exists. Continuing with execution\n",
      "updating best... 0.6744186046511628\n",
      "\t{'PH2': True, 'PH3': True, 'reducer': 'pca', 'kernel': '', 'n': 1, 'data_unit': 'Spv', 'label_col': 'class_numeric', 'class_list': 'two-classes'}\n",
      "\t{'arch': 'KNN', 'k': 4}\n",
      "Directory /Users/diego/Desktop/iteso/TOG/bin/gen/TRAIN/two-classes/KNN/Spv exists. Continuing with execution\n",
      "updating best... 0.6976744186046512\n",
      "\t{'PH2': True, 'PH3': True, 'reducer': 'kpca', 'kernel': 'poly', 'n': 1, 'data_unit': 'Spv', 'label_col': 'class_numeric', 'class_list': 'two-classes'}\n",
      "\t{'arch': 'KNN', 'k': 11}\n",
      "Directory /Users/diego/Desktop/iteso/TOG/bin/gen/TRAIN/two-classes/KNN/Spv exists. Continuing with execution\n",
      "updating best... 0.7209302325581395\n",
      "\t{'PH2': True, 'PH3': True, 'reducer': 'kpca', 'kernel': 'poly', 'n': 1, 'data_unit': 'Spv', 'label_col': 'class_numeric', 'class_list': 'two-classes'}\n",
      "\t{'arch': 'KNN', 'k': 13}\n",
      "Directory /Users/diego/Desktop/iteso/TOG/bin/gen/TRAIN/two-classes/KNN/Spv exists. Continuing with execution\n",
      "updating best... 0.7441860465116279\n",
      "\t{'PH2': True, 'PH3': True, 'reducer': 'kpca', 'kernel': 'cosine', 'n': 1, 'data_unit': 'Spv', 'label_col': 'class_numeric', 'class_list': 'two-classes'}\n",
      "\t{'arch': 'KNN', 'k': 6}\n",
      "Directory /Users/diego/Desktop/iteso/TOG/bin/gen/TRAIN/two-classes/KNN/Spv exists. Continuing with execution\n",
      "updating best... 0.7906976744186046\n",
      "\t{'PH2': True, 'PH3': True, 'reducer': 'umap', 'kernel': '', 'n': 1, 'data_unit': 'Spv', 'label_col': 'class_numeric', 'class_list': 'two-classes'}\n",
      "\t{'arch': 'KNN', 'k': 2}\n",
      "Directory /Users/diego/Desktop/iteso/TOG/bin/gen/TRAIN/two-classes/KNN/Spv exists. Continuing with execution\n",
      "updating best... 0.813953488372093\n",
      "\t{'PH2': True, 'PH3': True, 'reducer': 'umap', 'kernel': '', 'n': 2, 'data_unit': 'Spv', 'label_col': 'class_numeric', 'class_list': 'two-classes'}\n",
      "\t{'arch': 'KNN', 'k': 1}\n",
      "Directory /Users/diego/Desktop/iteso/TOG/bin/gen/TRAIN/two-classes/KNN/Spv exists. Continuing with execution\n",
      "updating best... 0.8604651162790697\n",
      "\t{'PH2': True, 'PH3': True, 'reducer': 'umap', 'kernel': '', 'n': 3, 'data_unit': 'Spv', 'label_col': 'class_numeric', 'class_list': 'two-classes'}\n",
      "\t{'arch': 'KNN', 'k': 1}\n",
      "Directory /Users/diego/Desktop/iteso/TOG/bin/gen/TRAIN/two-classes/KNN/Spv exists. Continuing with execution\n",
      "updating best... 0.8837209302325582\n",
      "\t{'PH2': True, 'PH3': True, 'reducer': 'umap', 'kernel': '', 'n': 5, 'data_unit': 'Spv', 'label_col': 'class_numeric', 'class_list': 'two-classes'}\n",
      "\t{'arch': 'KNN', 'k': 5}\n",
      "Directory /Users/diego/Desktop/iteso/TOG/bin/gen/TRAIN/two-classes/KNN/Spv exists. Continuing with execution\n",
      "updating best... 0.9069767441860465\n",
      "\t{'PH2': True, 'PH3': True, 'reducer': 'umap', 'kernel': '', 'n': 14, 'data_unit': 'Spv', 'label_col': 'class_numeric', 'class_list': 'two-classes'}\n",
      "\t{'arch': 'KNN', 'k': 1}\n",
      "Directory /Users/diego/Desktop/iteso/TOG/bin/gen/TRAIN/two-classes/KNN/Spv exists. Continuing with execution\n",
      "updating best... 0.9302325581395349\n",
      "\t{'PH2': False, 'PH3': True, 'reducer': 'kpca', 'kernel': 'cosine', 'n': 15, 'data_unit': 'Spv', 'label_col': 'class_numeric', 'class_list': 'two-classes'}\n",
      "\t{'arch': 'KNN', 'k': 1}\n",
      "Directory /Users/diego/Desktop/iteso/TOG/bin/gen/TRAIN/two-classes/KNN/Spv exists. Continuing with execution\n",
      "Data Unit: Spv\n",
      "Best score: 0.9302325581395349\n",
      "Best data config: {'PH2': False, 'PH3': True, 'reducer': 'kpca', 'kernel': 'cosine', 'n': 15, 'data_unit': 'Spv', 'label_col': 'class_numeric', 'class_list': 'two-classes'}\n",
      "Best train config: {'arch': 'KNN', 'k': 1}\n"
     ]
    }
   ],
   "source": [
    "train.arch.find_best(sup.DATA_S_PV, sup.class_numeric_column, TRAIN_classes, sup.TRAIN_KNN_CODE)"
   ]
  },
  {
   "cell_type": "markdown",
   "id": "047be5c9",
   "metadata": {},
   "source": [
    "## BERT"
   ]
  },
  {
   "cell_type": "code",
   "execution_count": null,
   "id": "df37bb2a",
   "metadata": {},
   "outputs": [
    {
     "name": "stdout",
     "output_type": "stream",
     "text": [
      "updating best... 0.5049900199600799\n",
      "\t{'PH2': True, 'PH3': True, 'reducer': 'pca', 'kernel': '', 'n': 1, 'data_unit': 'AHpf', 'label_col': 'class_numeric', 'class_list': 'two-classes', 'batch_size': 2048, 'seq_len': 1, 'input_dim': 1}\n",
      "\t{'arch': 'BERT', 'device': device(type='mps'), 'loadable': 'prajjwal1/bert-tiny', 'optimizer': <class 'torch.optim.adamw.AdamW'>, 'lr': 2e-05, 'loss_fn': <class 'torch.nn.modules.loss.CrossEntropyLoss'>, 'num_epochs': 1000}\n",
      "Directory /Users/diego/Desktop/iteso/TOG/bin/gen/TRAIN/two-classes/BERT/AHpf/prajjwal1/bert-tiny does not exist. Creating it and continuing with execution\n",
      "updating best... 0.5998003992015968\n",
      "\t{'PH2': True, 'PH3': True, 'reducer': 'pca', 'kernel': '', 'n': 2, 'data_unit': 'AHpf', 'label_col': 'class_numeric', 'class_list': 'two-classes', 'batch_size': 2048, 'seq_len': 1, 'input_dim': 2}\n",
      "\t{'arch': 'BERT', 'device': device(type='mps'), 'loadable': 'prajjwal1/bert-tiny', 'optimizer': <class 'torch.optim.adamw.AdamW'>, 'lr': 2e-05, 'loss_fn': <class 'torch.nn.modules.loss.CrossEntropyLoss'>, 'num_epochs': 1000}\n",
      "Directory /Users/diego/Desktop/iteso/TOG/bin/gen/TRAIN/two-classes/BERT/AHpf/prajjwal1/bert-tiny exists. Continuing with execution\n",
      "updating best... 0.6816367265469062\n",
      "\t{'PH2': True, 'PH3': True, 'reducer': 'umap', 'kernel': '', 'n': 2, 'data_unit': 'AHpf', 'label_col': 'class_numeric', 'class_list': 'two-classes', 'batch_size': 2048, 'seq_len': 1, 'input_dim': 2}\n",
      "\t{'arch': 'BERT', 'device': device(type='mps'), 'loadable': 'prajjwal1/bert-tiny', 'optimizer': <class 'torch.optim.adamw.AdamW'>, 'lr': 2e-05, 'loss_fn': <class 'torch.nn.modules.loss.CrossEntropyLoss'>, 'num_epochs': 1000}\n",
      "Directory /Users/diego/Desktop/iteso/TOG/bin/gen/TRAIN/two-classes/BERT/AHpf/prajjwal1/bert-tiny exists. Continuing with execution\n"
     ]
    }
   ],
   "source": [
    "train.arch.find_best(sup.DATA_AH_PF, sup.class_numeric_column, TRAIN_classes, sup.TRAIN_BERT_CODE)"
   ]
  },
  {
   "cell_type": "code",
   "execution_count": null,
   "id": "fd572a3d",
   "metadata": {},
   "outputs": [],
   "source": [
    "train.arch.find_best(sup.DATA_S_PF, sup.class_numeric_column, TRAIN_classes, sup.TRAIN_BERT_CODE)"
   ]
  },
  {
   "cell_type": "code",
   "execution_count": null,
   "id": "df92f99c",
   "metadata": {},
   "outputs": [],
   "source": [
    "train.arch.find_best(sup.DATA_S_PV, sup.class_numeric_column, TRAIN_classes, sup.TRAIN_BERT_CODE)"
   ]
  },
  {
   "cell_type": "markdown",
   "id": "68ce9b83",
   "metadata": {},
   "source": [
    "# Score saving"
   ]
  },
  {
   "cell_type": "code",
   "execution_count": null,
   "id": "a77fd834",
   "metadata": {},
   "outputs": [],
   "source": [
    "import pandas as pd\n",
    "from datetime import datetime"
   ]
  },
  {
   "cell_type": "markdown",
   "id": "3a78bf6d",
   "metadata": {},
   "source": [
    "## KNN"
   ]
  },
  {
   "cell_type": "code",
   "execution_count": null,
   "id": "9e8d9444",
   "metadata": {},
   "outputs": [],
   "source": [
    "knn_scores_df = pd.DataFrame(sup.knn_score_tracker, columns=sup.knn_scores_columns)"
   ]
  },
  {
   "cell_type": "code",
   "execution_count": null,
   "id": "919f3656",
   "metadata": {},
   "outputs": [],
   "source": [
    "knn_scores_df"
   ]
  },
  {
   "cell_type": "code",
   "execution_count": null,
   "id": "514e98d3",
   "metadata": {},
   "outputs": [],
   "source": [
    "knn_scores_df.sort_values(by=\"accuracy\", ascending=False).head(50)"
   ]
  },
  {
   "cell_type": "code",
   "execution_count": null,
   "id": "4980a522",
   "metadata": {},
   "outputs": [],
   "source": [
    "now = datetime.now().strftime(\"%Y-%m-%d_%H:%M:%S\")\n",
    "sup.create_dir_if_not_exists(os.path.join(sup.TRAIN_SCORES_ROOT, TRAIN_classes, sup.TRAIN_KNN_CODE))\n",
    "knn_scores_df.to_csv(os.path.join(sup.TRAIN_SCORES_ROOT, TRAIN_classes, sup.TRAIN_KNN_CODE, f\"{now}.csv\"), index=False)"
   ]
  },
  {
   "cell_type": "markdown",
   "id": "15315afa",
   "metadata": {},
   "source": [
    "## BERT"
   ]
  },
  {
   "cell_type": "code",
   "execution_count": null,
   "id": "3a7576d7",
   "metadata": {},
   "outputs": [],
   "source": [
    "bert_scores_df = pd.DataFrame(sup.bert_score_tracker, columns=sup.bert_scores_columns)"
   ]
  },
  {
   "cell_type": "code",
   "execution_count": null,
   "id": "995e5851",
   "metadata": {},
   "outputs": [],
   "source": [
    "bert_scores_df"
   ]
  },
  {
   "cell_type": "code",
   "execution_count": null,
   "id": "fb1b42b1",
   "metadata": {},
   "outputs": [],
   "source": [
    "bert_scores_df.sort_values(by=\"accuracy\", ascending=False).head(50)"
   ]
  },
  {
   "cell_type": "code",
   "execution_count": null,
   "id": "b8507806",
   "metadata": {},
   "outputs": [],
   "source": [
    "now = datetime.now().strftime(\"%Y-%m-%d_%H:%M:%S\")\n",
    "sup.create_dir_if_not_exists(os.path.join(sup.TRAIN_SCORES_ROOT, TRAIN_classes, sup.TRAIN_BERT_CODE))\n",
    "bert_scores_df.to_csv(os.path.join(sup.TRAIN_SCORES_ROOT, TRAIN_classes, sup.TRAIN_BERT_CODE, f\"{now}.csv\"), index=False)"
   ]
  }
 ],
 "metadata": {
  "kernelspec": {
   "display_name": "TOG_BERT_v2",
   "language": "python",
   "name": "python3"
  },
  "language_info": {
   "codemirror_mode": {
    "name": "ipython",
    "version": 3
   },
   "file_extension": ".py",
   "mimetype": "text/x-python",
   "name": "python",
   "nbconvert_exporter": "python",
   "pygments_lexer": "ipython3",
   "version": "3.10.18"
  }
 },
 "nbformat": 4,
 "nbformat_minor": 5
}
