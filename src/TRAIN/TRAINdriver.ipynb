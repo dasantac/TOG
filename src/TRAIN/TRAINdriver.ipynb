{
 "cells": [
  {
   "cell_type": "markdown",
   "id": "bfff2878",
   "metadata": {},
   "source": [
    "# Context\n",
    "This notebook drives the training process for different models."
   ]
  },
  {
   "cell_type": "code",
   "execution_count": 1,
   "id": "537c2fd5",
   "metadata": {},
   "outputs": [],
   "source": [
    "# Set project's environment variables\n",
    "import os\n",
    "import sys\n",
    "from dotenv import load_dotenv\n",
    "load_dotenv(dotenv_path=\"../project.env\")\n",
    "sys.path.append(os.environ[\"PYTHONPATH\"])"
   ]
  },
  {
   "cell_type": "code",
   "execution_count": 2,
   "id": "bfd0cbe4",
   "metadata": {},
   "outputs": [
    {
     "name": "stdout",
     "output_type": "stream",
     "text": [
      "Directory /Users/diego/Desktop/iteso/TOG/ exists. Continuing with execution\n",
      "Directory /Users/diego/Desktop/iteso/TOG/data exists. Continuing with execution\n",
      "Directory /Users/diego/Desktop/iteso/TOG/src exists. Continuing with execution\n",
      "Directory /Users/diego/Desktop/iteso/TOG/bin exists. Continuing with execution\n",
      "Directory /Users/diego/Desktop/iteso/TOG/media exists. Continuing with execution\n",
      "Directory /Users/diego/Desktop/iteso/TOG/data/PH3/two-classes exists. Continuing with execution\n"
     ]
    }
   ],
   "source": [
    "# Import project-wide and PH2 specific variables and functions\n",
    "import superheader as sup\n",
    "import TRAINheader as train"
   ]
  },
  {
   "cell_type": "markdown",
   "id": "f82fa659",
   "metadata": {},
   "source": [
    "# Datasets"
   ]
  },
  {
   "cell_type": "code",
   "execution_count": 3,
   "id": "102f84d3",
   "metadata": {},
   "outputs": [
    {
     "name": "stdout",
     "output_type": "stream",
     "text": [
      "Directory /Users/diego/Desktop/iteso/TOG/data/PH3/two-classes exists. Continuing with execution\n"
     ]
    }
   ],
   "source": [
    "sup.report_dir_if_not_exists(sup.PH3_DATA_ROOT)"
   ]
  },
  {
   "cell_type": "markdown",
   "id": "1080dc06",
   "metadata": {},
   "source": [
    "# Model training"
   ]
  },
  {
   "cell_type": "markdown",
   "id": "62cdbd68",
   "metadata": {},
   "source": [
    "## KNN"
   ]
  },
  {
   "cell_type": "markdown",
   "id": "fd24b0fa",
   "metadata": {},
   "source": [
    "### Record keeping"
   ]
  },
  {
   "cell_type": "code",
   "execution_count": 4,
   "id": "71028584",
   "metadata": {},
   "outputs": [],
   "source": [
    "best_scores = {\n",
    "    \"active_hand\": {\n",
    "        \"score\": -1,\n",
    "        \"data_unit\": \"\",\n",
    "        \"subcode\": \"\",\n",
    "        \"sub2code\": \"\",\n",
    "        \"reducer\": \"\",\n",
    "        \"kernel\": \"\",\n",
    "        \"n\": -1,\n",
    "        \"k\": -1\n",
    "    },\n",
    "    \"class_numeric\": {\n",
    "        \"score\": -1,\n",
    "        \"data_unit\": \"\",\n",
    "        \"subcode\": \"\",\n",
    "        \"sub2code\": \"\",\n",
    "        \"reducer\": \"\",\n",
    "        \"kernel\": \"\",\n",
    "        \"n\": -1,\n",
    "        \"k\": -1\n",
    "    }\n",
    "}\n",
    "\n",
    "def update_best_knn(score, label_col, n, k, data_unit, subcode, sub2code, reducer_name, kernel_name):\n",
    "    key = (\n",
    "        \"active_hand\" if label_col == sup.active_hand_col\n",
    "        else \"class_numeric\" if label_col == sup.class_numeric_column\n",
    "        else None\n",
    "    )\n",
    "    if key and score > best_scores[key][\"score\"]:\n",
    "        print(f\"updating best... {score}\")\n",
    "        best_scores[key].update({\n",
    "            \"score\": score,\n",
    "            \"data_unit\": data_unit,\n",
    "            \"subcode\": subcode,\n",
    "            \"sub2code\": sub2code,\n",
    "            \"reducer\": reducer_name,\n",
    "            \"kernel\": kernel_name,\n",
    "            \"n\": n,\n",
    "            \"k\": k\n",
    "        })\n",
    "\n",
    "score_tracker = []\n",
    "\n",
    "def keep_scores_knn(score, label_col, n, k, data_unit, subcode, sub2code, reducer_name, kernel_name):\n",
    "    score_tracker.append([score, label_col, n, k, data_unit, subcode, sub2code, reducer_name, kernel_name])\n",
    "\n",
    "def print_best_knn(label_col):\n",
    "    key = (\n",
    "        \"active_hand\" if label_col == sup.active_hand_col\n",
    "        else \"class_numeric\" if label_col == sup.class_numeric_column\n",
    "        else None\n",
    "    )\n",
    "    if key:\n",
    "        best = best_scores[key]\n",
    "        print(f\"Best score: {best['score']}\")\n",
    "        print(f\"Best k: {best['k']}\")\n",
    "        print(f\"Best n: {best['n']}\")\n",
    "        print(f\"Data unit: {best['data_unit']}\")\n",
    "        print(f\"PH2 or no PH2: {best['subcode']}\")\n",
    "        print(f\"Reduced or scaled: {best['sub2code']}\")\n",
    "        print(f\"Best reducer: {best['reducer']}\")\n",
    "        print(f\"Best kernel: {best['kernel']}\")\n"
   ]
  },
  {
   "cell_type": "markdown",
   "id": "c5f64755",
   "metadata": {},
   "source": [
    "### Helper functions"
   ]
  },
  {
   "cell_type": "code",
   "execution_count": 5,
   "id": "646155fa",
   "metadata": {},
   "outputs": [],
   "source": [
    "def try_all_n_k(data_unit, label_col, subcode, sub2code, reducer_name=\"\", n=\"\", kernel_name=\"\"):\n",
    "  for k in train.TRAIN_KNN_K_CANDIDATES:\n",
    "    data_path = os.path.join(sup.PH3_DATA_ROOT, subcode, sub2code, reducer_name, kernel_name, f\"{data_unit}{n}.csv\")\n",
    "    model = train.arch.KNN(data_path=data_path, label_col=label_col, k=k)\n",
    "    model.fit()\n",
    "    score = model.score()\n",
    "    #print(f\"n={n}; k={k}; score: {score}\")\n",
    "\n",
    "    keep_scores_knn(score, label_col, n, k, data_unit, subcode, sub2code, reducer_name, kernel_name)\n",
    "    update_best_knn(score, label_col, n, k, data_unit, subcode, sub2code, reducer_name, kernel_name)"
   ]
  },
  {
   "cell_type": "code",
   "execution_count": 6,
   "id": "2059c0d4",
   "metadata": {},
   "outputs": [],
   "source": [
    "def best_KNN(data_unit, label_col):\n",
    "  for subcode in sup.PH3_SUB_CODES:\n",
    "    for sub2code in sup.PH3_SUB2_CODES:\n",
    "      if sub2code != sup.PH3_REDUCED_CODE:\n",
    "        try_all_n_k(data_unit, label_col, subcode, sub2code)\n",
    "      else:\n",
    "        for reducer_name in sup.PH3_REDUCER_NAMES:\n",
    "          for n in sup.PH3_N_CANDIDATES:\n",
    "            if reducer_name != sup.PH3_REDUCER_NAME_KPCA:\n",
    "              try_all_n_k(data_unit, label_col, subcode, sub2code, reducer_name, n)\n",
    "            else:\n",
    "              for kernel_name in sup.PH3_REDUCER_KERNEL_NAMES:\n",
    "                try_all_n_k(data_unit, label_col, subcode, sub2code, reducer_name, n, kernel_name)\n",
    "  \n",
    "  print_best_knn(label_col)\n",
    "  "
   ]
  },
  {
   "cell_type": "markdown",
   "id": "f0a96d30",
   "metadata": {},
   "source": [
    "### Active Hand prediction"
   ]
  },
  {
   "cell_type": "code",
   "execution_count": 7,
   "id": "c8d04645",
   "metadata": {},
   "outputs": [
    {
     "name": "stdout",
     "output_type": "stream",
     "text": [
      "updating best... 0.47352647352647353\n",
      "updating best... 0.4835164835164835\n",
      "updating best... 0.5084915084915085\n",
      "updating best... 0.5134865134865135\n",
      "updating best... 0.5234765234765235\n",
      "updating best... 0.5694305694305695\n",
      "updating best... 0.5744255744255744\n",
      "updating best... 0.5834165834165834\n",
      "updating best... 0.5924075924075924\n",
      "updating best... 0.6093906093906094\n",
      "updating best... 0.6163836163836164\n",
      "updating best... 0.6223776223776224\n",
      "Best score: 0.6223776223776224\n",
      "Best k: 28\n",
      "Best n: 18\n",
      "Data unit: AHpf\n",
      "PH2 or no PH2: wo2\n",
      "Reduced or scaled: reduce\n",
      "Best reducer: kpca\n",
      "Best kernel: cosine\n"
     ]
    }
   ],
   "source": [
    "best_KNN(sup.DATA_AH_PF, sup.active_hand_col)"
   ]
  },
  {
   "cell_type": "markdown",
   "id": "20e70816",
   "metadata": {},
   "source": [
    "### Sign prediction"
   ]
  },
  {
   "cell_type": "code",
   "execution_count": 8,
   "id": "36e0fd65",
   "metadata": {},
   "outputs": [
    {
     "name": "stdout",
     "output_type": "stream",
     "text": [
      "updating best... 0.4774951076320939\n",
      "updating best... 0.5283757338551859\n",
      "updating best... 0.5499021526418787\n",
      "updating best... 0.5772994129158513\n",
      "updating best... 0.5909980430528375\n",
      "updating best... 0.6046966731898239\n",
      "updating best... 0.6086105675146771\n",
      "updating best... 0.6164383561643836\n",
      "updating best... 0.6340508806262231\n",
      "updating best... 0.639921722113503\n",
      "updating best... 0.6673189823874756\n",
      "Best score: 0.6673189823874756\n",
      "Best k: 29\n",
      "Best n: 12\n",
      "Data unit: Spf\n",
      "PH2 or no PH2: wo2\n",
      "Reduced or scaled: reduce\n",
      "Best reducer: kpca\n",
      "Best kernel: rbf\n"
     ]
    }
   ],
   "source": [
    "best_KNN(sup.DATA_S_PF, sup.class_numeric_column)"
   ]
  },
  {
   "cell_type": "code",
   "execution_count": 9,
   "id": "82248a3b",
   "metadata": {},
   "outputs": [
    {
     "name": "stdout",
     "output_type": "stream",
     "text": [
      "updating best... 0.6904761904761905\n",
      "updating best... 0.7857142857142857\n",
      "updating best... 0.8333333333333334\n",
      "Best score: 0.8333333333333334\n",
      "Best k: 25\n",
      "Best n: 6\n",
      "Data unit: Spv\n",
      "PH2 or no PH2: w2\n",
      "Reduced or scaled: reduce\n",
      "Best reducer: kpca\n",
      "Best kernel: cosine\n"
     ]
    }
   ],
   "source": [
    "best_KNN(sup.DATA_S_PV, sup.class_numeric_column)"
   ]
  },
  {
   "cell_type": "markdown",
   "id": "68ce9b83",
   "metadata": {},
   "source": [
    "# SCORE ANALYSIS"
   ]
  },
  {
   "cell_type": "code",
   "execution_count": 10,
   "id": "a77fd834",
   "metadata": {},
   "outputs": [],
   "source": [
    "import pandas as pd"
   ]
  },
  {
   "cell_type": "code",
   "execution_count": 11,
   "id": "9e8d9444",
   "metadata": {},
   "outputs": [],
   "source": [
    "tracker_columns = ['score', 'label_col', 'n', 'k', 'data_unit', 'subcode', 'sub2code', 'reducer_name', 'kernel_name']\n",
    "all_scores_df = pd.DataFrame(score_tracker, columns=tracker_columns)"
   ]
  },
  {
   "cell_type": "code",
   "execution_count": 13,
   "id": "919f3656",
   "metadata": {},
   "outputs": [
    {
     "data": {
      "text/html": [
       "<div>\n",
       "<style scoped>\n",
       "    .dataframe tbody tr th:only-of-type {\n",
       "        vertical-align: middle;\n",
       "    }\n",
       "\n",
       "    .dataframe tbody tr th {\n",
       "        vertical-align: top;\n",
       "    }\n",
       "\n",
       "    .dataframe thead th {\n",
       "        text-align: right;\n",
       "    }\n",
       "</style>\n",
       "<table border=\"1\" class=\"dataframe\">\n",
       "  <thead>\n",
       "    <tr style=\"text-align: right;\">\n",
       "      <th></th>\n",
       "      <th>score</th>\n",
       "      <th>label_col</th>\n",
       "      <th>n</th>\n",
       "      <th>k</th>\n",
       "      <th>data_unit</th>\n",
       "      <th>subcode</th>\n",
       "      <th>sub2code</th>\n",
       "      <th>reducer_name</th>\n",
       "      <th>kernel_name</th>\n",
       "    </tr>\n",
       "  </thead>\n",
       "  <tbody>\n",
       "    <tr>\n",
       "      <th>0</th>\n",
       "      <td>0.473526</td>\n",
       "      <td>active_hand</td>\n",
       "      <td></td>\n",
       "      <td>1</td>\n",
       "      <td>AHpf</td>\n",
       "      <td>w2</td>\n",
       "      <td>scale</td>\n",
       "      <td></td>\n",
       "      <td></td>\n",
       "    </tr>\n",
       "    <tr>\n",
       "      <th>1</th>\n",
       "      <td>0.461538</td>\n",
       "      <td>active_hand</td>\n",
       "      <td></td>\n",
       "      <td>2</td>\n",
       "      <td>AHpf</td>\n",
       "      <td>w2</td>\n",
       "      <td>scale</td>\n",
       "      <td></td>\n",
       "      <td></td>\n",
       "    </tr>\n",
       "    <tr>\n",
       "      <th>2</th>\n",
       "      <td>0.483516</td>\n",
       "      <td>active_hand</td>\n",
       "      <td></td>\n",
       "      <td>3</td>\n",
       "      <td>AHpf</td>\n",
       "      <td>w2</td>\n",
       "      <td>scale</td>\n",
       "      <td></td>\n",
       "      <td></td>\n",
       "    </tr>\n",
       "    <tr>\n",
       "      <th>3</th>\n",
       "      <td>0.508492</td>\n",
       "      <td>active_hand</td>\n",
       "      <td></td>\n",
       "      <td>4</td>\n",
       "      <td>AHpf</td>\n",
       "      <td>w2</td>\n",
       "      <td>scale</td>\n",
       "      <td></td>\n",
       "      <td></td>\n",
       "    </tr>\n",
       "    <tr>\n",
       "      <th>4</th>\n",
       "      <td>0.474525</td>\n",
       "      <td>active_hand</td>\n",
       "      <td></td>\n",
       "      <td>5</td>\n",
       "      <td>AHpf</td>\n",
       "      <td>w2</td>\n",
       "      <td>scale</td>\n",
       "      <td></td>\n",
       "      <td></td>\n",
       "    </tr>\n",
       "    <tr>\n",
       "      <th>...</th>\n",
       "      <td>...</td>\n",
       "      <td>...</td>\n",
       "      <td>...</td>\n",
       "      <td>...</td>\n",
       "      <td>...</td>\n",
       "      <td>...</td>\n",
       "      <td>...</td>\n",
       "      <td>...</td>\n",
       "      <td>...</td>\n",
       "    </tr>\n",
       "    <tr>\n",
       "      <th>15805</th>\n",
       "      <td>0.452381</td>\n",
       "      <td>class_numeric</td>\n",
       "      <td>30</td>\n",
       "      <td>27</td>\n",
       "      <td>Spv</td>\n",
       "      <td>wo2</td>\n",
       "      <td>reduce</td>\n",
       "      <td>umap</td>\n",
       "      <td></td>\n",
       "    </tr>\n",
       "    <tr>\n",
       "      <th>15806</th>\n",
       "      <td>0.714286</td>\n",
       "      <td>class_numeric</td>\n",
       "      <td>30</td>\n",
       "      <td>28</td>\n",
       "      <td>Spv</td>\n",
       "      <td>wo2</td>\n",
       "      <td>reduce</td>\n",
       "      <td>umap</td>\n",
       "      <td></td>\n",
       "    </tr>\n",
       "    <tr>\n",
       "      <th>15807</th>\n",
       "      <td>0.500000</td>\n",
       "      <td>class_numeric</td>\n",
       "      <td>30</td>\n",
       "      <td>29</td>\n",
       "      <td>Spv</td>\n",
       "      <td>wo2</td>\n",
       "      <td>reduce</td>\n",
       "      <td>umap</td>\n",
       "      <td></td>\n",
       "    </tr>\n",
       "    <tr>\n",
       "      <th>15808</th>\n",
       "      <td>0.595238</td>\n",
       "      <td>class_numeric</td>\n",
       "      <td>30</td>\n",
       "      <td>30</td>\n",
       "      <td>Spv</td>\n",
       "      <td>wo2</td>\n",
       "      <td>reduce</td>\n",
       "      <td>umap</td>\n",
       "      <td></td>\n",
       "    </tr>\n",
       "    <tr>\n",
       "      <th>15809</th>\n",
       "      <td>0.333333</td>\n",
       "      <td>class_numeric</td>\n",
       "      <td>30</td>\n",
       "      <td>31</td>\n",
       "      <td>Spv</td>\n",
       "      <td>wo2</td>\n",
       "      <td>reduce</td>\n",
       "      <td>umap</td>\n",
       "      <td></td>\n",
       "    </tr>\n",
       "  </tbody>\n",
       "</table>\n",
       "<p>15810 rows × 9 columns</p>\n",
       "</div>"
      ],
      "text/plain": [
       "          score      label_col   n   k data_unit subcode sub2code  \\\n",
       "0      0.473526    active_hand       1      AHpf      w2    scale   \n",
       "1      0.461538    active_hand       2      AHpf      w2    scale   \n",
       "2      0.483516    active_hand       3      AHpf      w2    scale   \n",
       "3      0.508492    active_hand       4      AHpf      w2    scale   \n",
       "4      0.474525    active_hand       5      AHpf      w2    scale   \n",
       "...         ...            ...  ..  ..       ...     ...      ...   \n",
       "15805  0.452381  class_numeric  30  27       Spv     wo2   reduce   \n",
       "15806  0.714286  class_numeric  30  28       Spv     wo2   reduce   \n",
       "15807  0.500000  class_numeric  30  29       Spv     wo2   reduce   \n",
       "15808  0.595238  class_numeric  30  30       Spv     wo2   reduce   \n",
       "15809  0.333333  class_numeric  30  31       Spv     wo2   reduce   \n",
       "\n",
       "      reducer_name kernel_name  \n",
       "0                               \n",
       "1                               \n",
       "2                               \n",
       "3                               \n",
       "4                               \n",
       "...            ...         ...  \n",
       "15805         umap              \n",
       "15806         umap              \n",
       "15807         umap              \n",
       "15808         umap              \n",
       "15809         umap              \n",
       "\n",
       "[15810 rows x 9 columns]"
      ]
     },
     "execution_count": 13,
     "metadata": {},
     "output_type": "execute_result"
    }
   ],
   "source": [
    "all_scores_df"
   ]
  },
  {
   "cell_type": "markdown",
   "id": "2a8c5cbc",
   "metadata": {},
   "source": [
    "## Active hand detection"
   ]
  },
  {
   "cell_type": "code",
   "execution_count": 14,
   "id": "2bfeecff",
   "metadata": {},
   "outputs": [],
   "source": [
    "ah_scores = all_scores_df[all_scores_df['label_col'] == sup.active_hand_col]"
   ]
  },
  {
   "cell_type": "markdown",
   "id": "d12eeddc",
   "metadata": {},
   "source": [
    "## Sign recognition"
   ]
  },
  {
   "cell_type": "code",
   "execution_count": 15,
   "id": "4b5e686d",
   "metadata": {},
   "outputs": [],
   "source": [
    "s_scores = all_scores_df[all_scores_df['label_col'] == sup.class_numeric_column]"
   ]
  },
  {
   "cell_type": "markdown",
   "id": "3bf20e52",
   "metadata": {},
   "source": [
    "### Only per frame data"
   ]
  },
  {
   "cell_type": "code",
   "execution_count": 16,
   "id": "6b83ad26",
   "metadata": {},
   "outputs": [],
   "source": [
    "s_pf_scores = s_scores[s_scores['data_unit'] == sup.DATA_S_PF]"
   ]
  },
  {
   "cell_type": "markdown",
   "id": "9e3e3380",
   "metadata": {},
   "source": [
    "### Only per video data"
   ]
  },
  {
   "cell_type": "code",
   "execution_count": 17,
   "id": "2d29bc1f",
   "metadata": {},
   "outputs": [],
   "source": [
    "s_pv_scores = s_scores[s_scores['data_unit'] == sup.DATA_S_PV]"
   ]
  }
 ],
 "metadata": {
  "kernelspec": {
   "display_name": "TOG_TRAIN_v1",
   "language": "python",
   "name": "python3"
  },
  "language_info": {
   "codemirror_mode": {
    "name": "ipython",
    "version": 3
   },
   "file_extension": ".py",
   "mimetype": "text/x-python",
   "name": "python",
   "nbconvert_exporter": "python",
   "pygments_lexer": "ipython3",
   "version": "3.10.17"
  }
 },
 "nbformat": 4,
 "nbformat_minor": 5
}
