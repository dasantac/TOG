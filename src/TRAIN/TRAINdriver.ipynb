{
 "cells": [
  {
   "cell_type": "markdown",
   "id": "bfff2878",
   "metadata": {},
   "source": [
    "# Context\n",
    "This notebook drives the training process for different models."
   ]
  },
  {
   "cell_type": "code",
   "execution_count": 1,
   "id": "537c2fd5",
   "metadata": {},
   "outputs": [],
   "source": [
    "# Set project's environment variables\n",
    "import os\n",
    "import sys\n",
    "from dotenv import load_dotenv\n",
    "load_dotenv(dotenv_path=\"../project.env\")\n",
    "sys.path.append(os.environ[\"PYTHONPATH\"])\n",
    "\n",
    "import pickle"
   ]
  },
  {
   "cell_type": "code",
   "execution_count": 2,
   "id": "bfd0cbe4",
   "metadata": {},
   "outputs": [
    {
     "name": "stdout",
     "output_type": "stream",
     "text": [
      "Directory /Users/diego/Desktop/iteso/TOG/ exists. Continuing with execution\n",
      "Directory /Users/diego/Desktop/iteso/TOG/data exists. Continuing with execution\n",
      "Directory /Users/diego/Desktop/iteso/TOG/src exists. Continuing with execution\n",
      "Directory /Users/diego/Desktop/iteso/TOG/bin exists. Continuing with execution\n",
      "Directory /Users/diego/Desktop/iteso/TOG/media exists. Continuing with execution\n",
      "Directory /Users/diego/Desktop/iteso/TOG/scores exists. Continuing with execution\n",
      "Directory /Users/diego/Desktop/iteso/TOG/data/PH3/two-classes exists. Continuing with execution\n",
      "Directory /Users/diego/Desktop/iteso/TOG/bin/gen/TRAIN/two-classes exists. Continuing with execution\n"
     ]
    }
   ],
   "source": [
    "# Import project-wide and PH2 specific variables and functions\n",
    "import superheader as sup\n",
    "import TRAINheader as train"
   ]
  },
  {
   "cell_type": "markdown",
   "id": "f82fa659",
   "metadata": {},
   "source": [
    "# Datasets"
   ]
  },
  {
   "cell_type": "code",
   "execution_count": 3,
   "id": "102f84d3",
   "metadata": {},
   "outputs": [
    {
     "name": "stdout",
     "output_type": "stream",
     "text": [
      "Directory /Users/diego/Desktop/iteso/TOG/data/PH3/two-classes exists. Continuing with execution\n"
     ]
    }
   ],
   "source": [
    "sup.report_dir_if_not_exists(sup.PH3_DATA_ROOT)"
   ]
  },
  {
   "cell_type": "markdown",
   "id": "1080dc06",
   "metadata": {},
   "source": [
    "# Model training"
   ]
  },
  {
   "cell_type": "markdown",
   "id": "62cdbd68",
   "metadata": {},
   "source": [
    "## KNN"
   ]
  },
  {
   "cell_type": "markdown",
   "id": "fd24b0fa",
   "metadata": {},
   "source": [
    "### Record keeping"
   ]
  },
  {
   "cell_type": "code",
   "execution_count": 4,
   "id": "71028584",
   "metadata": {},
   "outputs": [],
   "source": [
    "best_scores = {\n",
    "    sup.DATA_AH_PF: {\n",
    "        \"score\": -1,\n",
    "        \"subcode\": \"\",\n",
    "        \"sub2code\": \"\",\n",
    "        \"reducer\": \"\",\n",
    "        \"kernel\": \"\",\n",
    "        \"n\": -1,\n",
    "        \"k\": -1\n",
    "    },\n",
    "    sup.DATA_S_PF: {\n",
    "        \"score\": -1,\n",
    "        \"subcode\": \"\",\n",
    "        \"sub2code\": \"\",\n",
    "        \"reducer\": \"\",\n",
    "        \"kernel\": \"\",\n",
    "        \"n\": -1,\n",
    "        \"k\": -1\n",
    "    },\n",
    "    sup.DATA_S_PV: {\n",
    "        \"score\": -1,\n",
    "        \"subcode\": \"\",\n",
    "        \"sub2code\": \"\",\n",
    "        \"reducer\": \"\",\n",
    "        \"kernel\": \"\",\n",
    "        \"n\": -1,\n",
    "        \"k\": -1\n",
    "    }\n",
    "}\n",
    "\n",
    "def update_best_knn(score, data_unit, n, k, subcode, sub2code, reducer_name, kernel_name, model):\n",
    "    if score > best_scores[data_unit][\"score\"]:\n",
    "        print(f\"updating best... {score}\")\n",
    "\n",
    "        model_path_dir = os.path.join(sup.TRAIN_BINGEN_ROOT, sup.TRAIN_KNN_CODE, data_unit)\n",
    "        sup.create_dir_if_not_exists(model_path_dir)\n",
    "        model_path = os.path.join(model_path_dir, f\"{subcode}-{sub2code}-{reducer_name}-{kernel_name}_n{n}_k{k}.pkl\")\n",
    "        with open(model_path, 'wb') as f:\n",
    "            pickle.dump(model, f)\n",
    "\n",
    "        best_scores[data_unit].update({\n",
    "            \"score\": score,\n",
    "            \"data_unit\": data_unit,\n",
    "            \"subcode\": subcode,\n",
    "            \"sub2code\": sub2code,\n",
    "            \"reducer\": reducer_name,\n",
    "            \"kernel\": kernel_name,\n",
    "            \"n\": n,\n",
    "            \"k\": k\n",
    "        })\n",
    "\n",
    "knn_score_tracker = []\n",
    "\n",
    "def keep_scores_knn(score, data_unit, n, k, subcode, sub2code, reducer_name, kernel_name):\n",
    "    knn_score_tracker.append([score, data_unit, n, k, subcode, sub2code, reducer_name, kernel_name])\n",
    "\n",
    "def print_best_knn(data_unit):\n",
    "    best = best_scores[data_unit]\n",
    "    print(f\"Best score: {best['score']}\")\n",
    "    print(f\"Best k: {best['k']}\")\n",
    "    print(f\"Best n: {best['n']}\")\n",
    "    print(f\"PH2 or no PH2: {best['subcode']}\")\n",
    "    print(f\"Reduced or scaled: {best['sub2code']}\")\n",
    "    print(f\"Best reducer: {best['reducer']}\")\n",
    "    print(f\"Best kernel: {best['kernel']}\")\n"
   ]
  },
  {
   "cell_type": "markdown",
   "id": "c5f64755",
   "metadata": {},
   "source": [
    "### Helper functions"
   ]
  },
  {
   "cell_type": "code",
   "execution_count": 5,
   "id": "646155fa",
   "metadata": {},
   "outputs": [],
   "source": [
    "def try_all_n_k(data_unit, label_col, subcode, sub2code, reducer_name=\"\", n=\"\", kernel_name=\"\"):\n",
    "  for k in sup.TRAIN_KNN_K_CANDIDATES:\n",
    "    data_path = os.path.join(sup.PH3_DATA_ROOT, subcode, sub2code, reducer_name, kernel_name, f\"{data_unit}{n}.csv\")\n",
    "    model = train.arch.KNN(data_path=data_path, label_col=label_col, k=k)\n",
    "    model.fit()\n",
    "    score = model.score()\n",
    "    #print(f\"n={n}; k={k}; score: {score}\")\n",
    "\n",
    "    keep_scores_knn(score, data_unit, n, k, subcode, sub2code, reducer_name, kernel_name)\n",
    "    update_best_knn(score, data_unit, n, k, subcode, sub2code, reducer_name, kernel_name, model)"
   ]
  },
  {
   "cell_type": "code",
   "execution_count": 6,
   "id": "2059c0d4",
   "metadata": {},
   "outputs": [],
   "source": [
    "def best_KNN(data_unit, label_col):\n",
    "  for subcode in sup.PH3_SUB_CODES:\n",
    "    for sub2code in sup.PH3_SUB2_CODES:\n",
    "      if sub2code != sup.PH3_REDUCED_CODE:\n",
    "        try_all_n_k(data_unit, label_col, subcode, sub2code)\n",
    "      else:\n",
    "        for reducer_name in sup.PH3_REDUCER_NAMES:\n",
    "          for n in sup.PH3_N_CANDIDATES:\n",
    "            if reducer_name != sup.PH3_REDUCER_NAME_KPCA:\n",
    "              try_all_n_k(data_unit, label_col, subcode, sub2code, reducer_name, n)\n",
    "            else:\n",
    "              for kernel_name in sup.PH3_REDUCER_KERNEL_NAMES:\n",
    "                try_all_n_k(data_unit, label_col, subcode, sub2code, reducer_name, n, kernel_name)\n",
    "  \n",
    "  print_best_knn(data_unit)\n",
    "  "
   ]
  },
  {
   "cell_type": "markdown",
   "id": "f0a96d30",
   "metadata": {},
   "source": [
    "### Active Hand prediction"
   ]
  },
  {
   "cell_type": "code",
   "execution_count": 9,
   "id": "c8d04645",
   "metadata": {},
   "outputs": [
    {
     "name": "stdout",
     "output_type": "stream",
     "text": [
      "updating best... 0.98001998001998\n",
      "Directory /Users/diego/Desktop/iteso/TOG/bin/gen/TRAIN/two-classes/KNN/AHpf does not exist. Creating it and continuing withexecution\n",
      "updating best... 0.983016983016983\n",
      "Directory /Users/diego/Desktop/iteso/TOG/bin/gen/TRAIN/two-classes/KNN/AHpf exists. Continuing with execution\n",
      "updating best... 0.987012987012987\n",
      "Directory /Users/diego/Desktop/iteso/TOG/bin/gen/TRAIN/two-classes/KNN/AHpf exists. Continuing with execution\n",
      "updating best... 0.988011988011988\n",
      "Directory /Users/diego/Desktop/iteso/TOG/bin/gen/TRAIN/two-classes/KNN/AHpf exists. Continuing with execution\n",
      "updating best... 0.989010989010989\n",
      "Directory /Users/diego/Desktop/iteso/TOG/bin/gen/TRAIN/two-classes/KNN/AHpf exists. Continuing with execution\n",
      "updating best... 0.991008991008991\n",
      "Directory /Users/diego/Desktop/iteso/TOG/bin/gen/TRAIN/two-classes/KNN/AHpf exists. Continuing with execution\n",
      "updating best... 0.994005994005994\n",
      "Directory /Users/diego/Desktop/iteso/TOG/bin/gen/TRAIN/two-classes/KNN/AHpf exists. Continuing with execution\n",
      "updating best... 0.996003996003996\n",
      "Directory /Users/diego/Desktop/iteso/TOG/bin/gen/TRAIN/two-classes/KNN/AHpf exists. Continuing with execution\n",
      "updating best... 0.998001998001998\n",
      "Directory /Users/diego/Desktop/iteso/TOG/bin/gen/TRAIN/two-classes/KNN/AHpf exists. Continuing with execution\n",
      "Best score: 0.998001998001998\n",
      "Best k: 1\n",
      "Best n: 26\n",
      "PH2 or no PH2: wo2\n",
      "Reduced or scaled: reduce\n",
      "Best reducer: pca\n",
      "Best kernel: \n"
     ]
    }
   ],
   "source": [
    "best_KNN(sup.DATA_AH_PF, sup.active_hand_col)"
   ]
  },
  {
   "cell_type": "markdown",
   "id": "20e70816",
   "metadata": {},
   "source": [
    "### Sign prediction"
   ]
  },
  {
   "cell_type": "code",
   "execution_count": 8,
   "id": "36e0fd65",
   "metadata": {},
   "outputs": [
    {
     "name": "stdout",
     "output_type": "stream",
     "text": [
      "updating best... 0.9765166340508806\n",
      "Directory /Users/diego/Desktop/iteso/TOG/bin/gen/TRAIN/two-classes/KNN/Spf does not exist. Creating it and continuing withexecution\n",
      "updating best... 0.9804305283757339\n",
      "Directory /Users/diego/Desktop/iteso/TOG/bin/gen/TRAIN/two-classes/KNN/Spf exists. Continuing with execution\n",
      "updating best... 0.9863013698630136\n",
      "Directory /Users/diego/Desktop/iteso/TOG/bin/gen/TRAIN/two-classes/KNN/Spf exists. Continuing with execution\n",
      "updating best... 0.9941291585127201\n",
      "Directory /Users/diego/Desktop/iteso/TOG/bin/gen/TRAIN/two-classes/KNN/Spf exists. Continuing with execution\n",
      "updating best... 0.9960861056751468\n",
      "Directory /Users/diego/Desktop/iteso/TOG/bin/gen/TRAIN/two-classes/KNN/Spf exists. Continuing with execution\n",
      "updating best... 0.9980430528375733\n",
      "Directory /Users/diego/Desktop/iteso/TOG/bin/gen/TRAIN/two-classes/KNN/Spf exists. Continuing with execution\n",
      "updating best... 1.0\n",
      "Directory /Users/diego/Desktop/iteso/TOG/bin/gen/TRAIN/two-classes/KNN/Spf exists. Continuing with execution\n",
      "Best score: 1.0\n",
      "Best k: 1\n",
      "Best n: 27\n",
      "PH2 or no PH2: w2\n",
      "Reduced or scaled: reduce\n",
      "Best reducer: kpca\n",
      "Best kernel: cosine\n"
     ]
    }
   ],
   "source": [
    "best_KNN(sup.DATA_S_PF, sup.class_numeric_column)"
   ]
  },
  {
   "cell_type": "code",
   "execution_count": 7,
   "id": "82248a3b",
   "metadata": {},
   "outputs": [
    {
     "name": "stdout",
     "output_type": "stream",
     "text": [
      "updating best... 0.9523809523809523\n",
      "Directory /Users/diego/Desktop/iteso/TOG/bin/gen/TRAIN/two-classes/KNN/Spv does not exist. Creating it and continuing withexecution\n",
      "updating best... 0.9761904761904762\n",
      "Directory /Users/diego/Desktop/iteso/TOG/bin/gen/TRAIN/two-classes/KNN/Spv exists. Continuing with execution\n",
      "updating best... 1.0\n",
      "Directory /Users/diego/Desktop/iteso/TOG/bin/gen/TRAIN/two-classes/KNN/Spv exists. Continuing with execution\n",
      "Best score: 1.0\n",
      "Best k: 3\n",
      "Best n: 12\n",
      "PH2 or no PH2: wo2\n",
      "Reduced or scaled: reduce\n",
      "Best reducer: pca\n",
      "Best kernel: \n"
     ]
    }
   ],
   "source": [
    "best_KNN(sup.DATA_S_PV, sup.class_numeric_column)"
   ]
  },
  {
   "cell_type": "markdown",
   "id": "68ce9b83",
   "metadata": {},
   "source": [
    "# SCORE ANALYSIS"
   ]
  },
  {
   "cell_type": "code",
   "execution_count": 10,
   "id": "a77fd834",
   "metadata": {},
   "outputs": [],
   "source": [
    "import pandas as pd\n",
    "from datetime import datetime"
   ]
  },
  {
   "cell_type": "code",
   "execution_count": 11,
   "id": "9e8d9444",
   "metadata": {},
   "outputs": [],
   "source": [
    "tracker_columns = ['score', 'data_unit', 'n', 'k', 'subcode', 'sub2code', 'reducer_name', 'kernel_name']\n",
    "knn_scores_df = pd.DataFrame(knn_score_tracker, columns=tracker_columns)"
   ]
  },
  {
   "cell_type": "code",
   "execution_count": 12,
   "id": "919f3656",
   "metadata": {},
   "outputs": [
    {
     "data": {
      "text/html": [
       "<div>\n",
       "<style scoped>\n",
       "    .dataframe tbody tr th:only-of-type {\n",
       "        vertical-align: middle;\n",
       "    }\n",
       "\n",
       "    .dataframe tbody tr th {\n",
       "        vertical-align: top;\n",
       "    }\n",
       "\n",
       "    .dataframe thead th {\n",
       "        text-align: right;\n",
       "    }\n",
       "</style>\n",
       "<table border=\"1\" class=\"dataframe\">\n",
       "  <thead>\n",
       "    <tr style=\"text-align: right;\">\n",
       "      <th></th>\n",
       "      <th>score</th>\n",
       "      <th>data_unit</th>\n",
       "      <th>n</th>\n",
       "      <th>k</th>\n",
       "      <th>subcode</th>\n",
       "      <th>sub2code</th>\n",
       "      <th>reducer_name</th>\n",
       "      <th>kernel_name</th>\n",
       "    </tr>\n",
       "  </thead>\n",
       "  <tbody>\n",
       "    <tr>\n",
       "      <th>0</th>\n",
       "      <td>0.952381</td>\n",
       "      <td>Spv</td>\n",
       "      <td></td>\n",
       "      <td>1</td>\n",
       "      <td>w2</td>\n",
       "      <td>scale</td>\n",
       "      <td></td>\n",
       "      <td></td>\n",
       "    </tr>\n",
       "    <tr>\n",
       "      <th>1</th>\n",
       "      <td>0.857143</td>\n",
       "      <td>Spv</td>\n",
       "      <td></td>\n",
       "      <td>2</td>\n",
       "      <td>w2</td>\n",
       "      <td>scale</td>\n",
       "      <td></td>\n",
       "      <td></td>\n",
       "    </tr>\n",
       "    <tr>\n",
       "      <th>2</th>\n",
       "      <td>0.880952</td>\n",
       "      <td>Spv</td>\n",
       "      <td></td>\n",
       "      <td>3</td>\n",
       "      <td>w2</td>\n",
       "      <td>scale</td>\n",
       "      <td></td>\n",
       "      <td></td>\n",
       "    </tr>\n",
       "    <tr>\n",
       "      <th>3</th>\n",
       "      <td>0.833333</td>\n",
       "      <td>Spv</td>\n",
       "      <td></td>\n",
       "      <td>4</td>\n",
       "      <td>w2</td>\n",
       "      <td>scale</td>\n",
       "      <td></td>\n",
       "      <td></td>\n",
       "    </tr>\n",
       "    <tr>\n",
       "      <th>4</th>\n",
       "      <td>0.619048</td>\n",
       "      <td>Spv</td>\n",
       "      <td></td>\n",
       "      <td>5</td>\n",
       "      <td>w2</td>\n",
       "      <td>scale</td>\n",
       "      <td></td>\n",
       "      <td></td>\n",
       "    </tr>\n",
       "    <tr>\n",
       "      <th>...</th>\n",
       "      <td>...</td>\n",
       "      <td>...</td>\n",
       "      <td>...</td>\n",
       "      <td>...</td>\n",
       "      <td>...</td>\n",
       "      <td>...</td>\n",
       "      <td>...</td>\n",
       "      <td>...</td>\n",
       "    </tr>\n",
       "    <tr>\n",
       "      <th>34777</th>\n",
       "      <td>0.960040</td>\n",
       "      <td>AHpf</td>\n",
       "      <td>31</td>\n",
       "      <td>27</td>\n",
       "      <td>wo2</td>\n",
       "      <td>reduce</td>\n",
       "      <td>umap</td>\n",
       "      <td></td>\n",
       "    </tr>\n",
       "    <tr>\n",
       "      <th>34778</th>\n",
       "      <td>0.956044</td>\n",
       "      <td>AHpf</td>\n",
       "      <td>31</td>\n",
       "      <td>28</td>\n",
       "      <td>wo2</td>\n",
       "      <td>reduce</td>\n",
       "      <td>umap</td>\n",
       "      <td></td>\n",
       "    </tr>\n",
       "    <tr>\n",
       "      <th>34779</th>\n",
       "      <td>0.952048</td>\n",
       "      <td>AHpf</td>\n",
       "      <td>31</td>\n",
       "      <td>29</td>\n",
       "      <td>wo2</td>\n",
       "      <td>reduce</td>\n",
       "      <td>umap</td>\n",
       "      <td></td>\n",
       "    </tr>\n",
       "    <tr>\n",
       "      <th>34780</th>\n",
       "      <td>0.956044</td>\n",
       "      <td>AHpf</td>\n",
       "      <td>31</td>\n",
       "      <td>30</td>\n",
       "      <td>wo2</td>\n",
       "      <td>reduce</td>\n",
       "      <td>umap</td>\n",
       "      <td></td>\n",
       "    </tr>\n",
       "    <tr>\n",
       "      <th>34781</th>\n",
       "      <td>0.952048</td>\n",
       "      <td>AHpf</td>\n",
       "      <td>31</td>\n",
       "      <td>31</td>\n",
       "      <td>wo2</td>\n",
       "      <td>reduce</td>\n",
       "      <td>umap</td>\n",
       "      <td></td>\n",
       "    </tr>\n",
       "  </tbody>\n",
       "</table>\n",
       "<p>34782 rows × 8 columns</p>\n",
       "</div>"
      ],
      "text/plain": [
       "          score data_unit   n   k subcode sub2code reducer_name kernel_name\n",
       "0      0.952381       Spv       1      w2    scale                         \n",
       "1      0.857143       Spv       2      w2    scale                         \n",
       "2      0.880952       Spv       3      w2    scale                         \n",
       "3      0.833333       Spv       4      w2    scale                         \n",
       "4      0.619048       Spv       5      w2    scale                         \n",
       "...         ...       ...  ..  ..     ...      ...          ...         ...\n",
       "34777  0.960040      AHpf  31  27     wo2   reduce         umap            \n",
       "34778  0.956044      AHpf  31  28     wo2   reduce         umap            \n",
       "34779  0.952048      AHpf  31  29     wo2   reduce         umap            \n",
       "34780  0.956044      AHpf  31  30     wo2   reduce         umap            \n",
       "34781  0.952048      AHpf  31  31     wo2   reduce         umap            \n",
       "\n",
       "[34782 rows x 8 columns]"
      ]
     },
     "execution_count": 12,
     "metadata": {},
     "output_type": "execute_result"
    }
   ],
   "source": [
    "knn_scores_df"
   ]
  },
  {
   "cell_type": "code",
   "execution_count": 13,
   "id": "4980a522",
   "metadata": {},
   "outputs": [
    {
     "name": "stdout",
     "output_type": "stream",
     "text": [
      "Directory /Users/diego/Desktop/iteso/TOG/scores/two-classes/KNN does not exist. Creating it and continuing withexecution\n"
     ]
    }
   ],
   "source": [
    "now = datetime.now().strftime(\"%Y-%m-%d_%H:%M:%S\")\n",
    "sup.create_dir_if_not_exists(os.path.join(sup.TRAIN_SCORES_ROOT, sup.TRAIN_KNN_CODE))\n",
    "knn_scores_df.to_csv(os.path.join(sup.TRAIN_SCORES_ROOT, sup.TRAIN_KNN_CODE, f\"{now}.csv\"), index=False)"
   ]
  },
  {
   "cell_type": "markdown",
   "id": "2a8c5cbc",
   "metadata": {},
   "source": [
    "## Active hand detection"
   ]
  },
  {
   "cell_type": "code",
   "execution_count": 14,
   "id": "2bfeecff",
   "metadata": {},
   "outputs": [
    {
     "ename": "KeyError",
     "evalue": "'label_col'",
     "output_type": "error",
     "traceback": [
      "\u001b[0;31m---------------------------------------------------------------------------\u001b[0m",
      "\u001b[0;31mKeyError\u001b[0m                                  Traceback (most recent call last)",
      "File \u001b[0;32m~/miniconda3/envs/TOG_TRAIN_v1/lib/python3.10/site-packages/pandas/core/indexes/base.py:3805\u001b[0m, in \u001b[0;36mIndex.get_loc\u001b[0;34m(self, key)\u001b[0m\n\u001b[1;32m   3804\u001b[0m \u001b[38;5;28;01mtry\u001b[39;00m:\n\u001b[0;32m-> 3805\u001b[0m     \u001b[38;5;28;01mreturn\u001b[39;00m \u001b[38;5;28;43mself\u001b[39;49m\u001b[38;5;241;43m.\u001b[39;49m\u001b[43m_engine\u001b[49m\u001b[38;5;241;43m.\u001b[39;49m\u001b[43mget_loc\u001b[49m\u001b[43m(\u001b[49m\u001b[43mcasted_key\u001b[49m\u001b[43m)\u001b[49m\n\u001b[1;32m   3806\u001b[0m \u001b[38;5;28;01mexcept\u001b[39;00m \u001b[38;5;167;01mKeyError\u001b[39;00m \u001b[38;5;28;01mas\u001b[39;00m err:\n",
      "File \u001b[0;32mindex.pyx:167\u001b[0m, in \u001b[0;36mpandas._libs.index.IndexEngine.get_loc\u001b[0;34m()\u001b[0m\n",
      "File \u001b[0;32mindex.pyx:196\u001b[0m, in \u001b[0;36mpandas._libs.index.IndexEngine.get_loc\u001b[0;34m()\u001b[0m\n",
      "File \u001b[0;32mpandas/_libs/hashtable_class_helper.pxi:7081\u001b[0m, in \u001b[0;36mpandas._libs.hashtable.PyObjectHashTable.get_item\u001b[0;34m()\u001b[0m\n",
      "File \u001b[0;32mpandas/_libs/hashtable_class_helper.pxi:7089\u001b[0m, in \u001b[0;36mpandas._libs.hashtable.PyObjectHashTable.get_item\u001b[0;34m()\u001b[0m\n",
      "\u001b[0;31mKeyError\u001b[0m: 'label_col'",
      "\nThe above exception was the direct cause of the following exception:\n",
      "\u001b[0;31mKeyError\u001b[0m                                  Traceback (most recent call last)",
      "Cell \u001b[0;32mIn[14], line 1\u001b[0m\n\u001b[0;32m----> 1\u001b[0m ah_scores \u001b[38;5;241m=\u001b[39m knn_scores_df[\u001b[43mknn_scores_df\u001b[49m\u001b[43m[\u001b[49m\u001b[38;5;124;43m'\u001b[39;49m\u001b[38;5;124;43mlabel_col\u001b[39;49m\u001b[38;5;124;43m'\u001b[39;49m\u001b[43m]\u001b[49m \u001b[38;5;241m==\u001b[39m sup\u001b[38;5;241m.\u001b[39mactive_hand_col]\n",
      "File \u001b[0;32m~/miniconda3/envs/TOG_TRAIN_v1/lib/python3.10/site-packages/pandas/core/frame.py:4102\u001b[0m, in \u001b[0;36mDataFrame.__getitem__\u001b[0;34m(self, key)\u001b[0m\n\u001b[1;32m   4100\u001b[0m \u001b[38;5;28;01mif\u001b[39;00m \u001b[38;5;28mself\u001b[39m\u001b[38;5;241m.\u001b[39mcolumns\u001b[38;5;241m.\u001b[39mnlevels \u001b[38;5;241m>\u001b[39m \u001b[38;5;241m1\u001b[39m:\n\u001b[1;32m   4101\u001b[0m     \u001b[38;5;28;01mreturn\u001b[39;00m \u001b[38;5;28mself\u001b[39m\u001b[38;5;241m.\u001b[39m_getitem_multilevel(key)\n\u001b[0;32m-> 4102\u001b[0m indexer \u001b[38;5;241m=\u001b[39m \u001b[38;5;28;43mself\u001b[39;49m\u001b[38;5;241;43m.\u001b[39;49m\u001b[43mcolumns\u001b[49m\u001b[38;5;241;43m.\u001b[39;49m\u001b[43mget_loc\u001b[49m\u001b[43m(\u001b[49m\u001b[43mkey\u001b[49m\u001b[43m)\u001b[49m\n\u001b[1;32m   4103\u001b[0m \u001b[38;5;28;01mif\u001b[39;00m is_integer(indexer):\n\u001b[1;32m   4104\u001b[0m     indexer \u001b[38;5;241m=\u001b[39m [indexer]\n",
      "File \u001b[0;32m~/miniconda3/envs/TOG_TRAIN_v1/lib/python3.10/site-packages/pandas/core/indexes/base.py:3812\u001b[0m, in \u001b[0;36mIndex.get_loc\u001b[0;34m(self, key)\u001b[0m\n\u001b[1;32m   3807\u001b[0m     \u001b[38;5;28;01mif\u001b[39;00m \u001b[38;5;28misinstance\u001b[39m(casted_key, \u001b[38;5;28mslice\u001b[39m) \u001b[38;5;129;01mor\u001b[39;00m (\n\u001b[1;32m   3808\u001b[0m         \u001b[38;5;28misinstance\u001b[39m(casted_key, abc\u001b[38;5;241m.\u001b[39mIterable)\n\u001b[1;32m   3809\u001b[0m         \u001b[38;5;129;01mand\u001b[39;00m \u001b[38;5;28many\u001b[39m(\u001b[38;5;28misinstance\u001b[39m(x, \u001b[38;5;28mslice\u001b[39m) \u001b[38;5;28;01mfor\u001b[39;00m x \u001b[38;5;129;01min\u001b[39;00m casted_key)\n\u001b[1;32m   3810\u001b[0m     ):\n\u001b[1;32m   3811\u001b[0m         \u001b[38;5;28;01mraise\u001b[39;00m InvalidIndexError(key)\n\u001b[0;32m-> 3812\u001b[0m     \u001b[38;5;28;01mraise\u001b[39;00m \u001b[38;5;167;01mKeyError\u001b[39;00m(key) \u001b[38;5;28;01mfrom\u001b[39;00m\u001b[38;5;250m \u001b[39m\u001b[38;5;21;01merr\u001b[39;00m\n\u001b[1;32m   3813\u001b[0m \u001b[38;5;28;01mexcept\u001b[39;00m \u001b[38;5;167;01mTypeError\u001b[39;00m:\n\u001b[1;32m   3814\u001b[0m     \u001b[38;5;66;03m# If we have a listlike key, _check_indexing_error will raise\u001b[39;00m\n\u001b[1;32m   3815\u001b[0m     \u001b[38;5;66;03m#  InvalidIndexError. Otherwise we fall through and re-raise\u001b[39;00m\n\u001b[1;32m   3816\u001b[0m     \u001b[38;5;66;03m#  the TypeError.\u001b[39;00m\n\u001b[1;32m   3817\u001b[0m     \u001b[38;5;28mself\u001b[39m\u001b[38;5;241m.\u001b[39m_check_indexing_error(key)\n",
      "\u001b[0;31mKeyError\u001b[0m: 'label_col'"
     ]
    }
   ],
   "source": [
    "ah_scores = knn_scores_df[knn_scores_df['label_col'] == sup.active_hand_col]"
   ]
  },
  {
   "cell_type": "markdown",
   "id": "d12eeddc",
   "metadata": {},
   "source": [
    "## Sign recognition"
   ]
  },
  {
   "cell_type": "code",
   "execution_count": null,
   "id": "4b5e686d",
   "metadata": {},
   "outputs": [],
   "source": [
    "s_scores = knn_scores_df[knn_scores_df['label_col'] == sup.class_numeric_column]"
   ]
  },
  {
   "cell_type": "markdown",
   "id": "3bf20e52",
   "metadata": {},
   "source": [
    "### Only per frame data"
   ]
  },
  {
   "cell_type": "code",
   "execution_count": null,
   "id": "6b83ad26",
   "metadata": {},
   "outputs": [],
   "source": [
    "s_pf_scores = s_scores[s_scores['data_unit'] == sup.DATA_S_PF]"
   ]
  },
  {
   "cell_type": "markdown",
   "id": "9e3e3380",
   "metadata": {},
   "source": [
    "### Only per video data"
   ]
  },
  {
   "cell_type": "code",
   "execution_count": null,
   "id": "2d29bc1f",
   "metadata": {},
   "outputs": [],
   "source": [
    "s_pv_scores = s_scores[s_scores['data_unit'] == sup.DATA_S_PV]"
   ]
  }
 ],
 "metadata": {
  "kernelspec": {
   "display_name": "TOG_TRAIN_v1",
   "language": "python",
   "name": "python3"
  },
  "language_info": {
   "codemirror_mode": {
    "name": "ipython",
    "version": 3
   },
   "file_extension": ".py",
   "mimetype": "text/x-python",
   "name": "python",
   "nbconvert_exporter": "python",
   "pygments_lexer": "ipython3",
   "version": "3.10.17"
  }
 },
 "nbformat": 4,
 "nbformat_minor": 5
}
