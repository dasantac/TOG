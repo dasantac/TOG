{
 "cells": [
  {
   "cell_type": "markdown",
   "id": "bfff2878",
   "metadata": {},
   "source": [
    "# Context\n",
    "This notebook drives the training process for different models."
   ]
  },
  {
   "cell_type": "code",
   "execution_count": 1,
   "id": "537c2fd5",
   "metadata": {},
   "outputs": [],
   "source": [
    "# Set project's environment variables\n",
    "import os\n",
    "import sys\n",
    "from dotenv import load_dotenv\n",
    "load_dotenv(dotenv_path=\"../project.env\")\n",
    "sys.path.append(os.environ[\"PYTHONPATH\"])"
   ]
  },
  {
   "cell_type": "code",
   "execution_count": null,
   "id": "bfd0cbe4",
   "metadata": {},
   "outputs": [],
   "source": [
    "# Import project-wide and PH2 specific variables and functions\n",
    "import superheader as sup\n",
    "import TRAINheader as train"
   ]
  },
  {
   "cell_type": "markdown",
   "id": "f82fa659",
   "metadata": {},
   "source": [
    "# Datasets"
   ]
  },
  {
   "cell_type": "code",
   "execution_count": null,
   "id": "102f84d3",
   "metadata": {},
   "outputs": [],
   "source": [
    "sup.report_dir_if_not_exists(sup.PH3_DATA_ROOT)"
   ]
  },
  {
   "cell_type": "markdown",
   "id": "1080dc06",
   "metadata": {},
   "source": [
    "# Model training"
   ]
  },
  {
   "cell_type": "markdown",
   "id": "62cdbd68",
   "metadata": {},
   "source": [
    "## KNN"
   ]
  },
  {
   "cell_type": "markdown",
   "id": "fd24b0fa",
   "metadata": {},
   "source": [
    "### Record keeping"
   ]
  },
  {
   "cell_type": "code",
   "execution_count": null,
   "id": "71028584",
   "metadata": {},
   "outputs": [],
   "source": [
    "best_scores = {\n",
    "    \"active_hand\": {\n",
    "        \"score\": -1,\n",
    "        \"data_unit\": \"\",\n",
    "        \"subcode\": \"\",\n",
    "        \"sub2code\": \"\",\n",
    "        \"reducer\": \"\",\n",
    "        \"kernel\": \"\",\n",
    "        \"n\": -1,\n",
    "        \"k\": -1\n",
    "    },\n",
    "    \"class_numeric\": {\n",
    "        \"score\": -1,\n",
    "        \"data_unit\": \"\",\n",
    "        \"subcode\": \"\",\n",
    "        \"sub2code\": \"\",\n",
    "        \"reducer\": \"\",\n",
    "        \"kernel\": \"\",\n",
    "        \"n\": -1,\n",
    "        \"k\": -1\n",
    "    }\n",
    "}\n",
    "\n",
    "def update_best_knn(score, label_col, n, k, data_unit, subcode, sub2code, reducer_name, kernel_name):\n",
    "    key = (\n",
    "        \"active_hand\" if label_col == sup.active_hand_col\n",
    "        else \"class_numeric\" if label_col == sup.class_numeric_column\n",
    "        else None\n",
    "    )\n",
    "    if key and score > best_scores[key][\"score\"]:\n",
    "        print(\"updating best...\")\n",
    "        best_scores[key].update({\n",
    "            \"score\": score,\n",
    "            \"data_unit\": data_unit,\n",
    "            \"subcode\": subcode,\n",
    "            \"sub2code\": sub2code,\n",
    "            \"reducer\": reducer_name,\n",
    "            \"kernel\": kernel_name,\n",
    "            \"n\": n,\n",
    "            \"k\": k\n",
    "        })\n",
    "\n",
    "score_tracker = []\n",
    "\n",
    "def keep_scores_knn(score, label_col, n, k, data_unit, subcode, sub2code, reducer_name, kernel_name):\n",
    "    score_tracker.append([score, label_col, n, k, data_unit, subcode, sub2code, reducer_name, kernel_name])\n",
    "\n",
    "def print_best_knn(label_col):\n",
    "    key = (\n",
    "        \"active_hand\" if label_col == sup.active_hand_col\n",
    "        else \"class_numeric\" if label_col == sup.class_numeric_column\n",
    "        else None\n",
    "    )\n",
    "    if key:\n",
    "        best = best_scores[key]\n",
    "        print(f\"Best score: {best['score']}\")\n",
    "        print(f\"Best k: {best['k']}\")\n",
    "        print(f\"Best n: {best['n']}\")\n",
    "        print(f\"Data unit: {best['data_unit']}\")\n",
    "        print(f\"PH2 or no PH2: {best['subcode']}\")\n",
    "        print(f\"Reduced or scaled: {best['sub2code']}\")\n",
    "        print(f\"Best reducer: {best['reducer']}\")\n",
    "        print(f\"Best kernel: {best['kernel']}\")\n"
   ]
  },
  {
   "cell_type": "markdown",
   "id": "c5f64755",
   "metadata": {},
   "source": [
    "### Helper functions"
   ]
  },
  {
   "cell_type": "code",
   "execution_count": null,
   "id": "646155fa",
   "metadata": {},
   "outputs": [],
   "source": [
    "def try_all_n_k(data_unit, label_col, subcode, sub2code, reducer_name=\"\", n=\"\", kernel_name=\"\"):\n",
    "  for k in train.TRAIN_KNN_K_CANDIDATES:\n",
    "    data_path = os.path.join(sup.PH3_DATA_ROOT, subcode, sub2code, reducer_name, kernel_name, f\"{data_unit}{n}.csv\")\n",
    "    model = train.arch.KNN(data_path=data_path, label_col=label_col, k=k)\n",
    "    model.fit()\n",
    "    score = model.score()\n",
    "    #print(f\"n={n}; k={k}; score: {score}\")\n",
    "\n",
    "    keep_scores_knn(score, label_col, n, k, data_unit, subcode, sub2code, reducer_name, kernel_name)\n",
    "    update_best_knn(score, label_col, n, k, data_unit, subcode, sub2code, reducer_name, kernel_name)"
   ]
  },
  {
   "cell_type": "code",
   "execution_count": null,
   "id": "2059c0d4",
   "metadata": {},
   "outputs": [],
   "source": [
    "def best_KNN(data_unit, label_col):\n",
    "  for subcode in sup.PH3_SUB_CODES:\n",
    "    for sub2code in sup.PH3_SUB2_CODES:\n",
    "      if sub2code != sup.PH3_REDUCED_CODE:\n",
    "        try_all_n_k(data_unit, label_col, subcode, sub2code)\n",
    "      else:\n",
    "        for reducer_name in sup.PH3_REDUCER_NAMES:\n",
    "          for n in sup.PH3_N_CANDIDATES:\n",
    "            if reducer_name != sup.PH3_REDUCER_NAME_KPCA:\n",
    "              try_all_n_k(data_unit, label_col, subcode, sub2code, reducer_name, n)\n",
    "            else:\n",
    "              for kernel_name in sup.PH3_REDUCER_KERNEL_NAMES:\n",
    "                try_all_n_k(data_unit, label_col, subcode, sub2code, reducer_name, n, kernel_name)\n",
    "  \n",
    "  print_best_knn(label_col)\n",
    "  "
   ]
  },
  {
   "cell_type": "markdown",
   "id": "f0a96d30",
   "metadata": {},
   "source": [
    "### Active Hand prediction"
   ]
  },
  {
   "cell_type": "code",
   "execution_count": null,
   "id": "c8d04645",
   "metadata": {},
   "outputs": [],
   "source": [
    "best_KNN(sup.DATA_AH_PF, sup.active_hand_col)"
   ]
  },
  {
   "cell_type": "markdown",
   "id": "20e70816",
   "metadata": {},
   "source": [
    "### Sign prediction"
   ]
  },
  {
   "cell_type": "code",
   "execution_count": null,
   "id": "36e0fd65",
   "metadata": {},
   "outputs": [],
   "source": [
    "best_KNN(sup.DATA_S_PF, sup.class_numeric_column)"
   ]
  },
  {
   "cell_type": "code",
   "execution_count": null,
   "id": "82248a3b",
   "metadata": {},
   "outputs": [],
   "source": [
    "best_KNN(sup.DATA_S_PV, sup.class_numeric_column)"
   ]
  },
  {
   "cell_type": "markdown",
   "id": "68ce9b83",
   "metadata": {},
   "source": [
    "# SCORE ANALYSIS"
   ]
  },
  {
   "cell_type": "code",
   "execution_count": null,
   "id": "a77fd834",
   "metadata": {},
   "outputs": [],
   "source": [
    "import pandas as pd"
   ]
  },
  {
   "cell_type": "code",
   "execution_count": null,
   "id": "9e8d9444",
   "metadata": {},
   "outputs": [],
   "source": [
    "tracker_columns = ['score', 'label_col', 'n', 'k', 'data_unit', 'subcode', 'sub2code', 'reducer_name', 'kernel_name']\n",
    "all_scores_df = pd.DataFrame(score_tracker, columns=tracker_columns)"
   ]
  },
  {
   "cell_type": "markdown",
   "id": "2a8c5cbc",
   "metadata": {},
   "source": [
    "## Active hand detection"
   ]
  },
  {
   "cell_type": "code",
   "execution_count": null,
   "id": "2bfeecff",
   "metadata": {},
   "outputs": [],
   "source": [
    "ah_scores = all_scores_df[[all_scores_df['label_col'] == sup.active_hand_col]]"
   ]
  },
  {
   "cell_type": "markdown",
   "id": "d12eeddc",
   "metadata": {},
   "source": [
    "## Sign recognition"
   ]
  },
  {
   "cell_type": "code",
   "execution_count": null,
   "id": "4b5e686d",
   "metadata": {},
   "outputs": [],
   "source": [
    "s_scores = all_scores_df[[all_scores_df['label_col'] == sup.class_numeric_column]]"
   ]
  },
  {
   "cell_type": "markdown",
   "id": "3bf20e52",
   "metadata": {},
   "source": [
    "### Only per frame data"
   ]
  },
  {
   "cell_type": "code",
   "execution_count": null,
   "id": "6b83ad26",
   "metadata": {},
   "outputs": [],
   "source": [
    "s_pf_scores = s_scores[[s_scores['data_unit'] == sup.DATA_S_PF]]"
   ]
  },
  {
   "cell_type": "markdown",
   "id": "9e3e3380",
   "metadata": {},
   "source": [
    "### Only per video data"
   ]
  },
  {
   "cell_type": "code",
   "execution_count": null,
   "id": "2d29bc1f",
   "metadata": {},
   "outputs": [],
   "source": [
    "s_pv_scores = s_scores[[s_scores['data_unit'] == sup.DATA_S_PV]]"
   ]
  }
 ],
 "metadata": {
  "kernelspec": {
   "display_name": "TOG_TRAIN_v1",
   "language": "python",
   "name": "python3"
  },
  "language_info": {
   "codemirror_mode": {
    "name": "ipython",
    "version": 3
   },
   "file_extension": ".py",
   "mimetype": "text/x-python",
   "name": "python",
   "nbconvert_exporter": "python",
   "pygments_lexer": "ipython3",
   "version": "3.10.17"
  }
 },
 "nbformat": 4,
 "nbformat_minor": 5
}
