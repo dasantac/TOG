{
 "cells": [
  {
   "cell_type": "markdown",
   "id": "bfff2878",
   "metadata": {},
   "source": [
    "# Context\n",
    "This notebook drives the training process for different models."
   ]
  },
  {
   "cell_type": "code",
   "execution_count": 1,
   "id": "537c2fd5",
   "metadata": {},
   "outputs": [],
   "source": [
    "# Set project's environment variables\n",
    "import os\n",
    "import sys\n",
    "from dotenv import load_dotenv\n",
    "load_dotenv(dotenv_path=\"../project.env\")\n",
    "sys.path.append(os.environ[\"PYTHONPATH\"])"
   ]
  },
  {
   "cell_type": "code",
   "execution_count": 2,
   "id": "bfd0cbe4",
   "metadata": {},
   "outputs": [
    {
     "name": "stdout",
     "output_type": "stream",
     "text": [
      "Directory /Users/diego/Desktop/iteso/TOG/ exists. Continuing with execution\n",
      "Directory /Users/diego/Desktop/iteso/TOG/data exists. Continuing with execution\n",
      "Directory /Users/diego/Desktop/iteso/TOG/src exists. Continuing with execution\n",
      "Directory /Users/diego/Desktop/iteso/TOG/bin exists. Continuing with execution\n",
      "Directory /Users/diego/Desktop/iteso/TOG/data/PH3/two-classes exists. Continuing with execution\n"
     ]
    }
   ],
   "source": [
    "# Import project-wide and PH2 specific variables and functions\n",
    "import superheader as sup\n",
    "import TRAINheader as train"
   ]
  },
  {
   "cell_type": "markdown",
   "id": "1080dc06",
   "metadata": {},
   "source": [
    "# Model training"
   ]
  },
  {
   "cell_type": "markdown",
   "id": "f0a96d30",
   "metadata": {},
   "source": [
    "## Active Hand prediction"
   ]
  },
  {
   "cell_type": "markdown",
   "id": "62cdbd68",
   "metadata": {},
   "source": [
    "### KNN"
   ]
  },
  {
   "cell_type": "code",
   "execution_count": 23,
   "id": "8f2dd598",
   "metadata": {},
   "outputs": [],
   "source": [
    "ah_data_path = os.path.join(sup.PH3_DATA_RED_W2_ROOT, \"umap_active.csv\")\n",
    "ah_label_col = sup.active_hand_col\n",
    "\n",
    "ah_knn = train.arch.KNN(data_path=ah_data_path, label_col=ah_label_col, k=5)"
   ]
  },
  {
   "cell_type": "code",
   "execution_count": 24,
   "id": "582b81da",
   "metadata": {},
   "outputs": [],
   "source": [
    "ah_knn.fit()"
   ]
  },
  {
   "cell_type": "code",
   "execution_count": 25,
   "id": "0ce66d99",
   "metadata": {},
   "outputs": [
    {
     "name": "stdout",
     "output_type": "stream",
     "text": [
      "Accuracy: 0.4865134865134865\n",
      "F1 score: 0.4855066502125326\n"
     ]
    },
    {
     "data": {
      "text/plain": [
       "(0.4865134865134865, 0.4855066502125326)"
      ]
     },
     "execution_count": 25,
     "metadata": {},
     "output_type": "execute_result"
    }
   ],
   "source": [
    "ah_knn.score()"
   ]
  },
  {
   "cell_type": "markdown",
   "id": "043107b2",
   "metadata": {},
   "source": [
    "## Sign prediction"
   ]
  },
  {
   "cell_type": "markdown",
   "id": "0088fb32",
   "metadata": {},
   "source": [
    "### KNN"
   ]
  },
  {
   "cell_type": "code",
   "execution_count": 30,
   "id": "6d9ec3c4",
   "metadata": {},
   "outputs": [],
   "source": [
    "# Using the per video data which went through the PH2 transformations, and was\n",
    "# cleaned and standardized in PH3 but not reduced\n",
    "s_data_path = os.path.join(sup.PH3_DATA_RED_W2_ROOT, \"umap_pervideo.csv\")\n",
    "s_label_col = sup.class_numeric_column\n",
    "\n",
    "s_knn = train.arch.KNN(data_path=s_data_path, label_col=s_label_col, k=5)"
   ]
  },
  {
   "cell_type": "code",
   "execution_count": 31,
   "id": "fb649cfc",
   "metadata": {},
   "outputs": [],
   "source": [
    "s_knn.fit()"
   ]
  },
  {
   "cell_type": "code",
   "execution_count": 32,
   "id": "1bcb03bd",
   "metadata": {},
   "outputs": [
    {
     "name": "stdout",
     "output_type": "stream",
     "text": [
      "Accuracy: 0.47619047619047616\n",
      "F1 score: 0.4666012858232538\n"
     ]
    },
    {
     "data": {
      "text/plain": [
       "(0.47619047619047616, 0.4666012858232538)"
      ]
     },
     "execution_count": 32,
     "metadata": {},
     "output_type": "execute_result"
    }
   ],
   "source": [
    "s_knn.score()"
   ]
  }
 ],
 "metadata": {
  "kernelspec": {
   "display_name": "TOG_TRAIN_v1",
   "language": "python",
   "name": "python3"
  },
  "language_info": {
   "codemirror_mode": {
    "name": "ipython",
    "version": 3
   },
   "file_extension": ".py",
   "mimetype": "text/x-python",
   "name": "python",
   "nbconvert_exporter": "python",
   "pygments_lexer": "ipython3",
   "version": "3.10.17"
  }
 },
 "nbformat": 4,
 "nbformat_minor": 5
}
