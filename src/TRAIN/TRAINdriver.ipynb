{
 "cells": [
  {
   "cell_type": "markdown",
   "id": "bfff2878",
   "metadata": {},
   "source": [
    "# Context\n",
    "This notebook drives the training process for different models."
   ]
  },
  {
   "cell_type": "code",
   "execution_count": 1,
   "id": "537c2fd5",
   "metadata": {},
   "outputs": [],
   "source": [
    "# Set project's environment variables\n",
    "import os\n",
    "import sys\n",
    "from dotenv import load_dotenv\n",
    "load_dotenv(dotenv_path=\"../project.env\")\n",
    "sys.path.append(os.environ[\"PYTHONPATH\"])\n",
    "\n",
    "import pickle"
   ]
  },
  {
   "cell_type": "code",
   "execution_count": 2,
   "id": "bfd0cbe4",
   "metadata": {},
   "outputs": [
    {
     "name": "stdout",
     "output_type": "stream",
     "text": [
      "\n",
      "\n",
      "Chosen class grouping: three-classes\n",
      "\n",
      "\n",
      "Directory /Users/diego/Desktop/iteso/TOG/ exists. Continuing with execution\n",
      "Directory /Users/diego/Desktop/iteso/TOG/data exists. Continuing with execution\n",
      "Directory /Users/diego/Desktop/iteso/TOG/src exists. Continuing with execution\n",
      "Directory /Users/diego/Desktop/iteso/TOG/bin exists. Continuing with execution\n",
      "Directory /Users/diego/Desktop/iteso/TOG/media exists. Continuing with execution\n",
      "Directory /Users/diego/Desktop/iteso/TOG/scores exists. Continuing with execution\n",
      "Directory /Users/diego/Desktop/iteso/TOG/data/PH3/three-classes exists. Continuing with execution\n",
      "Directory /Users/diego/Desktop/iteso/TOG/bin/gen/TRAIN/three-classes exists. Continuing with execution\n"
     ]
    }
   ],
   "source": [
    "# Import project-wide and PH2 specific variables and functions\n",
    "import superheader as sup\n",
    "import TRAINheader as train"
   ]
  },
  {
   "cell_type": "markdown",
   "id": "f82fa659",
   "metadata": {},
   "source": [
    "# Datasets"
   ]
  },
  {
   "cell_type": "code",
   "execution_count": 3,
   "id": "102f84d3",
   "metadata": {},
   "outputs": [
    {
     "name": "stdout",
     "output_type": "stream",
     "text": [
      "Directory /Users/diego/Desktop/iteso/TOG/data/PH3/three-classes exists. Continuing with execution\n"
     ]
    }
   ],
   "source": [
    "sup.report_dir_if_not_exists(sup.PH3_DATA_ROOT)"
   ]
  },
  {
   "cell_type": "markdown",
   "id": "1080dc06",
   "metadata": {},
   "source": [
    "# Model training"
   ]
  },
  {
   "cell_type": "markdown",
   "id": "62cdbd68",
   "metadata": {},
   "source": [
    "## KNN"
   ]
  },
  {
   "cell_type": "markdown",
   "id": "fd24b0fa",
   "metadata": {},
   "source": [
    "### Record keeping"
   ]
  },
  {
   "cell_type": "code",
   "execution_count": 4,
   "id": "71028584",
   "metadata": {},
   "outputs": [],
   "source": [
    "best_scores = {\n",
    "    sup.DATA_AH_PF: {\n",
    "        \"score\": -1,\n",
    "        \"subcode\": \"\",\n",
    "        \"sub2code\": \"\",\n",
    "        \"reducer\": \"\",\n",
    "        \"kernel\": \"\",\n",
    "        \"n\": -1,\n",
    "        \"k\": -1\n",
    "    },\n",
    "    sup.DATA_S_PF: {\n",
    "        \"score\": -1,\n",
    "        \"subcode\": \"\",\n",
    "        \"sub2code\": \"\",\n",
    "        \"reducer\": \"\",\n",
    "        \"kernel\": \"\",\n",
    "        \"n\": -1,\n",
    "        \"k\": -1\n",
    "    },\n",
    "    sup.DATA_S_PV: {\n",
    "        \"score\": -1,\n",
    "        \"subcode\": \"\",\n",
    "        \"sub2code\": \"\",\n",
    "        \"reducer\": \"\",\n",
    "        \"kernel\": \"\",\n",
    "        \"n\": -1,\n",
    "        \"k\": -1\n",
    "    }\n",
    "}\n",
    "\n",
    "def update_best_knn(score, data_unit, n, k, subcode, sub2code, reducer_name, kernel_name, model):\n",
    "    if score > best_scores[data_unit][\"score\"]:\n",
    "        print(f\"updating best... {score}\")\n",
    "\n",
    "        model_path_dir = os.path.join(sup.TRAIN_BINGEN_ROOT, sup.TRAIN_KNN_CODE, data_unit)\n",
    "        sup.create_dir_if_not_exists(model_path_dir)\n",
    "        model_path = os.path.join(model_path_dir, f\"{subcode}-{sub2code}-{reducer_name}-{kernel_name}_n{n}_k{k}.pkl\")\n",
    "        with open(model_path, 'wb') as f:\n",
    "            pickle.dump(model, f)\n",
    "\n",
    "        best_scores[data_unit].update({\n",
    "            \"score\": score,\n",
    "            \"data_unit\": data_unit,\n",
    "            \"subcode\": subcode,\n",
    "            \"sub2code\": sub2code,\n",
    "            \"reducer\": reducer_name,\n",
    "            \"kernel\": kernel_name,\n",
    "            \"n\": n,\n",
    "            \"k\": k\n",
    "        })\n",
    "\n",
    "knn_score_tracker = []\n",
    "\n",
    "def keep_scores_knn(score, data_unit, n, k, subcode, sub2code, reducer_name, kernel_name):\n",
    "    knn_score_tracker.append([score, data_unit, n, k, subcode, sub2code, reducer_name, kernel_name])\n",
    "\n",
    "def print_best_knn(data_unit):\n",
    "    best = best_scores[data_unit]\n",
    "    print(f\"Data Unit: {data_unit}\")\n",
    "    print(f\"Best score: {best['score']}\")\n",
    "    print(f\"Best k: {best['k']}\")\n",
    "    print(f\"Best n: {best['n']}\")\n",
    "    print(f\"PH2 or no PH2: {best['subcode']}\")\n",
    "    print(f\"Reduced or scaled: {best['sub2code']}\")\n",
    "    print(f\"Best reducer: {best['reducer']}\")\n",
    "    print(f\"Best kernel: {best['kernel']}\")\n"
   ]
  },
  {
   "cell_type": "markdown",
   "id": "c5f64755",
   "metadata": {},
   "source": [
    "### Helper functions"
   ]
  },
  {
   "cell_type": "code",
   "execution_count": 5,
   "id": "646155fa",
   "metadata": {},
   "outputs": [],
   "source": [
    "def try_all_n_k(data_unit, label_col, subcode, sub2code, reducer_name=\"\", n=\"\", kernel_name=\"\"):\n",
    "  for k in sup.TRAIN_KNN_K_CANDIDATES:\n",
    "    data_path = os.path.join(sup.PH3_DATA_ROOT, subcode, sub2code, reducer_name, kernel_name, f\"{data_unit}{n}.csv\")\n",
    "    model = train.arch.KNN(data_path=data_path, label_col=label_col, k=k)\n",
    "    model.fit()\n",
    "    score = model.score()\n",
    "    #print(f\"n={n}; k={k}; score: {score}\")\n",
    "\n",
    "    keep_scores_knn(score, data_unit, n, k, subcode, sub2code, reducer_name, kernel_name)\n",
    "    update_best_knn(score, data_unit, n, k, subcode, sub2code, reducer_name, kernel_name, model)"
   ]
  },
  {
   "cell_type": "code",
   "execution_count": 6,
   "id": "2059c0d4",
   "metadata": {},
   "outputs": [],
   "source": [
    "def best_KNN(data_unit, label_col):\n",
    "  for subcode in sup.PH3_SUB_CODES:\n",
    "    for sub2code in sup.PH3_SUB2_CODES:\n",
    "      if sub2code != sup.PH3_REDUCED_CODE:\n",
    "        try_all_n_k(data_unit, label_col, subcode, sub2code)\n",
    "      else:\n",
    "        for reducer_name in sup.PH3_REDUCER_NAMES:\n",
    "          for n in sup.PH3_N_CANDIDATES:\n",
    "            if reducer_name != sup.PH3_REDUCER_NAME_KPCA:\n",
    "              try_all_n_k(data_unit, label_col, subcode, sub2code, reducer_name, n)\n",
    "            else:\n",
    "              for kernel_name in sup.PH3_REDUCER_KERNEL_NAMES:\n",
    "                try_all_n_k(data_unit, label_col, subcode, sub2code, reducer_name, n, kernel_name)\n",
    "  \n",
    "  print_best_knn(data_unit)\n",
    "  "
   ]
  },
  {
   "cell_type": "markdown",
   "id": "f0a96d30",
   "metadata": {},
   "source": [
    "### Active Hand prediction"
   ]
  },
  {
   "cell_type": "code",
   "execution_count": 7,
   "id": "c8d04645",
   "metadata": {},
   "outputs": [
    {
     "name": "stdout",
     "output_type": "stream",
     "text": [
      "updating best... 0.9833887043189369\n",
      "Directory /Users/diego/Desktop/iteso/TOG/bin/gen/TRAIN/three-classes/KNN/AHpf exists. Continuing with execution\n",
      "updating best... 0.9867109634551495\n",
      "Directory /Users/diego/Desktop/iteso/TOG/bin/gen/TRAIN/three-classes/KNN/AHpf exists. Continuing with execution\n",
      "updating best... 0.9900332225913622\n",
      "Directory /Users/diego/Desktop/iteso/TOG/bin/gen/TRAIN/three-classes/KNN/AHpf exists. Continuing with execution\n",
      "updating best... 0.9920265780730897\n",
      "Directory /Users/diego/Desktop/iteso/TOG/bin/gen/TRAIN/three-classes/KNN/AHpf exists. Continuing with execution\n",
      "updating best... 0.9926910299003322\n",
      "Directory /Users/diego/Desktop/iteso/TOG/bin/gen/TRAIN/three-classes/KNN/AHpf exists. Continuing with execution\n",
      "updating best... 0.9940199335548173\n",
      "Directory /Users/diego/Desktop/iteso/TOG/bin/gen/TRAIN/three-classes/KNN/AHpf exists. Continuing with execution\n",
      "updating best... 0.9953488372093023\n",
      "Directory /Users/diego/Desktop/iteso/TOG/bin/gen/TRAIN/three-classes/KNN/AHpf exists. Continuing with execution\n",
      "updating best... 0.9960132890365448\n",
      "Directory /Users/diego/Desktop/iteso/TOG/bin/gen/TRAIN/three-classes/KNN/AHpf exists. Continuing with execution\n",
      "updating best... 0.9966777408637874\n",
      "Directory /Users/diego/Desktop/iteso/TOG/bin/gen/TRAIN/three-classes/KNN/AHpf exists. Continuing with execution\n",
      "updating best... 0.9973421926910299\n",
      "Directory /Users/diego/Desktop/iteso/TOG/bin/gen/TRAIN/three-classes/KNN/AHpf exists. Continuing with execution\n",
      "updating best... 0.9980066445182725\n",
      "Directory /Users/diego/Desktop/iteso/TOG/bin/gen/TRAIN/three-classes/KNN/AHpf exists. Continuing with execution\n",
      "updating best... 0.998671096345515\n",
      "Directory /Users/diego/Desktop/iteso/TOG/bin/gen/TRAIN/three-classes/KNN/AHpf exists. Continuing with execution\n",
      "Data Unit: AHpf\n",
      "Best score: 0.998671096345515\n",
      "Best k: 1\n",
      "Best n: 22\n",
      "PH2 or no PH2: wo2\n",
      "Reduced or scaled: reduce\n",
      "Best reducer: kpca\n",
      "Best kernel: cosine\n"
     ]
    }
   ],
   "source": [
    "best_KNN(sup.DATA_AH_PF, sup.active_hand_col)"
   ]
  },
  {
   "cell_type": "markdown",
   "id": "20e70816",
   "metadata": {},
   "source": [
    "### Sign prediction"
   ]
  },
  {
   "cell_type": "code",
   "execution_count": 8,
   "id": "36e0fd65",
   "metadata": {},
   "outputs": [
    {
     "name": "stdout",
     "output_type": "stream",
     "text": [
      "updating best... 0.9581699346405229\n",
      "Directory /Users/diego/Desktop/iteso/TOG/bin/gen/TRAIN/three-classes/KNN/Spf exists. Continuing with execution\n",
      "updating best... 0.9647058823529412\n",
      "Directory /Users/diego/Desktop/iteso/TOG/bin/gen/TRAIN/three-classes/KNN/Spf exists. Continuing with execution\n",
      "updating best... 0.9830065359477124\n",
      "Directory /Users/diego/Desktop/iteso/TOG/bin/gen/TRAIN/three-classes/KNN/Spf exists. Continuing with execution\n",
      "updating best... 0.984313725490196\n",
      "Directory /Users/diego/Desktop/iteso/TOG/bin/gen/TRAIN/three-classes/KNN/Spf exists. Continuing with execution\n",
      "updating best... 0.9856209150326798\n",
      "Directory /Users/diego/Desktop/iteso/TOG/bin/gen/TRAIN/three-classes/KNN/Spf exists. Continuing with execution\n",
      "updating best... 0.9882352941176471\n",
      "Directory /Users/diego/Desktop/iteso/TOG/bin/gen/TRAIN/three-classes/KNN/Spf exists. Continuing with execution\n",
      "updating best... 0.9908496732026144\n",
      "Directory /Users/diego/Desktop/iteso/TOG/bin/gen/TRAIN/three-classes/KNN/Spf exists. Continuing with execution\n",
      "updating best... 0.996078431372549\n",
      "Directory /Users/diego/Desktop/iteso/TOG/bin/gen/TRAIN/three-classes/KNN/Spf exists. Continuing with execution\n",
      "updating best... 0.9973856209150327\n",
      "Directory /Users/diego/Desktop/iteso/TOG/bin/gen/TRAIN/three-classes/KNN/Spf exists. Continuing with execution\n",
      "Data Unit: Spf\n",
      "Best score: 0.9973856209150327\n",
      "Best k: 2\n",
      "Best n: 29\n",
      "PH2 or no PH2: wo2\n",
      "Reduced or scaled: reduce\n",
      "Best reducer: kpca\n",
      "Best kernel: cosine\n"
     ]
    }
   ],
   "source": [
    "best_KNN(sup.DATA_S_PF, sup.class_numeric_column)"
   ]
  },
  {
   "cell_type": "code",
   "execution_count": 9,
   "id": "82248a3b",
   "metadata": {},
   "outputs": [
    {
     "name": "stdout",
     "output_type": "stream",
     "text": [
      "updating best... 0.8253968253968254\n",
      "Directory /Users/diego/Desktop/iteso/TOG/bin/gen/TRAIN/three-classes/KNN/Spv exists. Continuing with execution\n",
      "updating best... 0.8412698412698413\n",
      "Directory /Users/diego/Desktop/iteso/TOG/bin/gen/TRAIN/three-classes/KNN/Spv exists. Continuing with execution\n",
      "updating best... 0.873015873015873\n",
      "Directory /Users/diego/Desktop/iteso/TOG/bin/gen/TRAIN/three-classes/KNN/Spv exists. Continuing with execution\n",
      "updating best... 0.8888888888888888\n",
      "Directory /Users/diego/Desktop/iteso/TOG/bin/gen/TRAIN/three-classes/KNN/Spv exists. Continuing with execution\n",
      "updating best... 0.9206349206349206\n",
      "Directory /Users/diego/Desktop/iteso/TOG/bin/gen/TRAIN/three-classes/KNN/Spv exists. Continuing with execution\n",
      "updating best... 0.9365079365079365\n",
      "Directory /Users/diego/Desktop/iteso/TOG/bin/gen/TRAIN/three-classes/KNN/Spv exists. Continuing with execution\n",
      "updating best... 0.9523809523809523\n",
      "Directory /Users/diego/Desktop/iteso/TOG/bin/gen/TRAIN/three-classes/KNN/Spv exists. Continuing with execution\n",
      "Data Unit: Spv\n",
      "Best score: 0.9523809523809523\n",
      "Best k: 3\n",
      "Best n: 16\n",
      "PH2 or no PH2: wo2\n",
      "Reduced or scaled: reduce\n",
      "Best reducer: pca\n",
      "Best kernel: \n"
     ]
    }
   ],
   "source": [
    "best_KNN(sup.DATA_S_PV, sup.class_numeric_column)"
   ]
  },
  {
   "cell_type": "markdown",
   "id": "68ce9b83",
   "metadata": {},
   "source": [
    "# SCORE ANALYSIS"
   ]
  },
  {
   "cell_type": "code",
   "execution_count": 10,
   "id": "a77fd834",
   "metadata": {},
   "outputs": [],
   "source": [
    "import pandas as pd\n",
    "from datetime import datetime"
   ]
  },
  {
   "cell_type": "code",
   "execution_count": 11,
   "id": "9e8d9444",
   "metadata": {},
   "outputs": [],
   "source": [
    "tracker_columns = ['score', 'data_unit', 'n', 'k', 'subcode', 'sub2code', 'reducer_name', 'kernel_name']\n",
    "knn_scores_df = pd.DataFrame(knn_score_tracker, columns=tracker_columns)"
   ]
  },
  {
   "cell_type": "code",
   "execution_count": 12,
   "id": "919f3656",
   "metadata": {},
   "outputs": [
    {
     "data": {
      "text/html": [
       "<div>\n",
       "<style scoped>\n",
       "    .dataframe tbody tr th:only-of-type {\n",
       "        vertical-align: middle;\n",
       "    }\n",
       "\n",
       "    .dataframe tbody tr th {\n",
       "        vertical-align: top;\n",
       "    }\n",
       "\n",
       "    .dataframe thead th {\n",
       "        text-align: right;\n",
       "    }\n",
       "</style>\n",
       "<table border=\"1\" class=\"dataframe\">\n",
       "  <thead>\n",
       "    <tr style=\"text-align: right;\">\n",
       "      <th></th>\n",
       "      <th>score</th>\n",
       "      <th>data_unit</th>\n",
       "      <th>n</th>\n",
       "      <th>k</th>\n",
       "      <th>subcode</th>\n",
       "      <th>sub2code</th>\n",
       "      <th>reducer_name</th>\n",
       "      <th>kernel_name</th>\n",
       "    </tr>\n",
       "  </thead>\n",
       "  <tbody>\n",
       "    <tr>\n",
       "      <th>0</th>\n",
       "      <td>0.983389</td>\n",
       "      <td>AHpf</td>\n",
       "      <td></td>\n",
       "      <td>1</td>\n",
       "      <td>w2</td>\n",
       "      <td>scale</td>\n",
       "      <td></td>\n",
       "      <td></td>\n",
       "    </tr>\n",
       "    <tr>\n",
       "      <th>1</th>\n",
       "      <td>0.983389</td>\n",
       "      <td>AHpf</td>\n",
       "      <td></td>\n",
       "      <td>2</td>\n",
       "      <td>w2</td>\n",
       "      <td>scale</td>\n",
       "      <td></td>\n",
       "      <td></td>\n",
       "    </tr>\n",
       "    <tr>\n",
       "      <th>2</th>\n",
       "      <td>0.986711</td>\n",
       "      <td>AHpf</td>\n",
       "      <td></td>\n",
       "      <td>3</td>\n",
       "      <td>w2</td>\n",
       "      <td>scale</td>\n",
       "      <td></td>\n",
       "      <td></td>\n",
       "    </tr>\n",
       "    <tr>\n",
       "      <th>3</th>\n",
       "      <td>0.984718</td>\n",
       "      <td>AHpf</td>\n",
       "      <td></td>\n",
       "      <td>4</td>\n",
       "      <td>w2</td>\n",
       "      <td>scale</td>\n",
       "      <td></td>\n",
       "      <td></td>\n",
       "    </tr>\n",
       "    <tr>\n",
       "      <th>4</th>\n",
       "      <td>0.986047</td>\n",
       "      <td>AHpf</td>\n",
       "      <td></td>\n",
       "      <td>5</td>\n",
       "      <td>w2</td>\n",
       "      <td>scale</td>\n",
       "      <td></td>\n",
       "      <td></td>\n",
       "    </tr>\n",
       "    <tr>\n",
       "      <th>...</th>\n",
       "      <td>...</td>\n",
       "      <td>...</td>\n",
       "      <td>...</td>\n",
       "      <td>...</td>\n",
       "      <td>...</td>\n",
       "      <td>...</td>\n",
       "      <td>...</td>\n",
       "      <td>...</td>\n",
       "    </tr>\n",
       "    <tr>\n",
       "      <th>34777</th>\n",
       "      <td>0.619048</td>\n",
       "      <td>Spv</td>\n",
       "      <td>31</td>\n",
       "      <td>27</td>\n",
       "      <td>wo2</td>\n",
       "      <td>reduce</td>\n",
       "      <td>umap</td>\n",
       "      <td></td>\n",
       "    </tr>\n",
       "    <tr>\n",
       "      <th>34778</th>\n",
       "      <td>0.507937</td>\n",
       "      <td>Spv</td>\n",
       "      <td>31</td>\n",
       "      <td>28</td>\n",
       "      <td>wo2</td>\n",
       "      <td>reduce</td>\n",
       "      <td>umap</td>\n",
       "      <td></td>\n",
       "    </tr>\n",
       "    <tr>\n",
       "      <th>34779</th>\n",
       "      <td>0.666667</td>\n",
       "      <td>Spv</td>\n",
       "      <td>31</td>\n",
       "      <td>29</td>\n",
       "      <td>wo2</td>\n",
       "      <td>reduce</td>\n",
       "      <td>umap</td>\n",
       "      <td></td>\n",
       "    </tr>\n",
       "    <tr>\n",
       "      <th>34780</th>\n",
       "      <td>0.634921</td>\n",
       "      <td>Spv</td>\n",
       "      <td>31</td>\n",
       "      <td>30</td>\n",
       "      <td>wo2</td>\n",
       "      <td>reduce</td>\n",
       "      <td>umap</td>\n",
       "      <td></td>\n",
       "    </tr>\n",
       "    <tr>\n",
       "      <th>34781</th>\n",
       "      <td>0.492063</td>\n",
       "      <td>Spv</td>\n",
       "      <td>31</td>\n",
       "      <td>31</td>\n",
       "      <td>wo2</td>\n",
       "      <td>reduce</td>\n",
       "      <td>umap</td>\n",
       "      <td></td>\n",
       "    </tr>\n",
       "  </tbody>\n",
       "</table>\n",
       "<p>34782 rows × 8 columns</p>\n",
       "</div>"
      ],
      "text/plain": [
       "          score data_unit   n   k subcode sub2code reducer_name kernel_name\n",
       "0      0.983389      AHpf       1      w2    scale                         \n",
       "1      0.983389      AHpf       2      w2    scale                         \n",
       "2      0.986711      AHpf       3      w2    scale                         \n",
       "3      0.984718      AHpf       4      w2    scale                         \n",
       "4      0.986047      AHpf       5      w2    scale                         \n",
       "...         ...       ...  ..  ..     ...      ...          ...         ...\n",
       "34777  0.619048       Spv  31  27     wo2   reduce         umap            \n",
       "34778  0.507937       Spv  31  28     wo2   reduce         umap            \n",
       "34779  0.666667       Spv  31  29     wo2   reduce         umap            \n",
       "34780  0.634921       Spv  31  30     wo2   reduce         umap            \n",
       "34781  0.492063       Spv  31  31     wo2   reduce         umap            \n",
       "\n",
       "[34782 rows x 8 columns]"
      ]
     },
     "execution_count": 12,
     "metadata": {},
     "output_type": "execute_result"
    }
   ],
   "source": [
    "knn_scores_df"
   ]
  },
  {
   "cell_type": "code",
   "execution_count": 13,
   "id": "4980a522",
   "metadata": {},
   "outputs": [
    {
     "name": "stdout",
     "output_type": "stream",
     "text": [
      "Directory /Users/diego/Desktop/iteso/TOG/scores/three-classes/KNN exists. Continuing with execution\n"
     ]
    }
   ],
   "source": [
    "now = datetime.now().strftime(\"%Y-%m-%d_%H:%M:%S\")\n",
    "sup.create_dir_if_not_exists(os.path.join(sup.TRAIN_SCORES_ROOT, sup.TRAIN_KNN_CODE))\n",
    "knn_scores_df.to_csv(os.path.join(sup.TRAIN_SCORES_ROOT, sup.TRAIN_KNN_CODE, f\"{now}.csv\"), index=False)"
   ]
  },
  {
   "cell_type": "markdown",
   "id": "2a8c5cbc",
   "metadata": {},
   "source": [
    "## Active hand detection"
   ]
  },
  {
   "cell_type": "code",
   "execution_count": 14,
   "id": "2bfeecff",
   "metadata": {},
   "outputs": [],
   "source": [
    "ah_scores = knn_scores_df[knn_scores_df['data_unit'] == sup.DATA_AH_PF]"
   ]
  },
  {
   "cell_type": "markdown",
   "id": "d12eeddc",
   "metadata": {},
   "source": [
    "## Sign recognition"
   ]
  },
  {
   "cell_type": "markdown",
   "id": "3bf20e52",
   "metadata": {},
   "source": [
    "### Only per frame data"
   ]
  },
  {
   "cell_type": "code",
   "execution_count": 15,
   "id": "6b83ad26",
   "metadata": {},
   "outputs": [],
   "source": [
    "s_pf_scores = knn_scores_df[knn_scores_df['data_unit'] == sup.DATA_S_PF]"
   ]
  },
  {
   "cell_type": "markdown",
   "id": "9e3e3380",
   "metadata": {},
   "source": [
    "### Only per video data"
   ]
  },
  {
   "cell_type": "code",
   "execution_count": 16,
   "id": "2d29bc1f",
   "metadata": {},
   "outputs": [],
   "source": [
    "s_pv_scores = knn_scores_df[knn_scores_df['data_unit'] == sup.DATA_S_PV]"
   ]
  }
 ],
 "metadata": {
  "kernelspec": {
   "display_name": "TOG_TRAIN_v1",
   "language": "python",
   "name": "python3"
  },
  "language_info": {
   "codemirror_mode": {
    "name": "ipython",
    "version": 3
   },
   "file_extension": ".py",
   "mimetype": "text/x-python",
   "name": "python",
   "nbconvert_exporter": "python",
   "pygments_lexer": "ipython3",
   "version": "3.10.17"
  }
 },
 "nbformat": 4,
 "nbformat_minor": 5
}
