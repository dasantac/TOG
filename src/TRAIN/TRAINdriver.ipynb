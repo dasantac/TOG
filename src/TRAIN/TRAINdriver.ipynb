{
 "cells": [
  {
   "cell_type": "markdown",
   "id": "bfff2878",
   "metadata": {},
   "source": [
    "# Context\n",
    "This notebook drives the training process for different models."
   ]
  },
  {
   "cell_type": "code",
   "execution_count": 1,
   "id": "537c2fd5",
   "metadata": {},
   "outputs": [],
   "source": [
    "# Set project's environment variables\n",
    "import os\n",
    "import sys\n",
    "from dotenv import load_dotenv\n",
    "load_dotenv(dotenv_path=\"../project.env\")\n",
    "sys.path.append(os.environ[\"PYTHONPATH\"])\n",
    "\n",
    "import pickle"
   ]
  },
  {
   "cell_type": "code",
   "execution_count": 2,
   "id": "bfd0cbe4",
   "metadata": {},
   "outputs": [
    {
     "name": "stdout",
     "output_type": "stream",
     "text": [
      "\n",
      "\n",
      "Chosen class grouping: two-classes\n",
      "\n",
      "\n",
      "Directory /Users/diego/Desktop/iteso/TOG/ exists. Continuing with execution\n",
      "Directory /Users/diego/Desktop/iteso/TOG/data exists. Continuing with execution\n",
      "Directory /Users/diego/Desktop/iteso/TOG/src exists. Continuing with execution\n",
      "Directory /Users/diego/Desktop/iteso/TOG/bin exists. Continuing with execution\n",
      "Directory /Users/diego/Desktop/iteso/TOG/media exists. Continuing with execution\n",
      "Directory /Users/diego/Desktop/iteso/TOG/scores exists. Continuing with execution\n",
      "Directory /Users/diego/Desktop/iteso/TOG/data/PH3/two-classes exists. Continuing with execution\n",
      "Directory /Users/diego/Desktop/iteso/TOG/bin/gen/TRAIN does not exist. Creating it and continuing withexecution\n",
      "Directory /Users/diego/Desktop/iteso/TOG/data/PH1/two-classes exists. Continuing with execution\n",
      "Directory /Users/diego/Desktop/iteso/TOG/data/PH2/two-classes exists. Continuing with execution\n",
      "Directory /Users/diego/Desktop/iteso/TOG/data/PH3/two-classes exists. Continuing with execution\n",
      "device: mps\n",
      "Directory /Users/diego/Desktop/iteso/TOG/bin/load/TRAIN/distilbert-base-uncased exists. Continuing with execution\n",
      "Directory /Users/diego/Desktop/iteso/TOG/bin/load/TRAIN/prajjwal1/bert-tiny exists. Continuing with execution\n",
      "Directory /Users/diego/Desktop/iteso/TOG/bin/load/TRAIN/bert-base-uncased exists. Continuing with execution\n",
      "Directory /Users/diego/Desktop/iteso/TOG/bin/load/TRAIN/bert-large-uncased exists. Continuing with execution\n"
     ]
    }
   ],
   "source": [
    "# Import project-wide and PH2 specific variables and functions\n",
    "import superheader as sup\n",
    "import TRAINheader as train"
   ]
  },
  {
   "cell_type": "markdown",
   "id": "1080dc06",
   "metadata": {},
   "source": [
    "# Model training"
   ]
  },
  {
   "cell_type": "markdown",
   "id": "62cdbd68",
   "metadata": {},
   "source": [
    "## KNN"
   ]
  },
  {
   "cell_type": "markdown",
   "id": "f0a96d30",
   "metadata": {},
   "source": [
    "### Active Hand prediction"
   ]
  },
  {
   "cell_type": "code",
   "execution_count": 3,
   "id": "0f660be5",
   "metadata": {},
   "outputs": [
    {
     "name": "stdout",
     "output_type": "stream",
     "text": [
      "updating best... 0.8892215568862275\n",
      "Directory /Users/diego/Desktop/iteso/TOG/bin/gen/TRAIN/two-classes/KNN/AHpf does not exist. Creating it and continuing withexecution\n",
      "updating best... 0.9021956087824351\n",
      "Directory /Users/diego/Desktop/iteso/TOG/bin/gen/TRAIN/two-classes/KNN/AHpf exists. Continuing with execution\n",
      "updating best... 0.907185628742515\n",
      "Directory /Users/diego/Desktop/iteso/TOG/bin/gen/TRAIN/two-classes/KNN/AHpf exists. Continuing with execution\n",
      "updating best... 0.908183632734531\n",
      "Directory /Users/diego/Desktop/iteso/TOG/bin/gen/TRAIN/two-classes/KNN/AHpf exists. Continuing with execution\n",
      "updating best... 0.9151696606786427\n",
      "Directory /Users/diego/Desktop/iteso/TOG/bin/gen/TRAIN/two-classes/KNN/AHpf exists. Continuing with execution\n",
      "updating best... 0.9171656686626747\n",
      "Directory /Users/diego/Desktop/iteso/TOG/bin/gen/TRAIN/two-classes/KNN/AHpf exists. Continuing with execution\n",
      "updating best... 0.9191616766467066\n",
      "Directory /Users/diego/Desktop/iteso/TOG/bin/gen/TRAIN/two-classes/KNN/AHpf exists. Continuing with execution\n",
      "updating best... 0.9211576846307385\n",
      "Directory /Users/diego/Desktop/iteso/TOG/bin/gen/TRAIN/two-classes/KNN/AHpf exists. Continuing with execution\n",
      "updating best... 0.9231536926147704\n",
      "Directory /Users/diego/Desktop/iteso/TOG/bin/gen/TRAIN/two-classes/KNN/AHpf exists. Continuing with execution\n",
      "updating best... 0.9241516966067864\n",
      "Directory /Users/diego/Desktop/iteso/TOG/bin/gen/TRAIN/two-classes/KNN/AHpf exists. Continuing with execution\n",
      "updating best... 0.9251497005988024\n",
      "Directory /Users/diego/Desktop/iteso/TOG/bin/gen/TRAIN/two-classes/KNN/AHpf exists. Continuing with execution\n",
      "updating best... 0.9291417165668663\n",
      "Directory /Users/diego/Desktop/iteso/TOG/bin/gen/TRAIN/two-classes/KNN/AHpf exists. Continuing with execution\n",
      "updating best... 0.9341317365269461\n",
      "Directory /Users/diego/Desktop/iteso/TOG/bin/gen/TRAIN/two-classes/KNN/AHpf exists. Continuing with execution\n",
      "updating best... 0.9401197604790419\n",
      "Directory /Users/diego/Desktop/iteso/TOG/bin/gen/TRAIN/two-classes/KNN/AHpf exists. Continuing with execution\n",
      "updating best... 0.9431137724550899\n",
      "Directory /Users/diego/Desktop/iteso/TOG/bin/gen/TRAIN/two-classes/KNN/AHpf exists. Continuing with execution\n",
      "updating best... 0.9441117764471058\n",
      "Directory /Users/diego/Desktop/iteso/TOG/bin/gen/TRAIN/two-classes/KNN/AHpf exists. Continuing with execution\n",
      "updating best... 0.9451097804391217\n",
      "Directory /Users/diego/Desktop/iteso/TOG/bin/gen/TRAIN/two-classes/KNN/AHpf exists. Continuing with execution\n",
      "updating best... 0.9461077844311377\n",
      "Directory /Users/diego/Desktop/iteso/TOG/bin/gen/TRAIN/two-classes/KNN/AHpf exists. Continuing with execution\n",
      "updating best... 0.9481037924151696\n",
      "Directory /Users/diego/Desktop/iteso/TOG/bin/gen/TRAIN/two-classes/KNN/AHpf exists. Continuing with execution\n",
      "updating best... 0.9491017964071856\n",
      "Directory /Users/diego/Desktop/iteso/TOG/bin/gen/TRAIN/two-classes/KNN/AHpf exists. Continuing with execution\n",
      "updating best... 0.9540918163672655\n",
      "Directory /Users/diego/Desktop/iteso/TOG/bin/gen/TRAIN/two-classes/KNN/AHpf exists. Continuing with execution\n",
      "updating best... 0.9680638722554891\n",
      "Directory /Users/diego/Desktop/iteso/TOG/bin/gen/TRAIN/two-classes/KNN/AHpf exists. Continuing with execution\n",
      "updating best... 0.9760479041916168\n",
      "Directory /Users/diego/Desktop/iteso/TOG/bin/gen/TRAIN/two-classes/KNN/AHpf exists. Continuing with execution\n",
      "updating best... 0.9780439121756487\n",
      "Directory /Users/diego/Desktop/iteso/TOG/bin/gen/TRAIN/two-classes/KNN/AHpf exists. Continuing with execution\n",
      "updating best... 0.9800399201596807\n",
      "Directory /Users/diego/Desktop/iteso/TOG/bin/gen/TRAIN/two-classes/KNN/AHpf exists. Continuing with execution\n",
      "updating best... 0.9830339321357285\n",
      "Directory /Users/diego/Desktop/iteso/TOG/bin/gen/TRAIN/two-classes/KNN/AHpf exists. Continuing with execution\n",
      "updating best... 0.9840319361277445\n",
      "Directory /Users/diego/Desktop/iteso/TOG/bin/gen/TRAIN/two-classes/KNN/AHpf exists. Continuing with execution\n",
      "updating best... 0.9850299401197605\n",
      "Directory /Users/diego/Desktop/iteso/TOG/bin/gen/TRAIN/two-classes/KNN/AHpf exists. Continuing with execution\n",
      "updating best... 0.9860279441117764\n",
      "Directory /Users/diego/Desktop/iteso/TOG/bin/gen/TRAIN/two-classes/KNN/AHpf exists. Continuing with execution\n",
      "Data Unit: AHpf\n",
      "Best score: 0.9860279441117764\n",
      "Best data config: {'PH2': True, 'PH3': True, 'reducer': 'kpca', 'kernel': 'sigmoid', 'n': 4, 'data_unit': 'AHpf', 'label_col': 'active_hand', 'class_list': 'two-classes'}\n",
      "Best train config: {'arch': 'KNN', 'k': 5}\n"
     ]
    }
   ],
   "source": [
    "train.arch.find_best(sup.DATA_AH_PF, sup.active_hand_col, \"two-classes\", sup.TRAIN_KNN_CODE)"
   ]
  },
  {
   "cell_type": "markdown",
   "id": "20e70816",
   "metadata": {},
   "source": [
    "### Sign prediction"
   ]
  },
  {
   "cell_type": "code",
   "execution_count": 4,
   "id": "36e0fd65",
   "metadata": {},
   "outputs": [
    {
     "name": "stdout",
     "output_type": "stream",
     "text": [
      "updating best... 0.54296875\n",
      "Directory /Users/diego/Desktop/iteso/TOG/bin/gen/TRAIN/two-classes/KNN/Spf does not exist. Creating it and continuing withexecution\n",
      "updating best... 0.55859375\n",
      "Directory /Users/diego/Desktop/iteso/TOG/bin/gen/TRAIN/two-classes/KNN/Spf exists. Continuing with execution\n",
      "updating best... 0.560546875\n",
      "Directory /Users/diego/Desktop/iteso/TOG/bin/gen/TRAIN/two-classes/KNN/Spf exists. Continuing with execution\n",
      "updating best... 0.572265625\n",
      "Directory /Users/diego/Desktop/iteso/TOG/bin/gen/TRAIN/two-classes/KNN/Spf exists. Continuing with execution\n",
      "updating best... 0.57421875\n",
      "Directory /Users/diego/Desktop/iteso/TOG/bin/gen/TRAIN/two-classes/KNN/Spf exists. Continuing with execution\n",
      "updating best... 0.583984375\n",
      "Directory /Users/diego/Desktop/iteso/TOG/bin/gen/TRAIN/two-classes/KNN/Spf exists. Continuing with execution\n",
      "updating best... 0.587890625\n",
      "Directory /Users/diego/Desktop/iteso/TOG/bin/gen/TRAIN/two-classes/KNN/Spf exists. Continuing with execution\n",
      "updating best... 0.59765625\n",
      "Directory /Users/diego/Desktop/iteso/TOG/bin/gen/TRAIN/two-classes/KNN/Spf exists. Continuing with execution\n",
      "updating best... 0.623046875\n",
      "Directory /Users/diego/Desktop/iteso/TOG/bin/gen/TRAIN/two-classes/KNN/Spf exists. Continuing with execution\n",
      "updating best... 0.626953125\n",
      "Directory /Users/diego/Desktop/iteso/TOG/bin/gen/TRAIN/two-classes/KNN/Spf exists. Continuing with execution\n",
      "updating best... 0.634765625\n",
      "Directory /Users/diego/Desktop/iteso/TOG/bin/gen/TRAIN/two-classes/KNN/Spf exists. Continuing with execution\n",
      "updating best... 0.640625\n",
      "Directory /Users/diego/Desktop/iteso/TOG/bin/gen/TRAIN/two-classes/KNN/Spf exists. Continuing with execution\n",
      "updating best... 0.646484375\n",
      "Directory /Users/diego/Desktop/iteso/TOG/bin/gen/TRAIN/two-classes/KNN/Spf exists. Continuing with execution\n",
      "updating best... 0.65234375\n",
      "Directory /Users/diego/Desktop/iteso/TOG/bin/gen/TRAIN/two-classes/KNN/Spf exists. Continuing with execution\n",
      "updating best... 0.87109375\n",
      "Directory /Users/diego/Desktop/iteso/TOG/bin/gen/TRAIN/two-classes/KNN/Spf exists. Continuing with execution\n",
      "updating best... 0.89453125\n",
      "Directory /Users/diego/Desktop/iteso/TOG/bin/gen/TRAIN/two-classes/KNN/Spf exists. Continuing with execution\n",
      "updating best... 0.896484375\n",
      "Directory /Users/diego/Desktop/iteso/TOG/bin/gen/TRAIN/two-classes/KNN/Spf exists. Continuing with execution\n",
      "updating best... 0.900390625\n",
      "Directory /Users/diego/Desktop/iteso/TOG/bin/gen/TRAIN/two-classes/KNN/Spf exists. Continuing with execution\n",
      "updating best... 0.943359375\n",
      "Directory /Users/diego/Desktop/iteso/TOG/bin/gen/TRAIN/two-classes/KNN/Spf exists. Continuing with execution\n",
      "updating best... 0.947265625\n",
      "Directory /Users/diego/Desktop/iteso/TOG/bin/gen/TRAIN/two-classes/KNN/Spf exists. Continuing with execution\n",
      "updating best... 0.951171875\n",
      "Directory /Users/diego/Desktop/iteso/TOG/bin/gen/TRAIN/two-classes/KNN/Spf exists. Continuing with execution\n",
      "updating best... 0.953125\n",
      "Directory /Users/diego/Desktop/iteso/TOG/bin/gen/TRAIN/two-classes/KNN/Spf exists. Continuing with execution\n",
      "updating best... 0.966796875\n",
      "Directory /Users/diego/Desktop/iteso/TOG/bin/gen/TRAIN/two-classes/KNN/Spf exists. Continuing with execution\n",
      "updating best... 0.96875\n",
      "Directory /Users/diego/Desktop/iteso/TOG/bin/gen/TRAIN/two-classes/KNN/Spf exists. Continuing with execution\n",
      "updating best... 0.97265625\n",
      "Directory /Users/diego/Desktop/iteso/TOG/bin/gen/TRAIN/two-classes/KNN/Spf exists. Continuing with execution\n",
      "updating best... 0.974609375\n",
      "Directory /Users/diego/Desktop/iteso/TOG/bin/gen/TRAIN/two-classes/KNN/Spf exists. Continuing with execution\n",
      "updating best... 0.9765625\n",
      "Directory /Users/diego/Desktop/iteso/TOG/bin/gen/TRAIN/two-classes/KNN/Spf exists. Continuing with execution\n",
      "updating best... 0.98046875\n",
      "Directory /Users/diego/Desktop/iteso/TOG/bin/gen/TRAIN/two-classes/KNN/Spf exists. Continuing with execution\n",
      "updating best... 0.982421875\n",
      "Directory /Users/diego/Desktop/iteso/TOG/bin/gen/TRAIN/two-classes/KNN/Spf exists. Continuing with execution\n",
      "updating best... 0.984375\n",
      "Directory /Users/diego/Desktop/iteso/TOG/bin/gen/TRAIN/two-classes/KNN/Spf exists. Continuing with execution\n",
      "updating best... 0.986328125\n",
      "Directory /Users/diego/Desktop/iteso/TOG/bin/gen/TRAIN/two-classes/KNN/Spf exists. Continuing with execution\n",
      "updating best... 0.98828125\n",
      "Directory /Users/diego/Desktop/iteso/TOG/bin/gen/TRAIN/two-classes/KNN/Spf exists. Continuing with execution\n",
      "updating best... 0.9921875\n",
      "Directory /Users/diego/Desktop/iteso/TOG/bin/gen/TRAIN/two-classes/KNN/Spf exists. Continuing with execution\n",
      "updating best... 0.994140625\n",
      "Directory /Users/diego/Desktop/iteso/TOG/bin/gen/TRAIN/two-classes/KNN/Spf exists. Continuing with execution\n",
      "Data Unit: Spf\n",
      "Best score: 0.994140625\n",
      "Best data config: {'PH2': False, 'PH3': True, 'reducer': 'kpca', 'kernel': 'poly', 'n': 26, 'data_unit': 'Spf', 'label_col': 'class_numeric', 'class_list': 'two-classes'}\n",
      "Best train config: {'arch': 'KNN', 'k': 1}\n"
     ]
    }
   ],
   "source": [
    "train.arch.find_best(sup.DATA_S_PF, sup.class_numeric_column, \"two-classes\", sup.TRAIN_KNN_CODE)"
   ]
  },
  {
   "cell_type": "code",
   "execution_count": 5,
   "id": "82248a3b",
   "metadata": {},
   "outputs": [
    {
     "name": "stdout",
     "output_type": "stream",
     "text": [
      "updating best... 0.6511627906976745\n",
      "Directory /Users/diego/Desktop/iteso/TOG/bin/gen/TRAIN/two-classes/KNN/Spv does not exist. Creating it and continuing withexecution\n",
      "updating best... 0.6744186046511628\n",
      "Directory /Users/diego/Desktop/iteso/TOG/bin/gen/TRAIN/two-classes/KNN/Spv exists. Continuing with execution\n",
      "updating best... 0.7441860465116279\n",
      "Directory /Users/diego/Desktop/iteso/TOG/bin/gen/TRAIN/two-classes/KNN/Spv exists. Continuing with execution\n",
      "updating best... 0.7906976744186046\n",
      "Directory /Users/diego/Desktop/iteso/TOG/bin/gen/TRAIN/two-classes/KNN/Spv exists. Continuing with execution\n",
      "updating best... 0.813953488372093\n",
      "Directory /Users/diego/Desktop/iteso/TOG/bin/gen/TRAIN/two-classes/KNN/Spv exists. Continuing with execution\n",
      "updating best... 0.8372093023255814\n",
      "Directory /Users/diego/Desktop/iteso/TOG/bin/gen/TRAIN/two-classes/KNN/Spv exists. Continuing with execution\n",
      "updating best... 0.8604651162790697\n",
      "Directory /Users/diego/Desktop/iteso/TOG/bin/gen/TRAIN/two-classes/KNN/Spv exists. Continuing with execution\n",
      "updating best... 0.8837209302325582\n",
      "Directory /Users/diego/Desktop/iteso/TOG/bin/gen/TRAIN/two-classes/KNN/Spv exists. Continuing with execution\n",
      "updating best... 0.9069767441860465\n",
      "Directory /Users/diego/Desktop/iteso/TOG/bin/gen/TRAIN/two-classes/KNN/Spv exists. Continuing with execution\n",
      "updating best... 0.9302325581395349\n",
      "Directory /Users/diego/Desktop/iteso/TOG/bin/gen/TRAIN/two-classes/KNN/Spv exists. Continuing with execution\n",
      "Data Unit: Spv\n",
      "Best score: 0.9302325581395349\n",
      "Best data config: {'PH2': False, 'PH3': True, 'reducer': 'kpca', 'kernel': 'cosine', 'n': 15, 'data_unit': 'Spv', 'label_col': 'class_numeric', 'class_list': 'two-classes'}\n",
      "Best train config: {'arch': 'KNN', 'k': 1}\n"
     ]
    }
   ],
   "source": [
    "train.arch.find_best(sup.DATA_S_PV, sup.class_numeric_column, \"two-classes\", sup.TRAIN_KNN_CODE)"
   ]
  },
  {
   "cell_type": "markdown",
   "id": "047be5c9",
   "metadata": {},
   "source": [
    "## BERT"
   ]
  },
  {
   "cell_type": "code",
   "execution_count": 6,
   "id": "df92f99c",
   "metadata": {},
   "outputs": [
    {
     "name": "stdout",
     "output_type": "stream",
     "text": [
      "updating best... 0.5116279069767442\n",
      "Directory /Users/diego/Desktop/iteso/TOG/bin/gen/TRAIN/two-classes/BERT/Spv/prajjwal1/bert-tiny does not exist. Creating it and continuing withexecution\n",
      "updating best... 0.6511627906976745\n",
      "Directory /Users/diego/Desktop/iteso/TOG/bin/gen/TRAIN/two-classes/BERT/Spv/prajjwal1/bert-tiny exists. Continuing with execution\n",
      "updating best... 0.6744186046511628\n",
      "Directory /Users/diego/Desktop/iteso/TOG/bin/gen/TRAIN/two-classes/BERT/Spv/prajjwal1/bert-tiny exists. Continuing with execution\n",
      "updating best... 0.6976744186046512\n",
      "Directory /Users/diego/Desktop/iteso/TOG/bin/gen/TRAIN/two-classes/BERT/Spv/prajjwal1/bert-tiny exists. Continuing with execution\n"
     ]
    },
    {
     "ename": "ValueError",
     "evalue": "cannot reshape array of size 222372 into shape (12,31)",
     "output_type": "error",
     "traceback": [
      "\u001b[0;31m---------------------------------------------------------------------------\u001b[0m",
      "\u001b[0;31mValueError\u001b[0m                                Traceback (most recent call last)",
      "Cell \u001b[0;32mIn[6], line 1\u001b[0m\n\u001b[0;32m----> 1\u001b[0m \u001b[43mtrain\u001b[49m\u001b[38;5;241;43m.\u001b[39;49m\u001b[43march\u001b[49m\u001b[38;5;241;43m.\u001b[39;49m\u001b[43mfind_best\u001b[49m\u001b[43m(\u001b[49m\u001b[43msup\u001b[49m\u001b[38;5;241;43m.\u001b[39;49m\u001b[43mDATA_S_PV\u001b[49m\u001b[43m,\u001b[49m\u001b[43m \u001b[49m\u001b[43msup\u001b[49m\u001b[38;5;241;43m.\u001b[39;49m\u001b[43mclass_numeric_column\u001b[49m\u001b[43m,\u001b[49m\u001b[43m \u001b[49m\u001b[38;5;124;43m\"\u001b[39;49m\u001b[38;5;124;43mtwo-classes\u001b[39;49m\u001b[38;5;124;43m\"\u001b[39;49m\u001b[43m,\u001b[49m\u001b[43m \u001b[49m\u001b[43msup\u001b[49m\u001b[38;5;241;43m.\u001b[39;49m\u001b[43mTRAIN_BERT_CODE\u001b[49m\u001b[43m)\u001b[49m\n",
      "File \u001b[0;32m~/Desktop/iteso/TOG/src/TRAIN/architecture/archeader.py:209\u001b[0m, in \u001b[0;36mfind_best\u001b[0;34m(data_unit, label_col, class_list, arch)\u001b[0m\n\u001b[1;32m    208\u001b[0m \u001b[38;5;28;01mdef\u001b[39;00m\u001b[38;5;250m \u001b[39m\u001b[38;5;21mfind_best\u001b[39m(data_unit, label_col, class_list, arch):\n\u001b[0;32m--> 209\u001b[0m   \u001b[43mtry_data_configs\u001b[49m\u001b[43m(\u001b[49m\u001b[43mdata_unit\u001b[49m\u001b[43m,\u001b[49m\u001b[43m \u001b[49m\u001b[43mlabel_col\u001b[49m\u001b[43m,\u001b[49m\u001b[43m \u001b[49m\u001b[43mclass_list\u001b[49m\u001b[43m,\u001b[49m\u001b[43m \u001b[49m\u001b[43march\u001b[49m\u001b[43m)\u001b[49m\n\u001b[1;32m    210\u001b[0m   print_best(arch, data_unit)\n",
      "File \u001b[0;32m~/Desktop/iteso/TOG/src/TRAIN/architecture/archeader.py:206\u001b[0m, in \u001b[0;36mtry_data_configs\u001b[0;34m(data_unit, label_col, class_list, arch)\u001b[0m\n\u001b[1;32m    204\u001b[0m data_config[\u001b[38;5;124m\"\u001b[39m\u001b[38;5;124mreducer\u001b[39m\u001b[38;5;124m\"\u001b[39m] \u001b[38;5;241m=\u001b[39m \u001b[38;5;124m'\u001b[39m\u001b[38;5;124m'\u001b[39m\n\u001b[1;32m    205\u001b[0m data_config[\u001b[38;5;124m\"\u001b[39m\u001b[38;5;124mkernel\u001b[39m\u001b[38;5;124m\"\u001b[39m] \u001b[38;5;241m=\u001b[39m \u001b[38;5;124m'\u001b[39m\u001b[38;5;124m'\u001b[39m\n\u001b[0;32m--> 206\u001b[0m \u001b[43mtry_data_configs\u001b[49m\u001b[43m(\u001b[49m\u001b[43mdata_config\u001b[49m\u001b[43m)\u001b[49m\n",
      "File \u001b[0;32m~/Desktop/iteso/TOG/src/TRAIN/architecture/BERT/bert.py:238\u001b[0m, in \u001b[0;36mtry_bert_train_configs\u001b[0;34m(data_config)\u001b[0m\n\u001b[1;32m    227\u001b[0m train_config \u001b[38;5;241m=\u001b[39m {\n\u001b[1;32m    228\u001b[0m   \u001b[38;5;124m\"\u001b[39m\u001b[38;5;124march\u001b[39m\u001b[38;5;124m\"\u001b[39m : sup\u001b[38;5;241m.\u001b[39mTRAIN_BERT_CODE,\n\u001b[1;32m    229\u001b[0m   \u001b[38;5;124m\"\u001b[39m\u001b[38;5;124mdevice\u001b[39m\u001b[38;5;124m\"\u001b[39m : device,\n\u001b[0;32m   (...)\u001b[0m\n\u001b[1;32m    234\u001b[0m    \u001b[38;5;124m\"\u001b[39m\u001b[38;5;124mnum_epochs\u001b[39m\u001b[38;5;124m\"\u001b[39m : num_epochs\n\u001b[1;32m    235\u001b[0m }\n\u001b[1;32m    237\u001b[0m \u001b[38;5;28;01mif\u001b[39;00m first:\n\u001b[0;32m--> 238\u001b[0m   model \u001b[38;5;241m=\u001b[39m \u001b[43mBERT\u001b[49m\u001b[43m(\u001b[49m\u001b[43mdata_config\u001b[49m\u001b[38;5;241;43m=\u001b[39;49m\u001b[43mdata_config\u001b[49m\u001b[43m,\u001b[49m\u001b[43m \u001b[49m\u001b[43mdf\u001b[49m\u001b[38;5;241;43m=\u001b[39;49m\u001b[38;5;28;43;01mNone\u001b[39;49;00m\u001b[43m,\u001b[49m\u001b[43m \u001b[49m\n\u001b[1;32m    239\u001b[0m \u001b[43m               \u001b[49m\u001b[43mtrain_config\u001b[49m\u001b[38;5;241;43m=\u001b[39;49m\u001b[43mtrain_config\u001b[49m\u001b[43m)\u001b[49m\n\u001b[1;32m    240\u001b[0m   save_df \u001b[38;5;241m=\u001b[39m model\u001b[38;5;241m.\u001b[39mdf\n\u001b[1;32m    241\u001b[0m   first \u001b[38;5;241m=\u001b[39m \u001b[38;5;28;01mFalse\u001b[39;00m\n",
      "File \u001b[0;32m~/Desktop/iteso/TOG/src/TRAIN/architecture/BERT/bert.py:103\u001b[0m, in \u001b[0;36mBERT.__init__\u001b[0;34m(self, data_config, df, train_config)\u001b[0m\n\u001b[1;32m    101\u001b[0m \u001b[38;5;28mself\u001b[39m\u001b[38;5;241m.\u001b[39minput_dim \u001b[38;5;241m=\u001b[39m data_config[\u001b[38;5;124m\"\u001b[39m\u001b[38;5;124minput_dim\u001b[39m\u001b[38;5;124m\"\u001b[39m]\n\u001b[1;32m    102\u001b[0m \u001b[38;5;28mself\u001b[39m\u001b[38;5;241m.\u001b[39mbatch_size \u001b[38;5;241m=\u001b[39m data_config[\u001b[38;5;124m\"\u001b[39m\u001b[38;5;124mbatch_size\u001b[39m\u001b[38;5;124m\"\u001b[39m]\n\u001b[0;32m--> 103\u001b[0m \u001b[38;5;28;43mself\u001b[39;49m\u001b[38;5;241;43m.\u001b[39;49m\u001b[43mset_dataloaders\u001b[49m\u001b[43m(\u001b[49m\u001b[43m)\u001b[49m\n\u001b[1;32m    105\u001b[0m \u001b[38;5;66;03m# Model\u001b[39;00m\n\u001b[1;32m    106\u001b[0m \u001b[38;5;28mself\u001b[39m\u001b[38;5;241m.\u001b[39mdevice \u001b[38;5;241m=\u001b[39m train_config[\u001b[38;5;124m\"\u001b[39m\u001b[38;5;124mdevice\u001b[39m\u001b[38;5;124m\"\u001b[39m]\n",
      "File \u001b[0;32m~/Desktop/iteso/TOG/src/TRAIN/architecture/BERT/bert.py:118\u001b[0m, in \u001b[0;36mBERT.set_dataloaders\u001b[0;34m(self)\u001b[0m\n\u001b[1;32m    116\u001b[0m y \u001b[38;5;241m=\u001b[39m torch\u001b[38;5;241m.\u001b[39mtensor(\u001b[38;5;28mself\u001b[39m\u001b[38;5;241m.\u001b[39mdf[\u001b[38;5;28mself\u001b[39m\u001b[38;5;241m.\u001b[39mlabel_col]\u001b[38;5;241m.\u001b[39mvalues, dtype\u001b[38;5;241m=\u001b[39mtorch\u001b[38;5;241m.\u001b[39mlong)\n\u001b[1;32m    117\u001b[0m X_flat \u001b[38;5;241m=\u001b[39m \u001b[38;5;28mself\u001b[39m\u001b[38;5;241m.\u001b[39mdf\u001b[38;5;241m.\u001b[39mdrop(columns\u001b[38;5;241m=\u001b[39m[\u001b[38;5;28mself\u001b[39m\u001b[38;5;241m.\u001b[39mlabel_col])\u001b[38;5;241m.\u001b[39mvalues\n\u001b[0;32m--> 118\u001b[0m X \u001b[38;5;241m=\u001b[39m torch\u001b[38;5;241m.\u001b[39mtensor(\u001b[43mX_flat\u001b[49m\u001b[38;5;241;43m.\u001b[39;49m\u001b[43mreshape\u001b[49m\u001b[43m(\u001b[49m\u001b[38;5;241;43m-\u001b[39;49m\u001b[38;5;241;43m1\u001b[39;49m\u001b[43m,\u001b[49m\u001b[43m \u001b[49m\u001b[38;5;28;43mself\u001b[39;49m\u001b[38;5;241;43m.\u001b[39;49m\u001b[43mseq_len\u001b[49m\u001b[43m,\u001b[49m\u001b[43m \u001b[49m\u001b[38;5;28;43mself\u001b[39;49m\u001b[38;5;241;43m.\u001b[39;49m\u001b[43minput_dim\u001b[49m\u001b[43m)\u001b[49m, \n\u001b[1;32m    119\u001b[0m                  dtype\u001b[38;5;241m=\u001b[39mtorch\u001b[38;5;241m.\u001b[39mfloat32)\n\u001b[1;32m    121\u001b[0m \u001b[38;5;28mself\u001b[39m\u001b[38;5;241m.\u001b[39mX_train, \u001b[38;5;28mself\u001b[39m\u001b[38;5;241m.\u001b[39mX_test, \u001b[38;5;28mself\u001b[39m\u001b[38;5;241m.\u001b[39my_train, \u001b[38;5;28mself\u001b[39m\u001b[38;5;241m.\u001b[39my_test \u001b[38;5;241m=\u001b[39m train_test_split(\n\u001b[1;32m    122\u001b[0m   X, y, test_size\u001b[38;5;241m=\u001b[39m\u001b[38;5;28mself\u001b[39m\u001b[38;5;241m.\u001b[39mtest_ratio, stratify\u001b[38;5;241m=\u001b[39my)\n\u001b[1;32m    124\u001b[0m \u001b[38;5;28mself\u001b[39m\u001b[38;5;241m.\u001b[39mtrain_loader \u001b[38;5;241m=\u001b[39m DataLoader(TensorDataset(\u001b[38;5;28mself\u001b[39m\u001b[38;5;241m.\u001b[39mX_train, \u001b[38;5;28mself\u001b[39m\u001b[38;5;241m.\u001b[39my_train), \n\u001b[1;32m    125\u001b[0m                                 batch_size\u001b[38;5;241m=\u001b[39m\u001b[38;5;28mself\u001b[39m\u001b[38;5;241m.\u001b[39mbatch_size, shuffle\u001b[38;5;241m=\u001b[39m\u001b[38;5;28;01mTrue\u001b[39;00m)\n",
      "\u001b[0;31mValueError\u001b[0m: cannot reshape array of size 222372 into shape (12,31)"
     ]
    }
   ],
   "source": [
    "train.arch.find_best(sup.DATA_S_PV, sup.class_numeric_column, \"two-classes\", sup.TRAIN_BERT_CODE)"
   ]
  },
  {
   "cell_type": "markdown",
   "id": "68ce9b83",
   "metadata": {},
   "source": [
    "# SCORE ANALYSIS"
   ]
  },
  {
   "cell_type": "code",
   "execution_count": null,
   "id": "a77fd834",
   "metadata": {},
   "outputs": [],
   "source": [
    "import pandas as pd\n",
    "from datetime import datetime"
   ]
  },
  {
   "cell_type": "markdown",
   "id": "3a78bf6d",
   "metadata": {},
   "source": [
    "## KNN"
   ]
  },
  {
   "cell_type": "code",
   "execution_count": null,
   "id": "9e8d9444",
   "metadata": {},
   "outputs": [],
   "source": [
    "knn_scores_df = pd.DataFrame(sup.knn_score_tracker, columns=sup.knn_scores_columns)"
   ]
  },
  {
   "cell_type": "code",
   "execution_count": null,
   "id": "919f3656",
   "metadata": {},
   "outputs": [],
   "source": [
    "knn_scores_df"
   ]
  },
  {
   "cell_type": "code",
   "execution_count": null,
   "id": "514e98d3",
   "metadata": {},
   "outputs": [],
   "source": [
    "knn_scores_df.sort_values(by=\"accuracy\", ascending=False).head(50)"
   ]
  },
  {
   "cell_type": "code",
   "execution_count": null,
   "id": "4980a522",
   "metadata": {},
   "outputs": [],
   "source": [
    "now = datetime.now().strftime(\"%Y-%m-%d_%H:%M:%S\")\n",
    "sup.create_dir_if_not_exists(os.path.join(sup.TRAIN_SCORES_ROOT, \"two-classes\", sup.TRAIN_KNN_CODE))\n",
    "knn_scores_df.to_csv(os.path.join(sup.TRAIN_SCORES_ROOT,\"two-classes\", sup.TRAIN_KNN_CODE, f\"{now}.csv\"), index=False)"
   ]
  },
  {
   "cell_type": "markdown",
   "id": "15315afa",
   "metadata": {},
   "source": [
    "## BERT"
   ]
  },
  {
   "cell_type": "code",
   "execution_count": null,
   "id": "3a7576d7",
   "metadata": {},
   "outputs": [],
   "source": [
    "bert_scores_df = pd.DataFrame(sup.bert_score_tracker, columns=sup.bert_scores_columns)"
   ]
  },
  {
   "cell_type": "code",
   "execution_count": null,
   "id": "995e5851",
   "metadata": {},
   "outputs": [],
   "source": [
    "bert_scores_df"
   ]
  },
  {
   "cell_type": "code",
   "execution_count": null,
   "id": "fb1b42b1",
   "metadata": {},
   "outputs": [],
   "source": [
    "bert_scores_df.sort_values(by=\"accuracy\", ascending=False).head(50)"
   ]
  },
  {
   "cell_type": "code",
   "execution_count": null,
   "id": "b8507806",
   "metadata": {},
   "outputs": [],
   "source": [
    "now = datetime.now().strftime(\"%Y-%m-%d_%H:%M:%S\")\n",
    "sup.create_dir_if_not_exists(os.path.join(sup.TRAIN_SCORES_ROOT, \"two-classes\", sup.TRAIN_BERT_CODE))\n",
    "bert_scores_df.to_csv(os.path.join(sup.TRAIN_SCORES_ROOT, \"two-classes\", sup.TRAIN_BERT_CODE, f\"{now}.csv\"), index=False)"
   ]
  }
 ],
 "metadata": {
  "kernelspec": {
   "display_name": "TOG_BERT_v2",
   "language": "python",
   "name": "python3"
  },
  "language_info": {
   "codemirror_mode": {
    "name": "ipython",
    "version": 3
   },
   "file_extension": ".py",
   "mimetype": "text/x-python",
   "name": "python",
   "nbconvert_exporter": "python",
   "pygments_lexer": "ipython3",
   "version": "3.10.18"
  }
 },
 "nbformat": 4,
 "nbformat_minor": 5
}
