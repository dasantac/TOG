{
 "cells": [
  {
   "cell_type": "markdown",
   "id": "bfff2878",
   "metadata": {},
   "source": [
    "# Context\n",
    "This notebook drives the training process for different models."
   ]
  },
  {
   "cell_type": "code",
   "execution_count": null,
   "id": "537c2fd5",
   "metadata": {},
   "outputs": [],
   "source": [
    "# Set project's environment variables\n",
    "import os\n",
    "import sys\n",
    "from dotenv import load_dotenv\n",
    "load_dotenv(dotenv_path=\"../project.env\")\n",
    "sys.path.append(os.environ[\"PYTHONPATH\"])\n",
    "\n",
    "import pickle"
   ]
  },
  {
   "cell_type": "code",
   "execution_count": null,
   "id": "bfd0cbe4",
   "metadata": {},
   "outputs": [],
   "source": [
    "# Import project-wide and PH2 specific variables and functions\n",
    "import superheader as sup\n",
    "import TRAINheader as train"
   ]
  },
  {
   "cell_type": "markdown",
   "id": "f82fa659",
   "metadata": {},
   "source": [
    "# Datasets"
   ]
  },
  {
   "cell_type": "code",
   "execution_count": null,
   "id": "e514bc85",
   "metadata": {},
   "outputs": [],
   "source": [
    "import pandas as pd"
   ]
  },
  {
   "cell_type": "code",
   "execution_count": null,
   "id": "102f84d3",
   "metadata": {},
   "outputs": [],
   "source": [
    "sup.report_dir_if_not_exists(sup.PH3_DATA_ROOT)"
   ]
  },
  {
   "cell_type": "markdown",
   "id": "1080dc06",
   "metadata": {},
   "source": [
    "# Model training"
   ]
  },
  {
   "cell_type": "markdown",
   "id": "62cdbd68",
   "metadata": {},
   "source": [
    "## KNN"
   ]
  },
  {
   "cell_type": "markdown",
   "id": "f0a96d30",
   "metadata": {},
   "source": [
    "### Active Hand prediction"
   ]
  },
  {
   "cell_type": "code",
   "execution_count": null,
   "id": "c8d04645",
   "metadata": {},
   "outputs": [],
   "source": [
    "train.arch.knn.best_KNN(sup.DATA_AH_PF, sup.active_hand_col, \"two-classes\", 0.2)"
   ]
  },
  {
   "cell_type": "markdown",
   "id": "20e70816",
   "metadata": {},
   "source": [
    "### Sign prediction"
   ]
  },
  {
   "cell_type": "code",
   "execution_count": null,
   "id": "36e0fd65",
   "metadata": {},
   "outputs": [],
   "source": [
    "train.arch.knn.best_KNN(sup.DATA_S_PF, sup.class_numeric_column, \"two-classes\", 0.2)"
   ]
  },
  {
   "cell_type": "code",
   "execution_count": null,
   "id": "82248a3b",
   "metadata": {},
   "outputs": [],
   "source": [
    "train.arch.knn.best_KNN(sup.DATA_S_PV, sup.class_numeric_column, \"two-classes\", 0.2)"
   ]
  },
  {
   "cell_type": "markdown",
   "id": "68ce9b83",
   "metadata": {},
   "source": [
    "# SCORE ANALYSIS"
   ]
  },
  {
   "cell_type": "code",
   "execution_count": null,
   "id": "a77fd834",
   "metadata": {},
   "outputs": [],
   "source": [
    "import pandas as pd\n",
    "from datetime import datetime"
   ]
  },
  {
   "cell_type": "code",
   "execution_count": null,
   "id": "9e8d9444",
   "metadata": {},
   "outputs": [],
   "source": [
    "knn_scores_df = pd.DataFrame(sup.knn_score_tracker, columns=sup.knn_scores_columns)"
   ]
  },
  {
   "cell_type": "code",
   "execution_count": null,
   "id": "919f3656",
   "metadata": {},
   "outputs": [],
   "source": [
    "knn_scores_df"
   ]
  },
  {
   "cell_type": "code",
   "execution_count": null,
   "id": "4980a522",
   "metadata": {},
   "outputs": [],
   "source": [
    "now = datetime.now().strftime(\"%Y-%m-%d_%H:%M:%S\")\n",
    "sup.create_dir_if_not_exists(os.path.join(sup.TRAIN_SCORES_ROOT, sup.TRAIN_KNN_CODE))\n",
    "knn_scores_df.to_csv(os.path.join(sup.TRAIN_SCORES_ROOT, sup.TRAIN_KNN_CODE, f\"{now}.csv\"), index=False)"
   ]
  },
  {
   "cell_type": "markdown",
   "id": "2a8c5cbc",
   "metadata": {},
   "source": [
    "## Active hand detection"
   ]
  },
  {
   "cell_type": "code",
   "execution_count": null,
   "id": "2bfeecff",
   "metadata": {},
   "outputs": [],
   "source": [
    "ah_scores = knn_scores_df[knn_scores_df['data_unit'] == sup.DATA_AH_PF]"
   ]
  },
  {
   "cell_type": "markdown",
   "id": "d12eeddc",
   "metadata": {},
   "source": [
    "## Sign recognition"
   ]
  },
  {
   "cell_type": "markdown",
   "id": "3bf20e52",
   "metadata": {},
   "source": [
    "### Only per frame data"
   ]
  },
  {
   "cell_type": "code",
   "execution_count": null,
   "id": "6b83ad26",
   "metadata": {},
   "outputs": [],
   "source": [
    "s_pf_scores = knn_scores_df[knn_scores_df['data_unit'] == sup.DATA_S_PF]"
   ]
  },
  {
   "cell_type": "markdown",
   "id": "9e3e3380",
   "metadata": {},
   "source": [
    "### Only per video data"
   ]
  },
  {
   "cell_type": "code",
   "execution_count": null,
   "id": "2d29bc1f",
   "metadata": {},
   "outputs": [],
   "source": [
    "s_pv_scores = knn_scores_df[knn_scores_df['data_unit'] == sup.DATA_S_PV]"
   ]
  }
 ],
 "metadata": {
  "kernelspec": {
   "display_name": "TOG_TRAIN_v1",
   "language": "python",
   "name": "python3"
  },
  "language_info": {
   "codemirror_mode": {
    "name": "ipython",
    "version": 3
   },
   "file_extension": ".py",
   "mimetype": "text/x-python",
   "name": "python",
   "nbconvert_exporter": "python",
   "pygments_lexer": "ipython3",
   "version": "3.10.17"
  }
 },
 "nbformat": 4,
 "nbformat_minor": 5
}
