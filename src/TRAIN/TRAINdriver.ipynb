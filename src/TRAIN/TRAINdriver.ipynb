{
 "cells": [
  {
   "cell_type": "markdown",
   "id": "bfff2878",
   "metadata": {},
   "source": [
    "# Context\n",
    "This notebook drives the training process for different models."
   ]
  },
  {
   "cell_type": "code",
   "execution_count": 1,
   "id": "537c2fd5",
   "metadata": {},
   "outputs": [],
   "source": [
    "# Set project's environment variables\n",
    "import os\n",
    "import sys\n",
    "from dotenv import load_dotenv\n",
    "load_dotenv(dotenv_path=\"../project.env\")\n",
    "sys.path.append(os.environ[\"PYTHONPATH\"])\n",
    "\n",
    "import pickle"
   ]
  },
  {
   "cell_type": "code",
   "execution_count": null,
   "id": "a1db6851",
   "metadata": {},
   "outputs": [],
   "source": [
    "import warnings\n",
    "warnings.filterwarnings(\n",
    "    \"ignore\",\n",
    "    message=\".*\",\n",
    "    category=FutureWarning\n",
    ")"
   ]
  },
  {
   "cell_type": "code",
   "execution_count": 3,
   "id": "bfd0cbe4",
   "metadata": {},
   "outputs": [
    {
     "name": "stdout",
     "output_type": "stream",
     "text": [
      "\n",
      "\n",
      "Chosen class grouping: two-classes\n",
      "\n",
      "\n",
      "Directory /Users/diego/Desktop/iteso/TOG/ exists. Continuing with execution\n",
      "Directory /Users/diego/Desktop/iteso/TOG/data exists. Continuing with execution\n",
      "Directory /Users/diego/Desktop/iteso/TOG/src exists. Continuing with execution\n",
      "Directory /Users/diego/Desktop/iteso/TOG/bin exists. Continuing with execution\n",
      "Directory /Users/diego/Desktop/iteso/TOG/media exists. Continuing with execution\n",
      "Directory /Users/diego/Desktop/iteso/TOG/scores exists. Continuing with execution\n",
      "Directory /Users/diego/Desktop/iteso/TOG/data/PH3/two-classes exists. Continuing with execution\n",
      "Directory /Users/diego/Desktop/iteso/TOG/bin/gen/TRAIN exists. Continuing with execution\n",
      "Directory /Users/diego/Desktop/iteso/TOG/data/PH1/two-classes exists. Continuing with execution\n",
      "Directory /Users/diego/Desktop/iteso/TOG/data/PH2/two-classes exists. Continuing with execution\n",
      "Directory /Users/diego/Desktop/iteso/TOG/data/PH3/two-classes exists. Continuing with execution\n"
     ]
    },
    {
     "name": "stderr",
     "output_type": "stream",
     "text": [
      "/Users/diego/miniconda3/envs/TOG_BERT_v2/lib/python3.10/site-packages/tqdm/auto.py:21: TqdmWarning: IProgress not found. Please update jupyter and ipywidgets. See https://ipywidgets.readthedocs.io/en/stable/user_install.html\n",
      "  from .autonotebook import tqdm as notebook_tqdm\n"
     ]
    },
    {
     "name": "stdout",
     "output_type": "stream",
     "text": [
      "device: mps\n",
      "Directory /Users/diego/Desktop/iteso/TOG/bin/load/TRAIN/distilbert-base-uncased exists. Continuing with execution\n",
      "Directory /Users/diego/Desktop/iteso/TOG/bin/load/TRAIN/prajjwal1/bert-tiny exists. Continuing with execution\n",
      "Directory /Users/diego/Desktop/iteso/TOG/bin/load/TRAIN/bert-base-uncased exists. Continuing with execution\n",
      "Directory /Users/diego/Desktop/iteso/TOG/bin/load/TRAIN/bert-large-uncased exists. Continuing with execution\n"
     ]
    }
   ],
   "source": [
    "# Import project-wide and PH2 specific variables and functions\n",
    "import superheader as sup\n",
    "import TRAINheader as train"
   ]
  },
  {
   "cell_type": "markdown",
   "id": "1080dc06",
   "metadata": {},
   "source": [
    "# Model training"
   ]
  },
  {
   "cell_type": "markdown",
   "id": "62cdbd68",
   "metadata": {},
   "source": [
    "## KNN"
   ]
  },
  {
   "cell_type": "markdown",
   "id": "f0a96d30",
   "metadata": {},
   "source": [
    "### Active Hand prediction"
   ]
  },
  {
   "cell_type": "code",
   "execution_count": null,
   "id": "0f660be5",
   "metadata": {},
   "outputs": [],
   "source": [
    "train.arch.find_best(sup.DATA_AH_PF, sup.active_hand_col, \"two-classes\", sup.TRAIN_KNN_CODE)"
   ]
  },
  {
   "cell_type": "markdown",
   "id": "20e70816",
   "metadata": {},
   "source": [
    "### Sign prediction"
   ]
  },
  {
   "cell_type": "code",
   "execution_count": null,
   "id": "36e0fd65",
   "metadata": {},
   "outputs": [],
   "source": [
    "train.arch.find_best(sup.DATA_S_PF, sup.class_numeric_column, \"two-classes\", sup.TRAIN_KNN_CODE)"
   ]
  },
  {
   "cell_type": "code",
   "execution_count": null,
   "id": "82248a3b",
   "metadata": {},
   "outputs": [],
   "source": [
    "train.arch.find_best(sup.DATA_S_PV, sup.class_numeric_column, \"two-classes\", sup.TRAIN_KNN_CODE)"
   ]
  },
  {
   "cell_type": "markdown",
   "id": "047be5c9",
   "metadata": {},
   "source": [
    "## BERT"
   ]
  },
  {
   "cell_type": "markdown",
   "id": "f4ce6104",
   "metadata": {},
   "source": [
    "### Sign prediction"
   ]
  },
  {
   "cell_type": "code",
   "execution_count": null,
   "id": "df92f99c",
   "metadata": {},
   "outputs": [
    {
     "name": "stdout",
     "output_type": "stream",
     "text": [
      "updating best... 0.5116279069767442\n",
      "Directory /Users/diego/Desktop/iteso/TOG/bin/gen/TRAIN/two-classes/BERT/Spv/prajjwal1/bert-tiny exists. Continuing with execution\n",
      "updating best... 0.5348837209302325\n",
      "Directory /Users/diego/Desktop/iteso/TOG/bin/gen/TRAIN/two-classes/BERT/Spv/prajjwal1/bert-tiny exists. Continuing with execution\n",
      "updating best... 0.5813953488372093\n",
      "Directory /Users/diego/Desktop/iteso/TOG/bin/gen/TRAIN/two-classes/BERT/Spv/prajjwal1/bert-tiny exists. Continuing with execution\n",
      "updating best... 0.6046511627906976\n",
      "Directory /Users/diego/Desktop/iteso/TOG/bin/gen/TRAIN/two-classes/BERT/Spv/prajjwal1/bert-tiny exists. Continuing with execution\n",
      "updating best... 0.6511627906976745\n",
      "Directory /Users/diego/Desktop/iteso/TOG/bin/gen/TRAIN/two-classes/BERT/Spv/prajjwal1/bert-tiny exists. Continuing with execution\n"
     ]
    }
   ],
   "source": [
    "train.arch.find_best(sup.DATA_S_PV, sup.class_numeric_column, \"two-classes\", sup.TRAIN_BERT_CODE)"
   ]
  },
  {
   "cell_type": "markdown",
   "id": "68ce9b83",
   "metadata": {},
   "source": [
    "# SCORE ANALYSIS"
   ]
  },
  {
   "cell_type": "code",
   "execution_count": null,
   "id": "a77fd834",
   "metadata": {},
   "outputs": [],
   "source": [
    "import pandas as pd\n",
    "from datetime import datetime"
   ]
  },
  {
   "cell_type": "markdown",
   "id": "3a78bf6d",
   "metadata": {},
   "source": [
    "## KNN"
   ]
  },
  {
   "cell_type": "code",
   "execution_count": null,
   "id": "9e8d9444",
   "metadata": {},
   "outputs": [],
   "source": [
    "knn_scores_df = pd.DataFrame(sup.knn_score_tracker, columns=sup.knn_scores_columns)"
   ]
  },
  {
   "cell_type": "code",
   "execution_count": null,
   "id": "919f3656",
   "metadata": {},
   "outputs": [],
   "source": [
    "knn_scores_df"
   ]
  },
  {
   "cell_type": "code",
   "execution_count": null,
   "id": "514e98d3",
   "metadata": {},
   "outputs": [],
   "source": [
    "knn_scores_df.sort_values(by=\"accuracy\", ascending=False).head(50)"
   ]
  },
  {
   "cell_type": "code",
   "execution_count": null,
   "id": "4980a522",
   "metadata": {},
   "outputs": [],
   "source": [
    "now = datetime.now().strftime(\"%Y-%m-%d_%H:%M:%S\")\n",
    "sup.create_dir_if_not_exists(os.path.join(sup.TRAIN_SCORES_ROOT, \"two-classes\", sup.TRAIN_KNN_CODE))\n",
    "knn_scores_df.to_csv(os.path.join(sup.TRAIN_SCORES_ROOT,\"two-classes\", sup.TRAIN_KNN_CODE, f\"{now}.csv\"), index=False)"
   ]
  },
  {
   "cell_type": "markdown",
   "id": "15315afa",
   "metadata": {},
   "source": [
    "## BERT"
   ]
  },
  {
   "cell_type": "code",
   "execution_count": null,
   "id": "3a7576d7",
   "metadata": {},
   "outputs": [],
   "source": [
    "bert_scores_df = pd.DataFrame(sup.bert_score_tracker, columns=sup.bert_scores_columns)"
   ]
  },
  {
   "cell_type": "code",
   "execution_count": null,
   "id": "995e5851",
   "metadata": {},
   "outputs": [],
   "source": [
    "bert_scores_df"
   ]
  },
  {
   "cell_type": "code",
   "execution_count": null,
   "id": "fb1b42b1",
   "metadata": {},
   "outputs": [],
   "source": [
    "bert_scores_df.sort_values(by=\"accuracy\", ascending=False).head(50)"
   ]
  },
  {
   "cell_type": "code",
   "execution_count": null,
   "id": "b8507806",
   "metadata": {},
   "outputs": [],
   "source": [
    "now = datetime.now().strftime(\"%Y-%m-%d_%H:%M:%S\")\n",
    "sup.create_dir_if_not_exists(os.path.join(sup.TRAIN_SCORES_ROOT, \"two-classes\", sup.TRAIN_BERT_CODE))\n",
    "bert_scores_df.to_csv(os.path.join(sup.TRAIN_SCORES_ROOT, \"two-classes\", sup.TRAIN_BERT_CODE, f\"{now}.csv\"), index=False)"
   ]
  }
 ],
 "metadata": {
  "kernelspec": {
   "display_name": "TOG_BERT_v2",
   "language": "python",
   "name": "python3"
  },
  "language_info": {
   "codemirror_mode": {
    "name": "ipython",
    "version": 3
   },
   "file_extension": ".py",
   "mimetype": "text/x-python",
   "name": "python",
   "nbconvert_exporter": "python",
   "pygments_lexer": "ipython3",
   "version": "3.10.18"
  }
 },
 "nbformat": 4,
 "nbformat_minor": 5
}
