{
 "cells": [
  {
   "cell_type": "markdown",
   "id": "78b4d339",
   "metadata": {},
   "source": [
    "# Context\n",
    "This notebook drives the training process for different models."
   ]
  },
  {
   "cell_type": "code",
   "execution_count": 1,
   "id": "0328c1e3",
   "metadata": {},
   "outputs": [],
   "source": [
    "# Set project's environment variables\n",
    "import os\n",
    "import sys\n",
    "from dotenv import load_dotenv\n",
    "load_dotenv(dotenv_path=\"../../../project.env\")\n",
    "sys.path.append(os.environ[\"PYTHONPATH\"])"
   ]
  },
  {
   "cell_type": "code",
   "execution_count": 2,
   "id": "826105d7",
   "metadata": {},
   "outputs": [],
   "source": [
    "# Import project-wide and PH2 specific variables and functions\n",
    "import superheader as sup\n",
    "import TRAIN.architecture.BERT.bert as bert"
   ]
  },
  {
   "cell_type": "code",
   "execution_count": 3,
   "id": "9cec192f",
   "metadata": {},
   "outputs": [],
   "source": [
    "import pandas as pd\n",
    "from datetime import datetime"
   ]
  },
  {
   "cell_type": "code",
   "execution_count": null,
   "id": "f5a0b34b",
   "metadata": {},
   "outputs": [],
   "source": [
    "TRAIN_classes = 'two-classes'\n",
    "exploringBERT = bert.DISTILBERT\n",
    "exploring_num_epochs_spf = 100\n",
    "exploring_num_epochs_spv = 400\n",
    "exploring_batch_size = 1024"
   ]
  },
  {
   "cell_type": "markdown",
   "id": "4398ce40",
   "metadata": {},
   "source": [
    "# Model training"
   ]
  },
  {
   "cell_type": "markdown",
   "id": "c820d26e",
   "metadata": {},
   "source": [
    "## Sign prediction"
   ]
  },
  {
   "cell_type": "markdown",
   "id": "ebed4241",
   "metadata": {},
   "source": [
    "### Spf"
   ]
  },
  {
   "cell_type": "code",
   "execution_count": 5,
   "id": "8e5d42b3",
   "metadata": {},
   "outputs": [],
   "source": [
    "sup.bert_score_tracker = []"
   ]
  },
  {
   "cell_type": "code",
   "execution_count": 6,
   "id": "4c243c5c",
   "metadata": {},
   "outputs": [
    {
     "name": "stdout",
     "output_type": "stream",
     "text": [
      "{'data_unit': 'Spf', 'PH2': True, 'PH3': True, 'reducer': 'pca', 'kernel': '', 'n': 1, 'label_col': 'class_numeric', 'class_list': 'alpha-classes', 'batch_size': 1024}\n",
      "{'arch': 'BERT', 'device': device(type='mps'), 'loadable': 'distilbert-base-uncased', 'optimizer': <class 'torch.optim.adamw.AdamW'>, 'lr': 1e-05, 'weight_decay': 0, 'loss_fn': <class 'torch.nn.modules.loss.CrossEntropyLoss'>, 'num_epochs': 100}\n"
     ]
    },
    {
     "name": "stderr",
     "output_type": "stream",
     "text": [
      "/Users/diego/miniconda3/envs/TOG_BERT_v2/lib/python3.10/site-packages/sklearn/metrics/_classification.py:1706: UndefinedMetricWarning: Precision is ill-defined and being set to 0.0 in labels with no predicted samples. Use `zero_division` parameter to control this behavior.\n",
      "  _warn_prf(average, modifier, f\"{metric.capitalize()} is\", result.shape[0])\n",
      "/Users/diego/miniconda3/envs/TOG_BERT_v2/lib/python3.10/site-packages/sklearn/metrics/_classification.py:1706: UndefinedMetricWarning: Precision is ill-defined and being set to 0.0 in labels with no predicted samples. Use `zero_division` parameter to control this behavior.\n",
      "  _warn_prf(average, modifier, f\"{metric.capitalize()} is\", result.shape[0])\n"
     ]
    },
    {
     "name": "stdout",
     "output_type": "stream",
     "text": [
      "0.09533898305084745\n",
      "updating best... at 2025-06-14_20:40:33\n",
      "\n",
      "\n",
      "\n",
      "{'data_unit': 'Spf', 'PH2': True, 'PH3': True, 'reducer': 'umap', 'kernel': '', 'n': 1, 'label_col': 'class_numeric', 'class_list': 'alpha-classes', 'batch_size': 1024}\n",
      "{'arch': 'BERT', 'device': device(type='mps'), 'loadable': 'distilbert-base-uncased', 'optimizer': <class 'torch.optim.adamw.AdamW'>, 'lr': 1e-05, 'weight_decay': 0, 'loss_fn': <class 'torch.nn.modules.loss.CrossEntropyLoss'>, 'num_epochs': 100}\n"
     ]
    },
    {
     "name": "stderr",
     "output_type": "stream",
     "text": [
      "/Users/diego/miniconda3/envs/TOG_BERT_v2/lib/python3.10/site-packages/sklearn/metrics/_classification.py:1706: UndefinedMetricWarning: Precision is ill-defined and being set to 0.0 in labels with no predicted samples. Use `zero_division` parameter to control this behavior.\n",
      "  _warn_prf(average, modifier, f\"{metric.capitalize()} is\", result.shape[0])\n",
      "/Users/diego/miniconda3/envs/TOG_BERT_v2/lib/python3.10/site-packages/sklearn/metrics/_classification.py:1706: UndefinedMetricWarning: Precision is ill-defined and being set to 0.0 in labels with no predicted samples. Use `zero_division` parameter to control this behavior.\n",
      "  _warn_prf(average, modifier, f\"{metric.capitalize()} is\", result.shape[0])\n"
     ]
    },
    {
     "name": "stdout",
     "output_type": "stream",
     "text": [
      "0.12740112994350283\n",
      "updating best... at 2025-06-14_20:52:08\n",
      "\n",
      "\n",
      "\n",
      "{'data_unit': 'Spf', 'PH2': True, 'PH3': True, 'reducer': 'pca', 'kernel': '', 'n': 3, 'label_col': 'class_numeric', 'class_list': 'alpha-classes', 'batch_size': 1024}\n",
      "{'arch': 'BERT', 'device': device(type='mps'), 'loadable': 'distilbert-base-uncased', 'optimizer': <class 'torch.optim.adamw.AdamW'>, 'lr': 1e-05, 'weight_decay': 0, 'loss_fn': <class 'torch.nn.modules.loss.CrossEntropyLoss'>, 'num_epochs': 100}\n"
     ]
    },
    {
     "name": "stderr",
     "output_type": "stream",
     "text": [
      "                                                                                    \r"
     ]
    },
    {
     "name": "stdout",
     "output_type": "stream",
     "text": [
      "0.336864406779661\n",
      "updating best... at 2025-06-14_21:03:48\n",
      "\n",
      "\n",
      "\n",
      "{'data_unit': 'Spf', 'PH2': True, 'PH3': True, 'reducer': 'umap', 'kernel': '', 'n': 3, 'label_col': 'class_numeric', 'class_list': 'alpha-classes', 'batch_size': 1024}\n",
      "{'arch': 'BERT', 'device': device(type='mps'), 'loadable': 'distilbert-base-uncased', 'optimizer': <class 'torch.optim.adamw.AdamW'>, 'lr': 1e-05, 'weight_decay': 0, 'loss_fn': <class 'torch.nn.modules.loss.CrossEntropyLoss'>, 'num_epochs': 100}\n"
     ]
    },
    {
     "name": "stderr",
     "output_type": "stream",
     "text": [
      "                                                                                    \r"
     ]
    },
    {
     "name": "stdout",
     "output_type": "stream",
     "text": [
      "0.405225988700565\n",
      "updating best... at 2025-06-14_21:15:33\n",
      "\n",
      "\n",
      "\n",
      "{'data_unit': 'Spf', 'PH2': True, 'PH3': True, 'reducer': 'pca', 'kernel': '', 'n': 5, 'label_col': 'class_numeric', 'class_list': 'alpha-classes', 'batch_size': 1024}\n",
      "{'arch': 'BERT', 'device': device(type='mps'), 'loadable': 'distilbert-base-uncased', 'optimizer': <class 'torch.optim.adamw.AdamW'>, 'lr': 1e-05, 'weight_decay': 0, 'loss_fn': <class 'torch.nn.modules.loss.CrossEntropyLoss'>, 'num_epochs': 100}\n"
     ]
    },
    {
     "name": "stderr",
     "output_type": "stream",
     "text": [
      "                                                                                  \r"
     ]
    },
    {
     "name": "stdout",
     "output_type": "stream",
     "text": [
      "0.4888418079096045\n",
      "updating best... at 2025-06-14_21:27:20\n",
      "\n",
      "\n",
      "\n",
      "{'data_unit': 'Spf', 'PH2': True, 'PH3': True, 'reducer': 'umap', 'kernel': '', 'n': 5, 'label_col': 'class_numeric', 'class_list': 'alpha-classes', 'batch_size': 1024}\n",
      "{'arch': 'BERT', 'device': device(type='mps'), 'loadable': 'distilbert-base-uncased', 'optimizer': <class 'torch.optim.adamw.AdamW'>, 'lr': 1e-05, 'weight_decay': 0, 'loss_fn': <class 'torch.nn.modules.loss.CrossEntropyLoss'>, 'num_epochs': 100}\n"
     ]
    },
    {
     "name": "stderr",
     "output_type": "stream",
     "text": [
      "                                                                                    \r"
     ]
    },
    {
     "name": "stdout",
     "output_type": "stream",
     "text": [
      "0.4362994350282486\n",
      "not best... at 2025-06-14_21:38:55\n",
      "\n",
      "\n",
      "\n",
      "{'data_unit': 'Spf', 'PH2': True, 'PH3': True, 'reducer': 'pca', 'kernel': '', 'n': 7, 'label_col': 'class_numeric', 'class_list': 'alpha-classes', 'batch_size': 1024}\n",
      "{'arch': 'BERT', 'device': device(type='mps'), 'loadable': 'distilbert-base-uncased', 'optimizer': <class 'torch.optim.adamw.AdamW'>, 'lr': 1e-05, 'weight_decay': 0, 'loss_fn': <class 'torch.nn.modules.loss.CrossEntropyLoss'>, 'num_epochs': 100}\n"
     ]
    },
    {
     "name": "stderr",
     "output_type": "stream",
     "text": [
      "                                                                                  \r"
     ]
    },
    {
     "name": "stdout",
     "output_type": "stream",
     "text": [
      "0.5720338983050848\n",
      "updating best... at 2025-06-14_21:50:35\n",
      "\n",
      "\n",
      "\n",
      "{'data_unit': 'Spf', 'PH2': True, 'PH3': True, 'reducer': 'umap', 'kernel': '', 'n': 7, 'label_col': 'class_numeric', 'class_list': 'alpha-classes', 'batch_size': 1024}\n",
      "{'arch': 'BERT', 'device': device(type='mps'), 'loadable': 'distilbert-base-uncased', 'optimizer': <class 'torch.optim.adamw.AdamW'>, 'lr': 1e-05, 'weight_decay': 0, 'loss_fn': <class 'torch.nn.modules.loss.CrossEntropyLoss'>, 'num_epochs': 100}\n"
     ]
    },
    {
     "name": "stderr",
     "output_type": "stream",
     "text": [
      "                                                                                    \r"
     ]
    },
    {
     "name": "stdout",
     "output_type": "stream",
     "text": [
      "0.4693502824858757\n",
      "not best... at 2025-06-14_22:02:22\n",
      "\n",
      "\n",
      "\n",
      "{'data_unit': 'Spf', 'PH2': True, 'PH3': True, 'reducer': 'pca', 'kernel': '', 'n': 9, 'label_col': 'class_numeric', 'class_list': 'alpha-classes', 'batch_size': 1024}\n",
      "{'arch': 'BERT', 'device': device(type='mps'), 'loadable': 'distilbert-base-uncased', 'optimizer': <class 'torch.optim.adamw.AdamW'>, 'lr': 1e-05, 'weight_decay': 0, 'loss_fn': <class 'torch.nn.modules.loss.CrossEntropyLoss'>, 'num_epochs': 100}\n"
     ]
    },
    {
     "name": "stderr",
     "output_type": "stream",
     "text": [
      "                                                                                    \r"
     ]
    },
    {
     "name": "stdout",
     "output_type": "stream",
     "text": [
      "0.615819209039548\n",
      "updating best... at 2025-06-14_22:14:06\n",
      "\n",
      "\n",
      "\n",
      "{'data_unit': 'Spf', 'PH2': True, 'PH3': True, 'reducer': 'umap', 'kernel': '', 'n': 9, 'label_col': 'class_numeric', 'class_list': 'alpha-classes', 'batch_size': 1024}\n",
      "{'arch': 'BERT', 'device': device(type='mps'), 'loadable': 'distilbert-base-uncased', 'optimizer': <class 'torch.optim.adamw.AdamW'>, 'lr': 1e-05, 'weight_decay': 0, 'loss_fn': <class 'torch.nn.modules.loss.CrossEntropyLoss'>, 'num_epochs': 100}\n"
     ]
    },
    {
     "name": "stderr",
     "output_type": "stream",
     "text": [
      "                                                                                    \r"
     ]
    },
    {
     "name": "stdout",
     "output_type": "stream",
     "text": [
      "0.45240112994350284\n",
      "not best... at 2025-06-14_22:25:52\n",
      "\n",
      "\n",
      "\n",
      "{'data_unit': 'Spf', 'PH2': True, 'PH3': True, 'reducer': 'pca', 'kernel': '', 'n': 11, 'label_col': 'class_numeric', 'class_list': 'alpha-classes', 'batch_size': 1024}\n",
      "{'arch': 'BERT', 'device': device(type='mps'), 'loadable': 'distilbert-base-uncased', 'optimizer': <class 'torch.optim.adamw.AdamW'>, 'lr': 1e-05, 'weight_decay': 0, 'loss_fn': <class 'torch.nn.modules.loss.CrossEntropyLoss'>, 'num_epochs': 100}\n"
     ]
    },
    {
     "name": "stderr",
     "output_type": "stream",
     "text": [
      "                                                                                  \r"
     ]
    },
    {
     "name": "stdout",
     "output_type": "stream",
     "text": [
      "0.6163841807909605\n",
      "updating best... at 2025-06-14_22:37:37\n",
      "\n",
      "\n",
      "\n",
      "{'data_unit': 'Spf', 'PH2': True, 'PH3': True, 'reducer': 'umap', 'kernel': '', 'n': 11, 'label_col': 'class_numeric', 'class_list': 'alpha-classes', 'batch_size': 1024}\n",
      "{'arch': 'BERT', 'device': device(type='mps'), 'loadable': 'distilbert-base-uncased', 'optimizer': <class 'torch.optim.adamw.AdamW'>, 'lr': 1e-05, 'weight_decay': 0, 'loss_fn': <class 'torch.nn.modules.loss.CrossEntropyLoss'>, 'num_epochs': 100}\n"
     ]
    },
    {
     "name": "stderr",
     "output_type": "stream",
     "text": [
      "                                                                                    \r"
     ]
    },
    {
     "name": "stdout",
     "output_type": "stream",
     "text": [
      "0.44180790960451977\n",
      "not best... at 2025-06-14_22:49:23\n",
      "\n",
      "\n",
      "\n",
      "{'data_unit': 'Spf', 'PH2': True, 'PH3': True, 'reducer': 'pca', 'kernel': '', 'n': 13, 'label_col': 'class_numeric', 'class_list': 'alpha-classes', 'batch_size': 1024}\n",
      "{'arch': 'BERT', 'device': device(type='mps'), 'loadable': 'distilbert-base-uncased', 'optimizer': <class 'torch.optim.adamw.AdamW'>, 'lr': 1e-05, 'weight_decay': 0, 'loss_fn': <class 'torch.nn.modules.loss.CrossEntropyLoss'>, 'num_epochs': 100}\n"
     ]
    },
    {
     "name": "stderr",
     "output_type": "stream",
     "text": [
      "                                                                                    \r"
     ]
    },
    {
     "name": "stdout",
     "output_type": "stream",
     "text": [
      "0.6351694915254237\n",
      "updating best... at 2025-06-14_23:01:09\n",
      "\n",
      "\n",
      "\n",
      "{'data_unit': 'Spf', 'PH2': True, 'PH3': True, 'reducer': 'umap', 'kernel': '', 'n': 13, 'label_col': 'class_numeric', 'class_list': 'alpha-classes', 'batch_size': 1024}\n",
      "{'arch': 'BERT', 'device': device(type='mps'), 'loadable': 'distilbert-base-uncased', 'optimizer': <class 'torch.optim.adamw.AdamW'>, 'lr': 1e-05, 'weight_decay': 0, 'loss_fn': <class 'torch.nn.modules.loss.CrossEntropyLoss'>, 'num_epochs': 100}\n"
     ]
    },
    {
     "name": "stderr",
     "output_type": "stream",
     "text": [
      "                                                                                    \r"
     ]
    },
    {
     "name": "stdout",
     "output_type": "stream",
     "text": [
      "0.4320621468926554\n",
      "not best... at 2025-06-14_23:12:44\n",
      "\n",
      "\n",
      "\n",
      "{'data_unit': 'Spf', 'PH2': True, 'PH3': True, 'reducer': 'pca', 'kernel': '', 'n': 15, 'label_col': 'class_numeric', 'class_list': 'alpha-classes', 'batch_size': 1024}\n",
      "{'arch': 'BERT', 'device': device(type='mps'), 'loadable': 'distilbert-base-uncased', 'optimizer': <class 'torch.optim.adamw.AdamW'>, 'lr': 1e-05, 'weight_decay': 0, 'loss_fn': <class 'torch.nn.modules.loss.CrossEntropyLoss'>, 'num_epochs': 100}\n"
     ]
    },
    {
     "name": "stderr",
     "output_type": "stream",
     "text": [
      "                                                                                    \r"
     ]
    },
    {
     "name": "stdout",
     "output_type": "stream",
     "text": [
      "0.6875706214689266\n",
      "updating best... at 2025-06-14_23:24:26\n",
      "\n",
      "\n",
      "\n",
      "{'data_unit': 'Spf', 'PH2': True, 'PH3': True, 'reducer': 'umap', 'kernel': '', 'n': 15, 'label_col': 'class_numeric', 'class_list': 'alpha-classes', 'batch_size': 1024}\n",
      "{'arch': 'BERT', 'device': device(type='mps'), 'loadable': 'distilbert-base-uncased', 'optimizer': <class 'torch.optim.adamw.AdamW'>, 'lr': 1e-05, 'weight_decay': 0, 'loss_fn': <class 'torch.nn.modules.loss.CrossEntropyLoss'>, 'num_epochs': 100}\n"
     ]
    },
    {
     "name": "stderr",
     "output_type": "stream",
     "text": [
      "                                                                                    \r"
     ]
    },
    {
     "name": "stdout",
     "output_type": "stream",
     "text": [
      "0.4464689265536723\n",
      "not best... at 2025-06-14_23:39:53\n",
      "\n",
      "\n",
      "\n",
      "{'data_unit': 'Spf', 'PH2': True, 'PH3': False, 'reducer': '', 'kernel': '', 'n': 75, 'label_col': 'class_numeric', 'class_list': 'alpha-classes', 'batch_size': 1024}\n",
      "{'arch': 'BERT', 'device': device(type='mps'), 'loadable': 'distilbert-base-uncased', 'optimizer': <class 'torch.optim.adamw.AdamW'>, 'lr': 1e-05, 'weight_decay': 0, 'loss_fn': <class 'torch.nn.modules.loss.CrossEntropyLoss'>, 'num_epochs': 100}\n"
     ]
    },
    {
     "name": "stderr",
     "output_type": "stream",
     "text": [
      "                                                                                    \r"
     ]
    },
    {
     "name": "stdout",
     "output_type": "stream",
     "text": [
      "0.6764124293785311\n",
      "not best... at 2025-06-14_23:55:21\n",
      "\n",
      "\n",
      "\n",
      "{'data_unit': 'Spf', 'PH2': False, 'PH3': True, 'reducer': 'pca', 'kernel': '', 'n': 1, 'label_col': 'class_numeric', 'class_list': 'alpha-classes', 'batch_size': 1024}\n",
      "{'arch': 'BERT', 'device': device(type='mps'), 'loadable': 'distilbert-base-uncased', 'optimizer': <class 'torch.optim.adamw.AdamW'>, 'lr': 1e-05, 'weight_decay': 0, 'loss_fn': <class 'torch.nn.modules.loss.CrossEntropyLoss'>, 'num_epochs': 100}\n"
     ]
    },
    {
     "name": "stderr",
     "output_type": "stream",
     "text": [
      "/Users/diego/miniconda3/envs/TOG_BERT_v2/lib/python3.10/site-packages/sklearn/metrics/_classification.py:1706: UndefinedMetricWarning: Precision is ill-defined and being set to 0.0 in labels with no predicted samples. Use `zero_division` parameter to control this behavior.\n",
      "  _warn_prf(average, modifier, f\"{metric.capitalize()} is\", result.shape[0])\n"
     ]
    },
    {
     "name": "stdout",
     "output_type": "stream",
     "text": [
      "0.08008474576271186\n",
      "not best... at 2025-06-15_00:10:47\n",
      "\n",
      "\n",
      "\n",
      "{'data_unit': 'Spf', 'PH2': False, 'PH3': True, 'reducer': 'umap', 'kernel': '', 'n': 1, 'label_col': 'class_numeric', 'class_list': 'alpha-classes', 'batch_size': 1024}\n",
      "{'arch': 'BERT', 'device': device(type='mps'), 'loadable': 'distilbert-base-uncased', 'optimizer': <class 'torch.optim.adamw.AdamW'>, 'lr': 1e-05, 'weight_decay': 0, 'loss_fn': <class 'torch.nn.modules.loss.CrossEntropyLoss'>, 'num_epochs': 100}\n"
     ]
    },
    {
     "name": "stderr",
     "output_type": "stream",
     "text": [
      "                                                                                    \r"
     ]
    },
    {
     "name": "stdout",
     "output_type": "stream",
     "text": [
      "0.10918079096045198\n",
      "not best... at 2025-06-15_00:26:19\n",
      "\n",
      "\n",
      "\n",
      "{'data_unit': 'Spf', 'PH2': False, 'PH3': True, 'reducer': 'pca', 'kernel': '', 'n': 3, 'label_col': 'class_numeric', 'class_list': 'alpha-classes', 'batch_size': 1024}\n",
      "{'arch': 'BERT', 'device': device(type='mps'), 'loadable': 'distilbert-base-uncased', 'optimizer': <class 'torch.optim.adamw.AdamW'>, 'lr': 1e-05, 'weight_decay': 0, 'loss_fn': <class 'torch.nn.modules.loss.CrossEntropyLoss'>, 'num_epochs': 100}\n"
     ]
    },
    {
     "name": "stderr",
     "output_type": "stream",
     "text": [
      "                                                                                    \r"
     ]
    },
    {
     "name": "stdout",
     "output_type": "stream",
     "text": [
      "0.2675141242937853\n",
      "not best... at 2025-06-15_00:42:02\n",
      "\n",
      "\n",
      "\n",
      "{'data_unit': 'Spf', 'PH2': False, 'PH3': True, 'reducer': 'umap', 'kernel': '', 'n': 3, 'label_col': 'class_numeric', 'class_list': 'alpha-classes', 'batch_size': 1024}\n",
      "{'arch': 'BERT', 'device': device(type='mps'), 'loadable': 'distilbert-base-uncased', 'optimizer': <class 'torch.optim.adamw.AdamW'>, 'lr': 1e-05, 'weight_decay': 0, 'loss_fn': <class 'torch.nn.modules.loss.CrossEntropyLoss'>, 'num_epochs': 100}\n"
     ]
    },
    {
     "name": "stderr",
     "output_type": "stream",
     "text": [
      "                                                                                    \r"
     ]
    },
    {
     "name": "stdout",
     "output_type": "stream",
     "text": [
      "0.544774011299435\n",
      "not best... at 2025-06-15_00:57:41\n",
      "\n",
      "\n",
      "\n",
      "{'data_unit': 'Spf', 'PH2': False, 'PH3': True, 'reducer': 'pca', 'kernel': '', 'n': 5, 'label_col': 'class_numeric', 'class_list': 'alpha-classes', 'batch_size': 1024}\n",
      "{'arch': 'BERT', 'device': device(type='mps'), 'loadable': 'distilbert-base-uncased', 'optimizer': <class 'torch.optim.adamw.AdamW'>, 'lr': 1e-05, 'weight_decay': 0, 'loss_fn': <class 'torch.nn.modules.loss.CrossEntropyLoss'>, 'num_epochs': 100}\n"
     ]
    },
    {
     "name": "stderr",
     "output_type": "stream",
     "text": [
      "                                                                                    \r"
     ]
    },
    {
     "name": "stdout",
     "output_type": "stream",
     "text": [
      "0.5008474576271187\n",
      "not best... at 2025-06-15_01:13:21\n",
      "\n",
      "\n",
      "\n",
      "{'data_unit': 'Spf', 'PH2': False, 'PH3': True, 'reducer': 'umap', 'kernel': '', 'n': 5, 'label_col': 'class_numeric', 'class_list': 'alpha-classes', 'batch_size': 1024}\n",
      "{'arch': 'BERT', 'device': device(type='mps'), 'loadable': 'distilbert-base-uncased', 'optimizer': <class 'torch.optim.adamw.AdamW'>, 'lr': 1e-05, 'weight_decay': 0, 'loss_fn': <class 'torch.nn.modules.loss.CrossEntropyLoss'>, 'num_epochs': 100}\n"
     ]
    },
    {
     "name": "stderr",
     "output_type": "stream",
     "text": [
      "                                                                                    \r"
     ]
    },
    {
     "name": "stdout",
     "output_type": "stream",
     "text": [
      "0.5600282485875706\n",
      "not best... at 2025-06-15_01:28:59\n",
      "\n",
      "\n",
      "\n",
      "{'data_unit': 'Spf', 'PH2': False, 'PH3': True, 'reducer': 'pca', 'kernel': '', 'n': 7, 'label_col': 'class_numeric', 'class_list': 'alpha-classes', 'batch_size': 1024}\n",
      "{'arch': 'BERT', 'device': device(type='mps'), 'loadable': 'distilbert-base-uncased', 'optimizer': <class 'torch.optim.adamw.AdamW'>, 'lr': 1e-05, 'weight_decay': 0, 'loss_fn': <class 'torch.nn.modules.loss.CrossEntropyLoss'>, 'num_epochs': 100}\n"
     ]
    },
    {
     "name": "stderr",
     "output_type": "stream",
     "text": [
      "                                                                                    \r"
     ]
    },
    {
     "name": "stdout",
     "output_type": "stream",
     "text": [
      "0.6611581920903955\n",
      "not best... at 2025-06-15_01:44:40\n",
      "\n",
      "\n",
      "\n",
      "{'data_unit': 'Spf', 'PH2': False, 'PH3': True, 'reducer': 'umap', 'kernel': '', 'n': 7, 'label_col': 'class_numeric', 'class_list': 'alpha-classes', 'batch_size': 1024}\n",
      "{'arch': 'BERT', 'device': device(type='mps'), 'loadable': 'distilbert-base-uncased', 'optimizer': <class 'torch.optim.adamw.AdamW'>, 'lr': 1e-05, 'weight_decay': 0, 'loss_fn': <class 'torch.nn.modules.loss.CrossEntropyLoss'>, 'num_epochs': 100}\n"
     ]
    },
    {
     "name": "stderr",
     "output_type": "stream",
     "text": [
      "                                                                                    \r"
     ]
    },
    {
     "name": "stdout",
     "output_type": "stream",
     "text": [
      "0.544774011299435\n",
      "not best... at 2025-06-15_02:00:21\n",
      "\n",
      "\n",
      "\n",
      "{'data_unit': 'Spf', 'PH2': False, 'PH3': True, 'reducer': 'pca', 'kernel': '', 'n': 9, 'label_col': 'class_numeric', 'class_list': 'alpha-classes', 'batch_size': 1024}\n",
      "{'arch': 'BERT', 'device': device(type='mps'), 'loadable': 'distilbert-base-uncased', 'optimizer': <class 'torch.optim.adamw.AdamW'>, 'lr': 1e-05, 'weight_decay': 0, 'loss_fn': <class 'torch.nn.modules.loss.CrossEntropyLoss'>, 'num_epochs': 100}\n"
     ]
    },
    {
     "name": "stderr",
     "output_type": "stream",
     "text": [
      "                                                                                    \r"
     ]
    },
    {
     "name": "stdout",
     "output_type": "stream",
     "text": [
      "0.7946327683615819\n",
      "updating best... at 2025-06-15_02:15:27\n",
      "\n",
      "\n",
      "\n",
      "{'data_unit': 'Spf', 'PH2': False, 'PH3': True, 'reducer': 'umap', 'kernel': '', 'n': 9, 'label_col': 'class_numeric', 'class_list': 'alpha-classes', 'batch_size': 1024}\n",
      "{'arch': 'BERT', 'device': device(type='mps'), 'loadable': 'distilbert-base-uncased', 'optimizer': <class 'torch.optim.adamw.AdamW'>, 'lr': 1e-05, 'weight_decay': 0, 'loss_fn': <class 'torch.nn.modules.loss.CrossEntropyLoss'>, 'num_epochs': 100}\n"
     ]
    },
    {
     "name": "stderr",
     "output_type": "stream",
     "text": [
      "                                                                                    \r"
     ]
    },
    {
     "name": "stdout",
     "output_type": "stream",
     "text": [
      "0.5507062146892655\n",
      "not best... at 2025-06-15_02:30:22\n",
      "\n",
      "\n",
      "\n",
      "{'data_unit': 'Spf', 'PH2': False, 'PH3': True, 'reducer': 'pca', 'kernel': '', 'n': 11, 'label_col': 'class_numeric', 'class_list': 'alpha-classes', 'batch_size': 1024}\n",
      "{'arch': 'BERT', 'device': device(type='mps'), 'loadable': 'distilbert-base-uncased', 'optimizer': <class 'torch.optim.adamw.AdamW'>, 'lr': 1e-05, 'weight_decay': 0, 'loss_fn': <class 'torch.nn.modules.loss.CrossEntropyLoss'>, 'num_epochs': 100}\n"
     ]
    },
    {
     "name": "stderr",
     "output_type": "stream",
     "text": [
      "                                                                                    \r"
     ]
    },
    {
     "name": "stdout",
     "output_type": "stream",
     "text": [
      "0.8467514124293786\n",
      "updating best... at 2025-06-15_02:45:19\n",
      "\n",
      "\n",
      "\n",
      "{'data_unit': 'Spf', 'PH2': False, 'PH3': True, 'reducer': 'umap', 'kernel': '', 'n': 11, 'label_col': 'class_numeric', 'class_list': 'alpha-classes', 'batch_size': 1024}\n",
      "{'arch': 'BERT', 'device': device(type='mps'), 'loadable': 'distilbert-base-uncased', 'optimizer': <class 'torch.optim.adamw.AdamW'>, 'lr': 1e-05, 'weight_decay': 0, 'loss_fn': <class 'torch.nn.modules.loss.CrossEntropyLoss'>, 'num_epochs': 100}\n"
     ]
    },
    {
     "name": "stderr",
     "output_type": "stream",
     "text": [
      "                                                                                  \r"
     ]
    },
    {
     "name": "stdout",
     "output_type": "stream",
     "text": [
      "0.5620056497175141\n",
      "not best... at 2025-06-15_03:00:19\n",
      "\n",
      "\n",
      "\n",
      "{'data_unit': 'Spf', 'PH2': False, 'PH3': True, 'reducer': 'pca', 'kernel': '', 'n': 13, 'label_col': 'class_numeric', 'class_list': 'alpha-classes', 'batch_size': 1024}\n",
      "{'arch': 'BERT', 'device': device(type='mps'), 'loadable': 'distilbert-base-uncased', 'optimizer': <class 'torch.optim.adamw.AdamW'>, 'lr': 1e-05, 'weight_decay': 0, 'loss_fn': <class 'torch.nn.modules.loss.CrossEntropyLoss'>, 'num_epochs': 100}\n"
     ]
    },
    {
     "name": "stderr",
     "output_type": "stream",
     "text": [
      "                                                                                    \r"
     ]
    },
    {
     "name": "stdout",
     "output_type": "stream",
     "text": [
      "0.881638418079096\n",
      "updating best... at 2025-06-15_03:12:58\n",
      "\n",
      "\n",
      "\n",
      "{'data_unit': 'Spf', 'PH2': False, 'PH3': True, 'reducer': 'umap', 'kernel': '', 'n': 13, 'label_col': 'class_numeric', 'class_list': 'alpha-classes', 'batch_size': 1024}\n",
      "{'arch': 'BERT', 'device': device(type='mps'), 'loadable': 'distilbert-base-uncased', 'optimizer': <class 'torch.optim.adamw.AdamW'>, 'lr': 1e-05, 'weight_decay': 0, 'loss_fn': <class 'torch.nn.modules.loss.CrossEntropyLoss'>, 'num_epochs': 100}\n"
     ]
    },
    {
     "name": "stderr",
     "output_type": "stream",
     "text": [
      "                                                                                    \r"
     ]
    },
    {
     "name": "stdout",
     "output_type": "stream",
     "text": [
      "0.5549435028248587\n",
      "not best... at 2025-06-15_03:23:30\n",
      "\n",
      "\n",
      "\n",
      "{'data_unit': 'Spf', 'PH2': False, 'PH3': True, 'reducer': 'pca', 'kernel': '', 'n': 15, 'label_col': 'class_numeric', 'class_list': 'alpha-classes', 'batch_size': 1024}\n",
      "{'arch': 'BERT', 'device': device(type='mps'), 'loadable': 'distilbert-base-uncased', 'optimizer': <class 'torch.optim.adamw.AdamW'>, 'lr': 1e-05, 'weight_decay': 0, 'loss_fn': <class 'torch.nn.modules.loss.CrossEntropyLoss'>, 'num_epochs': 100}\n"
     ]
    },
    {
     "name": "stderr",
     "output_type": "stream",
     "text": [
      "                                                                                    \r"
     ]
    },
    {
     "name": "stdout",
     "output_type": "stream",
     "text": [
      "0.8899717514124293\n",
      "updating best... at 2025-06-15_03:34:03\n",
      "\n",
      "\n",
      "\n",
      "{'data_unit': 'Spf', 'PH2': False, 'PH3': True, 'reducer': 'umap', 'kernel': '', 'n': 15, 'label_col': 'class_numeric', 'class_list': 'alpha-classes', 'batch_size': 1024}\n",
      "{'arch': 'BERT', 'device': device(type='mps'), 'loadable': 'distilbert-base-uncased', 'optimizer': <class 'torch.optim.adamw.AdamW'>, 'lr': 1e-05, 'weight_decay': 0, 'loss_fn': <class 'torch.nn.modules.loss.CrossEntropyLoss'>, 'num_epochs': 100}\n"
     ]
    },
    {
     "name": "stderr",
     "output_type": "stream",
     "text": [
      "                                                                                    \r"
     ]
    },
    {
     "name": "stdout",
     "output_type": "stream",
     "text": [
      "0.5603107344632768\n",
      "not best... at 2025-06-15_03:44:47\n",
      "\n",
      "\n",
      "\n",
      "{'data_unit': 'Spf', 'PH2': False, 'PH3': False, 'reducer': '', 'kernel': '', 'n': 72, 'label_col': 'class_numeric', 'class_list': 'alpha-classes', 'batch_size': 1024}\n",
      "{'arch': 'BERT', 'device': device(type='mps'), 'loadable': 'distilbert-base-uncased', 'optimizer': <class 'torch.optim.adamw.AdamW'>, 'lr': 1e-05, 'weight_decay': 0, 'loss_fn': <class 'torch.nn.modules.loss.CrossEntropyLoss'>, 'num_epochs': 100}\n"
     ]
    },
    {
     "name": "stderr",
     "output_type": "stream",
     "text": [
      "                                                                                    \r"
     ]
    },
    {
     "name": "stdout",
     "output_type": "stream",
     "text": [
      "0.8669491525423729\n",
      "not best... at 2025-06-15_03:55:19\n",
      "\n",
      "\n",
      "\n",
      "Data Unit: Spf\n",
      "Best score: 0.8899717514124293\n",
      "Best data config: {'data_unit': 'Spf', 'PH2': False, 'PH3': True, 'reducer': 'pca', 'kernel': '', 'n': 15, 'label_col': 'class_numeric', 'class_list': 'alpha-classes', 'batch_size': 1024}\n",
      "Best train config: {'arch': 'BERT', 'device': device(type='mps'), 'loadable': 'distilbert-base-uncased', 'optimizer': <class 'torch.optim.adamw.AdamW'>, 'lr': 1e-05, 'weight_decay': 0, 'loss_fn': <class 'torch.nn.modules.loss.CrossEntropyLoss'>, 'num_epochs': 100}\n"
     ]
    }
   ],
   "source": [
    "bert.find_best(data_unit=sup.DATA_S_PF, label_col=sup.class_numeric_column, \n",
    "                    class_list=TRAIN_classes, batch_size=exploring_batch_size,\n",
    "                    LOADABLE_CANDIDATES=[exploringBERT], \n",
    "                    num_epochs_CANDIDATES=[exploring_num_epochs_spf])"
   ]
  },
  {
   "cell_type": "code",
   "execution_count": 7,
   "id": "f3148a43",
   "metadata": {},
   "outputs": [],
   "source": [
    "spf_bert_scores_df = pd.DataFrame(sup.bert_score_tracker, columns=sup.bert_scores_columns)\n",
    "now = datetime.now().strftime(\"%Y-%m-%d_%H:%M:%S\")\n",
    "sup.create_dir_if_not_exists(os.path.join(sup.TRAIN_SCORES_ROOT, TRAIN_classes, \n",
    "                                          sup.TRAIN_BERT_CODE,\n",
    "                                          sup.DATA_S_PF,\n",
    "                                          exploringBERT))\n",
    "spf_bert_scores_df.to_csv(os.path.join(sup.TRAIN_SCORES_ROOT, TRAIN_classes, \n",
    "                                       sup.TRAIN_BERT_CODE,\n",
    "                                       sup.DATA_S_PF,\n",
    "                                       exploringBERT, \n",
    "                                       f\"{now}.csv\"), index=False)"
   ]
  },
  {
   "cell_type": "markdown",
   "id": "78fbf302",
   "metadata": {},
   "source": [
    "### Spv"
   ]
  },
  {
   "cell_type": "code",
   "execution_count": 8,
   "id": "454b403b",
   "metadata": {},
   "outputs": [],
   "source": [
    "sup.bert_score_tracker = []\n"
   ]
  },
  {
   "cell_type": "code",
   "execution_count": null,
   "id": "c92362f9",
   "metadata": {},
   "outputs": [
    {
     "name": "stdout",
     "output_type": "stream",
     "text": [
      "{'data_unit': 'Spv', 'PH2': True, 'PH3': True, 'reducer': 'pca', 'kernel': '', 'n': 1, 'label_col': 'class_numeric', 'class_list': 'alpha-classes', 'batch_size': 1024}\n",
      "{'arch': 'BERT', 'device': device(type='mps'), 'loadable': 'distilbert-base-uncased', 'optimizer': <class 'torch.optim.adamw.AdamW'>, 'lr': 1e-05, 'weight_decay': 0, 'loss_fn': <class 'torch.nn.modules.loss.CrossEntropyLoss'>, 'num_epochs': 400}\n"
     ]
    },
    {
     "name": "stderr",
     "output_type": "stream",
     "text": [
      "                                                                                    \r"
     ]
    },
    {
     "name": "stdout",
     "output_type": "stream",
     "text": [
      "0.18983050847457628\n",
      "updating best... at 2025-06-15_04:34:24\n",
      "\n",
      "\n",
      "\n",
      "{'data_unit': 'Spv', 'PH2': True, 'PH3': True, 'reducer': 'umap', 'kernel': '', 'n': 1, 'label_col': 'class_numeric', 'class_list': 'alpha-classes', 'batch_size': 1024}\n",
      "{'arch': 'BERT', 'device': device(type='mps'), 'loadable': 'distilbert-base-uncased', 'optimizer': <class 'torch.optim.adamw.AdamW'>, 'lr': 1e-05, 'weight_decay': 0, 'loss_fn': <class 'torch.nn.modules.loss.CrossEntropyLoss'>, 'num_epochs': 400}\n"
     ]
    },
    {
     "name": "stderr",
     "output_type": "stream",
     "text": [
      "                                                                                    \r"
     ]
    },
    {
     "name": "stdout",
     "output_type": "stream",
     "text": [
      "0.18305084745762712\n",
      "not best... at 2025-06-15_05:13:26\n",
      "\n",
      "\n",
      "\n",
      "{'data_unit': 'Spv', 'PH2': True, 'PH3': True, 'reducer': 'pca', 'kernel': '', 'n': 3, 'label_col': 'class_numeric', 'class_list': 'alpha-classes', 'batch_size': 1024}\n",
      "{'arch': 'BERT', 'device': device(type='mps'), 'loadable': 'distilbert-base-uncased', 'optimizer': <class 'torch.optim.adamw.AdamW'>, 'lr': 1e-05, 'weight_decay': 0, 'loss_fn': <class 'torch.nn.modules.loss.CrossEntropyLoss'>, 'num_epochs': 400}\n"
     ]
    },
    {
     "name": "stderr",
     "output_type": "stream",
     "text": [
      "                                                                                    \r"
     ]
    },
    {
     "name": "stdout",
     "output_type": "stream",
     "text": [
      "0.5\n",
      "updating best... at 2025-06-15_05:52:31\n",
      "\n",
      "\n",
      "\n",
      "{'data_unit': 'Spv', 'PH2': True, 'PH3': True, 'reducer': 'umap', 'kernel': '', 'n': 3, 'label_col': 'class_numeric', 'class_list': 'alpha-classes', 'batch_size': 1024}\n",
      "{'arch': 'BERT', 'device': device(type='mps'), 'loadable': 'distilbert-base-uncased', 'optimizer': <class 'torch.optim.adamw.AdamW'>, 'lr': 1e-05, 'weight_decay': 0, 'loss_fn': <class 'torch.nn.modules.loss.CrossEntropyLoss'>, 'num_epochs': 400}\n"
     ]
    },
    {
     "name": "stderr",
     "output_type": "stream",
     "text": [
      "                                                                                    \r"
     ]
    },
    {
     "name": "stdout",
     "output_type": "stream",
     "text": [
      "0.4542372881355932\n",
      "not best... at 2025-06-15_06:31:33\n",
      "\n",
      "\n",
      "\n",
      "{'data_unit': 'Spv', 'PH2': True, 'PH3': True, 'reducer': 'pca', 'kernel': '', 'n': 5, 'label_col': 'class_numeric', 'class_list': 'alpha-classes', 'batch_size': 1024}\n",
      "{'arch': 'BERT', 'device': device(type='mps'), 'loadable': 'distilbert-base-uncased', 'optimizer': <class 'torch.optim.adamw.AdamW'>, 'lr': 1e-05, 'weight_decay': 0, 'loss_fn': <class 'torch.nn.modules.loss.CrossEntropyLoss'>, 'num_epochs': 400}\n"
     ]
    },
    {
     "name": "stderr",
     "output_type": "stream",
     "text": [
      "                                                                                    \r"
     ]
    },
    {
     "name": "stdout",
     "output_type": "stream",
     "text": [
      "0.5508474576271186\n",
      "updating best... at 2025-06-15_07:10:38\n",
      "\n",
      "\n",
      "\n",
      "{'data_unit': 'Spv', 'PH2': True, 'PH3': True, 'reducer': 'umap', 'kernel': '', 'n': 5, 'label_col': 'class_numeric', 'class_list': 'alpha-classes', 'batch_size': 1024}\n",
      "{'arch': 'BERT', 'device': device(type='mps'), 'loadable': 'distilbert-base-uncased', 'optimizer': <class 'torch.optim.adamw.AdamW'>, 'lr': 1e-05, 'weight_decay': 0, 'loss_fn': <class 'torch.nn.modules.loss.CrossEntropyLoss'>, 'num_epochs': 400}\n"
     ]
    },
    {
     "name": "stderr",
     "output_type": "stream",
     "text": [
      "                                                                                    \r"
     ]
    },
    {
     "name": "stdout",
     "output_type": "stream",
     "text": [
      "0.45254237288135596\n",
      "not best... at 2025-06-15_07:49:47\n",
      "\n",
      "\n",
      "\n",
      "{'data_unit': 'Spv', 'PH2': True, 'PH3': True, 'reducer': 'pca', 'kernel': '', 'n': 7, 'label_col': 'class_numeric', 'class_list': 'alpha-classes', 'batch_size': 1024}\n",
      "{'arch': 'BERT', 'device': device(type='mps'), 'loadable': 'distilbert-base-uncased', 'optimizer': <class 'torch.optim.adamw.AdamW'>, 'lr': 1e-05, 'weight_decay': 0, 'loss_fn': <class 'torch.nn.modules.loss.CrossEntropyLoss'>, 'num_epochs': 400}\n"
     ]
    },
    {
     "name": "stderr",
     "output_type": "stream",
     "text": [
      "                                                                                    \r"
     ]
    },
    {
     "name": "stdout",
     "output_type": "stream",
     "text": [
      "0.6186440677966102\n",
      "updating best... at 2025-06-15_08:28:49\n",
      "\n",
      "\n",
      "\n",
      "{'data_unit': 'Spv', 'PH2': True, 'PH3': True, 'reducer': 'umap', 'kernel': '', 'n': 7, 'label_col': 'class_numeric', 'class_list': 'alpha-classes', 'batch_size': 1024}\n",
      "{'arch': 'BERT', 'device': device(type='mps'), 'loadable': 'distilbert-base-uncased', 'optimizer': <class 'torch.optim.adamw.AdamW'>, 'lr': 1e-05, 'weight_decay': 0, 'loss_fn': <class 'torch.nn.modules.loss.CrossEntropyLoss'>, 'num_epochs': 400}\n"
     ]
    },
    {
     "name": "stderr",
     "output_type": "stream",
     "text": [
      "                                                                                    \r"
     ]
    },
    {
     "name": "stdout",
     "output_type": "stream",
     "text": [
      "0.42203389830508475\n",
      "not best... at 2025-06-15_09:07:55\n",
      "\n",
      "\n",
      "\n",
      "{'data_unit': 'Spv', 'PH2': True, 'PH3': True, 'reducer': 'pca', 'kernel': '', 'n': 9, 'label_col': 'class_numeric', 'class_list': 'alpha-classes', 'batch_size': 1024}\n",
      "{'arch': 'BERT', 'device': device(type='mps'), 'loadable': 'distilbert-base-uncased', 'optimizer': <class 'torch.optim.adamw.AdamW'>, 'lr': 1e-05, 'weight_decay': 0, 'loss_fn': <class 'torch.nn.modules.loss.CrossEntropyLoss'>, 'num_epochs': 400}\n"
     ]
    },
    {
     "name": "stderr",
     "output_type": "stream",
     "text": [
      "                                                                                    \r"
     ]
    },
    {
     "name": "stdout",
     "output_type": "stream",
     "text": [
      "0.6084745762711864\n",
      "not best... at 2025-06-15_09:47:03\n",
      "\n",
      "\n",
      "\n",
      "{'data_unit': 'Spv', 'PH2': True, 'PH3': True, 'reducer': 'umap', 'kernel': '', 'n': 9, 'label_col': 'class_numeric', 'class_list': 'alpha-classes', 'batch_size': 1024}\n",
      "{'arch': 'BERT', 'device': device(type='mps'), 'loadable': 'distilbert-base-uncased', 'optimizer': <class 'torch.optim.adamw.AdamW'>, 'lr': 1e-05, 'weight_decay': 0, 'loss_fn': <class 'torch.nn.modules.loss.CrossEntropyLoss'>, 'num_epochs': 400}\n"
     ]
    },
    {
     "name": "stderr",
     "output_type": "stream",
     "text": [
      "                                                                                    \r"
     ]
    },
    {
     "name": "stdout",
     "output_type": "stream",
     "text": [
      "0.4610169491525424\n",
      "not best... at 2025-06-15_10:26:08\n",
      "\n",
      "\n",
      "\n",
      "{'data_unit': 'Spv', 'PH2': True, 'PH3': True, 'reducer': 'pca', 'kernel': '', 'n': 11, 'label_col': 'class_numeric', 'class_list': 'alpha-classes', 'batch_size': 1024}\n",
      "{'arch': 'BERT', 'device': device(type='mps'), 'loadable': 'distilbert-base-uncased', 'optimizer': <class 'torch.optim.adamw.AdamW'>, 'lr': 1e-05, 'weight_decay': 0, 'loss_fn': <class 'torch.nn.modules.loss.CrossEntropyLoss'>, 'num_epochs': 400}\n"
     ]
    },
    {
     "name": "stderr",
     "output_type": "stream",
     "text": [
      "                                                                                    \r"
     ]
    },
    {
     "name": "stdout",
     "output_type": "stream",
     "text": [
      "0.6152542372881356\n",
      "not best... at 2025-06-15_11:05:22\n",
      "\n",
      "\n",
      "\n",
      "{'data_unit': 'Spv', 'PH2': True, 'PH3': True, 'reducer': 'umap', 'kernel': '', 'n': 11, 'label_col': 'class_numeric', 'class_list': 'alpha-classes', 'batch_size': 1024}\n",
      "{'arch': 'BERT', 'device': device(type='mps'), 'loadable': 'distilbert-base-uncased', 'optimizer': <class 'torch.optim.adamw.AdamW'>, 'lr': 1e-05, 'weight_decay': 0, 'loss_fn': <class 'torch.nn.modules.loss.CrossEntropyLoss'>, 'num_epochs': 400}\n"
     ]
    },
    {
     "name": "stderr",
     "output_type": "stream",
     "text": [
      "Training:  21%|██        | 83/400 [08:10<31:08,  5.90s/epoch, epoch=83, loss=6.62]"
     ]
    }
   ],
   "source": [
    "bert.find_best(data_unit=sup.DATA_S_PV, label_col=sup.class_numeric_column, \n",
    "                    class_list=TRAIN_classes, batch_size=exploring_batch_size,\n",
    "                    LOADABLE_CANDIDATES=[exploringBERT], \n",
    "                    num_epochs_CANDIDATES=[exploring_num_epochs_spv])"
   ]
  },
  {
   "cell_type": "code",
   "execution_count": null,
   "id": "971b697a",
   "metadata": {},
   "outputs": [],
   "source": [
    "spv_bert_scores_df = pd.DataFrame(sup.bert_score_tracker, columns=sup.bert_scores_columns)\n",
    "now = datetime.now().strftime(\"%Y-%m-%d_%H:%M:%S\")\n",
    "sup.create_dir_if_not_exists(os.path.join(sup.TRAIN_SCORES_ROOT, TRAIN_classes, \n",
    "                                          sup.TRAIN_BERT_CODE,\n",
    "                                          sup.DATA_S_PV,\n",
    "                                          exploringBERT))\n",
    "spv_bert_scores_df.to_csv(os.path.join(sup.TRAIN_SCORES_ROOT, TRAIN_classes, \n",
    "                                       sup.TRAIN_BERT_CODE,\n",
    "                                       sup.DATA_S_PV,\n",
    "                                       exploringBERT, \n",
    "                                       f\"{now}.csv\"), index=False)"
   ]
  }
 ],
 "metadata": {
  "kernelspec": {
   "display_name": "TOG_BERT_v2",
   "language": "python",
   "name": "python3"
  },
  "language_info": {
   "codemirror_mode": {
    "name": "ipython",
    "version": 3
   },
   "file_extension": ".py",
   "mimetype": "text/x-python",
   "name": "python",
   "nbconvert_exporter": "python",
   "pygments_lexer": "ipython3",
   "version": "3.10.18"
  }
 },
 "nbformat": 4,
 "nbformat_minor": 5
}
