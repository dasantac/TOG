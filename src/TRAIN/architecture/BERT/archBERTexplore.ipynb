{
 "cells": [
  {
   "cell_type": "markdown",
   "id": "49d5119d",
   "metadata": {},
   "source": [
    "# Context\n",
    "This notebook drives the training process for different models."
   ]
  },
  {
   "cell_type": "code",
   "execution_count": 1,
   "id": "437324c6",
   "metadata": {},
   "outputs": [],
   "source": [
    "# Set project's environment variables\n",
    "import os\n",
    "import sys\n",
    "from dotenv import load_dotenv\n",
    "load_dotenv(dotenv_path=\"../../../project.env\")\n",
    "sys.path.append(os.environ[\"PYTHONPATH\"])"
   ]
  },
  {
   "cell_type": "code",
   "execution_count": 2,
   "id": "cf9da1c2",
   "metadata": {},
   "outputs": [],
   "source": [
    "# Import project-wide and PH2 specific variables and functions\n",
    "import superheader as sup\n",
    "import TRAIN.architecture.BERT.bert as bert"
   ]
  },
  {
   "cell_type": "markdown",
   "id": "1109f09f",
   "metadata": {},
   "source": [
    "# Models"
   ]
  },
  {
   "cell_type": "markdown",
   "id": "4773797f",
   "metadata": {},
   "source": [
    "## Setup"
   ]
  },
  {
   "cell_type": "code",
   "execution_count": 3,
   "id": "04aaf65a",
   "metadata": {},
   "outputs": [],
   "source": [
    "import torch\n",
    "import gc"
   ]
  },
  {
   "cell_type": "code",
   "execution_count": 4,
   "id": "f370de4b",
   "metadata": {},
   "outputs": [],
   "source": [
    "TRAIN_classes = 'all-classes'\n",
    "exploring_base_num_epochs = 16\n",
    "exploring_batch_size = 1024"
   ]
  },
  {
   "cell_type": "markdown",
   "id": "de39f8d5",
   "metadata": {},
   "source": [
    "## Train"
   ]
  },
  {
   "cell_type": "code",
   "execution_count": 5,
   "id": "f8ac260c",
   "metadata": {},
   "outputs": [],
   "source": [
    "sup.bert_score_tracker = []"
   ]
  },
  {
   "cell_type": "code",
   "execution_count": null,
   "id": "7710fdf8",
   "metadata": {},
   "outputs": [
    {
     "name": "stdout",
     "output_type": "stream",
     "text": [
      "{'data_unit': 'Spf', 'label_col': 'class_numeric', 'class_list': 'all-classes', 'num_classes': None, 'difficulty': None, 'class_numeric_list': None, 'batch_size': 1024, 'PH2': True, 'PH3': True, 'reducer': 'pca', 'kernel': '', 'n': 15}\n",
      "{'arch': 'BERT', 'device': device(type='mps'), 'loadable': 'gaunernst/bert-tiny-uncased', 'optimizer': <class 'torch.optim.adamw.AdamW'>, 'lr': 1e-05, 'weight_decay': 0, 'loss_fn': <class 'torch.nn.modules.loss.CrossEntropyLoss'>, 'num_epochs': 1440}\n"
     ]
    },
    {
     "name": "stderr",
     "output_type": "stream",
     "text": [
      "                                                                                       \r"
     ]
    },
    {
     "name": "stdout",
     "output_type": "stream",
     "text": [
      "0.7027662074121542\n",
      "updating best... at 2025-06-16_17:22:38\n",
      "\n",
      "\n",
      "\n",
      "{'data_unit': 'Spf', 'label_col': 'class_numeric', 'class_list': 'all-classes', 'num_classes': None, 'difficulty': None, 'class_numeric_list': None, 'batch_size': 1024, 'PH2': True, 'PH3': True, 'reducer': 'pca', 'kernel': '', 'n': 15}\n",
      "{'arch': 'BERT', 'device': device(type='mps'), 'loadable': 'gaunernst/bert-mini-uncased', 'optimizer': <class 'torch.optim.adamw.AdamW'>, 'lr': 1e-05, 'weight_decay': 0, 'loss_fn': <class 'torch.nn.modules.loss.CrossEntropyLoss'>, 'num_epochs': 576}\n"
     ]
    },
    {
     "name": "stderr",
     "output_type": "stream",
     "text": [
      "                                                                                    \r"
     ]
    },
    {
     "name": "stdout",
     "output_type": "stream",
     "text": [
      "0.7480508384064937\n",
      "updating best... at 2025-06-16_17:39:39\n",
      "\n",
      "\n",
      "\n",
      "{'data_unit': 'Spf', 'label_col': 'class_numeric', 'class_list': 'all-classes', 'num_classes': None, 'difficulty': None, 'class_numeric_list': None, 'batch_size': 1024, 'PH2': True, 'PH3': True, 'reducer': 'pca', 'kernel': '', 'n': 15}\n",
      "{'arch': 'BERT', 'device': device(type='mps'), 'loadable': 'gaunernst/bert-small-uncased', 'optimizer': <class 'torch.optim.adamw.AdamW'>, 'lr': 1e-05, 'weight_decay': 0, 'loss_fn': <class 'torch.nn.modules.loss.CrossEntropyLoss'>, 'num_epochs': 192}\n"
     ]
    },
    {
     "name": "stderr",
     "output_type": "stream",
     "text": [
      "                                                                                    \r"
     ]
    },
    {
     "name": "stdout",
     "output_type": "stream",
     "text": [
      "0.6727544590409057\n",
      "not best... at 2025-06-16_17:50:20\n",
      "\n",
      "\n",
      "\n",
      "{'data_unit': 'Spf', 'label_col': 'class_numeric', 'class_list': 'all-classes', 'num_classes': None, 'difficulty': None, 'class_numeric_list': None, 'batch_size': 1024, 'PH2': True, 'PH3': True, 'reducer': 'pca', 'kernel': '', 'n': 15}\n",
      "{'arch': 'BERT', 'device': device(type='mps'), 'loadable': 'gaunernst/bert-medium-uncased', 'optimizer': <class 'torch.optim.adamw.AdamW'>, 'lr': 1e-05, 'weight_decay': 0, 'loss_fn': <class 'torch.nn.modules.loss.CrossEntropyLoss'>, 'num_epochs': 144}\n"
     ]
    },
    {
     "name": "stderr",
     "output_type": "stream",
     "text": [
      "                                                                                    \r"
     ]
    },
    {
     "name": "stdout",
     "output_type": "stream",
     "text": [
      "0.6632489586670939\n",
      "not best... at 2025-06-16_18:05:02\n",
      "\n",
      "\n",
      "\n",
      "{'data_unit': 'Spf', 'label_col': 'class_numeric', 'class_list': 'all-classes', 'num_classes': None, 'difficulty': None, 'class_numeric_list': None, 'batch_size': 1024, 'PH2': True, 'PH3': True, 'reducer': 'pca', 'kernel': '', 'n': 15}\n",
      "{'arch': 'BERT', 'device': device(type='mps'), 'loadable': 'distilbert-base-uncased', 'optimizer': <class 'torch.optim.adamw.AdamW'>, 'lr': 1e-05, 'weight_decay': 0, 'loss_fn': <class 'torch.nn.modules.loss.CrossEntropyLoss'>, 'num_epochs': 96}\n"
     ]
    },
    {
     "name": "stderr",
     "output_type": "stream",
     "text": [
      "                                                                                 \r"
     ]
    },
    {
     "name": "stdout",
     "output_type": "stream",
     "text": [
      "0.6720068354159991\n",
      "not best... at 2025-06-16_18:28:45\n",
      "\n",
      "\n",
      "\n",
      "{'data_unit': 'Spf', 'label_col': 'class_numeric', 'class_list': 'all-classes', 'num_classes': None, 'difficulty': None, 'class_numeric_list': None, 'batch_size': 1024, 'PH2': True, 'PH3': False, 'reducer': '', 'kernel': '', 'n': 75}\n",
      "{'arch': 'BERT', 'device': device(type='mps'), 'loadable': 'gaunernst/bert-tiny-uncased', 'optimizer': <class 'torch.optim.adamw.AdamW'>, 'lr': 1e-05, 'weight_decay': 0, 'loss_fn': <class 'torch.nn.modules.loss.CrossEntropyLoss'>, 'num_epochs': 1440}\n"
     ]
    },
    {
     "name": "stderr",
     "output_type": "stream",
     "text": [
      "                                                                                       \r"
     ]
    },
    {
     "name": "stdout",
     "output_type": "stream",
     "text": [
      "0.7510413329061199\n",
      "updating best... at 2025-06-16_19:05:31\n",
      "\n",
      "\n",
      "\n",
      "{'data_unit': 'Spf', 'label_col': 'class_numeric', 'class_list': 'all-classes', 'num_classes': None, 'difficulty': None, 'class_numeric_list': None, 'batch_size': 1024, 'PH2': True, 'PH3': False, 'reducer': '', 'kernel': '', 'n': 75}\n",
      "{'arch': 'BERT', 'device': device(type='mps'), 'loadable': 'gaunernst/bert-mini-uncased', 'optimizer': <class 'torch.optim.adamw.AdamW'>, 'lr': 1e-05, 'weight_decay': 0, 'loss_fn': <class 'torch.nn.modules.loss.CrossEntropyLoss'>, 'num_epochs': 576}\n"
     ]
    },
    {
     "name": "stderr",
     "output_type": "stream",
     "text": [
      "                                                                                    \r"
     ]
    },
    {
     "name": "stdout",
     "output_type": "stream",
     "text": [
      "0.7429242764071344\n",
      "not best... at 2025-06-16_19:28:49\n",
      "\n",
      "\n",
      "\n",
      "{'data_unit': 'Spf', 'label_col': 'class_numeric', 'class_list': 'all-classes', 'num_classes': None, 'difficulty': None, 'class_numeric_list': None, 'batch_size': 1024, 'PH2': True, 'PH3': False, 'reducer': '', 'kernel': '', 'n': 75}\n",
      "{'arch': 'BERT', 'device': device(type='mps'), 'loadable': 'gaunernst/bert-small-uncased', 'optimizer': <class 'torch.optim.adamw.AdamW'>, 'lr': 1e-05, 'weight_decay': 0, 'loss_fn': <class 'torch.nn.modules.loss.CrossEntropyLoss'>, 'num_epochs': 192}\n"
     ]
    },
    {
     "name": "stderr",
     "output_type": "stream",
     "text": [
      "                                                                                    \r"
     ]
    },
    {
     "name": "stdout",
     "output_type": "stream",
     "text": [
      "0.6368685250453915\n",
      "not best... at 2025-06-16_19:40:27\n",
      "\n",
      "\n",
      "\n",
      "{'data_unit': 'Spf', 'label_col': 'class_numeric', 'class_list': 'all-classes', 'num_classes': None, 'difficulty': None, 'class_numeric_list': None, 'batch_size': 1024, 'PH2': True, 'PH3': False, 'reducer': '', 'kernel': '', 'n': 75}\n",
      "{'arch': 'BERT', 'device': device(type='mps'), 'loadable': 'gaunernst/bert-medium-uncased', 'optimizer': <class 'torch.optim.adamw.AdamW'>, 'lr': 1e-05, 'weight_decay': 0, 'loss_fn': <class 'torch.nn.modules.loss.CrossEntropyLoss'>, 'num_epochs': 144}\n"
     ]
    },
    {
     "name": "stderr",
     "output_type": "stream",
     "text": [
      "                                                                                    \r"
     ]
    },
    {
     "name": "stdout",
     "output_type": "stream",
     "text": [
      "0.5646694435544163\n",
      "not best... at 2025-06-16_19:56:26\n",
      "\n",
      "\n",
      "\n",
      "{'data_unit': 'Spf', 'label_col': 'class_numeric', 'class_list': 'all-classes', 'num_classes': None, 'difficulty': None, 'class_numeric_list': None, 'batch_size': 1024, 'PH2': True, 'PH3': False, 'reducer': '', 'kernel': '', 'n': 75}\n",
      "{'arch': 'BERT', 'device': device(type='mps'), 'loadable': 'distilbert-base-uncased', 'optimizer': <class 'torch.optim.adamw.AdamW'>, 'lr': 1e-05, 'weight_decay': 0, 'loss_fn': <class 'torch.nn.modules.loss.CrossEntropyLoss'>, 'num_epochs': 96}\n"
     ]
    },
    {
     "name": "stderr",
     "output_type": "stream",
     "text": [
      "                                                                                 \r"
     ]
    },
    {
     "name": "stdout",
     "output_type": "stream",
     "text": [
      "0.6343052440457119\n",
      "not best... at 2025-06-16_20:23:12\n",
      "\n",
      "\n",
      "\n",
      "{'data_unit': 'Spf', 'label_col': 'class_numeric', 'class_list': 'all-classes', 'num_classes': None, 'difficulty': None, 'class_numeric_list': None, 'batch_size': 1024, 'PH2': False, 'PH3': True, 'reducer': 'pca', 'kernel': '', 'n': 15}\n",
      "{'arch': 'BERT', 'device': device(type='mps'), 'loadable': 'gaunernst/bert-tiny-uncased', 'optimizer': <class 'torch.optim.adamw.AdamW'>, 'lr': 1e-05, 'weight_decay': 0, 'loss_fn': <class 'torch.nn.modules.loss.CrossEntropyLoss'>, 'num_epochs': 1440}\n"
     ]
    },
    {
     "name": "stderr",
     "output_type": "stream",
     "text": [
      "                                                                                       \r"
     ]
    },
    {
     "name": "stdout",
     "output_type": "stream",
     "text": [
      "0.8906333440136708\n",
      "updating best... at 2025-06-16_20:52:36\n",
      "\n",
      "\n",
      "\n",
      "{'data_unit': 'Spf', 'label_col': 'class_numeric', 'class_list': 'all-classes', 'num_classes': None, 'difficulty': None, 'class_numeric_list': None, 'batch_size': 1024, 'PH2': False, 'PH3': True, 'reducer': 'pca', 'kernel': '', 'n': 15}\n",
      "{'arch': 'BERT', 'device': device(type='mps'), 'loadable': 'gaunernst/bert-mini-uncased', 'optimizer': <class 'torch.optim.adamw.AdamW'>, 'lr': 1e-05, 'weight_decay': 0, 'loss_fn': <class 'torch.nn.modules.loss.CrossEntropyLoss'>, 'num_epochs': 576}\n"
     ]
    },
    {
     "name": "stderr",
     "output_type": "stream",
     "text": [
      "                                                                                    \r"
     ]
    },
    {
     "name": "stdout",
     "output_type": "stream",
     "text": [
      "0.9108191818861476\n",
      "updating best... at 2025-06-16_21:14:05\n",
      "\n",
      "\n",
      "\n",
      "{'data_unit': 'Spf', 'label_col': 'class_numeric', 'class_list': 'all-classes', 'num_classes': None, 'difficulty': None, 'class_numeric_list': None, 'batch_size': 1024, 'PH2': False, 'PH3': True, 'reducer': 'pca', 'kernel': '', 'n': 15}\n",
      "{'arch': 'BERT', 'device': device(type='mps'), 'loadable': 'gaunernst/bert-small-uncased', 'optimizer': <class 'torch.optim.adamw.AdamW'>, 'lr': 1e-05, 'weight_decay': 0, 'loss_fn': <class 'torch.nn.modules.loss.CrossEntropyLoss'>, 'num_epochs': 192}\n"
     ]
    },
    {
     "name": "stderr",
     "output_type": "stream",
     "text": [
      "                                                                                    \r"
     ]
    },
    {
     "name": "stdout",
     "output_type": "stream",
     "text": [
      "0.8958667093880167\n",
      "not best... at 2025-06-16_21:26:20\n",
      "\n",
      "\n",
      "\n",
      "{'data_unit': 'Spf', 'label_col': 'class_numeric', 'class_list': 'all-classes', 'num_classes': None, 'difficulty': None, 'class_numeric_list': None, 'batch_size': 1024, 'PH2': False, 'PH3': True, 'reducer': 'pca', 'kernel': '', 'n': 15}\n",
      "{'arch': 'BERT', 'device': device(type='mps'), 'loadable': 'gaunernst/bert-medium-uncased', 'optimizer': <class 'torch.optim.adamw.AdamW'>, 'lr': 1e-05, 'weight_decay': 0, 'loss_fn': <class 'torch.nn.modules.loss.CrossEntropyLoss'>, 'num_epochs': 144}\n"
     ]
    },
    {
     "name": "stderr",
     "output_type": "stream",
     "text": [
      "                                                                                    \r"
     ]
    },
    {
     "name": "stdout",
     "output_type": "stream",
     "text": [
      "0.8884972765139378\n",
      "not best... at 2025-06-16_21:41:12\n",
      "\n",
      "\n",
      "\n",
      "{'data_unit': 'Spf', 'label_col': 'class_numeric', 'class_list': 'all-classes', 'num_classes': None, 'difficulty': None, 'class_numeric_list': None, 'batch_size': 1024, 'PH2': False, 'PH3': True, 'reducer': 'pca', 'kernel': '', 'n': 15}\n",
      "{'arch': 'BERT', 'device': device(type='mps'), 'loadable': 'distilbert-base-uncased', 'optimizer': <class 'torch.optim.adamw.AdamW'>, 'lr': 1e-05, 'weight_decay': 0, 'loss_fn': <class 'torch.nn.modules.loss.CrossEntropyLoss'>, 'num_epochs': 96}\n"
     ]
    },
    {
     "name": "stderr",
     "output_type": "stream",
     "text": [
      "                                                                                 \r"
     ]
    },
    {
     "name": "stdout",
     "output_type": "stream",
     "text": [
      "0.8930898216383638\n",
      "not best... at 2025-06-16_21:56:41\n",
      "\n",
      "\n",
      "\n",
      "{'data_unit': 'Spf', 'label_col': 'class_numeric', 'class_list': 'all-classes', 'num_classes': None, 'difficulty': None, 'class_numeric_list': None, 'batch_size': 1024, 'PH2': False, 'PH3': False, 'reducer': '', 'kernel': '', 'n': 72}\n",
      "{'arch': 'BERT', 'device': device(type='mps'), 'loadable': 'gaunernst/bert-tiny-uncased', 'optimizer': <class 'torch.optim.adamw.AdamW'>, 'lr': 1e-05, 'weight_decay': 0, 'loss_fn': <class 'torch.nn.modules.loss.CrossEntropyLoss'>, 'num_epochs': 1440}\n"
     ]
    },
    {
     "name": "stderr",
     "output_type": "stream",
     "text": [
      "                                                                                       \r"
     ]
    },
    {
     "name": "stdout",
     "output_type": "stream",
     "text": [
      "0.8999252376375093\n",
      "not best... at 2025-06-16_22:14:38\n",
      "\n",
      "\n",
      "\n",
      "{'data_unit': 'Spf', 'label_col': 'class_numeric', 'class_list': 'all-classes', 'num_classes': None, 'difficulty': None, 'class_numeric_list': None, 'batch_size': 1024, 'PH2': False, 'PH3': False, 'reducer': '', 'kernel': '', 'n': 72}\n",
      "{'arch': 'BERT', 'device': device(type='mps'), 'loadable': 'gaunernst/bert-mini-uncased', 'optimizer': <class 'torch.optim.adamw.AdamW'>, 'lr': 1e-05, 'weight_decay': 0, 'loss_fn': <class 'torch.nn.modules.loss.CrossEntropyLoss'>, 'num_epochs': 576}\n"
     ]
    },
    {
     "name": "stderr",
     "output_type": "stream",
     "text": [
      "                                                                                    \r"
     ]
    },
    {
     "name": "stdout",
     "output_type": "stream",
     "text": [
      "0.9057994232617751\n",
      "not best... at 2025-06-16_22:25:56\n",
      "\n",
      "\n",
      "\n",
      "{'data_unit': 'Spf', 'label_col': 'class_numeric', 'class_list': 'all-classes', 'num_classes': None, 'difficulty': None, 'class_numeric_list': None, 'batch_size': 1024, 'PH2': False, 'PH3': False, 'reducer': '', 'kernel': '', 'n': 72}\n",
      "{'arch': 'BERT', 'device': device(type='mps'), 'loadable': 'gaunernst/bert-small-uncased', 'optimizer': <class 'torch.optim.adamw.AdamW'>, 'lr': 1e-05, 'weight_decay': 0, 'loss_fn': <class 'torch.nn.modules.loss.CrossEntropyLoss'>, 'num_epochs': 192}\n"
     ]
    },
    {
     "name": "stderr",
     "output_type": "stream",
     "text": [
      "                                                                                    \r"
     ]
    },
    {
     "name": "stdout",
     "output_type": "stream",
     "text": [
      "0.883584321264552\n",
      "not best... at 2025-06-16_22:31:44\n",
      "\n",
      "\n",
      "\n",
      "{'data_unit': 'Spf', 'label_col': 'class_numeric', 'class_list': 'all-classes', 'num_classes': None, 'difficulty': None, 'class_numeric_list': None, 'batch_size': 1024, 'PH2': False, 'PH3': False, 'reducer': '', 'kernel': '', 'n': 72}\n",
      "{'arch': 'BERT', 'device': device(type='mps'), 'loadable': 'gaunernst/bert-medium-uncased', 'optimizer': <class 'torch.optim.adamw.AdamW'>, 'lr': 1e-05, 'weight_decay': 0, 'loss_fn': <class 'torch.nn.modules.loss.CrossEntropyLoss'>, 'num_epochs': 144}\n"
     ]
    },
    {
     "name": "stderr",
     "output_type": "stream",
     "text": [
      "                                                                                    \r"
     ]
    },
    {
     "name": "stdout",
     "output_type": "stream",
     "text": [
      "0.8605147922674357\n",
      "not best... at 2025-06-16_22:39:45\n",
      "\n",
      "\n",
      "\n",
      "{'data_unit': 'Spf', 'label_col': 'class_numeric', 'class_list': 'all-classes', 'num_classes': None, 'difficulty': None, 'class_numeric_list': None, 'batch_size': 1024, 'PH2': False, 'PH3': False, 'reducer': '', 'kernel': '', 'n': 72}\n",
      "{'arch': 'BERT', 'device': device(type='mps'), 'loadable': 'distilbert-base-uncased', 'optimizer': <class 'torch.optim.adamw.AdamW'>, 'lr': 1e-05, 'weight_decay': 0, 'loss_fn': <class 'torch.nn.modules.loss.CrossEntropyLoss'>, 'num_epochs': 96}\n"
     ]
    },
    {
     "name": "stderr",
     "output_type": "stream",
     "text": [
      "                                                                                 \r"
     ]
    },
    {
     "name": "stdout",
     "output_type": "stream",
     "text": [
      "0.8749332478906333\n",
      "not best... at 2025-06-16_22:54:43\n",
      "\n",
      "\n",
      "\n",
      "Data Unit: Spf\n",
      "Best score: 0.9108191818861476\n",
      "Best data config: {'data_unit': 'Spf', 'label_col': 'class_numeric', 'class_list': 'all-classes', 'num_classes': None, 'difficulty': None, 'class_numeric_list': None, 'batch_size': 1024, 'PH2': False, 'PH3': True, 'reducer': 'pca', 'kernel': '', 'n': 15}\n",
      "Best train config: {'arch': 'BERT', 'device': device(type='mps'), 'loadable': 'gaunernst/bert-mini-uncased', 'optimizer': <class 'torch.optim.adamw.AdamW'>, 'lr': 1e-05, 'weight_decay': 0, 'loss_fn': <class 'torch.nn.modules.loss.CrossEntropyLoss'>, 'num_epochs': 576}\n",
      "{'data_unit': 'Spv', 'label_col': 'class_numeric', 'class_list': 'all-classes', 'num_classes': None, 'difficulty': None, 'class_numeric_list': None, 'batch_size': 1024, 'PH2': True, 'PH3': True, 'reducer': 'pca', 'kernel': '', 'n': 15}\n",
      "{'arch': 'BERT', 'device': device(type='mps'), 'loadable': 'gaunernst/bert-tiny-uncased', 'optimizer': <class 'torch.optim.adamw.AdamW'>, 'lr': 1e-05, 'weight_decay': 0, 'loss_fn': <class 'torch.nn.modules.loss.CrossEntropyLoss'>, 'num_epochs': 5760}\n"
     ]
    },
    {
     "name": "stderr",
     "output_type": "stream",
     "text": [
      "                                                                                       \r"
     ]
    },
    {
     "name": "stdout",
     "output_type": "stream",
     "text": [
      "0.4788732394366197\n",
      "updating best... at 2025-06-16_23:08:44\n",
      "\n",
      "\n",
      "\n",
      "{'data_unit': 'Spv', 'label_col': 'class_numeric', 'class_list': 'all-classes', 'num_classes': None, 'difficulty': None, 'class_numeric_list': None, 'batch_size': 1024, 'PH2': True, 'PH3': True, 'reducer': 'pca', 'kernel': '', 'n': 15}\n",
      "{'arch': 'BERT', 'device': device(type='mps'), 'loadable': 'gaunernst/bert-mini-uncased', 'optimizer': <class 'torch.optim.adamw.AdamW'>, 'lr': 1e-05, 'weight_decay': 0, 'loss_fn': <class 'torch.nn.modules.loss.CrossEntropyLoss'>, 'num_epochs': 2304}\n"
     ]
    },
    {
     "name": "stderr",
     "output_type": "stream",
     "text": [
      "                                                                                       \r"
     ]
    },
    {
     "name": "stdout",
     "output_type": "stream",
     "text": [
      "0.5096030729833547\n",
      "updating best... at 2025-06-16_23:30:55\n",
      "\n",
      "\n",
      "\n",
      "{'data_unit': 'Spv', 'label_col': 'class_numeric', 'class_list': 'all-classes', 'num_classes': None, 'difficulty': None, 'class_numeric_list': None, 'batch_size': 1024, 'PH2': True, 'PH3': True, 'reducer': 'pca', 'kernel': '', 'n': 15}\n",
      "{'arch': 'BERT', 'device': device(type='mps'), 'loadable': 'gaunernst/bert-small-uncased', 'optimizer': <class 'torch.optim.adamw.AdamW'>, 'lr': 1e-05, 'weight_decay': 0, 'loss_fn': <class 'torch.nn.modules.loss.CrossEntropyLoss'>, 'num_epochs': 768}\n"
     ]
    },
    {
     "name": "stderr",
     "output_type": "stream",
     "text": [
      "                                                                                    \r"
     ]
    },
    {
     "name": "stdout",
     "output_type": "stream",
     "text": [
      "0.44302176696542894\n",
      "not best... at 2025-06-16_23:50:18\n",
      "\n",
      "\n",
      "\n",
      "{'data_unit': 'Spv', 'label_col': 'class_numeric', 'class_list': 'all-classes', 'num_classes': None, 'difficulty': None, 'class_numeric_list': None, 'batch_size': 1024, 'PH2': True, 'PH3': True, 'reducer': 'pca', 'kernel': '', 'n': 15}\n",
      "{'arch': 'BERT', 'device': device(type='mps'), 'loadable': 'gaunernst/bert-medium-uncased', 'optimizer': <class 'torch.optim.adamw.AdamW'>, 'lr': 1e-05, 'weight_decay': 0, 'loss_fn': <class 'torch.nn.modules.loss.CrossEntropyLoss'>, 'num_epochs': 576}\n"
     ]
    },
    {
     "name": "stderr",
     "output_type": "stream",
     "text": [
      "                                                                                    \r"
     ]
    },
    {
     "name": "stdout",
     "output_type": "stream",
     "text": [
      "0.4225352112676056\n",
      "not best... at 2025-06-17_00:18:58\n",
      "\n",
      "\n",
      "\n",
      "{'data_unit': 'Spv', 'label_col': 'class_numeric', 'class_list': 'all-classes', 'num_classes': None, 'difficulty': None, 'class_numeric_list': None, 'batch_size': 1024, 'PH2': True, 'PH3': True, 'reducer': 'pca', 'kernel': '', 'n': 15}\n",
      "{'arch': 'BERT', 'device': device(type='mps'), 'loadable': 'distilbert-base-uncased', 'optimizer': <class 'torch.optim.adamw.AdamW'>, 'lr': 1e-05, 'weight_decay': 0, 'loss_fn': <class 'torch.nn.modules.loss.CrossEntropyLoss'>, 'num_epochs': 384}\n"
     ]
    },
    {
     "name": "stderr",
     "output_type": "stream",
     "text": [
      "                                                                                      \r"
     ]
    },
    {
     "name": "stdout",
     "output_type": "stream",
     "text": [
      "0.4967989756722151\n",
      "not best... at 2025-06-17_01:22:26\n",
      "\n",
      "\n",
      "\n",
      "{'data_unit': 'Spv', 'label_col': 'class_numeric', 'class_list': 'all-classes', 'num_classes': None, 'difficulty': None, 'class_numeric_list': None, 'batch_size': 1024, 'PH2': True, 'PH3': False, 'reducer': '', 'kernel': '', 'n': 75}\n",
      "{'arch': 'BERT', 'device': device(type='mps'), 'loadable': 'gaunernst/bert-tiny-uncased', 'optimizer': <class 'torch.optim.adamw.AdamW'>, 'lr': 1e-05, 'weight_decay': 0, 'loss_fn': <class 'torch.nn.modules.loss.CrossEntropyLoss'>, 'num_epochs': 5760}\n"
     ]
    },
    {
     "name": "stderr",
     "output_type": "stream",
     "text": [
      "                                                                                       \r"
     ]
    },
    {
     "name": "stdout",
     "output_type": "stream",
     "text": [
      "0.5236875800256082\n",
      "updating best... at 2025-06-17_01:41:00\n",
      "\n",
      "\n",
      "\n",
      "{'data_unit': 'Spv', 'label_col': 'class_numeric', 'class_list': 'all-classes', 'num_classes': None, 'difficulty': None, 'class_numeric_list': None, 'batch_size': 1024, 'PH2': True, 'PH3': False, 'reducer': '', 'kernel': '', 'n': 75}\n",
      "{'arch': 'BERT', 'device': device(type='mps'), 'loadable': 'gaunernst/bert-mini-uncased', 'optimizer': <class 'torch.optim.adamw.AdamW'>, 'lr': 1e-05, 'weight_decay': 0, 'loss_fn': <class 'torch.nn.modules.loss.CrossEntropyLoss'>, 'num_epochs': 2304}\n"
     ]
    },
    {
     "name": "stderr",
     "output_type": "stream",
     "text": [
      "Training:  67%|██████▋   | 1548/2304 [17:56<09:05,  1.38epoch/s, epoch=1548, loss=6.23]"
     ]
    }
   ],
   "source": [
    "for data_unit in [sup.DATA_S_PF, sup.DATA_S_PV]:\n",
    "  bert.find_best(data_unit=data_unit, \n",
    "                  label_col=sup.class_numeric_column,\n",
    "                  class_list=TRAIN_classes, \n",
    "                  batch_size=exploring_batch_size,\n",
    "                  base_num_epochs=exploring_base_num_epochs\n",
    "                  )\n",
    "  \n",
    "  gc.collect()\n",
    "  if torch.backends.mps.is_available():\n",
    "    torch.mps.empty_cache()\n",
    "\n",
    "gc.collect()\n",
    "if torch.backends.mps.is_available():\n",
    "  torch.mps.empty_cache()"
   ]
  },
  {
   "cell_type": "markdown",
   "id": "0fcc663c",
   "metadata": {},
   "source": [
    "# Keep metrics"
   ]
  },
  {
   "cell_type": "code",
   "execution_count": null,
   "id": "9757dc3a",
   "metadata": {},
   "outputs": [],
   "source": [
    "import pandas as pd\n",
    "from datetime import datetime"
   ]
  },
  {
   "cell_type": "code",
   "execution_count": null,
   "id": "52f40ecc",
   "metadata": {},
   "outputs": [],
   "source": [
    "arch_scores_df = pd.DataFrame(sup.bert_score_tracker, columns=sup.bert_scores_columns)\n",
    "now = datetime.now().strftime(\"%Y-%m-%d_%H:%M:%S\")\n",
    "sup.create_dir_if_not_exists(os.path.join(sup.TRAIN_SCORES_ROOT, TRAIN_classes, \n",
    "                                          sup.TRAIN_BERT_CODE))\n",
    "arch_scores_df.to_csv(os.path.join(sup.TRAIN_SCORES_ROOT, TRAIN_classes,\n",
    "                                       sup.TRAIN_BERT_CODE,\n",
    "                                       f\"archBERTanalysis-{now}.csv\"), index=False)"
   ]
  }
 ],
 "metadata": {
  "kernelspec": {
   "display_name": "TOG_BERT_v2",
   "language": "python",
   "name": "python3"
  },
  "language_info": {
   "codemirror_mode": {
    "name": "ipython",
    "version": 3
   },
   "file_extension": ".py",
   "mimetype": "text/x-python",
   "name": "python",
   "nbconvert_exporter": "python",
   "pygments_lexer": "ipython3",
   "version": "3.10.18"
  }
 },
 "nbformat": 4,
 "nbformat_minor": 5
}
