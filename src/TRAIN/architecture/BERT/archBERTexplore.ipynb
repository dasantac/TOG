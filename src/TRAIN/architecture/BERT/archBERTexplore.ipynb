{
 "cells": [
  {
   "cell_type": "markdown",
   "id": "49d5119d",
   "metadata": {},
   "source": [
    "# Context\n",
    "This notebook drives the training process for different models."
   ]
  },
  {
   "cell_type": "code",
   "execution_count": 1,
   "id": "437324c6",
   "metadata": {},
   "outputs": [],
   "source": [
    "# Set project's environment variables\n",
    "import os\n",
    "import sys\n",
    "from dotenv import load_dotenv\n",
    "load_dotenv(dotenv_path=\"../../../project.env\")\n",
    "sys.path.append(os.environ[\"PYTHONPATH\"])"
   ]
  },
  {
   "cell_type": "code",
   "execution_count": 2,
   "id": "cf9da1c2",
   "metadata": {},
   "outputs": [],
   "source": [
    "# Import project-wide and PH2 specific variables and functions\n",
    "import superheader as sup\n",
    "import TRAIN.architecture.BERT.bert as bert"
   ]
  },
  {
   "cell_type": "markdown",
   "id": "1109f09f",
   "metadata": {},
   "source": [
    "# Models"
   ]
  },
  {
   "cell_type": "markdown",
   "id": "4773797f",
   "metadata": {},
   "source": [
    "## Setup"
   ]
  },
  {
   "cell_type": "code",
   "execution_count": 3,
   "id": "04aaf65a",
   "metadata": {},
   "outputs": [],
   "source": [
    "import torch\n",
    "import gc"
   ]
  },
  {
   "cell_type": "code",
   "execution_count": null,
   "id": "f370de4b",
   "metadata": {},
   "outputs": [],
   "source": [
    "TRAIN_classes = 'alpha-classes'\n",
    "exploring_num_components = [15]\n",
    "exploring_base_num_epochs = 16\n",
    "exploring_batch_size = 1024"
   ]
  },
  {
   "cell_type": "markdown",
   "id": "de39f8d5",
   "metadata": {},
   "source": [
    "## Train"
   ]
  },
  {
   "cell_type": "code",
   "execution_count": 5,
   "id": "f8ac260c",
   "metadata": {},
   "outputs": [],
   "source": [
    "sup.bert_score_tracker = []"
   ]
  },
  {
   "cell_type": "code",
   "execution_count": 6,
   "id": "7710fdf8",
   "metadata": {},
   "outputs": [
    {
     "name": "stdout",
     "output_type": "stream",
     "text": [
      "{'data_unit': 'Spf', 'label_col': 'class_numeric', 'class_list': 'ten-classes', 'num_classes': None, 'difficulty': None, 'class_numeric_list': None, 'batch_size': 1024, 'PH2': True, 'PH3': True, 'reducer': 'pca', 'kernel': '', 'n': 9}\n",
      "{'arch': 'BERT', 'device': device(type='mps'), 'loadable': 'gaunernst/bert-tiny-uncased', 'optimizer': <class 'torch.optim.adamw.AdamW'>, 'lr': 1e-05, 'weight_decay': 0, 'loss_fn': <class 'torch.nn.modules.loss.CrossEntropyLoss'>, 'num_epochs': 1440}\n"
     ]
    },
    {
     "name": "stderr",
     "output_type": "stream",
     "text": [
      "                                                                                       \r"
     ]
    },
    {
     "name": "stdout",
     "output_type": "stream",
     "text": [
      "0.6991676575505351\n",
      "updating best... at 2025-06-15_19:03:47\n",
      "\n",
      "\n",
      "\n",
      "{'data_unit': 'Spf', 'label_col': 'class_numeric', 'class_list': 'ten-classes', 'num_classes': None, 'difficulty': None, 'class_numeric_list': None, 'batch_size': 1024, 'PH2': True, 'PH3': True, 'reducer': 'pca', 'kernel': '', 'n': 9}\n",
      "{'arch': 'BERT', 'device': device(type='mps'), 'loadable': 'gaunernst/bert-mini-uncased', 'optimizer': <class 'torch.optim.adamw.AdamW'>, 'lr': 1e-05, 'weight_decay': 0, 'loss_fn': <class 'torch.nn.modules.loss.CrossEntropyLoss'>, 'num_epochs': 576}\n"
     ]
    },
    {
     "name": "stderr",
     "output_type": "stream",
     "text": [
      "                                                                                    \r"
     ]
    },
    {
     "name": "stdout",
     "output_type": "stream",
     "text": [
      "0.7487118509710662\n",
      "updating best... at 2025-06-15_19:07:44\n",
      "\n",
      "\n",
      "\n",
      "{'data_unit': 'Spf', 'label_col': 'class_numeric', 'class_list': 'ten-classes', 'num_classes': None, 'difficulty': None, 'class_numeric_list': None, 'batch_size': 1024, 'PH2': True, 'PH3': True, 'reducer': 'pca', 'kernel': '', 'n': 9}\n",
      "{'arch': 'BERT', 'device': device(type='mps'), 'loadable': 'gaunernst/bert-small-uncased', 'optimizer': <class 'torch.optim.adamw.AdamW'>, 'lr': 1e-05, 'weight_decay': 0, 'loss_fn': <class 'torch.nn.modules.loss.CrossEntropyLoss'>, 'num_epochs': 192}\n"
     ]
    },
    {
     "name": "stderr",
     "output_type": "stream",
     "text": [
      "                                                                                    \r"
     ]
    },
    {
     "name": "stdout",
     "output_type": "stream",
     "text": [
      "0.6789536266349584\n",
      "not best... at 2025-06-15_19:09:34\n",
      "\n",
      "\n",
      "\n",
      "{'data_unit': 'Spf', 'label_col': 'class_numeric', 'class_list': 'ten-classes', 'num_classes': None, 'difficulty': None, 'class_numeric_list': None, 'batch_size': 1024, 'PH2': True, 'PH3': True, 'reducer': 'pca', 'kernel': '', 'n': 9}\n",
      "{'arch': 'BERT', 'device': device(type='mps'), 'loadable': 'gaunernst/bert-medium-uncased', 'optimizer': <class 'torch.optim.adamw.AdamW'>, 'lr': 1e-05, 'weight_decay': 0, 'loss_fn': <class 'torch.nn.modules.loss.CrossEntropyLoss'>, 'num_epochs': 144}\n"
     ]
    },
    {
     "name": "stderr",
     "output_type": "stream",
     "text": [
      "                                                                                    \r"
     ]
    },
    {
     "name": "stdout",
     "output_type": "stream",
     "text": [
      "0.6619104240982957\n",
      "not best... at 2025-06-15_19:12:03\n",
      "\n",
      "\n",
      "\n",
      "{'data_unit': 'Spf', 'label_col': 'class_numeric', 'class_list': 'ten-classes', 'num_classes': None, 'difficulty': None, 'class_numeric_list': None, 'batch_size': 1024, 'PH2': True, 'PH3': True, 'reducer': 'pca', 'kernel': '', 'n': 9}\n",
      "{'arch': 'BERT', 'device': device(type='mps'), 'loadable': 'distilbert-base-uncased', 'optimizer': <class 'torch.optim.adamw.AdamW'>, 'lr': 1e-05, 'weight_decay': 0, 'loss_fn': <class 'torch.nn.modules.loss.CrossEntropyLoss'>, 'num_epochs': 96}\n"
     ]
    },
    {
     "name": "stderr",
     "output_type": "stream",
     "text": [
      "                                                                                 \r"
     ]
    },
    {
     "name": "stdout",
     "output_type": "stream",
     "text": [
      "0.6571541815299247\n",
      "not best... at 2025-06-15_19:16:28\n",
      "\n",
      "\n",
      "\n",
      "{'data_unit': 'Spf', 'label_col': 'class_numeric', 'class_list': 'ten-classes', 'num_classes': None, 'difficulty': None, 'class_numeric_list': None, 'batch_size': 1024, 'PH2': True, 'PH3': False, 'reducer': '', 'kernel': '', 'n': 75}\n",
      "{'arch': 'BERT', 'device': device(type='mps'), 'loadable': 'gaunernst/bert-tiny-uncased', 'optimizer': <class 'torch.optim.adamw.AdamW'>, 'lr': 1e-05, 'weight_decay': 0, 'loss_fn': <class 'torch.nn.modules.loss.CrossEntropyLoss'>, 'num_epochs': 1440}\n"
     ]
    },
    {
     "name": "stderr",
     "output_type": "stream",
     "text": [
      "                                                                                       \r"
     ]
    },
    {
     "name": "stdout",
     "output_type": "stream",
     "text": [
      "0.8370986920332937\n",
      "updating best... at 2025-06-15_19:23:06\n",
      "\n",
      "\n",
      "\n",
      "{'data_unit': 'Spf', 'label_col': 'class_numeric', 'class_list': 'ten-classes', 'num_classes': None, 'difficulty': None, 'class_numeric_list': None, 'batch_size': 1024, 'PH2': True, 'PH3': False, 'reducer': '', 'kernel': '', 'n': 75}\n",
      "{'arch': 'BERT', 'device': device(type='mps'), 'loadable': 'gaunernst/bert-mini-uncased', 'optimizer': <class 'torch.optim.adamw.AdamW'>, 'lr': 1e-05, 'weight_decay': 0, 'loss_fn': <class 'torch.nn.modules.loss.CrossEntropyLoss'>, 'num_epochs': 576}\n"
     ]
    },
    {
     "name": "stderr",
     "output_type": "stream",
     "text": [
      "                                                                                    \r"
     ]
    },
    {
     "name": "stdout",
     "output_type": "stream",
     "text": [
      "0.805786761791518\n",
      "not best... at 2025-06-15_19:27:21\n",
      "\n",
      "\n",
      "\n",
      "{'data_unit': 'Spf', 'label_col': 'class_numeric', 'class_list': 'ten-classes', 'num_classes': None, 'difficulty': None, 'class_numeric_list': None, 'batch_size': 1024, 'PH2': True, 'PH3': False, 'reducer': '', 'kernel': '', 'n': 75}\n",
      "{'arch': 'BERT', 'device': device(type='mps'), 'loadable': 'gaunernst/bert-small-uncased', 'optimizer': <class 'torch.optim.adamw.AdamW'>, 'lr': 1e-05, 'weight_decay': 0, 'loss_fn': <class 'torch.nn.modules.loss.CrossEntropyLoss'>, 'num_epochs': 192}\n"
     ]
    },
    {
     "name": "stderr",
     "output_type": "stream",
     "text": [
      "                                                                                    \r"
     ]
    },
    {
     "name": "stdout",
     "output_type": "stream",
     "text": [
      "0.734046769718589\n",
      "not best... at 2025-06-15_19:29:22\n",
      "\n",
      "\n",
      "\n",
      "{'data_unit': 'Spf', 'label_col': 'class_numeric', 'class_list': 'ten-classes', 'num_classes': None, 'difficulty': None, 'class_numeric_list': None, 'batch_size': 1024, 'PH2': True, 'PH3': False, 'reducer': '', 'kernel': '', 'n': 75}\n",
      "{'arch': 'BERT', 'device': device(type='mps'), 'loadable': 'gaunernst/bert-medium-uncased', 'optimizer': <class 'torch.optim.adamw.AdamW'>, 'lr': 1e-05, 'weight_decay': 0, 'loss_fn': <class 'torch.nn.modules.loss.CrossEntropyLoss'>, 'num_epochs': 144}\n"
     ]
    },
    {
     "name": "stderr",
     "output_type": "stream",
     "text": [
      "                                                                                    \r"
     ]
    },
    {
     "name": "stdout",
     "output_type": "stream",
     "text": [
      "0.6159334126040428\n",
      "not best... at 2025-06-15_19:32:07\n",
      "\n",
      "\n",
      "\n",
      "{'data_unit': 'Spf', 'label_col': 'class_numeric', 'class_list': 'ten-classes', 'num_classes': None, 'difficulty': None, 'class_numeric_list': None, 'batch_size': 1024, 'PH2': True, 'PH3': False, 'reducer': '', 'kernel': '', 'n': 75}\n",
      "{'arch': 'BERT', 'device': device(type='mps'), 'loadable': 'distilbert-base-uncased', 'optimizer': <class 'torch.optim.adamw.AdamW'>, 'lr': 1e-05, 'weight_decay': 0, 'loss_fn': <class 'torch.nn.modules.loss.CrossEntropyLoss'>, 'num_epochs': 96}\n"
     ]
    },
    {
     "name": "stderr",
     "output_type": "stream",
     "text": [
      "                                                                                 \r"
     ]
    },
    {
     "name": "stdout",
     "output_type": "stream",
     "text": [
      "0.7324613555291319\n",
      "not best... at 2025-06-15_19:36:51\n",
      "\n",
      "\n",
      "\n",
      "{'data_unit': 'Spf', 'label_col': 'class_numeric', 'class_list': 'ten-classes', 'num_classes': None, 'difficulty': None, 'class_numeric_list': None, 'batch_size': 1024, 'PH2': False, 'PH3': True, 'reducer': 'pca', 'kernel': '', 'n': 9}\n",
      "{'arch': 'BERT', 'device': device(type='mps'), 'loadable': 'gaunernst/bert-tiny-uncased', 'optimizer': <class 'torch.optim.adamw.AdamW'>, 'lr': 1e-05, 'weight_decay': 0, 'loss_fn': <class 'torch.nn.modules.loss.CrossEntropyLoss'>, 'num_epochs': 1440}\n"
     ]
    },
    {
     "name": "stderr",
     "output_type": "stream",
     "text": [
      "                                                                                       \r"
     ]
    },
    {
     "name": "stdout",
     "output_type": "stream",
     "text": [
      "0.8692033293697978\n",
      "updating best... at 2025-06-15_19:43:38\n",
      "\n",
      "\n",
      "\n",
      "{'data_unit': 'Spf', 'label_col': 'class_numeric', 'class_list': 'ten-classes', 'num_classes': None, 'difficulty': None, 'class_numeric_list': None, 'batch_size': 1024, 'PH2': False, 'PH3': True, 'reducer': 'pca', 'kernel': '', 'n': 9}\n",
      "{'arch': 'BERT', 'device': device(type='mps'), 'loadable': 'gaunernst/bert-mini-uncased', 'optimizer': <class 'torch.optim.adamw.AdamW'>, 'lr': 1e-05, 'weight_decay': 0, 'loss_fn': <class 'torch.nn.modules.loss.CrossEntropyLoss'>, 'num_epochs': 576}\n"
     ]
    },
    {
     "name": "stderr",
     "output_type": "stream",
     "text": [
      "                                                                                    \r"
     ]
    },
    {
     "name": "stdout",
     "output_type": "stream",
     "text": [
      "0.9048751486325802\n",
      "updating best... at 2025-06-15_19:47:57\n",
      "\n",
      "\n",
      "\n",
      "{'data_unit': 'Spf', 'label_col': 'class_numeric', 'class_list': 'ten-classes', 'num_classes': None, 'difficulty': None, 'class_numeric_list': None, 'batch_size': 1024, 'PH2': False, 'PH3': True, 'reducer': 'pca', 'kernel': '', 'n': 9}\n",
      "{'arch': 'BERT', 'device': device(type='mps'), 'loadable': 'gaunernst/bert-small-uncased', 'optimizer': <class 'torch.optim.adamw.AdamW'>, 'lr': 1e-05, 'weight_decay': 0, 'loss_fn': <class 'torch.nn.modules.loss.CrossEntropyLoss'>, 'num_epochs': 192}\n"
     ]
    },
    {
     "name": "stderr",
     "output_type": "stream",
     "text": [
      "                                                                                    \r"
     ]
    },
    {
     "name": "stdout",
     "output_type": "stream",
     "text": [
      "0.880697582243361\n",
      "not best... at 2025-06-15_19:49:59\n",
      "\n",
      "\n",
      "\n",
      "{'data_unit': 'Spf', 'label_col': 'class_numeric', 'class_list': 'ten-classes', 'num_classes': None, 'difficulty': None, 'class_numeric_list': None, 'batch_size': 1024, 'PH2': False, 'PH3': True, 'reducer': 'pca', 'kernel': '', 'n': 9}\n",
      "{'arch': 'BERT', 'device': device(type='mps'), 'loadable': 'gaunernst/bert-medium-uncased', 'optimizer': <class 'torch.optim.adamw.AdamW'>, 'lr': 1e-05, 'weight_decay': 0, 'loss_fn': <class 'torch.nn.modules.loss.CrossEntropyLoss'>, 'num_epochs': 144}\n"
     ]
    },
    {
     "name": "stderr",
     "output_type": "stream",
     "text": [
      "                                                                                    \r"
     ]
    },
    {
     "name": "stdout",
     "output_type": "stream",
     "text": [
      "0.8557273087594134\n",
      "not best... at 2025-06-15_19:52:44\n",
      "\n",
      "\n",
      "\n",
      "{'data_unit': 'Spf', 'label_col': 'class_numeric', 'class_list': 'ten-classes', 'num_classes': None, 'difficulty': None, 'class_numeric_list': None, 'batch_size': 1024, 'PH2': False, 'PH3': True, 'reducer': 'pca', 'kernel': '', 'n': 9}\n",
      "{'arch': 'BERT', 'device': device(type='mps'), 'loadable': 'distilbert-base-uncased', 'optimizer': <class 'torch.optim.adamw.AdamW'>, 'lr': 1e-05, 'weight_decay': 0, 'loss_fn': <class 'torch.nn.modules.loss.CrossEntropyLoss'>, 'num_epochs': 96}\n"
     ]
    },
    {
     "name": "stderr",
     "output_type": "stream",
     "text": [
      "                                                                                 \r"
     ]
    },
    {
     "name": "stdout",
     "output_type": "stream",
     "text": [
      "0.8418549346016647\n",
      "not best... at 2025-06-15_19:57:28\n",
      "\n",
      "\n",
      "\n",
      "{'data_unit': 'Spf', 'label_col': 'class_numeric', 'class_list': 'ten-classes', 'num_classes': None, 'difficulty': None, 'class_numeric_list': None, 'batch_size': 1024, 'PH2': False, 'PH3': False, 'reducer': '', 'kernel': '', 'n': 72}\n",
      "{'arch': 'BERT', 'device': device(type='mps'), 'loadable': 'gaunernst/bert-tiny-uncased', 'optimizer': <class 'torch.optim.adamw.AdamW'>, 'lr': 1e-05, 'weight_decay': 0, 'loss_fn': <class 'torch.nn.modules.loss.CrossEntropyLoss'>, 'num_epochs': 1440}\n"
     ]
    },
    {
     "name": "stderr",
     "output_type": "stream",
     "text": [
      "                                                                                       \r"
     ]
    },
    {
     "name": "stdout",
     "output_type": "stream",
     "text": [
      "0.9365834324217202\n",
      "updating best... at 2025-06-15_20:04:13\n",
      "\n",
      "\n",
      "\n",
      "{'data_unit': 'Spf', 'label_col': 'class_numeric', 'class_list': 'ten-classes', 'num_classes': None, 'difficulty': None, 'class_numeric_list': None, 'batch_size': 1024, 'PH2': False, 'PH3': False, 'reducer': '', 'kernel': '', 'n': 72}\n",
      "{'arch': 'BERT', 'device': device(type='mps'), 'loadable': 'gaunernst/bert-mini-uncased', 'optimizer': <class 'torch.optim.adamw.AdamW'>, 'lr': 1e-05, 'weight_decay': 0, 'loss_fn': <class 'torch.nn.modules.loss.CrossEntropyLoss'>, 'num_epochs': 576}\n"
     ]
    },
    {
     "name": "stderr",
     "output_type": "stream",
     "text": [
      "                                                                                    \r"
     ]
    },
    {
     "name": "stdout",
     "output_type": "stream",
     "text": [
      "0.9342053111375347\n",
      "not best... at 2025-06-15_20:08:27\n",
      "\n",
      "\n",
      "\n",
      "{'data_unit': 'Spf', 'label_col': 'class_numeric', 'class_list': 'ten-classes', 'num_classes': None, 'difficulty': None, 'class_numeric_list': None, 'batch_size': 1024, 'PH2': False, 'PH3': False, 'reducer': '', 'kernel': '', 'n': 72}\n",
      "{'arch': 'BERT', 'device': device(type='mps'), 'loadable': 'gaunernst/bert-small-uncased', 'optimizer': <class 'torch.optim.adamw.AdamW'>, 'lr': 1e-05, 'weight_decay': 0, 'loss_fn': <class 'torch.nn.modules.loss.CrossEntropyLoss'>, 'num_epochs': 192}\n"
     ]
    },
    {
     "name": "stderr",
     "output_type": "stream",
     "text": [
      "                                                                                    \r"
     ]
    },
    {
     "name": "stdout",
     "output_type": "stream",
     "text": [
      "0.929845422116528\n",
      "not best... at 2025-06-15_20:10:21\n",
      "\n",
      "\n",
      "\n",
      "{'data_unit': 'Spf', 'label_col': 'class_numeric', 'class_list': 'ten-classes', 'num_classes': None, 'difficulty': None, 'class_numeric_list': None, 'batch_size': 1024, 'PH2': False, 'PH3': False, 'reducer': '', 'kernel': '', 'n': 72}\n",
      "{'arch': 'BERT', 'device': device(type='mps'), 'loadable': 'gaunernst/bert-medium-uncased', 'optimizer': <class 'torch.optim.adamw.AdamW'>, 'lr': 1e-05, 'weight_decay': 0, 'loss_fn': <class 'torch.nn.modules.loss.CrossEntropyLoss'>, 'num_epochs': 144}\n"
     ]
    },
    {
     "name": "stderr",
     "output_type": "stream",
     "text": [
      "                                                                                    \r"
     ]
    },
    {
     "name": "stdout",
     "output_type": "stream",
     "text": [
      "0.9100277447483155\n",
      "not best... at 2025-06-15_20:12:46\n",
      "\n",
      "\n",
      "\n",
      "{'data_unit': 'Spf', 'label_col': 'class_numeric', 'class_list': 'ten-classes', 'num_classes': None, 'difficulty': None, 'class_numeric_list': None, 'batch_size': 1024, 'PH2': False, 'PH3': False, 'reducer': '', 'kernel': '', 'n': 72}\n",
      "{'arch': 'BERT', 'device': device(type='mps'), 'loadable': 'distilbert-base-uncased', 'optimizer': <class 'torch.optim.adamw.AdamW'>, 'lr': 1e-05, 'weight_decay': 0, 'loss_fn': <class 'torch.nn.modules.loss.CrossEntropyLoss'>, 'num_epochs': 96}\n"
     ]
    },
    {
     "name": "stderr",
     "output_type": "stream",
     "text": [
      "                                                                                 \r"
     ]
    },
    {
     "name": "stdout",
     "output_type": "stream",
     "text": [
      "0.9258818866428854\n",
      "not best... at 2025-06-15_20:16:52\n",
      "\n",
      "\n",
      "\n",
      "Data Unit: Spf\n",
      "Best score: 0.9365834324217202\n",
      "Best data config: {'data_unit': 'Spf', 'label_col': 'class_numeric', 'class_list': 'ten-classes', 'num_classes': None, 'difficulty': None, 'class_numeric_list': None, 'batch_size': 1024, 'PH2': False, 'PH3': False, 'reducer': '', 'kernel': '', 'n': 72}\n",
      "Best train config: {'arch': 'BERT', 'device': device(type='mps'), 'loadable': 'gaunernst/bert-tiny-uncased', 'optimizer': <class 'torch.optim.adamw.AdamW'>, 'lr': 1e-05, 'weight_decay': 0, 'loss_fn': <class 'torch.nn.modules.loss.CrossEntropyLoss'>, 'num_epochs': 1440}\n",
      "{'data_unit': 'Spv', 'label_col': 'class_numeric', 'class_list': 'ten-classes', 'num_classes': None, 'difficulty': None, 'class_numeric_list': None, 'batch_size': 1024, 'PH2': True, 'PH3': True, 'reducer': 'pca', 'kernel': '', 'n': 9}\n",
      "{'arch': 'BERT', 'device': device(type='mps'), 'loadable': 'gaunernst/bert-tiny-uncased', 'optimizer': <class 'torch.optim.adamw.AdamW'>, 'lr': 1e-05, 'weight_decay': 0, 'loss_fn': <class 'torch.nn.modules.loss.CrossEntropyLoss'>, 'num_epochs': 5760}\n"
     ]
    },
    {
     "name": "stderr",
     "output_type": "stream",
     "text": [
      "                                                                                        \r"
     ]
    },
    {
     "name": "stdout",
     "output_type": "stream",
     "text": [
      "0.7298578199052133\n",
      "updating best... at 2025-06-15_20:20:55\n",
      "\n",
      "\n",
      "\n",
      "{'data_unit': 'Spv', 'label_col': 'class_numeric', 'class_list': 'ten-classes', 'num_classes': None, 'difficulty': None, 'class_numeric_list': None, 'batch_size': 1024, 'PH2': True, 'PH3': True, 'reducer': 'pca', 'kernel': '', 'n': 9}\n",
      "{'arch': 'BERT', 'device': device(type='mps'), 'loadable': 'gaunernst/bert-mini-uncased', 'optimizer': <class 'torch.optim.adamw.AdamW'>, 'lr': 1e-05, 'weight_decay': 0, 'loss_fn': <class 'torch.nn.modules.loss.CrossEntropyLoss'>, 'num_epochs': 2304}\n"
     ]
    },
    {
     "name": "stderr",
     "output_type": "stream",
     "text": [
      "                                                                                        \r"
     ]
    },
    {
     "name": "stdout",
     "output_type": "stream",
     "text": [
      "0.6777251184834123\n",
      "not best... at 2025-06-15_20:27:07\n",
      "\n",
      "\n",
      "\n",
      "{'data_unit': 'Spv', 'label_col': 'class_numeric', 'class_list': 'ten-classes', 'num_classes': None, 'difficulty': None, 'class_numeric_list': None, 'batch_size': 1024, 'PH2': True, 'PH3': True, 'reducer': 'pca', 'kernel': '', 'n': 9}\n",
      "{'arch': 'BERT', 'device': device(type='mps'), 'loadable': 'gaunernst/bert-small-uncased', 'optimizer': <class 'torch.optim.adamw.AdamW'>, 'lr': 1e-05, 'weight_decay': 0, 'loss_fn': <class 'torch.nn.modules.loss.CrossEntropyLoss'>, 'num_epochs': 768}\n"
     ]
    },
    {
     "name": "stderr",
     "output_type": "stream",
     "text": [
      "                                                                                     \r"
     ]
    },
    {
     "name": "stdout",
     "output_type": "stream",
     "text": [
      "0.6255924170616114\n",
      "not best... at 2025-06-15_20:32:31\n",
      "\n",
      "\n",
      "\n",
      "{'data_unit': 'Spv', 'label_col': 'class_numeric', 'class_list': 'ten-classes', 'num_classes': None, 'difficulty': None, 'class_numeric_list': None, 'batch_size': 1024, 'PH2': True, 'PH3': True, 'reducer': 'pca', 'kernel': '', 'n': 9}\n",
      "{'arch': 'BERT', 'device': device(type='mps'), 'loadable': 'gaunernst/bert-medium-uncased', 'optimizer': <class 'torch.optim.adamw.AdamW'>, 'lr': 1e-05, 'weight_decay': 0, 'loss_fn': <class 'torch.nn.modules.loss.CrossEntropyLoss'>, 'num_epochs': 576}\n"
     ]
    },
    {
     "name": "stderr",
     "output_type": "stream",
     "text": [
      "                                                                                     \r"
     ]
    },
    {
     "name": "stdout",
     "output_type": "stream",
     "text": [
      "0.6682464454976303\n",
      "not best... at 2025-06-15_20:40:35\n",
      "\n",
      "\n",
      "\n",
      "{'data_unit': 'Spv', 'label_col': 'class_numeric', 'class_list': 'ten-classes', 'num_classes': None, 'difficulty': None, 'class_numeric_list': None, 'batch_size': 1024, 'PH2': True, 'PH3': True, 'reducer': 'pca', 'kernel': '', 'n': 9}\n",
      "{'arch': 'BERT', 'device': device(type='mps'), 'loadable': 'distilbert-base-uncased', 'optimizer': <class 'torch.optim.adamw.AdamW'>, 'lr': 1e-05, 'weight_decay': 0, 'loss_fn': <class 'torch.nn.modules.loss.CrossEntropyLoss'>, 'num_epochs': 384}\n"
     ]
    },
    {
     "name": "stderr",
     "output_type": "stream",
     "text": [
      "                                                                                     \r"
     ]
    },
    {
     "name": "stdout",
     "output_type": "stream",
     "text": [
      "0.7109004739336493\n",
      "not best... at 2025-06-15_20:56:36\n",
      "\n",
      "\n",
      "\n",
      "{'data_unit': 'Spv', 'label_col': 'class_numeric', 'class_list': 'ten-classes', 'num_classes': None, 'difficulty': None, 'class_numeric_list': None, 'batch_size': 1024, 'PH2': True, 'PH3': False, 'reducer': '', 'kernel': '', 'n': 75}\n",
      "{'arch': 'BERT', 'device': device(type='mps'), 'loadable': 'gaunernst/bert-tiny-uncased', 'optimizer': <class 'torch.optim.adamw.AdamW'>, 'lr': 1e-05, 'weight_decay': 0, 'loss_fn': <class 'torch.nn.modules.loss.CrossEntropyLoss'>, 'num_epochs': 5760}\n"
     ]
    },
    {
     "name": "stderr",
     "output_type": "stream",
     "text": [
      "                                                                                        \r"
     ]
    },
    {
     "name": "stdout",
     "output_type": "stream",
     "text": [
      "0.8009478672985783\n",
      "updating best... at 2025-06-15_21:00:42\n",
      "\n",
      "\n",
      "\n",
      "{'data_unit': 'Spv', 'label_col': 'class_numeric', 'class_list': 'ten-classes', 'num_classes': None, 'difficulty': None, 'class_numeric_list': None, 'batch_size': 1024, 'PH2': True, 'PH3': False, 'reducer': '', 'kernel': '', 'n': 75}\n",
      "{'arch': 'BERT', 'device': device(type='mps'), 'loadable': 'gaunernst/bert-mini-uncased', 'optimizer': <class 'torch.optim.adamw.AdamW'>, 'lr': 1e-05, 'weight_decay': 0, 'loss_fn': <class 'torch.nn.modules.loss.CrossEntropyLoss'>, 'num_epochs': 2304}\n"
     ]
    },
    {
     "name": "stderr",
     "output_type": "stream",
     "text": [
      "                                                                                        \r"
     ]
    },
    {
     "name": "stdout",
     "output_type": "stream",
     "text": [
      "0.7582938388625592\n",
      "not best... at 2025-06-15_21:06:53\n",
      "\n",
      "\n",
      "\n",
      "{'data_unit': 'Spv', 'label_col': 'class_numeric', 'class_list': 'ten-classes', 'num_classes': None, 'difficulty': None, 'class_numeric_list': None, 'batch_size': 1024, 'PH2': True, 'PH3': False, 'reducer': '', 'kernel': '', 'n': 75}\n",
      "{'arch': 'BERT', 'device': device(type='mps'), 'loadable': 'gaunernst/bert-small-uncased', 'optimizer': <class 'torch.optim.adamw.AdamW'>, 'lr': 1e-05, 'weight_decay': 0, 'loss_fn': <class 'torch.nn.modules.loss.CrossEntropyLoss'>, 'num_epochs': 768}\n"
     ]
    },
    {
     "name": "stderr",
     "output_type": "stream",
     "text": [
      "                                                                                     \r"
     ]
    },
    {
     "name": "stdout",
     "output_type": "stream",
     "text": [
      "0.6966824644549763\n",
      "not best... at 2025-06-15_21:12:16\n",
      "\n",
      "\n",
      "\n",
      "{'data_unit': 'Spv', 'label_col': 'class_numeric', 'class_list': 'ten-classes', 'num_classes': None, 'difficulty': None, 'class_numeric_list': None, 'batch_size': 1024, 'PH2': True, 'PH3': False, 'reducer': '', 'kernel': '', 'n': 75}\n",
      "{'arch': 'BERT', 'device': device(type='mps'), 'loadable': 'gaunernst/bert-medium-uncased', 'optimizer': <class 'torch.optim.adamw.AdamW'>, 'lr': 1e-05, 'weight_decay': 0, 'loss_fn': <class 'torch.nn.modules.loss.CrossEntropyLoss'>, 'num_epochs': 576}\n"
     ]
    },
    {
     "name": "stderr",
     "output_type": "stream",
     "text": [
      "                                                                                     \r"
     ]
    },
    {
     "name": "stdout",
     "output_type": "stream",
     "text": [
      "0.6303317535545023\n",
      "not best... at 2025-06-15_21:20:12\n",
      "\n",
      "\n",
      "\n",
      "{'data_unit': 'Spv', 'label_col': 'class_numeric', 'class_list': 'ten-classes', 'num_classes': None, 'difficulty': None, 'class_numeric_list': None, 'batch_size': 1024, 'PH2': True, 'PH3': False, 'reducer': '', 'kernel': '', 'n': 75}\n",
      "{'arch': 'BERT', 'device': device(type='mps'), 'loadable': 'distilbert-base-uncased', 'optimizer': <class 'torch.optim.adamw.AdamW'>, 'lr': 1e-05, 'weight_decay': 0, 'loss_fn': <class 'torch.nn.modules.loss.CrossEntropyLoss'>, 'num_epochs': 384}\n"
     ]
    },
    {
     "name": "stderr",
     "output_type": "stream",
     "text": [
      "                                                                                     \r"
     ]
    },
    {
     "name": "stdout",
     "output_type": "stream",
     "text": [
      "0.7203791469194313\n",
      "not best... at 2025-06-15_21:36:15\n",
      "\n",
      "\n",
      "\n",
      "{'data_unit': 'Spv', 'label_col': 'class_numeric', 'class_list': 'ten-classes', 'num_classes': None, 'difficulty': None, 'class_numeric_list': None, 'batch_size': 1024, 'PH2': False, 'PH3': True, 'reducer': 'pca', 'kernel': '', 'n': 9}\n",
      "{'arch': 'BERT', 'device': device(type='mps'), 'loadable': 'gaunernst/bert-tiny-uncased', 'optimizer': <class 'torch.optim.adamw.AdamW'>, 'lr': 1e-05, 'weight_decay': 0, 'loss_fn': <class 'torch.nn.modules.loss.CrossEntropyLoss'>, 'num_epochs': 5760}\n"
     ]
    },
    {
     "name": "stderr",
     "output_type": "stream",
     "text": [
      "                                                                                        \r"
     ]
    },
    {
     "name": "stdout",
     "output_type": "stream",
     "text": [
      "0.7772511848341233\n",
      "not best... at 2025-06-15_21:40:25\n",
      "\n",
      "\n",
      "\n",
      "{'data_unit': 'Spv', 'label_col': 'class_numeric', 'class_list': 'ten-classes', 'num_classes': None, 'difficulty': None, 'class_numeric_list': None, 'batch_size': 1024, 'PH2': False, 'PH3': True, 'reducer': 'pca', 'kernel': '', 'n': 9}\n",
      "{'arch': 'BERT', 'device': device(type='mps'), 'loadable': 'gaunernst/bert-mini-uncased', 'optimizer': <class 'torch.optim.adamw.AdamW'>, 'lr': 1e-05, 'weight_decay': 0, 'loss_fn': <class 'torch.nn.modules.loss.CrossEntropyLoss'>, 'num_epochs': 2304}\n"
     ]
    },
    {
     "name": "stderr",
     "output_type": "stream",
     "text": [
      "                                                                                         \r"
     ]
    },
    {
     "name": "stdout",
     "output_type": "stream",
     "text": [
      "0.7914691943127962\n",
      "not best... at 2025-06-15_21:46:46\n",
      "\n",
      "\n",
      "\n",
      "{'data_unit': 'Spv', 'label_col': 'class_numeric', 'class_list': 'ten-classes', 'num_classes': None, 'difficulty': None, 'class_numeric_list': None, 'batch_size': 1024, 'PH2': False, 'PH3': True, 'reducer': 'pca', 'kernel': '', 'n': 9}\n",
      "{'arch': 'BERT', 'device': device(type='mps'), 'loadable': 'gaunernst/bert-small-uncased', 'optimizer': <class 'torch.optim.adamw.AdamW'>, 'lr': 1e-05, 'weight_decay': 0, 'loss_fn': <class 'torch.nn.modules.loss.CrossEntropyLoss'>, 'num_epochs': 768}\n"
     ]
    },
    {
     "name": "stderr",
     "output_type": "stream",
     "text": [
      "                                                                                     \r"
     ]
    },
    {
     "name": "stdout",
     "output_type": "stream",
     "text": [
      "0.8199052132701422\n",
      "updating best... at 2025-06-15_21:52:11\n",
      "\n",
      "\n",
      "\n",
      "{'data_unit': 'Spv', 'label_col': 'class_numeric', 'class_list': 'ten-classes', 'num_classes': None, 'difficulty': None, 'class_numeric_list': None, 'batch_size': 1024, 'PH2': False, 'PH3': True, 'reducer': 'pca', 'kernel': '', 'n': 9}\n",
      "{'arch': 'BERT', 'device': device(type='mps'), 'loadable': 'gaunernst/bert-medium-uncased', 'optimizer': <class 'torch.optim.adamw.AdamW'>, 'lr': 1e-05, 'weight_decay': 0, 'loss_fn': <class 'torch.nn.modules.loss.CrossEntropyLoss'>, 'num_epochs': 576}\n"
     ]
    },
    {
     "name": "stderr",
     "output_type": "stream",
     "text": [
      "                                                                                     \r"
     ]
    },
    {
     "name": "stdout",
     "output_type": "stream",
     "text": [
      "0.7677725118483413\n",
      "not best... at 2025-06-15_22:00:12\n",
      "\n",
      "\n",
      "\n",
      "{'data_unit': 'Spv', 'label_col': 'class_numeric', 'class_list': 'ten-classes', 'num_classes': None, 'difficulty': None, 'class_numeric_list': None, 'batch_size': 1024, 'PH2': False, 'PH3': True, 'reducer': 'pca', 'kernel': '', 'n': 9}\n",
      "{'arch': 'BERT', 'device': device(type='mps'), 'loadable': 'distilbert-base-uncased', 'optimizer': <class 'torch.optim.adamw.AdamW'>, 'lr': 1e-05, 'weight_decay': 0, 'loss_fn': <class 'torch.nn.modules.loss.CrossEntropyLoss'>, 'num_epochs': 384}\n"
     ]
    },
    {
     "name": "stderr",
     "output_type": "stream",
     "text": [
      "                                                                                     \r"
     ]
    },
    {
     "name": "stdout",
     "output_type": "stream",
     "text": [
      "0.8293838862559242\n",
      "updating best... at 2025-06-15_22:15:54\n",
      "\n",
      "\n",
      "\n",
      "{'data_unit': 'Spv', 'label_col': 'class_numeric', 'class_list': 'ten-classes', 'num_classes': None, 'difficulty': None, 'class_numeric_list': None, 'batch_size': 1024, 'PH2': False, 'PH3': False, 'reducer': '', 'kernel': '', 'n': 72}\n",
      "{'arch': 'BERT', 'device': device(type='mps'), 'loadable': 'gaunernst/bert-tiny-uncased', 'optimizer': <class 'torch.optim.adamw.AdamW'>, 'lr': 1e-05, 'weight_decay': 0, 'loss_fn': <class 'torch.nn.modules.loss.CrossEntropyLoss'>, 'num_epochs': 5760}\n"
     ]
    },
    {
     "name": "stderr",
     "output_type": "stream",
     "text": [
      "                                                                                         \r"
     ]
    },
    {
     "name": "stdout",
     "output_type": "stream",
     "text": [
      "0.981042654028436\n",
      "updating best... at 2025-06-15_22:19:55\n",
      "\n",
      "\n",
      "\n",
      "{'data_unit': 'Spv', 'label_col': 'class_numeric', 'class_list': 'ten-classes', 'num_classes': None, 'difficulty': None, 'class_numeric_list': None, 'batch_size': 1024, 'PH2': False, 'PH3': False, 'reducer': '', 'kernel': '', 'n': 72}\n",
      "{'arch': 'BERT', 'device': device(type='mps'), 'loadable': 'gaunernst/bert-mini-uncased', 'optimizer': <class 'torch.optim.adamw.AdamW'>, 'lr': 1e-05, 'weight_decay': 0, 'loss_fn': <class 'torch.nn.modules.loss.CrossEntropyLoss'>, 'num_epochs': 2304}\n"
     ]
    },
    {
     "name": "stderr",
     "output_type": "stream",
     "text": [
      "                                                                                         \r"
     ]
    },
    {
     "name": "stdout",
     "output_type": "stream",
     "text": [
      "0.95260663507109\n",
      "not best... at 2025-06-15_22:25:59\n",
      "\n",
      "\n",
      "\n",
      "{'data_unit': 'Spv', 'label_col': 'class_numeric', 'class_list': 'ten-classes', 'num_classes': None, 'difficulty': None, 'class_numeric_list': None, 'batch_size': 1024, 'PH2': False, 'PH3': False, 'reducer': '', 'kernel': '', 'n': 72}\n",
      "{'arch': 'BERT', 'device': device(type='mps'), 'loadable': 'gaunernst/bert-small-uncased', 'optimizer': <class 'torch.optim.adamw.AdamW'>, 'lr': 1e-05, 'weight_decay': 0, 'loss_fn': <class 'torch.nn.modules.loss.CrossEntropyLoss'>, 'num_epochs': 768}\n"
     ]
    },
    {
     "name": "stderr",
     "output_type": "stream",
     "text": [
      "                                                                                     \r"
     ]
    },
    {
     "name": "stdout",
     "output_type": "stream",
     "text": [
      "0.909952606635071\n",
      "not best... at 2025-06-15_22:31:12\n",
      "\n",
      "\n",
      "\n",
      "{'data_unit': 'Spv', 'label_col': 'class_numeric', 'class_list': 'ten-classes', 'num_classes': None, 'difficulty': None, 'class_numeric_list': None, 'batch_size': 1024, 'PH2': False, 'PH3': False, 'reducer': '', 'kernel': '', 'n': 72}\n",
      "{'arch': 'BERT', 'device': device(type='mps'), 'loadable': 'gaunernst/bert-medium-uncased', 'optimizer': <class 'torch.optim.adamw.AdamW'>, 'lr': 1e-05, 'weight_decay': 0, 'loss_fn': <class 'torch.nn.modules.loss.CrossEntropyLoss'>, 'num_epochs': 576}\n"
     ]
    },
    {
     "name": "stderr",
     "output_type": "stream",
     "text": [
      "                                                                                     \r"
     ]
    },
    {
     "name": "stdout",
     "output_type": "stream",
     "text": [
      "0.919431279620853\n",
      "not best... at 2025-06-15_22:38:48\n",
      "\n",
      "\n",
      "\n",
      "{'data_unit': 'Spv', 'label_col': 'class_numeric', 'class_list': 'ten-classes', 'num_classes': None, 'difficulty': None, 'class_numeric_list': None, 'batch_size': 1024, 'PH2': False, 'PH3': False, 'reducer': '', 'kernel': '', 'n': 72}\n",
      "{'arch': 'BERT', 'device': device(type='mps'), 'loadable': 'distilbert-base-uncased', 'optimizer': <class 'torch.optim.adamw.AdamW'>, 'lr': 1e-05, 'weight_decay': 0, 'loss_fn': <class 'torch.nn.modules.loss.CrossEntropyLoss'>, 'num_epochs': 384}\n"
     ]
    },
    {
     "name": "stderr",
     "output_type": "stream",
     "text": [
      "                                                                                     \r"
     ]
    },
    {
     "name": "stdout",
     "output_type": "stream",
     "text": [
      "0.9715639810426541\n",
      "not best... at 2025-06-15_22:54:22\n",
      "\n",
      "\n",
      "\n",
      "Data Unit: Spv\n",
      "Best score: 0.981042654028436\n",
      "Best data config: {'data_unit': 'Spv', 'label_col': 'class_numeric', 'class_list': 'ten-classes', 'num_classes': None, 'difficulty': None, 'class_numeric_list': None, 'batch_size': 1024, 'PH2': False, 'PH3': False, 'reducer': '', 'kernel': '', 'n': 72}\n",
      "Best train config: {'arch': 'BERT', 'device': device(type='mps'), 'loadable': 'gaunernst/bert-tiny-uncased', 'optimizer': <class 'torch.optim.adamw.AdamW'>, 'lr': 1e-05, 'weight_decay': 0, 'loss_fn': <class 'torch.nn.modules.loss.CrossEntropyLoss'>, 'num_epochs': 5760}\n"
     ]
    }
   ],
   "source": [
    "for data_unit in [sup.DATA_S_PF, sup.DATA_S_PV]:\n",
    "  bert.find_best(data_unit=data_unit, \n",
    "                  label_col=sup.class_numeric_column,\n",
    "                  class_list=TRAIN_classes, \n",
    "                  batch_size=exploring_batch_size,\n",
    "                  N_CANDIDATES=exploring_num_components,\n",
    "                  base_num_epochs=exploring_base_num_epochs\n",
    "                  )\n",
    "  \n",
    "  gc.collect()\n",
    "  if torch.backends.mps.is_available():\n",
    "    torch.mps.empty_cache()\n",
    "\n",
    "gc.collect()\n",
    "if torch.backends.mps.is_available():\n",
    "  torch.mps.empty_cache()"
   ]
  },
  {
   "cell_type": "markdown",
   "id": "0fcc663c",
   "metadata": {},
   "source": [
    "# Keep metrics"
   ]
  },
  {
   "cell_type": "code",
   "execution_count": 7,
   "id": "9757dc3a",
   "metadata": {},
   "outputs": [],
   "source": [
    "import pandas as pd\n",
    "from datetime import datetime"
   ]
  },
  {
   "cell_type": "code",
   "execution_count": 8,
   "id": "52f40ecc",
   "metadata": {},
   "outputs": [],
   "source": [
    "arch_scores_df = pd.DataFrame(sup.bert_score_tracker, columns=sup.bert_scores_columns)\n",
    "now = datetime.now().strftime(\"%Y-%m-%d_%H:%M:%S\")\n",
    "sup.create_dir_if_not_exists(os.path.join(sup.TRAIN_SCORES_ROOT, TRAIN_classes, \n",
    "                                          sup.TRAIN_BERT_CODE))\n",
    "arch_scores_df.to_csv(os.path.join(sup.TRAIN_SCORES_ROOT, TRAIN_classes,\n",
    "                                       sup.TRAIN_BERT_CODE,\n",
    "                                       f\"archBERTanalysis-{now}.csv\"), index=False)"
   ]
  }
 ],
 "metadata": {
  "kernelspec": {
   "display_name": "TOG_BERT_v2",
   "language": "python",
   "name": "python3"
  },
  "language_info": {
   "codemirror_mode": {
    "name": "ipython",
    "version": 3
   },
   "file_extension": ".py",
   "mimetype": "text/x-python",
   "name": "python",
   "nbconvert_exporter": "python",
   "pygments_lexer": "ipython3",
   "version": "3.10.18"
  }
 },
 "nbformat": 4,
 "nbformat_minor": 5
}
