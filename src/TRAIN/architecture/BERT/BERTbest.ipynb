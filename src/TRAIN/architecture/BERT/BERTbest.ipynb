{
 "cells": [
  {
   "cell_type": "markdown",
   "id": "49d5119d",
   "metadata": {},
   "source": [
    "# Context\n",
    "This notebook drives the training process for different models."
   ]
  },
  {
   "cell_type": "code",
   "execution_count": 1,
   "id": "437324c6",
   "metadata": {},
   "outputs": [],
   "source": [
    "# Set project's environment variables\n",
    "import os\n",
    "import sys\n",
    "from dotenv import load_dotenv\n",
    "load_dotenv(dotenv_path=\"../../../project.env\")\n",
    "sys.path.append(os.environ[\"PYTHONPATH\"])"
   ]
  },
  {
   "cell_type": "code",
   "execution_count": 2,
   "id": "cf9da1c2",
   "metadata": {},
   "outputs": [],
   "source": [
    "# Import project-wide and PH2 specific variables and functions\n",
    "import superheader as sup\n",
    "import TRAIN.architecture.BERT.bert as bert"
   ]
  },
  {
   "cell_type": "markdown",
   "id": "1109f09f",
   "metadata": {},
   "source": [
    "# Models"
   ]
  },
  {
   "cell_type": "markdown",
   "id": "4773797f",
   "metadata": {},
   "source": [
    "## Setup"
   ]
  },
  {
   "cell_type": "code",
   "execution_count": 3,
   "id": "04aaf65a",
   "metadata": {},
   "outputs": [],
   "source": [
    "import torch\n",
    "import gc"
   ]
  },
  {
   "cell_type": "code",
   "execution_count": 4,
   "id": "f370de4b",
   "metadata": {},
   "outputs": [],
   "source": [
    "TRAIN_classes = 'all-classes'\n",
    "exploringBERT = bert.BERT_MINI\n",
    "exploring_batch_size = 1024"
   ]
  },
  {
   "cell_type": "markdown",
   "id": "de39f8d5",
   "metadata": {},
   "source": [
    "## Train"
   ]
  },
  {
   "cell_type": "code",
   "execution_count": 5,
   "id": "f8ac260c",
   "metadata": {},
   "outputs": [],
   "source": [
    "sup.bert_score_tracker = []"
   ]
  },
  {
   "cell_type": "code",
   "execution_count": null,
   "id": "7710fdf8",
   "metadata": {},
   "outputs": [
    {
     "name": "stdout",
     "output_type": "stream",
     "text": [
      "{'data_unit': 'Spf', 'label_col': 'class_numeric', 'class_list': 'all-classes', 'num_classes': None, 'difficulty': None, 'class_numeric_list': None, 'batch_size': 1024, 'PH2': True, 'PH3': True, 'reducer': 'pca', 'kernel': '', 'n': 15}\n",
      "{'arch': 'BERT', 'device': device(type='mps'), 'loadable': 'gaunernst/bert-mini-uncased', 'optimizer': <class 'torch.optim.adamw.AdamW'>, 'lr': 1e-05, 'weight_decay': 0, 'loss_fn': <class 'torch.nn.modules.loss.CrossEntropyLoss'>, 'num_epochs': 3996}\n"
     ]
    },
    {
     "name": "stderr",
     "output_type": "stream",
     "text": [
      "                                                                                         \r"
     ]
    },
    {
     "name": "stdout",
     "output_type": "stream",
     "text": [
      "0.8905265406386842\n",
      "updating best... at 2025-06-22_21:21:23\n",
      "\n",
      "\n",
      "\n",
      "{'data_unit': 'Spf', 'label_col': 'class_numeric', 'class_list': 'all-classes', 'num_classes': None, 'difficulty': None, 'class_numeric_list': None, 'batch_size': 1024, 'PH2': True, 'PH3': False, 'reducer': '', 'kernel': '', 'n': 75}\n",
      "{'arch': 'BERT', 'device': device(type='mps'), 'loadable': 'gaunernst/bert-mini-uncased', 'optimizer': <class 'torch.optim.adamw.AdamW'>, 'lr': 1e-05, 'weight_decay': 0, 'loss_fn': <class 'torch.nn.modules.loss.CrossEntropyLoss'>, 'num_epochs': 3996}\n"
     ]
    },
    {
     "name": "stderr",
     "output_type": "stream",
     "text": [
      "                                                                                         \r"
     ]
    },
    {
     "name": "stdout",
     "output_type": "stream",
     "text": [
      "0.9201110755099862\n",
      "updating best... at 2025-06-22_22:27:37\n",
      "\n",
      "\n",
      "\n",
      "{'data_unit': 'Spf', 'label_col': 'class_numeric', 'class_list': 'all-classes', 'num_classes': None, 'difficulty': None, 'class_numeric_list': None, 'batch_size': 1024, 'PH2': False, 'PH3': True, 'reducer': 'pca', 'kernel': '', 'n': 15}\n",
      "{'arch': 'BERT', 'device': device(type='mps'), 'loadable': 'gaunernst/bert-mini-uncased', 'optimizer': <class 'torch.optim.adamw.AdamW'>, 'lr': 1e-05, 'weight_decay': 0, 'loss_fn': <class 'torch.nn.modules.loss.CrossEntropyLoss'>, 'num_epochs': 3996}\n"
     ]
    },
    {
     "name": "stderr",
     "output_type": "stream",
     "text": [
      "                                                                                          \r"
     ]
    },
    {
     "name": "stdout",
     "output_type": "stream",
     "text": [
      "0.9530065150058742\n",
      "updating best... at 2025-06-22_23:33:24\n",
      "\n",
      "\n",
      "\n",
      "{'data_unit': 'Spf', 'label_col': 'class_numeric', 'class_list': 'all-classes', 'num_classes': None, 'difficulty': None, 'class_numeric_list': None, 'batch_size': 1024, 'PH2': False, 'PH3': False, 'reducer': '', 'kernel': '', 'n': 72}\n",
      "{'arch': 'BERT', 'device': device(type='mps'), 'loadable': 'gaunernst/bert-mini-uncased', 'optimizer': <class 'torch.optim.adamw.AdamW'>, 'lr': 1e-05, 'weight_decay': 0, 'loss_fn': <class 'torch.nn.modules.loss.CrossEntropyLoss'>, 'num_epochs': 3996}\n"
     ]
    },
    {
     "name": "stderr",
     "output_type": "stream",
     "text": [
      "                                                                                          \r"
     ]
    },
    {
     "name": "stdout",
     "output_type": "stream",
     "text": [
      "0.9665705436291787\n",
      "updating best... at 2025-06-23_00:39:56\n",
      "\n",
      "\n",
      "\n",
      "Data Unit: Spf\n",
      "Best score: 0.9665705436291787\n",
      "Best data config: {'data_unit': 'Spf', 'label_col': 'class_numeric', 'class_list': 'all-classes', 'num_classes': None, 'difficulty': None, 'class_numeric_list': None, 'batch_size': 1024, 'PH2': False, 'PH3': False, 'reducer': '', 'kernel': '', 'n': 72}\n",
      "Best train config: {'arch': 'BERT', 'device': device(type='mps'), 'loadable': 'gaunernst/bert-mini-uncased', 'optimizer': <class 'torch.optim.adamw.AdamW'>, 'lr': 1e-05, 'weight_decay': 0, 'loss_fn': <class 'torch.nn.modules.loss.CrossEntropyLoss'>, 'num_epochs': 3996}\n",
      "{'data_unit': 'Spv', 'label_col': 'class_numeric', 'class_list': 'all-classes', 'num_classes': None, 'difficulty': None, 'class_numeric_list': None, 'batch_size': 1024, 'PH2': True, 'PH3': True, 'reducer': 'pca', 'kernel': '', 'n': 15}\n",
      "{'arch': 'BERT', 'device': device(type='mps'), 'loadable': 'gaunernst/bert-mini-uncased', 'optimizer': <class 'torch.optim.adamw.AdamW'>, 'lr': 1e-05, 'weight_decay': 0, 'loss_fn': <class 'torch.nn.modules.loss.CrossEntropyLoss'>, 'num_epochs': 15984}\n"
     ]
    },
    {
     "name": "stderr",
     "output_type": "stream",
     "text": [
      "Training:  17%|█▋        | 2667/15984 [24:51<2:06:34,  1.75epoch/s, epoch=2667, loss=3.69]"
     ]
    }
   ],
   "source": [
    "for data_unit in [sup.DATA_S_PF, sup.DATA_S_PV]:\n",
    "  bert.find_best(data_unit=data_unit, \n",
    "                  label_col=sup.class_numeric_column,\n",
    "                  class_list=TRAIN_classes, \n",
    "                  batch_size=exploring_batch_size,\n",
    "                  LOADABLE_CANDIDATES=[exploringBERT],\n",
    "                  )\n",
    "  \n",
    "  gc.collect()\n",
    "  if torch.backends.mps.is_available():\n",
    "    torch.mps.empty_cache()\n",
    "\n",
    "gc.collect()\n",
    "if torch.backends.mps.is_available():\n",
    "  torch.mps.empty_cache()"
   ]
  },
  {
   "cell_type": "markdown",
   "id": "0fcc663c",
   "metadata": {},
   "source": [
    "# Keep metrics"
   ]
  },
  {
   "cell_type": "code",
   "execution_count": null,
   "id": "9757dc3a",
   "metadata": {},
   "outputs": [],
   "source": [
    "import pandas as pd\n",
    "from datetime import datetime"
   ]
  },
  {
   "cell_type": "code",
   "execution_count": null,
   "id": "52f40ecc",
   "metadata": {},
   "outputs": [],
   "source": [
    "best_scores_df = pd.DataFrame(sup.bert_score_tracker, columns=sup.bert_scores_columns)\n",
    "now = datetime.now().strftime(\"%Y-%m-%d_%H:%M:%S\")\n",
    "sup.create_dir_if_not_exists(os.path.join(sup.TRAIN_SCORES_ROOT, TRAIN_classes, \n",
    "                                          sup.TRAIN_BERT_CODE, exploringBERT))\n",
    "best_scores_df.to_csv(os.path.join(sup.TRAIN_SCORES_ROOT, TRAIN_classes,\n",
    "                                       sup.TRAIN_BERT_CODE, exploringBERT,\n",
    "                                       f\"BERTbest-{now}.csv\"), index=False)"
   ]
  }
 ],
 "metadata": {
  "kernelspec": {
   "display_name": "TOG_BERT_v2",
   "language": "python",
   "name": "python3"
  },
  "language_info": {
   "codemirror_mode": {
    "name": "ipython",
    "version": 3
   },
   "file_extension": ".py",
   "mimetype": "text/x-python",
   "name": "python",
   "nbconvert_exporter": "python",
   "pygments_lexer": "ipython3",
   "version": "3.10.18"
  }
 },
 "nbformat": 4,
 "nbformat_minor": 5
}
