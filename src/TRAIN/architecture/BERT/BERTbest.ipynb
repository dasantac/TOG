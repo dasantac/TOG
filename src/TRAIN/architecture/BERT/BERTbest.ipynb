{
 "cells": [
  {
   "cell_type": "markdown",
   "id": "49d5119d",
   "metadata": {},
   "source": [
    "# Context\n",
    "This notebook drives the training process for different models."
   ]
  },
  {
   "cell_type": "code",
   "execution_count": 1,
   "id": "437324c6",
   "metadata": {},
   "outputs": [],
   "source": [
    "# Set project's environment variables\n",
    "import os\n",
    "import sys\n",
    "from dotenv import load_dotenv\n",
    "load_dotenv(dotenv_path=\"../../../project.env\")\n",
    "sys.path.append(os.environ[\"PYTHONPATH\"])"
   ]
  },
  {
   "cell_type": "code",
   "execution_count": 2,
   "id": "cf9da1c2",
   "metadata": {},
   "outputs": [],
   "source": [
    "# Import project-wide and PH2 specific variables and functions\n",
    "import superheader as sup\n",
    "import TRAIN.architecture.BERT.bert as bert"
   ]
  },
  {
   "cell_type": "markdown",
   "id": "1109f09f",
   "metadata": {},
   "source": [
    "# Models"
   ]
  },
  {
   "cell_type": "markdown",
   "id": "4773797f",
   "metadata": {},
   "source": [
    "## Setup"
   ]
  },
  {
   "cell_type": "code",
   "execution_count": 3,
   "id": "04aaf65a",
   "metadata": {},
   "outputs": [],
   "source": [
    "import torch\n",
    "import gc"
   ]
  },
  {
   "cell_type": "code",
   "execution_count": 4,
   "id": "f370de4b",
   "metadata": {},
   "outputs": [],
   "source": [
    "TRAIN_classes = 'all-classes'\n",
    "exploringBERT = bert.BERT_MINI\n",
    "exploring_batch_size = 1024"
   ]
  },
  {
   "cell_type": "markdown",
   "id": "de39f8d5",
   "metadata": {},
   "source": [
    "## Train"
   ]
  },
  {
   "cell_type": "code",
   "execution_count": 5,
   "id": "f8ac260c",
   "metadata": {},
   "outputs": [],
   "source": [
    "sup.bert_score_tracker = []"
   ]
  },
  {
   "cell_type": "code",
   "execution_count": 6,
   "id": "7710fdf8",
   "metadata": {},
   "outputs": [
    {
     "name": "stdout",
     "output_type": "stream",
     "text": [
      "{'data_unit': 'Spf', 'label_col': 'class_numeric', 'class_list': 'all-classes', 'num_classes': None, 'difficulty': None, 'class_numeric_list': None, 'batch_size': 1024, 'PH2': True, 'PH3': True, 'reducer': 'pca', 'kernel': '', 'n': 15}\n",
      "{'arch': 'BERT', 'device': device(type='mps'), 'loadable': 'gaunernst/bert-mini-uncased', 'optimizer': <class 'torch.optim.adamw.AdamW'>, 'lr': 1e-05, 'weight_decay': 0, 'loss_fn': <class 'torch.nn.modules.loss.CrossEntropyLoss'>, 'num_epochs': 3996}\n"
     ]
    },
    {
     "name": "stderr",
     "output_type": "stream",
     "text": [
      "                                                                                         \r"
     ]
    },
    {
     "name": "stdout",
     "output_type": "stream",
     "text": [
      "0.8905265406386842\n",
      "updating best... at 2025-06-22_21:21:23\n",
      "\n",
      "\n",
      "\n",
      "{'data_unit': 'Spf', 'label_col': 'class_numeric', 'class_list': 'all-classes', 'num_classes': None, 'difficulty': None, 'class_numeric_list': None, 'batch_size': 1024, 'PH2': True, 'PH3': False, 'reducer': '', 'kernel': '', 'n': 75}\n",
      "{'arch': 'BERT', 'device': device(type='mps'), 'loadable': 'gaunernst/bert-mini-uncased', 'optimizer': <class 'torch.optim.adamw.AdamW'>, 'lr': 1e-05, 'weight_decay': 0, 'loss_fn': <class 'torch.nn.modules.loss.CrossEntropyLoss'>, 'num_epochs': 3996}\n"
     ]
    },
    {
     "name": "stderr",
     "output_type": "stream",
     "text": [
      "                                                                                         \r"
     ]
    },
    {
     "name": "stdout",
     "output_type": "stream",
     "text": [
      "0.9201110755099862\n",
      "updating best... at 2025-06-22_22:27:37\n",
      "\n",
      "\n",
      "\n",
      "{'data_unit': 'Spf', 'label_col': 'class_numeric', 'class_list': 'all-classes', 'num_classes': None, 'difficulty': None, 'class_numeric_list': None, 'batch_size': 1024, 'PH2': False, 'PH3': True, 'reducer': 'pca', 'kernel': '', 'n': 15}\n",
      "{'arch': 'BERT', 'device': device(type='mps'), 'loadable': 'gaunernst/bert-mini-uncased', 'optimizer': <class 'torch.optim.adamw.AdamW'>, 'lr': 1e-05, 'weight_decay': 0, 'loss_fn': <class 'torch.nn.modules.loss.CrossEntropyLoss'>, 'num_epochs': 3996}\n"
     ]
    },
    {
     "name": "stderr",
     "output_type": "stream",
     "text": [
      "                                                                                          \r"
     ]
    },
    {
     "name": "stdout",
     "output_type": "stream",
     "text": [
      "0.9530065150058742\n",
      "updating best... at 2025-06-22_23:33:24\n",
      "\n",
      "\n",
      "\n",
      "{'data_unit': 'Spf', 'label_col': 'class_numeric', 'class_list': 'all-classes', 'num_classes': None, 'difficulty': None, 'class_numeric_list': None, 'batch_size': 1024, 'PH2': False, 'PH3': False, 'reducer': '', 'kernel': '', 'n': 72}\n",
      "{'arch': 'BERT', 'device': device(type='mps'), 'loadable': 'gaunernst/bert-mini-uncased', 'optimizer': <class 'torch.optim.adamw.AdamW'>, 'lr': 1e-05, 'weight_decay': 0, 'loss_fn': <class 'torch.nn.modules.loss.CrossEntropyLoss'>, 'num_epochs': 3996}\n"
     ]
    },
    {
     "name": "stderr",
     "output_type": "stream",
     "text": [
      "                                                                                          \r"
     ]
    },
    {
     "name": "stdout",
     "output_type": "stream",
     "text": [
      "0.9665705436291787\n",
      "updating best... at 2025-06-23_00:39:56\n",
      "\n",
      "\n",
      "\n",
      "Data Unit: Spf\n",
      "Best score: 0.9665705436291787\n",
      "Best data config: {'data_unit': 'Spf', 'label_col': 'class_numeric', 'class_list': 'all-classes', 'num_classes': None, 'difficulty': None, 'class_numeric_list': None, 'batch_size': 1024, 'PH2': False, 'PH3': False, 'reducer': '', 'kernel': '', 'n': 72}\n",
      "Best train config: {'arch': 'BERT', 'device': device(type='mps'), 'loadable': 'gaunernst/bert-mini-uncased', 'optimizer': <class 'torch.optim.adamw.AdamW'>, 'lr': 1e-05, 'weight_decay': 0, 'loss_fn': <class 'torch.nn.modules.loss.CrossEntropyLoss'>, 'num_epochs': 3996}\n",
      "{'data_unit': 'Spv', 'label_col': 'class_numeric', 'class_list': 'all-classes', 'num_classes': None, 'difficulty': None, 'class_numeric_list': None, 'batch_size': 1024, 'PH2': True, 'PH3': True, 'reducer': 'pca', 'kernel': '', 'n': 15}\n",
      "{'arch': 'BERT', 'device': device(type='mps'), 'loadable': 'gaunernst/bert-mini-uncased', 'optimizer': <class 'torch.optim.adamw.AdamW'>, 'lr': 1e-05, 'weight_decay': 0, 'loss_fn': <class 'torch.nn.modules.loss.CrossEntropyLoss'>, 'num_epochs': 15984}\n"
     ]
    },
    {
     "name": "stderr",
     "output_type": "stream",
     "text": [
      "                                                                                                 \r"
     ]
    },
    {
     "name": "stdout",
     "output_type": "stream",
     "text": [
      "0.649167733674776\n",
      "updating best... at 2025-06-23_03:17:34\n",
      "\n",
      "\n",
      "\n",
      "{'data_unit': 'Spv', 'label_col': 'class_numeric', 'class_list': 'all-classes', 'num_classes': None, 'difficulty': None, 'class_numeric_list': None, 'batch_size': 1024, 'PH2': True, 'PH3': False, 'reducer': '', 'kernel': '', 'n': 75}\n",
      "{'arch': 'BERT', 'device': device(type='mps'), 'loadable': 'gaunernst/bert-mini-uncased', 'optimizer': <class 'torch.optim.adamw.AdamW'>, 'lr': 1e-05, 'weight_decay': 0, 'loss_fn': <class 'torch.nn.modules.loss.CrossEntropyLoss'>, 'num_epochs': 15984}\n"
     ]
    },
    {
     "name": "stderr",
     "output_type": "stream",
     "text": [
      "                                                                                               \r"
     ]
    },
    {
     "name": "stdout",
     "output_type": "stream",
     "text": [
      "0.6594110115236875\n",
      "updating best... at 2025-06-23_06:01:43\n",
      "\n",
      "\n",
      "\n",
      "{'data_unit': 'Spv', 'label_col': 'class_numeric', 'class_list': 'all-classes', 'num_classes': None, 'difficulty': None, 'class_numeric_list': None, 'batch_size': 1024, 'PH2': False, 'PH3': True, 'reducer': 'pca', 'kernel': '', 'n': 15}\n",
      "{'arch': 'BERT', 'device': device(type='mps'), 'loadable': 'gaunernst/bert-mini-uncased', 'optimizer': <class 'torch.optim.adamw.AdamW'>, 'lr': 1e-05, 'weight_decay': 0, 'loss_fn': <class 'torch.nn.modules.loss.CrossEntropyLoss'>, 'num_epochs': 15984}\n"
     ]
    },
    {
     "name": "stderr",
     "output_type": "stream",
     "text": [
      "                                                                                                 \r"
     ]
    },
    {
     "name": "stdout",
     "output_type": "stream",
     "text": [
      "0.8284250960307298\n",
      "updating best... at 2025-06-23_08:38:52\n",
      "\n",
      "\n",
      "\n",
      "{'data_unit': 'Spv', 'label_col': 'class_numeric', 'class_list': 'all-classes', 'num_classes': None, 'difficulty': None, 'class_numeric_list': None, 'batch_size': 1024, 'PH2': False, 'PH3': False, 'reducer': '', 'kernel': '', 'n': 72}\n",
      "{'arch': 'BERT', 'device': device(type='mps'), 'loadable': 'gaunernst/bert-mini-uncased', 'optimizer': <class 'torch.optim.adamw.AdamW'>, 'lr': 1e-05, 'weight_decay': 0, 'loss_fn': <class 'torch.nn.modules.loss.CrossEntropyLoss'>, 'num_epochs': 15984}\n"
     ]
    },
    {
     "name": "stderr",
     "output_type": "stream",
     "text": [
      "                                                                                                \r"
     ]
    },
    {
     "name": "stdout",
     "output_type": "stream",
     "text": [
      "0.8911651728553137\n",
      "updating best... at 2025-06-23_11:19:27\n",
      "\n",
      "\n",
      "\n",
      "Data Unit: Spv\n",
      "Best score: 0.8911651728553137\n",
      "Best data config: {'data_unit': 'Spv', 'label_col': 'class_numeric', 'class_list': 'all-classes', 'num_classes': None, 'difficulty': None, 'class_numeric_list': None, 'batch_size': 1024, 'PH2': False, 'PH3': False, 'reducer': '', 'kernel': '', 'n': 72}\n",
      "Best train config: {'arch': 'BERT', 'device': device(type='mps'), 'loadable': 'gaunernst/bert-mini-uncased', 'optimizer': <class 'torch.optim.adamw.AdamW'>, 'lr': 1e-05, 'weight_decay': 0, 'loss_fn': <class 'torch.nn.modules.loss.CrossEntropyLoss'>, 'num_epochs': 15984}\n"
     ]
    }
   ],
   "source": [
    "for data_unit in [sup.DATA_S_PF, sup.DATA_S_PV]:\n",
    "  bert.find_best(data_unit=data_unit, \n",
    "                  label_col=sup.class_numeric_column,\n",
    "                  class_list=TRAIN_classes, \n",
    "                  batch_size=exploring_batch_size,\n",
    "                  LOADABLE_CANDIDATES=[exploringBERT],\n",
    "                  )\n",
    "  \n",
    "  gc.collect()\n",
    "  if torch.backends.mps.is_available():\n",
    "    torch.mps.empty_cache()\n",
    "\n",
    "gc.collect()\n",
    "if torch.backends.mps.is_available():\n",
    "  torch.mps.empty_cache()"
   ]
  },
  {
   "cell_type": "markdown",
   "id": "0fcc663c",
   "metadata": {},
   "source": [
    "# Keep metrics"
   ]
  },
  {
   "cell_type": "code",
   "execution_count": 7,
   "id": "9757dc3a",
   "metadata": {},
   "outputs": [],
   "source": [
    "import pandas as pd\n",
    "from datetime import datetime"
   ]
  },
  {
   "cell_type": "code",
   "execution_count": 8,
   "id": "52f40ecc",
   "metadata": {},
   "outputs": [],
   "source": [
    "best_scores_df = pd.DataFrame(sup.bert_score_tracker, columns=sup.bert_scores_columns)\n",
    "now = datetime.now().strftime(\"%Y-%m-%d_%H:%M:%S\")\n",
    "sup.create_dir_if_not_exists(os.path.join(sup.TRAIN_SCORES_ROOT, TRAIN_classes, \n",
    "                                          sup.TRAIN_BERT_CODE, exploringBERT))\n",
    "best_scores_df.to_csv(os.path.join(sup.TRAIN_SCORES_ROOT, TRAIN_classes,\n",
    "                                       sup.TRAIN_BERT_CODE, exploringBERT,\n",
    "                                       f\"BERTbest-{now}.csv\"), index=False)"
   ]
  },
  {
   "cell_type": "code",
   "execution_count": 9,
   "id": "0d071650",
   "metadata": {},
   "outputs": [
    {
     "data": {
      "text/html": [
       "<div>\n",
       "<style scoped>\n",
       "    .dataframe tbody tr th:only-of-type {\n",
       "        vertical-align: middle;\n",
       "    }\n",
       "\n",
       "    .dataframe tbody tr th {\n",
       "        vertical-align: top;\n",
       "    }\n",
       "\n",
       "    .dataframe thead th {\n",
       "        text-align: right;\n",
       "    }\n",
       "</style>\n",
       "<table border=\"1\" class=\"dataframe\">\n",
       "  <thead>\n",
       "    <tr style=\"text-align: right;\">\n",
       "      <th></th>\n",
       "      <th>data_unit</th>\n",
       "      <th>class_list</th>\n",
       "      <th>difficulty</th>\n",
       "      <th>num_classes</th>\n",
       "      <th>class_name_list</th>\n",
       "      <th>PH2</th>\n",
       "      <th>PH3</th>\n",
       "      <th>reducer</th>\n",
       "      <th>kernel</th>\n",
       "      <th>num_components</th>\n",
       "      <th>batch_size</th>\n",
       "      <th>num_epochs</th>\n",
       "      <th>loadable</th>\n",
       "      <th>accuracy</th>\n",
       "      <th>top2accuracy</th>\n",
       "      <th>macro_f1</th>\n",
       "      <th>macro_precision</th>\n",
       "      <th>macro_recall</th>\n",
       "    </tr>\n",
       "  </thead>\n",
       "  <tbody>\n",
       "    <tr>\n",
       "      <th>0</th>\n",
       "      <td>Spf</td>\n",
       "      <td>all-classes</td>\n",
       "      <td>unspecified</td>\n",
       "      <td>37</td>\n",
       "      <td>[a, b, c, d, e, f, g, h, i, j, k, l, ll, m, n,...</td>\n",
       "      <td>True</td>\n",
       "      <td>True</td>\n",
       "      <td>pca</td>\n",
       "      <td>None</td>\n",
       "      <td>15</td>\n",
       "      <td>1024</td>\n",
       "      <td>3996</td>\n",
       "      <td>gaunernst/bert-mini-uncased</td>\n",
       "      <td>0.890527</td>\n",
       "      <td>0.953541</td>\n",
       "      <td>0.890443</td>\n",
       "      <td>0.890959</td>\n",
       "      <td>0.890969</td>\n",
       "    </tr>\n",
       "    <tr>\n",
       "      <th>1</th>\n",
       "      <td>Spf</td>\n",
       "      <td>all-classes</td>\n",
       "      <td>unspecified</td>\n",
       "      <td>37</td>\n",
       "      <td>[a, b, c, d, e, f, g, h, i, j, k, l, ll, m, n,...</td>\n",
       "      <td>True</td>\n",
       "      <td>False</td>\n",
       "      <td>None</td>\n",
       "      <td>None</td>\n",
       "      <td>75</td>\n",
       "      <td>1024</td>\n",
       "      <td>3996</td>\n",
       "      <td>gaunernst/bert-mini-uncased</td>\n",
       "      <td>0.920111</td>\n",
       "      <td>0.971377</td>\n",
       "      <td>0.919876</td>\n",
       "      <td>0.920372</td>\n",
       "      <td>0.920312</td>\n",
       "    </tr>\n",
       "    <tr>\n",
       "      <th>2</th>\n",
       "      <td>Spf</td>\n",
       "      <td>all-classes</td>\n",
       "      <td>unspecified</td>\n",
       "      <td>37</td>\n",
       "      <td>[a, b, c, d, e, f, g, h, i, j, k, l, ll, m, n,...</td>\n",
       "      <td>False</td>\n",
       "      <td>True</td>\n",
       "      <td>pca</td>\n",
       "      <td>None</td>\n",
       "      <td>15</td>\n",
       "      <td>1024</td>\n",
       "      <td>3996</td>\n",
       "      <td>gaunernst/bert-mini-uncased</td>\n",
       "      <td>0.953007</td>\n",
       "      <td>0.984514</td>\n",
       "      <td>0.953034</td>\n",
       "      <td>0.953349</td>\n",
       "      <td>0.953041</td>\n",
       "    </tr>\n",
       "    <tr>\n",
       "      <th>3</th>\n",
       "      <td>Spf</td>\n",
       "      <td>all-classes</td>\n",
       "      <td>unspecified</td>\n",
       "      <td>37</td>\n",
       "      <td>[a, b, c, d, e, f, g, h, i, j, k, l, ll, m, n,...</td>\n",
       "      <td>False</td>\n",
       "      <td>False</td>\n",
       "      <td>None</td>\n",
       "      <td>None</td>\n",
       "      <td>72</td>\n",
       "      <td>1024</td>\n",
       "      <td>3996</td>\n",
       "      <td>gaunernst/bert-mini-uncased</td>\n",
       "      <td>0.966571</td>\n",
       "      <td>0.987718</td>\n",
       "      <td>0.966580</td>\n",
       "      <td>0.966812</td>\n",
       "      <td>0.966611</td>\n",
       "    </tr>\n",
       "    <tr>\n",
       "      <th>4</th>\n",
       "      <td>Spv</td>\n",
       "      <td>all-classes</td>\n",
       "      <td>unspecified</td>\n",
       "      <td>37</td>\n",
       "      <td>[a, b, c, d, e, f, g, h, i, j, k, l, ll, m, n,...</td>\n",
       "      <td>True</td>\n",
       "      <td>True</td>\n",
       "      <td>pca</td>\n",
       "      <td>None</td>\n",
       "      <td>15</td>\n",
       "      <td>1024</td>\n",
       "      <td>15984</td>\n",
       "      <td>gaunernst/bert-mini-uncased</td>\n",
       "      <td>0.649168</td>\n",
       "      <td>0.786172</td>\n",
       "      <td>0.644585</td>\n",
       "      <td>0.656298</td>\n",
       "      <td>0.648202</td>\n",
       "    </tr>\n",
       "    <tr>\n",
       "      <th>5</th>\n",
       "      <td>Spv</td>\n",
       "      <td>all-classes</td>\n",
       "      <td>unspecified</td>\n",
       "      <td>37</td>\n",
       "      <td>[a, b, c, d, e, f, g, h, i, j, k, l, ll, m, n,...</td>\n",
       "      <td>True</td>\n",
       "      <td>False</td>\n",
       "      <td>None</td>\n",
       "      <td>None</td>\n",
       "      <td>75</td>\n",
       "      <td>1024</td>\n",
       "      <td>15984</td>\n",
       "      <td>gaunernst/bert-mini-uncased</td>\n",
       "      <td>0.659411</td>\n",
       "      <td>0.805378</td>\n",
       "      <td>0.659826</td>\n",
       "      <td>0.671543</td>\n",
       "      <td>0.659048</td>\n",
       "    </tr>\n",
       "    <tr>\n",
       "      <th>6</th>\n",
       "      <td>Spv</td>\n",
       "      <td>all-classes</td>\n",
       "      <td>unspecified</td>\n",
       "      <td>37</td>\n",
       "      <td>[a, b, c, d, e, f, g, h, i, j, k, l, ll, m, n,...</td>\n",
       "      <td>False</td>\n",
       "      <td>True</td>\n",
       "      <td>pca</td>\n",
       "      <td>None</td>\n",
       "      <td>15</td>\n",
       "      <td>1024</td>\n",
       "      <td>15984</td>\n",
       "      <td>gaunernst/bert-mini-uncased</td>\n",
       "      <td>0.828425</td>\n",
       "      <td>0.919334</td>\n",
       "      <td>0.828445</td>\n",
       "      <td>0.835974</td>\n",
       "      <td>0.827510</td>\n",
       "    </tr>\n",
       "    <tr>\n",
       "      <th>7</th>\n",
       "      <td>Spv</td>\n",
       "      <td>all-classes</td>\n",
       "      <td>unspecified</td>\n",
       "      <td>37</td>\n",
       "      <td>[a, b, c, d, e, f, g, h, i, j, k, l, ll, m, n,...</td>\n",
       "      <td>False</td>\n",
       "      <td>False</td>\n",
       "      <td>None</td>\n",
       "      <td>None</td>\n",
       "      <td>72</td>\n",
       "      <td>1024</td>\n",
       "      <td>15984</td>\n",
       "      <td>gaunernst/bert-mini-uncased</td>\n",
       "      <td>0.891165</td>\n",
       "      <td>0.956466</td>\n",
       "      <td>0.889026</td>\n",
       "      <td>0.893188</td>\n",
       "      <td>0.889383</td>\n",
       "    </tr>\n",
       "  </tbody>\n",
       "</table>\n",
       "</div>"
      ],
      "text/plain": [
       "  data_unit   class_list   difficulty  num_classes  \\\n",
       "0       Spf  all-classes  unspecified           37   \n",
       "1       Spf  all-classes  unspecified           37   \n",
       "2       Spf  all-classes  unspecified           37   \n",
       "3       Spf  all-classes  unspecified           37   \n",
       "4       Spv  all-classes  unspecified           37   \n",
       "5       Spv  all-classes  unspecified           37   \n",
       "6       Spv  all-classes  unspecified           37   \n",
       "7       Spv  all-classes  unspecified           37   \n",
       "\n",
       "                                     class_name_list    PH2    PH3 reducer  \\\n",
       "0  [a, b, c, d, e, f, g, h, i, j, k, l, ll, m, n,...   True   True     pca   \n",
       "1  [a, b, c, d, e, f, g, h, i, j, k, l, ll, m, n,...   True  False    None   \n",
       "2  [a, b, c, d, e, f, g, h, i, j, k, l, ll, m, n,...  False   True     pca   \n",
       "3  [a, b, c, d, e, f, g, h, i, j, k, l, ll, m, n,...  False  False    None   \n",
       "4  [a, b, c, d, e, f, g, h, i, j, k, l, ll, m, n,...   True   True     pca   \n",
       "5  [a, b, c, d, e, f, g, h, i, j, k, l, ll, m, n,...   True  False    None   \n",
       "6  [a, b, c, d, e, f, g, h, i, j, k, l, ll, m, n,...  False   True     pca   \n",
       "7  [a, b, c, d, e, f, g, h, i, j, k, l, ll, m, n,...  False  False    None   \n",
       "\n",
       "  kernel  num_components  batch_size  num_epochs                     loadable  \\\n",
       "0   None              15        1024        3996  gaunernst/bert-mini-uncased   \n",
       "1   None              75        1024        3996  gaunernst/bert-mini-uncased   \n",
       "2   None              15        1024        3996  gaunernst/bert-mini-uncased   \n",
       "3   None              72        1024        3996  gaunernst/bert-mini-uncased   \n",
       "4   None              15        1024       15984  gaunernst/bert-mini-uncased   \n",
       "5   None              75        1024       15984  gaunernst/bert-mini-uncased   \n",
       "6   None              15        1024       15984  gaunernst/bert-mini-uncased   \n",
       "7   None              72        1024       15984  gaunernst/bert-mini-uncased   \n",
       "\n",
       "   accuracy  top2accuracy  macro_f1  macro_precision  macro_recall  \n",
       "0  0.890527      0.953541  0.890443         0.890959      0.890969  \n",
       "1  0.920111      0.971377  0.919876         0.920372      0.920312  \n",
       "2  0.953007      0.984514  0.953034         0.953349      0.953041  \n",
       "3  0.966571      0.987718  0.966580         0.966812      0.966611  \n",
       "4  0.649168      0.786172  0.644585         0.656298      0.648202  \n",
       "5  0.659411      0.805378  0.659826         0.671543      0.659048  \n",
       "6  0.828425      0.919334  0.828445         0.835974      0.827510  \n",
       "7  0.891165      0.956466  0.889026         0.893188      0.889383  "
      ]
     },
     "execution_count": 9,
     "metadata": {},
     "output_type": "execute_result"
    }
   ],
   "source": [
    "best_scores_df"
   ]
  },
  {
   "cell_type": "code",
   "execution_count": null,
   "id": "528cb17d",
   "metadata": {},
   "outputs": [],
   "source": []
  }
 ],
 "metadata": {
  "kernelspec": {
   "display_name": "TOG_BERT_v2",
   "language": "python",
   "name": "python3"
  },
  "language_info": {
   "codemirror_mode": {
    "name": "ipython",
    "version": 3
   },
   "file_extension": ".py",
   "mimetype": "text/x-python",
   "name": "python",
   "nbconvert_exporter": "python",
   "pygments_lexer": "ipython3",
   "version": "3.10.18"
  }
 },
 "nbformat": 4,
 "nbformat_minor": 5
}
