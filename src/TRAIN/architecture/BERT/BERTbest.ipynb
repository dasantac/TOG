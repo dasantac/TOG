{
 "cells": [
  {
   "cell_type": "markdown",
   "id": "89ee13e1",
   "metadata": {},
   "source": [
    "# Context\n",
    "This notebook drives the training process for different models."
   ]
  },
  {
   "cell_type": "code",
   "execution_count": 1,
   "id": "e4fd000c",
   "metadata": {},
   "outputs": [],
   "source": [
    "# Set project's environment variables\n",
    "import os\n",
    "import sys\n",
    "from dotenv import load_dotenv\n",
    "load_dotenv(dotenv_path=\"../../../project.env\")\n",
    "sys.path.append(os.environ[\"PYTHONPATH\"])"
   ]
  },
  {
   "cell_type": "code",
   "execution_count": 2,
   "id": "977883e5",
   "metadata": {},
   "outputs": [],
   "source": [
    "# Import project-wide and PH2 specific variables and functions\n",
    "import superheader as sup\n",
    "from TRAIN.architecture.archeader import Arch, print_best\n",
    "import TRAIN.architecture.BERT.bert as bert"
   ]
  },
  {
   "cell_type": "code",
   "execution_count": 3,
   "id": "f3d793cf",
   "metadata": {},
   "outputs": [],
   "source": [
    "import pandas as pd\n",
    "from datetime import datetime"
   ]
  },
  {
   "cell_type": "markdown",
   "id": "77cfeda0",
   "metadata": {},
   "source": [
    "# Models"
   ]
  },
  {
   "cell_type": "markdown",
   "id": "3e2a82a4",
   "metadata": {},
   "source": [
    "## Setup"
   ]
  },
  {
   "cell_type": "code",
   "execution_count": 4,
   "id": "5ad0b6b8",
   "metadata": {},
   "outputs": [],
   "source": [
    "import torch\n",
    "import torch.nn as nn\n",
    "import torch.optim as optim\n",
    "\n",
    "import gc"
   ]
  },
  {
   "cell_type": "code",
   "execution_count": 5,
   "id": "72eacf75",
   "metadata": {},
   "outputs": [],
   "source": [
    "TRAIN_classes = 'ten-classes'\n",
    "\n",
    "base_data_config = {\n",
    "  \"PH3\" : False,\n",
    "  \"reducer\" : '',\n",
    "  \"kernel\" : '',\n",
    "  \"label_col\" : sup.class_numeric_column,\n",
    "  \"class_list\" : TRAIN_classes,\n",
    "  \"batch_size\" : 1024,\n",
    "}\n",
    "\n",
    "base_train_config = {\n",
    "  \"device\" : bert.device,\n",
    "  \"arch\" : sup.TRAIN_BERT_CODE,\n",
    "  \"optimizer\" : optim.AdamW,\n",
    "  \"lr\" : 1e-5,\n",
    "  \"weight_decay\" : 0,\n",
    "  \"loss_fn\" : nn.CrossEntropyLoss\n",
    "}\n",
    "\n",
    "base_num_epochs = 37"
   ]
  },
  {
   "cell_type": "markdown",
   "id": "d502c57a",
   "metadata": {},
   "source": [
    "## Train"
   ]
  },
  {
   "cell_type": "code",
   "execution_count": 6,
   "id": "bb1262ab",
   "metadata": {},
   "outputs": [],
   "source": [
    "sup.bert_score_tracker = []"
   ]
  },
  {
   "cell_type": "code",
   "execution_count": null,
   "id": "209396b0",
   "metadata": {},
   "outputs": [
    {
     "name": "stdout",
     "output_type": "stream",
     "text": [
      "{'PH3': False, 'reducer': '', 'kernel': '', 'label_col': 'class_numeric', 'class_list': 'ten-classes', 'batch_size': 1024, 'data_unit': 'Spf', 'PH2': False, 'n': 72}\n",
      "{'device': device(type='mps'), 'arch': 'BERT', 'optimizer': <class 'torch.optim.adamw.AdamW'>, 'lr': 1e-05, 'weight_decay': 0, 'loss_fn': <class 'torch.nn.modules.loss.CrossEntropyLoss'>, 'loadable': 'prajjwal1/bert-tiny', 'num_epochs': 185}\n"
     ]
    },
    {
     "name": "stderr",
     "output_type": "stream",
     "text": [
      "                                                                                    \r"
     ]
    },
    {
     "name": "stdout",
     "output_type": "stream",
     "text": [
      "0.7360285374554102\n",
      "updating best... at 2025-06-14_17:31:48\n",
      "\n",
      "\n",
      "\n",
      "{'PH3': False, 'reducer': '', 'kernel': '', 'label_col': 'class_numeric', 'class_list': 'ten-classes', 'batch_size': 1024, 'data_unit': 'Spf', 'PH2': False, 'n': 72}\n",
      "{'device': device(type='mps'), 'arch': 'BERT', 'optimizer': <class 'torch.optim.adamw.AdamW'>, 'lr': 1e-05, 'weight_decay': 0, 'loss_fn': <class 'torch.nn.modules.loss.CrossEntropyLoss'>, 'loadable': 'distilbert-base-uncased', 'num_epochs': 37}\n"
     ]
    },
    {
     "name": "stderr",
     "output_type": "stream",
     "text": [
      "                                                                                 \r"
     ]
    },
    {
     "name": "stdout",
     "output_type": "stream",
     "text": [
      "0.8783194609591756\n",
      "updating best... at 2025-06-14_17:33:15\n",
      "\n",
      "\n",
      "\n",
      "{'PH3': False, 'reducer': '', 'kernel': '', 'label_col': 'class_numeric', 'class_list': 'ten-classes', 'batch_size': 1024, 'data_unit': 'Spf', 'PH2': True, 'n': 75}\n",
      "{'device': device(type='mps'), 'arch': 'BERT', 'optimizer': <class 'torch.optim.adamw.AdamW'>, 'lr': 1e-05, 'weight_decay': 0, 'loss_fn': <class 'torch.nn.modules.loss.CrossEntropyLoss'>, 'loadable': 'prajjwal1/bert-tiny', 'num_epochs': 185}\n"
     ]
    },
    {
     "name": "stderr",
     "output_type": "stream",
     "text": [
      "                                                                                    \r"
     ]
    },
    {
     "name": "stdout",
     "output_type": "stream",
     "text": [
      "0.43162901307966706\n",
      "not best... at 2025-06-14_17:33:51\n",
      "\n",
      "\n",
      "\n",
      "{'PH3': False, 'reducer': '', 'kernel': '', 'label_col': 'class_numeric', 'class_list': 'ten-classes', 'batch_size': 1024, 'data_unit': 'Spf', 'PH2': True, 'n': 75}\n",
      "{'device': device(type='mps'), 'arch': 'BERT', 'optimizer': <class 'torch.optim.adamw.AdamW'>, 'lr': 1e-05, 'weight_decay': 0, 'loss_fn': <class 'torch.nn.modules.loss.CrossEntropyLoss'>, 'loadable': 'distilbert-base-uncased', 'num_epochs': 37}\n"
     ]
    },
    {
     "name": "stderr",
     "output_type": "stream",
     "text": [
      "                                                                                 \r"
     ]
    },
    {
     "name": "stdout",
     "output_type": "stream",
     "text": [
      "0.5307173999207293\n",
      "not best... at 2025-06-14_17:35:16\n",
      "\n",
      "\n",
      "\n",
      "{'PH3': False, 'reducer': '', 'kernel': '', 'label_col': 'class_numeric', 'class_list': 'ten-classes', 'batch_size': 1024, 'data_unit': 'Spv', 'PH2': False, 'n': 72}\n",
      "{'device': device(type='mps'), 'arch': 'BERT', 'optimizer': <class 'torch.optim.adamw.AdamW'>, 'lr': 1e-05, 'weight_decay': 0, 'loss_fn': <class 'torch.nn.modules.loss.CrossEntropyLoss'>, 'loadable': 'prajjwal1/bert-tiny', 'num_epochs': 740}\n"
     ]
    },
    {
     "name": "stderr",
     "output_type": "stream",
     "text": [
      "                                                                                    \r"
     ]
    },
    {
     "name": "stdout",
     "output_type": "stream",
     "text": [
      "0.7962085308056872\n",
      "updating best... at 2025-06-14_17:35:44\n",
      "\n",
      "\n",
      "\n",
      "{'PH3': False, 'reducer': '', 'kernel': '', 'label_col': 'class_numeric', 'class_list': 'ten-classes', 'batch_size': 1024, 'data_unit': 'Spv', 'PH2': False, 'n': 72}\n",
      "{'device': device(type='mps'), 'arch': 'BERT', 'optimizer': <class 'torch.optim.adamw.AdamW'>, 'lr': 1e-05, 'weight_decay': 0, 'loss_fn': <class 'torch.nn.modules.loss.CrossEntropyLoss'>, 'loadable': 'distilbert-base-uncased', 'num_epochs': 148}\n"
     ]
    },
    {
     "name": "stderr",
     "output_type": "stream",
     "text": [
      "                                                                                     \r"
     ]
    },
    {
     "name": "stdout",
     "output_type": "stream",
     "text": [
      "0.8957345971563981\n",
      "updating best... at 2025-06-14_17:40:59\n",
      "\n",
      "\n",
      "\n",
      "{'PH3': False, 'reducer': '', 'kernel': '', 'label_col': 'class_numeric', 'class_list': 'ten-classes', 'batch_size': 1024, 'data_unit': 'Spv', 'PH2': True, 'n': 75}\n",
      "{'device': device(type='mps'), 'arch': 'BERT', 'optimizer': <class 'torch.optim.adamw.AdamW'>, 'lr': 1e-05, 'weight_decay': 0, 'loss_fn': <class 'torch.nn.modules.loss.CrossEntropyLoss'>, 'loadable': 'prajjwal1/bert-tiny', 'num_epochs': 740}\n"
     ]
    },
    {
     "name": "stderr",
     "output_type": "stream",
     "text": [
      "                                                                                    \r"
     ]
    },
    {
     "name": "stdout",
     "output_type": "stream",
     "text": [
      "0.41706161137440756\n",
      "not best... at 2025-06-14_17:41:28\n",
      "\n",
      "\n",
      "\n",
      "{'PH3': False, 'reducer': '', 'kernel': '', 'label_col': 'class_numeric', 'class_list': 'ten-classes', 'batch_size': 1024, 'data_unit': 'Spv', 'PH2': True, 'n': 75}\n",
      "{'device': device(type='mps'), 'arch': 'BERT', 'optimizer': <class 'torch.optim.adamw.AdamW'>, 'lr': 1e-05, 'weight_decay': 0, 'loss_fn': <class 'torch.nn.modules.loss.CrossEntropyLoss'>, 'loadable': 'distilbert-base-uncased', 'num_epochs': 148}\n"
     ]
    },
    {
     "name": "stderr",
     "output_type": "stream",
     "text": [
      "                                                                                     \r"
     ]
    },
    {
     "name": "stdout",
     "output_type": "stream",
     "text": [
      "0.5734597156398105\n",
      "not best... at 2025-06-14_17:46:40\n",
      "\n",
      "\n",
      "\n"
     ]
    }
   ],
   "source": [
    "configs = list()\n",
    "\n",
    "for data_unit in [sup.DATA_S_PF, sup.DATA_S_PV]:\n",
    "  for PH2 in [False, True]:\n",
    "    data_config = base_data_config.copy()\n",
    "\n",
    "    data_config[\"data_unit\"] = data_unit\n",
    "    data_unit_multiplier = 4 if data_unit == sup.DATA_S_PV else 1\n",
    "\n",
    "    data_config[\"PH2\"] = PH2\n",
    "    data_config[\"n\"] = 75 if PH2 else 72\n",
    "\n",
    "    arch = Arch(data_config=data_config, df=None, \n",
    "                train_config={\"arch\" : \"generic\"})\n",
    "    save_df = arch.df\n",
    "    for loadable in [bert.BERT_TINY, bert.DISTILBERT]:\n",
    "      train_config = base_train_config.copy()\n",
    "\n",
    "      train_config[\"loadable\"] = loadable\n",
    "      loadable_multiplier = 5 if loadable == bert.BERT_TINY else 1\n",
    "\n",
    "      train_config[\"num_epochs\"] = base_num_epochs \\\n",
    "                                    * data_unit_multiplier \\\n",
    "                                    * loadable_multiplier\n",
    "      \n",
    "      bert.train_one_model((data_config, train_config, save_df))\n",
    "    \n",
    "    del save_df\n",
    "    bert.clean_bert(arch)\n",
    "    gc.collect()\n",
    "    if torch.backends.mps.is_available():\n",
    "      torch.mps.empty_cache()"
   ]
  },
  {
   "cell_type": "markdown",
   "id": "754a9a0a",
   "metadata": {},
   "source": [
    "## Keep scores"
   ]
  },
  {
   "cell_type": "code",
   "execution_count": 8,
   "id": "55f6e258",
   "metadata": {},
   "outputs": [
    {
     "name": "stdout",
     "output_type": "stream",
     "text": [
      "Data Unit: Spf\n",
      "Best score: 0.8783194609591756\n",
      "Best data config: {'PH3': False, 'reducer': '', 'kernel': '', 'label_col': 'class_numeric', 'class_list': 'ten-classes', 'batch_size': 1024, 'data_unit': 'Spf', 'PH2': False, 'n': 72}\n",
      "Best train config: {'device': device(type='mps'), 'arch': 'BERT', 'optimizer': <class 'torch.optim.adamw.AdamW'>, 'lr': 1e-05, 'weight_decay': 0, 'loss_fn': <class 'torch.nn.modules.loss.CrossEntropyLoss'>, 'loadable': 'distilbert-base-uncased', 'num_epochs': 37}\n",
      "Data Unit: Spv\n",
      "Best score: 0.8957345971563981\n",
      "Best data config: {'PH3': False, 'reducer': '', 'kernel': '', 'label_col': 'class_numeric', 'class_list': 'ten-classes', 'batch_size': 1024, 'data_unit': 'Spv', 'PH2': False, 'n': 72}\n",
      "Best train config: {'device': device(type='mps'), 'arch': 'BERT', 'optimizer': <class 'torch.optim.adamw.AdamW'>, 'lr': 1e-05, 'weight_decay': 0, 'loss_fn': <class 'torch.nn.modules.loss.CrossEntropyLoss'>, 'loadable': 'distilbert-base-uncased', 'num_epochs': 148}\n"
     ]
    }
   ],
   "source": [
    "print_best(sup.TRAIN_BERT_CODE, sup.DATA_S_PF)\n",
    "print_best(sup.TRAIN_BERT_CODE, sup.DATA_S_PV)"
   ]
  },
  {
   "cell_type": "code",
   "execution_count": 9,
   "id": "f174273a",
   "metadata": {},
   "outputs": [],
   "source": [
    "bert_scores_df = pd.DataFrame(sup.bert_score_tracker, columns=sup.bert_scores_columns)\n",
    "now = datetime.now().strftime(\"%Y-%m-%d_%H:%M:%S\")\n",
    "sup.create_dir_if_not_exists(os.path.join(sup.TRAIN_SCORES_ROOT, TRAIN_classes, \n",
    "                                          sup.TRAIN_BERT_CODE,\n",
    "                                          \"best\"))\n",
    "bert_scores_df.to_csv(os.path.join(sup.TRAIN_SCORES_ROOT, TRAIN_classes, \n",
    "                                          sup.TRAIN_BERT_CODE,\n",
    "                                          \"best\", \n",
    "                                          f\"{now}.csv\"), index=False)"
   ]
  }
 ],
 "metadata": {
  "kernelspec": {
   "display_name": "TOG_BERT_v2",
   "language": "python",
   "name": "python3"
  },
  "language_info": {
   "codemirror_mode": {
    "name": "ipython",
    "version": 3
   },
   "file_extension": ".py",
   "mimetype": "text/x-python",
   "name": "python",
   "nbconvert_exporter": "python",
   "pygments_lexer": "ipython3",
   "version": "3.10.18"
  }
 },
 "nbformat": 4,
 "nbformat_minor": 5
}
