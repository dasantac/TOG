{
 "cells": [
  {
   "cell_type": "markdown",
   "id": "49d5119d",
   "metadata": {},
   "source": [
    "# Context\n",
    "This notebook drives the training process for different models."
   ]
  },
  {
   "cell_type": "code",
   "execution_count": 1,
   "id": "437324c6",
   "metadata": {},
   "outputs": [],
   "source": [
    "# Set project's environment variables\n",
    "import os\n",
    "import sys\n",
    "from dotenv import load_dotenv\n",
    "load_dotenv(dotenv_path=\"../../../project.env\")\n",
    "sys.path.append(os.environ[\"PYTHONPATH\"])"
   ]
  },
  {
   "cell_type": "code",
   "execution_count": 2,
   "id": "cf9da1c2",
   "metadata": {},
   "outputs": [],
   "source": [
    "# Import project-wide and PH2 specific variables and functions\n",
    "import superheader as sup\n",
    "import TRAIN.architecture.BERT.bert as bert"
   ]
  },
  {
   "cell_type": "markdown",
   "id": "1109f09f",
   "metadata": {},
   "source": [
    "# Models"
   ]
  },
  {
   "cell_type": "markdown",
   "id": "4773797f",
   "metadata": {},
   "source": [
    "## Setup"
   ]
  },
  {
   "cell_type": "code",
   "execution_count": 3,
   "id": "04aaf65a",
   "metadata": {},
   "outputs": [],
   "source": [
    "import torch\n",
    "import torch.nn as nn\n",
    "import torch.optim as optim\n",
    "\n",
    "import gc"
   ]
  },
  {
   "cell_type": "code",
   "execution_count": 4,
   "id": "5419d56f",
   "metadata": {},
   "outputs": [],
   "source": [
    "TRAIN_CLASSES = \"two-classes\"\n",
    "num_classes = 2\n",
    "exploring_batch_size = 1024\n",
    "base_num_epochs = 2\n",
    "rate_num_epochs = 3.5\n",
    "num_class_candidates = list(range(2, num_classes+1, 2))"
   ]
  },
  {
   "cell_type": "code",
   "execution_count": 5,
   "id": "2c808347",
   "metadata": {},
   "outputs": [
    {
     "data": {
      "text/plain": [
       "{2: {'easy': [0, 1], 'average': [0, 1], 'hard': [0, 1]}}"
      ]
     },
     "execution_count": 5,
     "metadata": {},
     "output_type": "execute_result"
    }
   ],
   "source": [
    "import json\n",
    "with open(os.path.join(sup.DATA_ROOT, f\"{TRAIN_CLASSES}-subsets.json\"), \"r\") as f:\n",
    "    loaded = json.load(f)\n",
    "\n",
    "# Convert keys back to int and lists back to tuples\n",
    "subsets = {\n",
    "    int(k): {d: v for d, v in v_dict.items()}\n",
    "    for k, v_dict in loaded.items()\n",
    "}\n",
    "subsets\n"
   ]
  },
  {
   "cell_type": "code",
   "execution_count": 6,
   "id": "64e44df6",
   "metadata": {},
   "outputs": [],
   "source": [
    "base_data_config = {\n",
    "  \"PH3\" : False,\n",
    "  \"reducer\" : '',\n",
    "  \"kernel\" : '',\n",
    "  \"label_col\" : sup.class_numeric_column,\n",
    "  \"batch_size\" : exploring_batch_size,\n",
    "  \"class_list\" : 'specified'\n",
    "}\n",
    "\n",
    "base_train_config = {\n",
    "  \"device\" : bert.device,\n",
    "  \"arch\" : sup.TRAIN_BERT_CODE,\n",
    "  \"loadable\" : bert.DISTILBERT,\n",
    "  \"optimizer\" : optim.AdamW,\n",
    "  \"lr\" : 1e-5,\n",
    "  \"weight_decay\" : 0,\n",
    "  \"loss_fn\" : nn.CrossEntropyLoss,\n",
    "}\n",
    "\n"
   ]
  },
  {
   "cell_type": "markdown",
   "id": "de39f8d5",
   "metadata": {},
   "source": [
    "## Train"
   ]
  },
  {
   "cell_type": "code",
   "execution_count": 7,
   "id": "f8ac260c",
   "metadata": {},
   "outputs": [],
   "source": [
    "metric_tracker = list()"
   ]
  },
  {
   "cell_type": "code",
   "execution_count": 8,
   "id": "7710fdf8",
   "metadata": {},
   "outputs": [
    {
     "name": "stdout",
     "output_type": "stream",
     "text": [
      "{'PH3': False, 'reducer': '', 'kernel': '', 'label_col': 'class_numeric', 'batch_size': 1024, 'class_list': 'specified', 'data_unit': 'Spf', 'PH2': False, 'n': 72, 'difficulty': 'easy', 'class_numeric_list': [0, 1]}\n",
      "{'device': device(type='mps'), 'arch': 'BERT', 'loadable': 'distilbert-base-uncased', 'optimizer': <class 'torch.optim.adamw.AdamW'>, 'lr': 1e-05, 'weight_decay': 0, 'loss_fn': <class 'torch.nn.modules.loss.CrossEntropyLoss'>, 'num_epochs': 9}\n"
     ]
    },
    {
     "name": "stderr",
     "output_type": "stream",
     "text": [
      "                                                                              \r"
     ]
    },
    {
     "name": "stdout",
     "output_type": "stream",
     "text": [
      "0.626953125\n",
      "1\n",
      "0.5848795500371431\n",
      "0.7387288708586883\n",
      "0.6347633587786259\n",
      "{'PH3': False, 'reducer': '', 'kernel': '', 'label_col': 'class_numeric', 'batch_size': 1024, 'class_list': 'specified', 'data_unit': 'Spf', 'PH2': False, 'n': 72, 'difficulty': 'average', 'class_numeric_list': [0, 1]}\n",
      "{'device': device(type='mps'), 'arch': 'BERT', 'loadable': 'distilbert-base-uncased', 'optimizer': <class 'torch.optim.adamw.AdamW'>, 'lr': 1e-05, 'weight_decay': 0, 'loss_fn': <class 'torch.nn.modules.loss.CrossEntropyLoss'>, 'num_epochs': 9}\n"
     ]
    },
    {
     "name": "stderr",
     "output_type": "stream",
     "text": [
      "                                                                              \r"
     ]
    },
    {
     "name": "stdout",
     "output_type": "stream",
     "text": [
      "0.6328125\n",
      "1\n",
      "0.5885088919288646\n",
      "0.7616562677254679\n",
      "0.640854961832061\n",
      "{'PH3': False, 'reducer': '', 'kernel': '', 'label_col': 'class_numeric', 'batch_size': 1024, 'class_list': 'specified', 'data_unit': 'Spf', 'PH2': False, 'n': 72, 'difficulty': 'hard', 'class_numeric_list': [0, 1]}\n",
      "{'device': device(type='mps'), 'arch': 'BERT', 'loadable': 'distilbert-base-uncased', 'optimizer': <class 'torch.optim.adamw.AdamW'>, 'lr': 1e-05, 'weight_decay': 0, 'loss_fn': <class 'torch.nn.modules.loss.CrossEntropyLoss'>, 'num_epochs': 9}\n"
     ]
    },
    {
     "name": "stderr",
     "output_type": "stream",
     "text": [
      "                                                                              \r"
     ]
    },
    {
     "name": "stdout",
     "output_type": "stream",
     "text": [
      "0.8515625\n",
      "1\n",
      "0.8515602349889372\n",
      "0.8522727272727273\n",
      "0.8521221374045802\n",
      "{'PH3': False, 'reducer': '', 'kernel': '', 'label_col': 'class_numeric', 'batch_size': 1024, 'class_list': 'specified', 'data_unit': 'Spf', 'PH2': True, 'n': 75, 'difficulty': 'easy', 'class_numeric_list': [0, 1]}\n",
      "{'device': device(type='mps'), 'arch': 'BERT', 'loadable': 'distilbert-base-uncased', 'optimizer': <class 'torch.optim.adamw.AdamW'>, 'lr': 1e-05, 'weight_decay': 0, 'loss_fn': <class 'torch.nn.modules.loss.CrossEntropyLoss'>, 'num_epochs': 9}\n"
     ]
    },
    {
     "name": "stderr",
     "output_type": "stream",
     "text": [
      "                                                                              \r"
     ]
    },
    {
     "name": "stdout",
     "output_type": "stream",
     "text": [
      "0.609375\n",
      "1\n",
      "0.5609747731988819\n",
      "0.7226851851851852\n",
      "0.6174961832061069\n",
      "{'PH3': False, 'reducer': '', 'kernel': '', 'label_col': 'class_numeric', 'batch_size': 1024, 'class_list': 'specified', 'data_unit': 'Spf', 'PH2': True, 'n': 75, 'difficulty': 'average', 'class_numeric_list': [0, 1]}\n",
      "{'device': device(type='mps'), 'arch': 'BERT', 'loadable': 'distilbert-base-uncased', 'optimizer': <class 'torch.optim.adamw.AdamW'>, 'lr': 1e-05, 'weight_decay': 0, 'loss_fn': <class 'torch.nn.modules.loss.CrossEntropyLoss'>, 'num_epochs': 9}\n"
     ]
    },
    {
     "name": "stderr",
     "output_type": "stream",
     "text": [
      "                                                                              \r"
     ]
    },
    {
     "name": "stdout",
     "output_type": "stream",
     "text": [
      "0.619140625\n",
      "1\n",
      "0.5700536141076158\n",
      "0.7491416629347664\n",
      "0.6274045801526718\n",
      "{'PH3': False, 'reducer': '', 'kernel': '', 'label_col': 'class_numeric', 'batch_size': 1024, 'class_list': 'specified', 'data_unit': 'Spf', 'PH2': True, 'n': 75, 'difficulty': 'hard', 'class_numeric_list': [0, 1]}\n",
      "{'device': device(type='mps'), 'arch': 'BERT', 'loadable': 'distilbert-base-uncased', 'optimizer': <class 'torch.optim.adamw.AdamW'>, 'lr': 1e-05, 'weight_decay': 0, 'loss_fn': <class 'torch.nn.modules.loss.CrossEntropyLoss'>, 'num_epochs': 9}\n"
     ]
    },
    {
     "name": "stderr",
     "output_type": "stream",
     "text": [
      "                                                                              \r"
     ]
    },
    {
     "name": "stdout",
     "output_type": "stream",
     "text": [
      "0.591796875\n",
      "1\n",
      "0.5320111084384772\n",
      "0.7207949018950193\n",
      "0.6005038167938931\n",
      "{'PH3': False, 'reducer': '', 'kernel': '', 'label_col': 'class_numeric', 'batch_size': 1024, 'class_list': 'specified', 'data_unit': 'Spv', 'PH2': False, 'n': 72, 'difficulty': 'easy', 'class_numeric_list': [0, 1]}\n",
      "{'device': device(type='mps'), 'arch': 'BERT', 'loadable': 'distilbert-base-uncased', 'optimizer': <class 'torch.optim.adamw.AdamW'>, 'lr': 1e-05, 'weight_decay': 0, 'loss_fn': <class 'torch.nn.modules.loss.CrossEntropyLoss'>, 'num_epochs': 9}\n"
     ]
    },
    {
     "name": "stderr",
     "output_type": "stream",
     "text": [
      "                                                                               \r"
     ]
    },
    {
     "name": "stdout",
     "output_type": "stream",
     "text": [
      "0.6976744186046512\n",
      "1\n",
      "0.6721407624633431\n",
      "0.8088235294117647\n",
      "0.7045454545454546\n",
      "{'PH3': False, 'reducer': '', 'kernel': '', 'label_col': 'class_numeric', 'batch_size': 1024, 'class_list': 'specified', 'data_unit': 'Spv', 'PH2': False, 'n': 72, 'difficulty': 'average', 'class_numeric_list': [0, 1]}\n",
      "{'device': device(type='mps'), 'arch': 'BERT', 'loadable': 'distilbert-base-uncased', 'optimizer': <class 'torch.optim.adamw.AdamW'>, 'lr': 1e-05, 'weight_decay': 0, 'loss_fn': <class 'torch.nn.modules.loss.CrossEntropyLoss'>, 'num_epochs': 9}\n"
     ]
    },
    {
     "name": "stderr",
     "output_type": "stream",
     "text": [
      "                                                                               \r"
     ]
    },
    {
     "name": "stdout",
     "output_type": "stream",
     "text": [
      "0.6744186046511628\n",
      "1\n",
      "0.6416666666666666\n",
      "0.8\n",
      "0.6818181818181819\n",
      "{'PH3': False, 'reducer': '', 'kernel': '', 'label_col': 'class_numeric', 'batch_size': 1024, 'class_list': 'specified', 'data_unit': 'Spv', 'PH2': False, 'n': 72, 'difficulty': 'hard', 'class_numeric_list': [0, 1]}\n",
      "{'device': device(type='mps'), 'arch': 'BERT', 'loadable': 'distilbert-base-uncased', 'optimizer': <class 'torch.optim.adamw.AdamW'>, 'lr': 1e-05, 'weight_decay': 0, 'loss_fn': <class 'torch.nn.modules.loss.CrossEntropyLoss'>, 'num_epochs': 9}\n"
     ]
    },
    {
     "name": "stderr",
     "output_type": "stream",
     "text": [
      "                                                                               \r"
     ]
    },
    {
     "name": "stdout",
     "output_type": "stream",
     "text": [
      "0.7906976744186046\n",
      "1\n",
      "0.7831932773109244\n",
      "0.85\n",
      "0.7954545454545454\n",
      "{'PH3': False, 'reducer': '', 'kernel': '', 'label_col': 'class_numeric', 'batch_size': 1024, 'class_list': 'specified', 'data_unit': 'Spv', 'PH2': True, 'n': 75, 'difficulty': 'easy', 'class_numeric_list': [0, 1]}\n",
      "{'device': device(type='mps'), 'arch': 'BERT', 'loadable': 'distilbert-base-uncased', 'optimizer': <class 'torch.optim.adamw.AdamW'>, 'lr': 1e-05, 'weight_decay': 0, 'loss_fn': <class 'torch.nn.modules.loss.CrossEntropyLoss'>, 'num_epochs': 9}\n"
     ]
    },
    {
     "name": "stderr",
     "output_type": "stream",
     "text": [
      "/Users/diego/miniconda3/envs/TOG_BERT_v2/lib/python3.10/site-packages/sklearn/metrics/_classification.py:1706: UndefinedMetricWarning: Precision is ill-defined and being set to 0.0 in labels with no predicted samples. Use `zero_division` parameter to control this behavior.\n",
      "  _warn_prf(average, modifier, f\"{metric.capitalize()} is\", result.shape[0])\n"
     ]
    },
    {
     "name": "stdout",
     "output_type": "stream",
     "text": [
      "0.5116279069767442\n",
      "1\n",
      "0.3384615384615385\n",
      "0.2558139534883721\n",
      "0.5\n",
      "{'PH3': False, 'reducer': '', 'kernel': '', 'label_col': 'class_numeric', 'batch_size': 1024, 'class_list': 'specified', 'data_unit': 'Spv', 'PH2': True, 'n': 75, 'difficulty': 'average', 'class_numeric_list': [0, 1]}\n",
      "{'device': device(type='mps'), 'arch': 'BERT', 'loadable': 'distilbert-base-uncased', 'optimizer': <class 'torch.optim.adamw.AdamW'>, 'lr': 1e-05, 'weight_decay': 0, 'loss_fn': <class 'torch.nn.modules.loss.CrossEntropyLoss'>, 'num_epochs': 9}\n"
     ]
    },
    {
     "name": "stderr",
     "output_type": "stream",
     "text": [
      "/Users/diego/miniconda3/envs/TOG_BERT_v2/lib/python3.10/site-packages/sklearn/metrics/_classification.py:1706: UndefinedMetricWarning: Precision is ill-defined and being set to 0.0 in labels with no predicted samples. Use `zero_division` parameter to control this behavior.\n",
      "  _warn_prf(average, modifier, f\"{metric.capitalize()} is\", result.shape[0])\n"
     ]
    },
    {
     "name": "stdout",
     "output_type": "stream",
     "text": [
      "0.5116279069767442\n",
      "1\n",
      "0.3384615384615385\n",
      "0.2558139534883721\n",
      "0.5\n",
      "{'PH3': False, 'reducer': '', 'kernel': '', 'label_col': 'class_numeric', 'batch_size': 1024, 'class_list': 'specified', 'data_unit': 'Spv', 'PH2': True, 'n': 75, 'difficulty': 'hard', 'class_numeric_list': [0, 1]}\n",
      "{'device': device(type='mps'), 'arch': 'BERT', 'loadable': 'distilbert-base-uncased', 'optimizer': <class 'torch.optim.adamw.AdamW'>, 'lr': 1e-05, 'weight_decay': 0, 'loss_fn': <class 'torch.nn.modules.loss.CrossEntropyLoss'>, 'num_epochs': 9}\n"
     ]
    },
    {
     "name": "stderr",
     "output_type": "stream",
     "text": [
      "                                                                               \r"
     ]
    },
    {
     "name": "stdout",
     "output_type": "stream",
     "text": [
      "0.5581395348837209\n",
      "1\n",
      "0.4361628709454796\n",
      "0.7682926829268293\n",
      "0.5476190476190477\n"
     ]
    }
   ],
   "source": [
    "for data_unit in [sup.DATA_S_PF, sup.DATA_S_PV]:\n",
    "  data_config = base_data_config.copy()\n",
    "  train_config = base_train_config.copy()\n",
    "\n",
    "  data_config[\"data_unit\"] = data_unit\n",
    "\n",
    "  for PH2 in [False, True]:\n",
    "    data_config[\"PH2\"] = PH2\n",
    "    data_config[\"n\"] = 75 if PH2 else 72\n",
    "\n",
    "    for n in num_class_candidates:\n",
    "      s = subsets[n]\n",
    "      train_config[\"num_epochs\"] = int(base_num_epochs + n * rate_num_epochs)\n",
    "      for difficulty in ['easy', 'average', 'hard']:\n",
    "        s_dif = s[difficulty]\n",
    "        data_config[\"difficulty\"] = difficulty\n",
    "        data_config[\"class_numeric_list\"] = s_dif\n",
    "        \n",
    "        print(data_config)\n",
    "        print(train_config)\n",
    "        model = bert.BERT(data_config=data_config, df=None, \n",
    "                          train_config=train_config)\n",
    "        \n",
    "        model.fit(verbose=True)\n",
    "\n",
    "        model.test()\n",
    "\n",
    "        model.full_score()\n",
    "        print(model.accuracy)\n",
    "        print(model.top2accuracy)\n",
    "        print(model.macro_f1)\n",
    "        print(model.macro_precision)\n",
    "        print(model.macro_recall)\n",
    "\n",
    "        metrics = {\"data_unit\" : data_unit,\n",
    "                    \"PH2\" : PH2,\n",
    "                    \"num_classes\" : n,\n",
    "                    \"difficulty\" : difficulty,\n",
    "                    \"accuracy\" : model.accuracy,\n",
    "                    \"top2accuracy\" : model.top2accuracy,\n",
    "                    \"macro_f1\" : model.macro_f1,\n",
    "                    \"macro_precision\" : model.macro_precision,\n",
    "                    \"macro_recall\" : model.macro_recall}\n",
    "        \n",
    "        model.keep_confusion_matrix()\n",
    "        model.keep_loss()\n",
    "        \n",
    "        metric_tracker.append(metrics.copy())\n",
    "        \n",
    "        bert.clean_bert(model)\n",
    "      \n",
    "      gc.collect()\n",
    "      if torch.backends.mps.is_available():\n",
    "        torch.mps.empty_cache()\n",
    "    \n",
    "    gc.collect()\n",
    "    if torch.backends.mps.is_available():\n",
    "      torch.mps.empty_cache()\n",
    "  \n",
    "  gc.collect()\n",
    "  if torch.backends.mps.is_available():\n",
    "    torch.mps.empty_cache()\n",
    "\n",
    "gc.collect()\n",
    "if torch.backends.mps.is_available():\n",
    "  torch.mps.empty_cache()\n",
    "  \n",
    "\n"
   ]
  },
  {
   "cell_type": "markdown",
   "id": "0fcc663c",
   "metadata": {},
   "source": [
    "# Keep metrics"
   ]
  },
  {
   "cell_type": "code",
   "execution_count": 9,
   "id": "9757dc3a",
   "metadata": {},
   "outputs": [
    {
     "data": {
      "text/html": [
       "<div>\n",
       "<style scoped>\n",
       "    .dataframe tbody tr th:only-of-type {\n",
       "        vertical-align: middle;\n",
       "    }\n",
       "\n",
       "    .dataframe tbody tr th {\n",
       "        vertical-align: top;\n",
       "    }\n",
       "\n",
       "    .dataframe thead th {\n",
       "        text-align: right;\n",
       "    }\n",
       "</style>\n",
       "<table border=\"1\" class=\"dataframe\">\n",
       "  <thead>\n",
       "    <tr style=\"text-align: right;\">\n",
       "      <th></th>\n",
       "      <th>data_unit</th>\n",
       "      <th>PH2</th>\n",
       "      <th>num_classes</th>\n",
       "      <th>difficulty</th>\n",
       "      <th>accuracy</th>\n",
       "      <th>top2accuracy</th>\n",
       "      <th>macro_f1</th>\n",
       "      <th>macro_precision</th>\n",
       "      <th>macro_recall</th>\n",
       "    </tr>\n",
       "  </thead>\n",
       "  <tbody>\n",
       "    <tr>\n",
       "      <th>2</th>\n",
       "      <td>Spf</td>\n",
       "      <td>False</td>\n",
       "      <td>2</td>\n",
       "      <td>hard</td>\n",
       "      <td>0.851562</td>\n",
       "      <td>1</td>\n",
       "      <td>0.851560</td>\n",
       "      <td>0.852273</td>\n",
       "      <td>0.852122</td>\n",
       "    </tr>\n",
       "    <tr>\n",
       "      <th>8</th>\n",
       "      <td>Spv</td>\n",
       "      <td>False</td>\n",
       "      <td>2</td>\n",
       "      <td>hard</td>\n",
       "      <td>0.790698</td>\n",
       "      <td>1</td>\n",
       "      <td>0.783193</td>\n",
       "      <td>0.850000</td>\n",
       "      <td>0.795455</td>\n",
       "    </tr>\n",
       "    <tr>\n",
       "      <th>6</th>\n",
       "      <td>Spv</td>\n",
       "      <td>False</td>\n",
       "      <td>2</td>\n",
       "      <td>easy</td>\n",
       "      <td>0.697674</td>\n",
       "      <td>1</td>\n",
       "      <td>0.672141</td>\n",
       "      <td>0.808824</td>\n",
       "      <td>0.704545</td>\n",
       "    </tr>\n",
       "    <tr>\n",
       "      <th>7</th>\n",
       "      <td>Spv</td>\n",
       "      <td>False</td>\n",
       "      <td>2</td>\n",
       "      <td>average</td>\n",
       "      <td>0.674419</td>\n",
       "      <td>1</td>\n",
       "      <td>0.641667</td>\n",
       "      <td>0.800000</td>\n",
       "      <td>0.681818</td>\n",
       "    </tr>\n",
       "    <tr>\n",
       "      <th>1</th>\n",
       "      <td>Spf</td>\n",
       "      <td>False</td>\n",
       "      <td>2</td>\n",
       "      <td>average</td>\n",
       "      <td>0.632812</td>\n",
       "      <td>1</td>\n",
       "      <td>0.588509</td>\n",
       "      <td>0.761656</td>\n",
       "      <td>0.640855</td>\n",
       "    </tr>\n",
       "    <tr>\n",
       "      <th>0</th>\n",
       "      <td>Spf</td>\n",
       "      <td>False</td>\n",
       "      <td>2</td>\n",
       "      <td>easy</td>\n",
       "      <td>0.626953</td>\n",
       "      <td>1</td>\n",
       "      <td>0.584880</td>\n",
       "      <td>0.738729</td>\n",
       "      <td>0.634763</td>\n",
       "    </tr>\n",
       "    <tr>\n",
       "      <th>4</th>\n",
       "      <td>Spf</td>\n",
       "      <td>True</td>\n",
       "      <td>2</td>\n",
       "      <td>average</td>\n",
       "      <td>0.619141</td>\n",
       "      <td>1</td>\n",
       "      <td>0.570054</td>\n",
       "      <td>0.749142</td>\n",
       "      <td>0.627405</td>\n",
       "    </tr>\n",
       "    <tr>\n",
       "      <th>3</th>\n",
       "      <td>Spf</td>\n",
       "      <td>True</td>\n",
       "      <td>2</td>\n",
       "      <td>easy</td>\n",
       "      <td>0.609375</td>\n",
       "      <td>1</td>\n",
       "      <td>0.560975</td>\n",
       "      <td>0.722685</td>\n",
       "      <td>0.617496</td>\n",
       "    </tr>\n",
       "    <tr>\n",
       "      <th>5</th>\n",
       "      <td>Spf</td>\n",
       "      <td>True</td>\n",
       "      <td>2</td>\n",
       "      <td>hard</td>\n",
       "      <td>0.591797</td>\n",
       "      <td>1</td>\n",
       "      <td>0.532011</td>\n",
       "      <td>0.720795</td>\n",
       "      <td>0.600504</td>\n",
       "    </tr>\n",
       "    <tr>\n",
       "      <th>11</th>\n",
       "      <td>Spv</td>\n",
       "      <td>True</td>\n",
       "      <td>2</td>\n",
       "      <td>hard</td>\n",
       "      <td>0.558140</td>\n",
       "      <td>1</td>\n",
       "      <td>0.436163</td>\n",
       "      <td>0.768293</td>\n",
       "      <td>0.547619</td>\n",
       "    </tr>\n",
       "    <tr>\n",
       "      <th>9</th>\n",
       "      <td>Spv</td>\n",
       "      <td>True</td>\n",
       "      <td>2</td>\n",
       "      <td>easy</td>\n",
       "      <td>0.511628</td>\n",
       "      <td>1</td>\n",
       "      <td>0.338462</td>\n",
       "      <td>0.255814</td>\n",
       "      <td>0.500000</td>\n",
       "    </tr>\n",
       "    <tr>\n",
       "      <th>10</th>\n",
       "      <td>Spv</td>\n",
       "      <td>True</td>\n",
       "      <td>2</td>\n",
       "      <td>average</td>\n",
       "      <td>0.511628</td>\n",
       "      <td>1</td>\n",
       "      <td>0.338462</td>\n",
       "      <td>0.255814</td>\n",
       "      <td>0.500000</td>\n",
       "    </tr>\n",
       "  </tbody>\n",
       "</table>\n",
       "</div>"
      ],
      "text/plain": [
       "   data_unit    PH2  num_classes difficulty  accuracy  top2accuracy  macro_f1  \\\n",
       "2        Spf  False            2       hard  0.851562             1  0.851560   \n",
       "8        Spv  False            2       hard  0.790698             1  0.783193   \n",
       "6        Spv  False            2       easy  0.697674             1  0.672141   \n",
       "7        Spv  False            2    average  0.674419             1  0.641667   \n",
       "1        Spf  False            2    average  0.632812             1  0.588509   \n",
       "0        Spf  False            2       easy  0.626953             1  0.584880   \n",
       "4        Spf   True            2    average  0.619141             1  0.570054   \n",
       "3        Spf   True            2       easy  0.609375             1  0.560975   \n",
       "5        Spf   True            2       hard  0.591797             1  0.532011   \n",
       "11       Spv   True            2       hard  0.558140             1  0.436163   \n",
       "9        Spv   True            2       easy  0.511628             1  0.338462   \n",
       "10       Spv   True            2    average  0.511628             1  0.338462   \n",
       "\n",
       "    macro_precision  macro_recall  \n",
       "2          0.852273      0.852122  \n",
       "8          0.850000      0.795455  \n",
       "6          0.808824      0.704545  \n",
       "7          0.800000      0.681818  \n",
       "1          0.761656      0.640855  \n",
       "0          0.738729      0.634763  \n",
       "4          0.749142      0.627405  \n",
       "3          0.722685      0.617496  \n",
       "5          0.720795      0.600504  \n",
       "11         0.768293      0.547619  \n",
       "9          0.255814      0.500000  \n",
       "10         0.255814      0.500000  "
      ]
     },
     "execution_count": 9,
     "metadata": {},
     "output_type": "execute_result"
    }
   ],
   "source": [
    "import pandas as pd\n",
    "\n",
    "metrics_df = pd.DataFrame(metric_tracker)\n",
    "metrics_df.sort_values(by='accuracy', ascending=False)"
   ]
  },
  {
   "cell_type": "code",
   "execution_count": 10,
   "id": "b904820b",
   "metadata": {},
   "outputs": [],
   "source": [
    "sup.create_dir_if_not_exists(os.path.join(sup.SCORES_ROOT, \"specified\", sup.TRAIN_BERT_CODE))\n",
    "\n",
    "metrics_df.to_csv(os.path.join(sup.SCORES_ROOT, \"specified\", sup.TRAIN_BERT_CODE, f\"PREPanalysis{num_classes}.csv\"), index=False)"
   ]
  }
 ],
 "metadata": {
  "kernelspec": {
   "display_name": "TOG_BERT_v2",
   "language": "python",
   "name": "python3"
  },
  "language_info": {
   "codemirror_mode": {
    "name": "ipython",
    "version": 3
   },
   "file_extension": ".py",
   "mimetype": "text/x-python",
   "name": "python",
   "nbconvert_exporter": "python",
   "pygments_lexer": "ipython3",
   "version": "3.10.18"
  }
 },
 "nbformat": 4,
 "nbformat_minor": 5
}
