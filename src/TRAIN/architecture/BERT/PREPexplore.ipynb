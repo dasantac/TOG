{
 "cells": [
  {
   "cell_type": "markdown",
   "id": "49d5119d",
   "metadata": {},
   "source": [
    "# Context\n",
    "This notebook drives the training process for different models."
   ]
  },
  {
   "cell_type": "code",
   "execution_count": 1,
   "id": "437324c6",
   "metadata": {},
   "outputs": [],
   "source": [
    "# Set project's environment variables\n",
    "import os\n",
    "import sys\n",
    "from dotenv import load_dotenv\n",
    "load_dotenv(dotenv_path=\"../../../project.env\")\n",
    "sys.path.append(os.environ[\"PYTHONPATH\"])"
   ]
  },
  {
   "cell_type": "code",
   "execution_count": 2,
   "id": "cf9da1c2",
   "metadata": {},
   "outputs": [],
   "source": [
    "# Import project-wide and PH2 specific variables and functions\n",
    "import superheader as sup\n",
    "import TRAIN.architecture.BERT.bert as bert"
   ]
  },
  {
   "cell_type": "markdown",
   "id": "1109f09f",
   "metadata": {},
   "source": [
    "# Models"
   ]
  },
  {
   "cell_type": "markdown",
   "id": "4773797f",
   "metadata": {},
   "source": [
    "## Setup"
   ]
  },
  {
   "cell_type": "code",
   "execution_count": 3,
   "id": "04aaf65a",
   "metadata": {},
   "outputs": [],
   "source": [
    "import torch\n",
    "import torch.nn as nn\n",
    "import torch.optim as optim\n",
    "\n",
    "import gc"
   ]
  },
  {
   "cell_type": "code",
   "execution_count": 4,
   "id": "5419d56f",
   "metadata": {},
   "outputs": [],
   "source": [
    "TRAIN_CLASSES = \"ten-classes\"\n",
    "num_classes = 10\n",
    "exploring_batch_size = 1024\n",
    "base_num_epochs = 2\n",
    "rate_num_epochs = 3.5\n",
    "num_class_candidates = list(range(2, num_classes+1, 2))"
   ]
  },
  {
   "cell_type": "code",
   "execution_count": 5,
   "id": "2c808347",
   "metadata": {},
   "outputs": [
    {
     "data": {
      "text/plain": [
       "{2: {'easy': [5, 7], 'average': [2, 4], 'hard': [2, 3]},\n",
       " 3: {'easy': [0, 3, 5], 'average': [0, 1, 2], 'hard': [0, 1, 4]},\n",
       " 4: {'easy': [1, 6, 7, 9], 'average': [1, 4, 7, 8], 'hard': [0, 1, 5, 9]},\n",
       " 5: {'easy': [2, 5, 6, 7, 9],\n",
       "  'average': [2, 4, 5, 7, 9],\n",
       "  'hard': [0, 1, 2, 4, 8]},\n",
       " 6: {'easy': [1, 3, 5, 6, 7, 9],\n",
       "  'average': [1, 2, 5, 6, 7, 8],\n",
       "  'hard': [1, 4, 5, 6, 8, 9]},\n",
       " 7: {'easy': [0, 3, 4, 5, 6, 7, 9],\n",
       "  'average': [1, 2, 3, 5, 6, 7, 8],\n",
       "  'hard': [1, 2, 3, 4, 5, 6, 8]},\n",
       " 8: {'easy': [0, 2, 3, 4, 5, 6, 7, 8],\n",
       "  'average': [1, 3, 4, 5, 6, 7, 8, 9],\n",
       "  'hard': [0, 1, 2, 4, 5, 7, 8, 9]},\n",
       " 9: {'easy': [0, 1, 2, 3, 4, 6, 7, 8, 9],\n",
       "  'average': [0, 1, 2, 3, 4, 5, 6, 7, 8],\n",
       "  'hard': [0, 1, 2, 3, 4, 5, 7, 8, 9]},\n",
       " 10: {'easy': [0, 1, 2, 3, 4, 5, 6, 7, 8, 9],\n",
       "  'average': [0, 1, 2, 3, 4, 5, 6, 7, 8, 9],\n",
       "  'hard': [0, 1, 2, 3, 4, 5, 6, 7, 8, 9]}}"
      ]
     },
     "execution_count": 5,
     "metadata": {},
     "output_type": "execute_result"
    }
   ],
   "source": [
    "import json\n",
    "with open(os.path.join(sup.DATA_ROOT, f\"{TRAIN_CLASSES}-subsets.json\"), \"r\") as f:\n",
    "    loaded = json.load(f)\n",
    "\n",
    "# Convert keys back to int and lists back to tuples\n",
    "subsets = {\n",
    "    int(k): {d: v for d, v in v_dict.items()}\n",
    "    for k, v_dict in loaded.items()\n",
    "}\n",
    "subsets\n"
   ]
  },
  {
   "cell_type": "code",
   "execution_count": 6,
   "id": "64e44df6",
   "metadata": {},
   "outputs": [],
   "source": [
    "base_data_config = {\n",
    "  \"PH3\" : False,\n",
    "  \"reducer\" : '',\n",
    "  \"kernel\" : '',\n",
    "  \"label_col\" : sup.class_numeric_column,\n",
    "  \"batch_size\" : exploring_batch_size,\n",
    "  \"class_list\" : 'specified'\n",
    "}\n",
    "\n",
    "base_train_config = {\n",
    "  \"device\" : bert.device,\n",
    "  \"arch\" : sup.TRAIN_BERT_CODE,\n",
    "  \"loadable\" : bert.DISTILBERT,\n",
    "  \"optimizer\" : optim.AdamW,\n",
    "  \"lr\" : 1e-5,\n",
    "  \"weight_decay\" : 0,\n",
    "  \"loss_fn\" : nn.CrossEntropyLoss,\n",
    "}\n",
    "\n"
   ]
  },
  {
   "cell_type": "markdown",
   "id": "de39f8d5",
   "metadata": {},
   "source": [
    "## Train"
   ]
  },
  {
   "cell_type": "code",
   "execution_count": 7,
   "id": "f8ac260c",
   "metadata": {},
   "outputs": [],
   "source": [
    "metric_tracker = list()"
   ]
  },
  {
   "cell_type": "code",
   "execution_count": null,
   "id": "7710fdf8",
   "metadata": {},
   "outputs": [
    {
     "name": "stdout",
     "output_type": "stream",
     "text": [
      "{'PH3': False, 'reducer': '', 'kernel': '', 'label_col': 'class_numeric', 'batch_size': 1024, 'class_list': 'specified', 'data_unit': 'Spf', 'PH2': False, 'n': 72, 'difficulty': 'easy', 'class_numeric_list': [5, 7]}\n",
      "{'device': device(type='mps'), 'arch': 'BERT', 'loadable': 'distilbert-base-uncased', 'optimizer': <class 'torch.optim.adamw.AdamW'>, 'lr': 1e-05, 'weight_decay': 0, 'loss_fn': <class 'torch.nn.modules.loss.CrossEntropyLoss'>, 'num_epochs': 9}\n"
     ]
    },
    {
     "name": "stderr",
     "output_type": "stream",
     "text": [
      "                                                                              \r"
     ]
    },
    {
     "name": "stdout",
     "output_type": "stream",
     "text": [
      "0.7660455486542443\n",
      "1\n",
      "0.752750911685429\n",
      "0.8292481203007519\n",
      "0.7628451380552221\n",
      "{'PH3': False, 'reducer': '', 'kernel': '', 'label_col': 'class_numeric', 'batch_size': 1024, 'class_list': 'specified', 'data_unit': 'Spf', 'PH2': False, 'n': 72, 'difficulty': 'average', 'class_numeric_list': [2, 4]}\n",
      "{'device': device(type='mps'), 'arch': 'BERT', 'loadable': 'distilbert-base-uncased', 'optimizer': <class 'torch.optim.adamw.AdamW'>, 'lr': 1e-05, 'weight_decay': 0, 'loss_fn': <class 'torch.nn.modules.loss.CrossEntropyLoss'>, 'num_epochs': 9}\n"
     ]
    },
    {
     "name": "stderr",
     "output_type": "stream",
     "text": [
      "                                                                              \r"
     ]
    },
    {
     "name": "stdout",
     "output_type": "stream",
     "text": [
      "0.5603112840466926\n",
      "1\n",
      "0.4502309556262305\n",
      "0.7670103092783505\n",
      "0.5568627450980392\n",
      "{'PH3': False, 'reducer': '', 'kernel': '', 'label_col': 'class_numeric', 'batch_size': 1024, 'class_list': 'specified', 'data_unit': 'Spf', 'PH2': False, 'n': 72, 'difficulty': 'hard', 'class_numeric_list': [2, 3]}\n",
      "{'device': device(type='mps'), 'arch': 'BERT', 'loadable': 'distilbert-base-uncased', 'optimizer': <class 'torch.optim.adamw.AdamW'>, 'lr': 1e-05, 'weight_decay': 0, 'loss_fn': <class 'torch.nn.modules.loss.CrossEntropyLoss'>, 'num_epochs': 9}\n"
     ]
    },
    {
     "name": "stderr",
     "output_type": "stream",
     "text": [
      "                                                                              \r"
     ]
    },
    {
     "name": "stdout",
     "output_type": "stream",
     "text": [
      "0.5892857142857143\n",
      "1\n",
      "0.5078658999674515\n",
      "0.7452119309262166\n",
      "0.5860944881889764\n",
      "{'PH3': False, 'reducer': '', 'kernel': '', 'label_col': 'class_numeric', 'batch_size': 1024, 'class_list': 'specified', 'data_unit': 'Spf', 'PH2': False, 'n': 72, 'difficulty': 'easy', 'class_numeric_list': [1, 6, 7, 9]}\n",
      "{'device': device(type='mps'), 'arch': 'BERT', 'loadable': 'distilbert-base-uncased', 'optimizer': <class 'torch.optim.adamw.AdamW'>, 'lr': 1e-05, 'weight_decay': 0, 'loss_fn': <class 'torch.nn.modules.loss.CrossEntropyLoss'>, 'num_epochs': 16}\n"
     ]
    },
    {
     "name": "stderr",
     "output_type": "stream",
     "text": [
      "                                                                                 \r"
     ]
    },
    {
     "name": "stdout",
     "output_type": "stream",
     "text": [
      "0.7571569595261599\n",
      "0.926949654491609\n",
      "0.7562066848532487\n",
      "0.7633047777343762\n",
      "0.7599997781955217\n",
      "{'PH3': False, 'reducer': '', 'kernel': '', 'label_col': 'class_numeric', 'batch_size': 1024, 'class_list': 'specified', 'data_unit': 'Spf', 'PH2': False, 'n': 72, 'difficulty': 'average', 'class_numeric_list': [1, 4, 7, 8]}\n",
      "{'device': device(type='mps'), 'arch': 'BERT', 'loadable': 'distilbert-base-uncased', 'optimizer': <class 'torch.optim.adamw.AdamW'>, 'lr': 1e-05, 'weight_decay': 0, 'loss_fn': <class 'torch.nn.modules.loss.CrossEntropyLoss'>, 'num_epochs': 16}\n"
     ]
    },
    {
     "name": "stderr",
     "output_type": "stream",
     "text": [
      "                                                                                 \r"
     ]
    },
    {
     "name": "stdout",
     "output_type": "stream",
     "text": [
      "0.8276892430278885\n",
      "0.9721115537848606\n",
      "0.8261384246336348\n",
      "0.8279340993239026\n",
      "0.8305399776063545\n",
      "{'PH3': False, 'reducer': '', 'kernel': '', 'label_col': 'class_numeric', 'batch_size': 1024, 'class_list': 'specified', 'data_unit': 'Spf', 'PH2': False, 'n': 72, 'difficulty': 'hard', 'class_numeric_list': [0, 1, 5, 9]}\n",
      "{'device': device(type='mps'), 'arch': 'BERT', 'loadable': 'distilbert-base-uncased', 'optimizer': <class 'torch.optim.adamw.AdamW'>, 'lr': 1e-05, 'weight_decay': 0, 'loss_fn': <class 'torch.nn.modules.loss.CrossEntropyLoss'>, 'num_epochs': 16}\n"
     ]
    },
    {
     "name": "stderr",
     "output_type": "stream",
     "text": [
      "                                                                                 \r"
     ]
    },
    {
     "name": "stdout",
     "output_type": "stream",
     "text": [
      "0.7445972495088409\n",
      "0.9489194499017681\n",
      "0.7419790275541241\n",
      "0.7511516470950432\n",
      "0.7422498374867283\n",
      "{'PH3': False, 'reducer': '', 'kernel': '', 'label_col': 'class_numeric', 'batch_size': 1024, 'class_list': 'specified', 'data_unit': 'Spf', 'PH2': False, 'n': 72, 'difficulty': 'easy', 'class_numeric_list': [1, 3, 5, 6, 7, 9]}\n",
      "{'device': device(type='mps'), 'arch': 'BERT', 'loadable': 'distilbert-base-uncased', 'optimizer': <class 'torch.optim.adamw.AdamW'>, 'lr': 1e-05, 'weight_decay': 0, 'loss_fn': <class 'torch.nn.modules.loss.CrossEntropyLoss'>, 'num_epochs': 23}\n"
     ]
    },
    {
     "name": "stderr",
     "output_type": "stream",
     "text": [
      "                                                                                 \r"
     ]
    },
    {
     "name": "stdout",
     "output_type": "stream",
     "text": [
      "0.8328912466843501\n",
      "0.9456233421750663\n",
      "0.832167889100445\n",
      "0.8394036486804725\n",
      "0.8315039833377286\n",
      "{'PH3': False, 'reducer': '', 'kernel': '', 'label_col': 'class_numeric', 'batch_size': 1024, 'class_list': 'specified', 'data_unit': 'Spf', 'PH2': False, 'n': 72, 'difficulty': 'average', 'class_numeric_list': [1, 2, 5, 6, 7, 8]}\n",
      "{'device': device(type='mps'), 'arch': 'BERT', 'loadable': 'distilbert-base-uncased', 'optimizer': <class 'torch.optim.adamw.AdamW'>, 'lr': 1e-05, 'weight_decay': 0, 'loss_fn': <class 'torch.nn.modules.loss.CrossEntropyLoss'>, 'num_epochs': 23}\n"
     ]
    },
    {
     "name": "stderr",
     "output_type": "stream",
     "text": [
      "                                                                                 \r"
     ]
    },
    {
     "name": "stdout",
     "output_type": "stream",
     "text": [
      "0.833554376657825\n",
      "0.9356763925729443\n",
      "0.835053384493787\n",
      "0.8437134892301598\n",
      "0.8325641147952627\n",
      "{'PH3': False, 'reducer': '', 'kernel': '', 'label_col': 'class_numeric', 'batch_size': 1024, 'class_list': 'specified', 'data_unit': 'Spf', 'PH2': False, 'n': 72, 'difficulty': 'hard', 'class_numeric_list': [1, 4, 5, 6, 8, 9]}\n",
      "{'device': device(type='mps'), 'arch': 'BERT', 'loadable': 'distilbert-base-uncased', 'optimizer': <class 'torch.optim.adamw.AdamW'>, 'lr': 1e-05, 'weight_decay': 0, 'loss_fn': <class 'torch.nn.modules.loss.CrossEntropyLoss'>, 'num_epochs': 23}\n"
     ]
    },
    {
     "name": "stderr",
     "output_type": "stream",
     "text": [
      "                                                                                 \r"
     ]
    },
    {
     "name": "stdout",
     "output_type": "stream",
     "text": [
      "0.775390625\n",
      "0.9088541666666666\n",
      "0.7732157845993383\n",
      "0.7748728399499242\n",
      "0.7755119112925001\n",
      "{'PH3': False, 'reducer': '', 'kernel': '', 'label_col': 'class_numeric', 'batch_size': 1024, 'class_list': 'specified', 'data_unit': 'Spf', 'PH2': False, 'n': 72, 'difficulty': 'easy', 'class_numeric_list': [0, 2, 3, 4, 5, 6, 7, 8]}\n",
      "{'device': device(type='mps'), 'arch': 'BERT', 'loadable': 'distilbert-base-uncased', 'optimizer': <class 'torch.optim.adamw.AdamW'>, 'lr': 1e-05, 'weight_decay': 0, 'loss_fn': <class 'torch.nn.modules.loss.CrossEntropyLoss'>, 'num_epochs': 30}\n"
     ]
    },
    {
     "name": "stderr",
     "output_type": "stream",
     "text": [
      "                                                                                 \r"
     ]
    },
    {
     "name": "stdout",
     "output_type": "stream",
     "text": [
      "0.8678500986193294\n",
      "0.9501972386587771\n",
      "0.8677563370595652\n",
      "0.8708297508562526\n",
      "0.8684725352566612\n",
      "{'PH3': False, 'reducer': '', 'kernel': '', 'label_col': 'class_numeric', 'batch_size': 1024, 'class_list': 'specified', 'data_unit': 'Spf', 'PH2': False, 'n': 72, 'difficulty': 'average', 'class_numeric_list': [1, 3, 4, 5, 6, 7, 8, 9]}\n",
      "{'device': device(type='mps'), 'arch': 'BERT', 'loadable': 'distilbert-base-uncased', 'optimizer': <class 'torch.optim.adamw.AdamW'>, 'lr': 1e-05, 'weight_decay': 0, 'loss_fn': <class 'torch.nn.modules.loss.CrossEntropyLoss'>, 'num_epochs': 30}\n"
     ]
    },
    {
     "name": "stderr",
     "output_type": "stream",
     "text": [
      "                                                                                 \r"
     ]
    },
    {
     "name": "stdout",
     "output_type": "stream",
     "text": [
      "0.8181818181818182\n",
      "0.9352766798418972\n",
      "0.8194991964340339\n",
      "0.8275873669245782\n",
      "0.818665274089686\n",
      "{'PH3': False, 'reducer': '', 'kernel': '', 'label_col': 'class_numeric', 'batch_size': 1024, 'class_list': 'specified', 'data_unit': 'Spf', 'PH2': False, 'n': 72, 'difficulty': 'hard', 'class_numeric_list': [0, 1, 2, 4, 5, 7, 8, 9]}\n",
      "{'device': device(type='mps'), 'arch': 'BERT', 'loadable': 'distilbert-base-uncased', 'optimizer': <class 'torch.optim.adamw.AdamW'>, 'lr': 1e-05, 'weight_decay': 0, 'loss_fn': <class 'torch.nn.modules.loss.CrossEntropyLoss'>, 'num_epochs': 30}\n"
     ]
    },
    {
     "name": "stderr",
     "output_type": "stream",
     "text": [
      "                                                                                 \r"
     ]
    },
    {
     "name": "stdout",
     "output_type": "stream",
     "text": [
      "0.8040473840078973\n",
      "0.9249753208292202\n",
      "0.8044898396098291\n",
      "0.8168462230763657\n",
      "0.8053566174451813\n",
      "{'PH3': False, 'reducer': '', 'kernel': '', 'label_col': 'class_numeric', 'batch_size': 1024, 'class_list': 'specified', 'data_unit': 'Spf', 'PH2': False, 'n': 72, 'difficulty': 'easy', 'class_numeric_list': [0, 1, 2, 3, 4, 5, 6, 7, 8, 9]}\n",
      "{'device': device(type='mps'), 'arch': 'BERT', 'loadable': 'distilbert-base-uncased', 'optimizer': <class 'torch.optim.adamw.AdamW'>, 'lr': 1e-05, 'weight_decay': 0, 'loss_fn': <class 'torch.nn.modules.loss.CrossEntropyLoss'>, 'num_epochs': 37}\n"
     ]
    },
    {
     "name": "stderr",
     "output_type": "stream",
     "text": [
      "                                                                                 \r"
     ]
    },
    {
     "name": "stdout",
     "output_type": "stream",
     "text": [
      "0.8547244094488189\n",
      "0.9456692913385827\n",
      "0.8549074980930923\n",
      "0.859644368628777\n",
      "0.855401542235691\n",
      "{'PH3': False, 'reducer': '', 'kernel': '', 'label_col': 'class_numeric', 'batch_size': 1024, 'class_list': 'specified', 'data_unit': 'Spf', 'PH2': False, 'n': 72, 'difficulty': 'average', 'class_numeric_list': [0, 1, 2, 3, 4, 5, 6, 7, 8, 9]}\n",
      "{'device': device(type='mps'), 'arch': 'BERT', 'loadable': 'distilbert-base-uncased', 'optimizer': <class 'torch.optim.adamw.AdamW'>, 'lr': 1e-05, 'weight_decay': 0, 'loss_fn': <class 'torch.nn.modules.loss.CrossEntropyLoss'>, 'num_epochs': 37}\n"
     ]
    },
    {
     "name": "stderr",
     "output_type": "stream",
     "text": [
      "                                                                                 \r"
     ]
    },
    {
     "name": "stdout",
     "output_type": "stream",
     "text": [
      "0.844488188976378\n",
      "0.9417322834645669\n",
      "0.8435541048258098\n",
      "0.8507654583560695\n",
      "0.8453059041538651\n",
      "{'PH3': False, 'reducer': '', 'kernel': '', 'label_col': 'class_numeric', 'batch_size': 1024, 'class_list': 'specified', 'data_unit': 'Spf', 'PH2': False, 'n': 72, 'difficulty': 'hard', 'class_numeric_list': [0, 1, 2, 3, 4, 5, 6, 7, 8, 9]}\n",
      "{'device': device(type='mps'), 'arch': 'BERT', 'loadable': 'distilbert-base-uncased', 'optimizer': <class 'torch.optim.adamw.AdamW'>, 'lr': 1e-05, 'weight_decay': 0, 'loss_fn': <class 'torch.nn.modules.loss.CrossEntropyLoss'>, 'num_epochs': 37}\n"
     ]
    },
    {
     "name": "stderr",
     "output_type": "stream",
     "text": [
      "                                                                                 \r"
     ]
    },
    {
     "name": "stdout",
     "output_type": "stream",
     "text": [
      "0.8393700787401575\n",
      "0.9377952755905512\n",
      "0.8398575652100734\n",
      "0.8442171179058834\n",
      "0.8399949670431941\n",
      "{'PH3': False, 'reducer': '', 'kernel': '', 'label_col': 'class_numeric', 'batch_size': 1024, 'class_list': 'specified', 'data_unit': 'Spf', 'PH2': True, 'n': 75, 'difficulty': 'easy', 'class_numeric_list': [5, 7]}\n",
      "{'device': device(type='mps'), 'arch': 'BERT', 'loadable': 'distilbert-base-uncased', 'optimizer': <class 'torch.optim.adamw.AdamW'>, 'lr': 1e-05, 'weight_decay': 0, 'loss_fn': <class 'torch.nn.modules.loss.CrossEntropyLoss'>, 'num_epochs': 9}\n"
     ]
    },
    {
     "name": "stderr",
     "output_type": "stream",
     "text": [
      "                                                                               \r"
     ]
    },
    {
     "name": "stdout",
     "output_type": "stream",
     "text": [
      "0.979296066252588\n",
      "1\n",
      "0.9792959775042007\n",
      "0.9795976124318205\n",
      "0.97953181272509\n",
      "{'PH3': False, 'reducer': '', 'kernel': '', 'label_col': 'class_numeric', 'batch_size': 1024, 'class_list': 'specified', 'data_unit': 'Spf', 'PH2': True, 'n': 75, 'difficulty': 'average', 'class_numeric_list': [2, 4]}\n",
      "{'device': device(type='mps'), 'arch': 'BERT', 'loadable': 'distilbert-base-uncased', 'optimizer': <class 'torch.optim.adamw.AdamW'>, 'lr': 1e-05, 'weight_decay': 0, 'loss_fn': <class 'torch.nn.modules.loss.CrossEntropyLoss'>, 'num_epochs': 9}\n"
     ]
    },
    {
     "name": "stderr",
     "output_type": "stream",
     "text": [
      "                                                                              \r"
     ]
    },
    {
     "name": "stdout",
     "output_type": "stream",
     "text": [
      "0.5097276264591439\n",
      "1\n",
      "0.36096145876502284\n",
      "0.7514792899408285\n",
      "0.5135135135135135\n",
      "{'PH3': False, 'reducer': '', 'kernel': '', 'label_col': 'class_numeric', 'batch_size': 1024, 'class_list': 'specified', 'data_unit': 'Spf', 'PH2': True, 'n': 75, 'difficulty': 'hard', 'class_numeric_list': [2, 3]}\n",
      "{'device': device(type='mps'), 'arch': 'BERT', 'loadable': 'distilbert-base-uncased', 'optimizer': <class 'torch.optim.adamw.AdamW'>, 'lr': 1e-05, 'weight_decay': 0, 'loss_fn': <class 'torch.nn.modules.loss.CrossEntropyLoss'>, 'num_epochs': 9}\n"
     ]
    },
    {
     "name": "stderr",
     "output_type": "stream",
     "text": [
      "                                                                              \r"
     ]
    },
    {
     "name": "stdout",
     "output_type": "stream",
     "text": [
      "0.5853174603174603\n",
      "1\n",
      "0.5819850708953891\n",
      "0.5891589852353373\n",
      "0.5860629921259843\n",
      "{'PH3': False, 'reducer': '', 'kernel': '', 'label_col': 'class_numeric', 'batch_size': 1024, 'class_list': 'specified', 'data_unit': 'Spf', 'PH2': True, 'n': 75, 'difficulty': 'easy', 'class_numeric_list': [1, 6, 7, 9]}\n",
      "{'device': device(type='mps'), 'arch': 'BERT', 'loadable': 'distilbert-base-uncased', 'optimizer': <class 'torch.optim.adamw.AdamW'>, 'lr': 1e-05, 'weight_decay': 0, 'loss_fn': <class 'torch.nn.modules.loss.CrossEntropyLoss'>, 'num_epochs': 16}\n"
     ]
    },
    {
     "name": "stderr",
     "output_type": "stream",
     "text": [
      "                                                                                 \r"
     ]
    },
    {
     "name": "stdout",
     "output_type": "stream",
     "text": [
      "0.5844027640671273\n",
      "0.8884501480750246\n",
      "0.5394735385091256\n",
      "0.5893966864774005\n",
      "0.5974595115323689\n",
      "{'PH3': False, 'reducer': '', 'kernel': '', 'label_col': 'class_numeric', 'batch_size': 1024, 'class_list': 'specified', 'data_unit': 'Spf', 'PH2': True, 'n': 75, 'difficulty': 'average', 'class_numeric_list': [1, 4, 7, 8]}\n",
      "{'device': device(type='mps'), 'arch': 'BERT', 'loadable': 'distilbert-base-uncased', 'optimizer': <class 'torch.optim.adamw.AdamW'>, 'lr': 1e-05, 'weight_decay': 0, 'loss_fn': <class 'torch.nn.modules.loss.CrossEntropyLoss'>, 'num_epochs': 16}\n"
     ]
    },
    {
     "name": "stderr",
     "output_type": "stream",
     "text": [
      "                                                                                 \r"
     ]
    },
    {
     "name": "stdout",
     "output_type": "stream",
     "text": [
      "0.5936254980079682\n",
      "0.8426294820717132\n",
      "0.5962031994135388\n",
      "0.6021298170567806\n",
      "0.5999100577869174\n",
      "{'PH3': False, 'reducer': '', 'kernel': '', 'label_col': 'class_numeric', 'batch_size': 1024, 'class_list': 'specified', 'data_unit': 'Spf', 'PH2': True, 'n': 75, 'difficulty': 'hard', 'class_numeric_list': [0, 1, 5, 9]}\n",
      "{'device': device(type='mps'), 'arch': 'BERT', 'loadable': 'distilbert-base-uncased', 'optimizer': <class 'torch.optim.adamw.AdamW'>, 'lr': 1e-05, 'weight_decay': 0, 'loss_fn': <class 'torch.nn.modules.loss.CrossEntropyLoss'>, 'num_epochs': 16}\n"
     ]
    },
    {
     "name": "stderr",
     "output_type": "stream",
     "text": [
      "                                                                                 \r"
     ]
    },
    {
     "name": "stdout",
     "output_type": "stream",
     "text": [
      "0.6404715127701375\n",
      "0.8664047151277013\n",
      "0.6380489974402369\n",
      "0.6486164840252361\n",
      "0.6405471864088227\n",
      "{'PH3': False, 'reducer': '', 'kernel': '', 'label_col': 'class_numeric', 'batch_size': 1024, 'class_list': 'specified', 'data_unit': 'Spf', 'PH2': True, 'n': 75, 'difficulty': 'easy', 'class_numeric_list': [1, 3, 5, 6, 7, 9]}\n",
      "{'device': device(type='mps'), 'arch': 'BERT', 'loadable': 'distilbert-base-uncased', 'optimizer': <class 'torch.optim.adamw.AdamW'>, 'lr': 1e-05, 'weight_decay': 0, 'loss_fn': <class 'torch.nn.modules.loss.CrossEntropyLoss'>, 'num_epochs': 23}\n"
     ]
    },
    {
     "name": "stderr",
     "output_type": "stream",
     "text": [
      "                                                                                 \r"
     ]
    },
    {
     "name": "stdout",
     "output_type": "stream",
     "text": [
      "0.593501326259947\n",
      "0.8580901856763926\n",
      "0.569383108963546\n",
      "0.6169903683181719\n",
      "0.6015099435294692\n",
      "{'PH3': False, 'reducer': '', 'kernel': '', 'label_col': 'class_numeric', 'batch_size': 1024, 'class_list': 'specified', 'data_unit': 'Spf', 'PH2': True, 'n': 75, 'difficulty': 'average', 'class_numeric_list': [1, 2, 5, 6, 7, 8]}\n",
      "{'device': device(type='mps'), 'arch': 'BERT', 'loadable': 'distilbert-base-uncased', 'optimizer': <class 'torch.optim.adamw.AdamW'>, 'lr': 1e-05, 'weight_decay': 0, 'loss_fn': <class 'torch.nn.modules.loss.CrossEntropyLoss'>, 'num_epochs': 23}\n"
     ]
    },
    {
     "name": "stderr",
     "output_type": "stream",
     "text": [
      "                                                                                 \r"
     ]
    },
    {
     "name": "stdout",
     "output_type": "stream",
     "text": [
      "0.5663129973474801\n",
      "0.8740053050397878\n",
      "0.5298368157334508\n",
      "0.5805531454232428\n",
      "0.5728933034865605\n",
      "{'PH3': False, 'reducer': '', 'kernel': '', 'label_col': 'class_numeric', 'batch_size': 1024, 'class_list': 'specified', 'data_unit': 'Spf', 'PH2': True, 'n': 75, 'difficulty': 'hard', 'class_numeric_list': [1, 4, 5, 6, 8, 9]}\n",
      "{'device': device(type='mps'), 'arch': 'BERT', 'loadable': 'distilbert-base-uncased', 'optimizer': <class 'torch.optim.adamw.AdamW'>, 'lr': 1e-05, 'weight_decay': 0, 'loss_fn': <class 'torch.nn.modules.loss.CrossEntropyLoss'>, 'num_epochs': 23}\n"
     ]
    },
    {
     "name": "stderr",
     "output_type": "stream",
     "text": [
      "                                                                                 \r"
     ]
    },
    {
     "name": "stdout",
     "output_type": "stream",
     "text": [
      "0.5279947916666666\n",
      "0.779296875\n",
      "0.5124007025772748\n",
      "0.5409520946875371\n",
      "0.5273305306811852\n",
      "{'PH3': False, 'reducer': '', 'kernel': '', 'label_col': 'class_numeric', 'batch_size': 1024, 'class_list': 'specified', 'data_unit': 'Spf', 'PH2': True, 'n': 75, 'difficulty': 'easy', 'class_numeric_list': [0, 2, 3, 4, 5, 6, 7, 8]}\n",
      "{'device': device(type='mps'), 'arch': 'BERT', 'loadable': 'distilbert-base-uncased', 'optimizer': <class 'torch.optim.adamw.AdamW'>, 'lr': 1e-05, 'weight_decay': 0, 'loss_fn': <class 'torch.nn.modules.loss.CrossEntropyLoss'>, 'num_epochs': 30}\n"
     ]
    },
    {
     "name": "stderr",
     "output_type": "stream",
     "text": [
      "                                                                                 \r"
     ]
    },
    {
     "name": "stdout",
     "output_type": "stream",
     "text": [
      "0.5310650887573964\n",
      "0.8205128205128205\n",
      "0.5113125682444506\n",
      "0.5421351297522973\n",
      "0.5363440673622991\n",
      "{'PH3': False, 'reducer': '', 'kernel': '', 'label_col': 'class_numeric', 'batch_size': 1024, 'class_list': 'specified', 'data_unit': 'Spf', 'PH2': True, 'n': 75, 'difficulty': 'average', 'class_numeric_list': [1, 3, 4, 5, 6, 7, 8, 9]}\n",
      "{'device': device(type='mps'), 'arch': 'BERT', 'loadable': 'distilbert-base-uncased', 'optimizer': <class 'torch.optim.adamw.AdamW'>, 'lr': 1e-05, 'weight_decay': 0, 'loss_fn': <class 'torch.nn.modules.loss.CrossEntropyLoss'>, 'num_epochs': 30}\n"
     ]
    },
    {
     "name": "stderr",
     "output_type": "stream",
     "text": [
      "                                                                                 \r"
     ]
    },
    {
     "name": "stdout",
     "output_type": "stream",
     "text": [
      "0.5138339920948617\n",
      "0.7747035573122529\n",
      "0.4787359497751773\n",
      "0.5265729683236604\n",
      "0.5211271667553169\n",
      "{'PH3': False, 'reducer': '', 'kernel': '', 'label_col': 'class_numeric', 'batch_size': 1024, 'class_list': 'specified', 'data_unit': 'Spf', 'PH2': True, 'n': 75, 'difficulty': 'hard', 'class_numeric_list': [0, 1, 2, 4, 5, 7, 8, 9]}\n",
      "{'device': device(type='mps'), 'arch': 'BERT', 'loadable': 'distilbert-base-uncased', 'optimizer': <class 'torch.optim.adamw.AdamW'>, 'lr': 1e-05, 'weight_decay': 0, 'loss_fn': <class 'torch.nn.modules.loss.CrossEntropyLoss'>, 'num_epochs': 30}\n"
     ]
    },
    {
     "name": "stderr",
     "output_type": "stream",
     "text": [
      "                                                                                 \r"
     ]
    },
    {
     "name": "stdout",
     "output_type": "stream",
     "text": [
      "0.5488647581441264\n",
      "0.7724580454096742\n",
      "0.5323644916035748\n",
      "0.5493128483299646\n",
      "0.5550044759360335\n",
      "{'PH3': False, 'reducer': '', 'kernel': '', 'label_col': 'class_numeric', 'batch_size': 1024, 'class_list': 'specified', 'data_unit': 'Spf', 'PH2': True, 'n': 75, 'difficulty': 'easy', 'class_numeric_list': [0, 1, 2, 3, 4, 5, 6, 7, 8, 9]}\n",
      "{'device': device(type='mps'), 'arch': 'BERT', 'loadable': 'distilbert-base-uncased', 'optimizer': <class 'torch.optim.adamw.AdamW'>, 'lr': 1e-05, 'weight_decay': 0, 'loss_fn': <class 'torch.nn.modules.loss.CrossEntropyLoss'>, 'num_epochs': 37}\n"
     ]
    },
    {
     "name": "stderr",
     "output_type": "stream",
     "text": [
      "                                                                                 \r"
     ]
    },
    {
     "name": "stdout",
     "output_type": "stream",
     "text": [
      "0.5078740157480315\n",
      "0.7834645669291339\n",
      "0.4927655457642278\n",
      "0.5049864454942383\n",
      "0.5120654713765307\n",
      "{'PH3': False, 'reducer': '', 'kernel': '', 'label_col': 'class_numeric', 'batch_size': 1024, 'class_list': 'specified', 'data_unit': 'Spf', 'PH2': True, 'n': 75, 'difficulty': 'average', 'class_numeric_list': [0, 1, 2, 3, 4, 5, 6, 7, 8, 9]}\n",
      "{'device': device(type='mps'), 'arch': 'BERT', 'loadable': 'distilbert-base-uncased', 'optimizer': <class 'torch.optim.adamw.AdamW'>, 'lr': 1e-05, 'weight_decay': 0, 'loss_fn': <class 'torch.nn.modules.loss.CrossEntropyLoss'>, 'num_epochs': 37}\n"
     ]
    },
    {
     "name": "stderr",
     "output_type": "stream",
     "text": [
      "                                                                                 \r"
     ]
    },
    {
     "name": "stdout",
     "output_type": "stream",
     "text": [
      "0.4716535433070866\n",
      "0.7464566929133858\n",
      "0.45744036169391444\n",
      "0.4695227860046317\n",
      "0.47655410105454765\n",
      "{'PH3': False, 'reducer': '', 'kernel': '', 'label_col': 'class_numeric', 'batch_size': 1024, 'class_list': 'specified', 'data_unit': 'Spf', 'PH2': True, 'n': 75, 'difficulty': 'hard', 'class_numeric_list': [0, 1, 2, 3, 4, 5, 6, 7, 8, 9]}\n",
      "{'device': device(type='mps'), 'arch': 'BERT', 'loadable': 'distilbert-base-uncased', 'optimizer': <class 'torch.optim.adamw.AdamW'>, 'lr': 1e-05, 'weight_decay': 0, 'loss_fn': <class 'torch.nn.modules.loss.CrossEntropyLoss'>, 'num_epochs': 37}\n"
     ]
    },
    {
     "name": "stderr",
     "output_type": "stream",
     "text": [
      "                                                                                 \r"
     ]
    },
    {
     "name": "stdout",
     "output_type": "stream",
     "text": [
      "0.5047244094488189\n",
      "0.771259842519685\n",
      "0.49706457204546456\n",
      "0.5099876796351541\n",
      "0.5067791632759591\n",
      "{'PH3': False, 'reducer': '', 'kernel': '', 'label_col': 'class_numeric', 'batch_size': 1024, 'class_list': 'specified', 'data_unit': 'Spv', 'PH2': False, 'n': 72, 'difficulty': 'easy', 'class_numeric_list': [5, 7]}\n",
      "{'device': device(type='mps'), 'arch': 'BERT', 'loadable': 'distilbert-base-uncased', 'optimizer': <class 'torch.optim.adamw.AdamW'>, 'lr': 1e-05, 'weight_decay': 0, 'loss_fn': <class 'torch.nn.modules.loss.CrossEntropyLoss'>, 'num_epochs': 9}\n"
     ]
    },
    {
     "name": "stderr",
     "output_type": "stream",
     "text": [
      "/Users/diego/miniconda3/envs/TOG_BERT_v2/lib/python3.10/site-packages/sklearn/metrics/_classification.py:1706: UndefinedMetricWarning: Precision is ill-defined and being set to 0.0 in labels with no predicted samples. Use `zero_division` parameter to control this behavior.\n",
      "  _warn_prf(average, modifier, f\"{metric.capitalize()} is\", result.shape[0])\n"
     ]
    },
    {
     "name": "stdout",
     "output_type": "stream",
     "text": [
      "0.4878048780487805\n",
      "1\n",
      "0.32786885245901637\n",
      "0.24390243902439024\n",
      "0.5\n",
      "{'PH3': False, 'reducer': '', 'kernel': '', 'label_col': 'class_numeric', 'batch_size': 1024, 'class_list': 'specified', 'data_unit': 'Spv', 'PH2': False, 'n': 72, 'difficulty': 'average', 'class_numeric_list': [2, 4]}\n",
      "{'device': device(type='mps'), 'arch': 'BERT', 'loadable': 'distilbert-base-uncased', 'optimizer': <class 'torch.optim.adamw.AdamW'>, 'lr': 1e-05, 'weight_decay': 0, 'loss_fn': <class 'torch.nn.modules.loss.CrossEntropyLoss'>, 'num_epochs': 9}\n"
     ]
    },
    {
     "name": "stderr",
     "output_type": "stream",
     "text": [
      "/Users/diego/miniconda3/envs/TOG_BERT_v2/lib/python3.10/site-packages/sklearn/metrics/_classification.py:1706: UndefinedMetricWarning: Precision is ill-defined and being set to 0.0 in labels with no predicted samples. Use `zero_division` parameter to control this behavior.\n",
      "  _warn_prf(average, modifier, f\"{metric.capitalize()} is\", result.shape[0])\n"
     ]
    },
    {
     "name": "stdout",
     "output_type": "stream",
     "text": [
      "0.4883720930232558\n",
      "1\n",
      "0.328125\n",
      "0.2441860465116279\n",
      "0.5\n",
      "{'PH3': False, 'reducer': '', 'kernel': '', 'label_col': 'class_numeric', 'batch_size': 1024, 'class_list': 'specified', 'data_unit': 'Spv', 'PH2': False, 'n': 72, 'difficulty': 'hard', 'class_numeric_list': [2, 3]}\n",
      "{'device': device(type='mps'), 'arch': 'BERT', 'loadable': 'distilbert-base-uncased', 'optimizer': <class 'torch.optim.adamw.AdamW'>, 'lr': 1e-05, 'weight_decay': 0, 'loss_fn': <class 'torch.nn.modules.loss.CrossEntropyLoss'>, 'num_epochs': 9}\n"
     ]
    },
    {
     "name": "stderr",
     "output_type": "stream",
     "text": [
      "                                                                               \r"
     ]
    },
    {
     "name": "stdout",
     "output_type": "stream",
     "text": [
      "0.6666666666666666\n",
      "1\n",
      "0.6636155606407322\n",
      "0.6729411764705883\n",
      "0.6666666666666666\n",
      "{'PH3': False, 'reducer': '', 'kernel': '', 'label_col': 'class_numeric', 'batch_size': 1024, 'class_list': 'specified', 'data_unit': 'Spv', 'PH2': False, 'n': 72, 'difficulty': 'easy', 'class_numeric_list': [1, 6, 7, 9]}\n",
      "{'device': device(type='mps'), 'arch': 'BERT', 'loadable': 'distilbert-base-uncased', 'optimizer': <class 'torch.optim.adamw.AdamW'>, 'lr': 1e-05, 'weight_decay': 0, 'loss_fn': <class 'torch.nn.modules.loss.CrossEntropyLoss'>, 'num_epochs': 16}\n"
     ]
    },
    {
     "name": "stderr",
     "output_type": "stream",
     "text": [
      "                                                                                 \r"
     ]
    },
    {
     "name": "stdout",
     "output_type": "stream",
     "text": [
      "0.6470588235294118\n",
      "0.9294117647058824\n",
      "0.62954925188644\n",
      "0.6958632662835249\n",
      "0.6522727272727272\n",
      "{'PH3': False, 'reducer': '', 'kernel': '', 'label_col': 'class_numeric', 'batch_size': 1024, 'class_list': 'specified', 'data_unit': 'Spv', 'PH2': False, 'n': 72, 'difficulty': 'average', 'class_numeric_list': [1, 4, 7, 8]}\n",
      "{'device': device(type='mps'), 'arch': 'BERT', 'loadable': 'distilbert-base-uncased', 'optimizer': <class 'torch.optim.adamw.AdamW'>, 'lr': 1e-05, 'weight_decay': 0, 'loss_fn': <class 'torch.nn.modules.loss.CrossEntropyLoss'>, 'num_epochs': 16}\n"
     ]
    },
    {
     "name": "stderr",
     "output_type": "stream",
     "text": [
      "                                                                                 \r"
     ]
    },
    {
     "name": "stdout",
     "output_type": "stream",
     "text": [
      "0.6428571428571429\n",
      "0.9047619047619048\n",
      "0.639685895499849\n",
      "0.6595209339774557\n",
      "0.6471861471861472\n",
      "{'PH3': False, 'reducer': '', 'kernel': '', 'label_col': 'class_numeric', 'batch_size': 1024, 'class_list': 'specified', 'data_unit': 'Spv', 'PH2': False, 'n': 72, 'difficulty': 'hard', 'class_numeric_list': [0, 1, 5, 9]}\n",
      "{'device': device(type='mps'), 'arch': 'BERT', 'loadable': 'distilbert-base-uncased', 'optimizer': <class 'torch.optim.adamw.AdamW'>, 'lr': 1e-05, 'weight_decay': 0, 'loss_fn': <class 'torch.nn.modules.loss.CrossEntropyLoss'>, 'num_epochs': 16}\n"
     ]
    },
    {
     "name": "stderr",
     "output_type": "stream",
     "text": [
      "                                                                                 \r"
     ]
    },
    {
     "name": "stdout",
     "output_type": "stream",
     "text": [
      "0.7058823529411765\n",
      "0.8941176470588236\n",
      "0.693219954648526\n",
      "0.7249680715197957\n",
      "0.6995670995670995\n",
      "{'PH3': False, 'reducer': '', 'kernel': '', 'label_col': 'class_numeric', 'batch_size': 1024, 'class_list': 'specified', 'data_unit': 'Spv', 'PH2': False, 'n': 72, 'difficulty': 'easy', 'class_numeric_list': [1, 3, 5, 6, 7, 9]}\n",
      "{'device': device(type='mps'), 'arch': 'BERT', 'loadable': 'distilbert-base-uncased', 'optimizer': <class 'torch.optim.adamw.AdamW'>, 'lr': 1e-05, 'weight_decay': 0, 'loss_fn': <class 'torch.nn.modules.loss.CrossEntropyLoss'>, 'num_epochs': 23}\n"
     ]
    },
    {
     "name": "stderr",
     "output_type": "stream",
     "text": [
      "                                                                                 \r"
     ]
    },
    {
     "name": "stdout",
     "output_type": "stream",
     "text": [
      "0.5476190476190477\n",
      "0.8650793650793651\n",
      "0.5471909530846202\n",
      "0.5641441891441891\n",
      "0.5442640692640692\n",
      "{'PH3': False, 'reducer': '', 'kernel': '', 'label_col': 'class_numeric', 'batch_size': 1024, 'class_list': 'specified', 'data_unit': 'Spv', 'PH2': False, 'n': 72, 'difficulty': 'average', 'class_numeric_list': [1, 2, 5, 6, 7, 8]}\n",
      "{'device': device(type='mps'), 'arch': 'BERT', 'loadable': 'distilbert-base-uncased', 'optimizer': <class 'torch.optim.adamw.AdamW'>, 'lr': 1e-05, 'weight_decay': 0, 'loss_fn': <class 'torch.nn.modules.loss.CrossEntropyLoss'>, 'num_epochs': 23}\n"
     ]
    },
    {
     "name": "stderr",
     "output_type": "stream",
     "text": [
      "                                                                                 \r"
     ]
    },
    {
     "name": "stdout",
     "output_type": "stream",
     "text": [
      "0.6746031746031746\n",
      "0.8571428571428571\n",
      "0.6779335588159118\n",
      "0.7157238621944505\n",
      "0.6764790764790765\n",
      "{'PH3': False, 'reducer': '', 'kernel': '', 'label_col': 'class_numeric', 'batch_size': 1024, 'class_list': 'specified', 'data_unit': 'Spv', 'PH2': False, 'n': 72, 'difficulty': 'hard', 'class_numeric_list': [1, 4, 5, 6, 8, 9]}\n",
      "{'device': device(type='mps'), 'arch': 'BERT', 'loadable': 'distilbert-base-uncased', 'optimizer': <class 'torch.optim.adamw.AdamW'>, 'lr': 1e-05, 'weight_decay': 0, 'loss_fn': <class 'torch.nn.modules.loss.CrossEntropyLoss'>, 'num_epochs': 23}\n"
     ]
    },
    {
     "name": "stderr",
     "output_type": "stream",
     "text": [
      "                                                                                 \r"
     ]
    },
    {
     "name": "stdout",
     "output_type": "stream",
     "text": [
      "0.5234375\n",
      "0.75\n",
      "0.49279317278370693\n",
      "0.5101859171424389\n",
      "0.5172077922077922\n",
      "{'PH3': False, 'reducer': '', 'kernel': '', 'label_col': 'class_numeric', 'batch_size': 1024, 'class_list': 'specified', 'data_unit': 'Spv', 'PH2': False, 'n': 72, 'difficulty': 'easy', 'class_numeric_list': [0, 2, 3, 4, 5, 6, 7, 8]}\n",
      "{'device': device(type='mps'), 'arch': 'BERT', 'loadable': 'distilbert-base-uncased', 'optimizer': <class 'torch.optim.adamw.AdamW'>, 'lr': 1e-05, 'weight_decay': 0, 'loss_fn': <class 'torch.nn.modules.loss.CrossEntropyLoss'>, 'num_epochs': 30}\n"
     ]
    },
    {
     "name": "stderr",
     "output_type": "stream",
     "text": [
      "                                                                                 \r"
     ]
    },
    {
     "name": "stdout",
     "output_type": "stream",
     "text": [
      "0.7100591715976331\n",
      "0.8520710059171598\n",
      "0.7074817002802442\n",
      "0.7159231477334925\n",
      "0.7085497835497836\n",
      "{'PH3': False, 'reducer': '', 'kernel': '', 'label_col': 'class_numeric', 'batch_size': 1024, 'class_list': 'specified', 'data_unit': 'Spv', 'PH2': False, 'n': 72, 'difficulty': 'average', 'class_numeric_list': [1, 3, 4, 5, 6, 7, 8, 9]}\n",
      "{'device': device(type='mps'), 'arch': 'BERT', 'loadable': 'distilbert-base-uncased', 'optimizer': <class 'torch.optim.adamw.AdamW'>, 'lr': 1e-05, 'weight_decay': 0, 'loss_fn': <class 'torch.nn.modules.loss.CrossEntropyLoss'>, 'num_epochs': 30}\n"
     ]
    },
    {
     "name": "stderr",
     "output_type": "stream",
     "text": [
      "                                                                                 \r"
     ]
    },
    {
     "name": "stdout",
     "output_type": "stream",
     "text": [
      "0.5857988165680473\n",
      "0.8106508875739645\n",
      "0.5852261954089111\n",
      "0.5927110389610389\n",
      "0.5861742424242424\n",
      "{'PH3': False, 'reducer': '', 'kernel': '', 'label_col': 'class_numeric', 'batch_size': 1024, 'class_list': 'specified', 'data_unit': 'Spv', 'PH2': False, 'n': 72, 'difficulty': 'hard', 'class_numeric_list': [0, 1, 2, 4, 5, 7, 8, 9]}\n",
      "{'device': device(type='mps'), 'arch': 'BERT', 'loadable': 'distilbert-base-uncased', 'optimizer': <class 'torch.optim.adamw.AdamW'>, 'lr': 1e-05, 'weight_decay': 0, 'loss_fn': <class 'torch.nn.modules.loss.CrossEntropyLoss'>, 'num_epochs': 30}\n"
     ]
    },
    {
     "name": "stderr",
     "output_type": "stream",
     "text": [
      "                                                                                 \r"
     ]
    },
    {
     "name": "stdout",
     "output_type": "stream",
     "text": [
      "0.6035502958579881\n",
      "0.7751479289940828\n",
      "0.6013616237557413\n",
      "0.6162675237559139\n",
      "0.6036796536796536\n",
      "{'PH3': False, 'reducer': '', 'kernel': '', 'label_col': 'class_numeric', 'batch_size': 1024, 'class_list': 'specified', 'data_unit': 'Spv', 'PH2': False, 'n': 72, 'difficulty': 'easy', 'class_numeric_list': [0, 1, 2, 3, 4, 5, 6, 7, 8, 9]}\n",
      "{'device': device(type='mps'), 'arch': 'BERT', 'loadable': 'distilbert-base-uncased', 'optimizer': <class 'torch.optim.adamw.AdamW'>, 'lr': 1e-05, 'weight_decay': 0, 'loss_fn': <class 'torch.nn.modules.loss.CrossEntropyLoss'>, 'num_epochs': 37}\n"
     ]
    },
    {
     "name": "stderr",
     "output_type": "stream",
     "text": [
      "                                                                                 \r"
     ]
    },
    {
     "name": "stdout",
     "output_type": "stream",
     "text": [
      "0.6084905660377359\n",
      "0.7783018867924528\n",
      "0.6036981963395561\n",
      "0.6152139458408807\n",
      "0.6058441558441559\n",
      "{'PH3': False, 'reducer': '', 'kernel': '', 'label_col': 'class_numeric', 'batch_size': 1024, 'class_list': 'specified', 'data_unit': 'Spv', 'PH2': False, 'n': 72, 'difficulty': 'average', 'class_numeric_list': [0, 1, 2, 3, 4, 5, 6, 7, 8, 9]}\n",
      "{'device': device(type='mps'), 'arch': 'BERT', 'loadable': 'distilbert-base-uncased', 'optimizer': <class 'torch.optim.adamw.AdamW'>, 'lr': 1e-05, 'weight_decay': 0, 'loss_fn': <class 'torch.nn.modules.loss.CrossEntropyLoss'>, 'num_epochs': 37}\n"
     ]
    },
    {
     "name": "stderr",
     "output_type": "stream",
     "text": [
      "                                                                                 \r"
     ]
    },
    {
     "name": "stdout",
     "output_type": "stream",
     "text": [
      "0.6367924528301887\n",
      "0.8537735849056604\n",
      "0.6215554613839669\n",
      "0.6638478708725388\n",
      "0.6377922077922078\n",
      "{'PH3': False, 'reducer': '', 'kernel': '', 'label_col': 'class_numeric', 'batch_size': 1024, 'class_list': 'specified', 'data_unit': 'Spv', 'PH2': False, 'n': 72, 'difficulty': 'hard', 'class_numeric_list': [0, 1, 2, 3, 4, 5, 6, 7, 8, 9]}\n",
      "{'device': device(type='mps'), 'arch': 'BERT', 'loadable': 'distilbert-base-uncased', 'optimizer': <class 'torch.optim.adamw.AdamW'>, 'lr': 1e-05, 'weight_decay': 0, 'loss_fn': <class 'torch.nn.modules.loss.CrossEntropyLoss'>, 'num_epochs': 37}\n"
     ]
    },
    {
     "name": "stderr",
     "output_type": "stream",
     "text": [
      "                                                                                 \r"
     ]
    },
    {
     "name": "stdout",
     "output_type": "stream",
     "text": [
      "0.5660377358490566\n",
      "0.7783018867924528\n",
      "0.5616224580017684\n",
      "0.6033316577338349\n",
      "0.5651731601731602\n",
      "{'PH3': False, 'reducer': '', 'kernel': '', 'label_col': 'class_numeric', 'batch_size': 1024, 'class_list': 'specified', 'data_unit': 'Spv', 'PH2': True, 'n': 75, 'difficulty': 'easy', 'class_numeric_list': [5, 7]}\n",
      "{'device': device(type='mps'), 'arch': 'BERT', 'loadable': 'distilbert-base-uncased', 'optimizer': <class 'torch.optim.adamw.AdamW'>, 'lr': 1e-05, 'weight_decay': 0, 'loss_fn': <class 'torch.nn.modules.loss.CrossEntropyLoss'>, 'num_epochs': 9}\n"
     ]
    },
    {
     "name": "stderr",
     "output_type": "stream",
     "text": [
      "                                                                               \r"
     ]
    },
    {
     "name": "stdout",
     "output_type": "stream",
     "text": [
      "0.9512195121951219\n",
      "1\n",
      "0.9511904761904761\n",
      "0.9545454545454546\n",
      "0.9523809523809523\n",
      "{'PH3': False, 'reducer': '', 'kernel': '', 'label_col': 'class_numeric', 'batch_size': 1024, 'class_list': 'specified', 'data_unit': 'Spv', 'PH2': True, 'n': 75, 'difficulty': 'average', 'class_numeric_list': [2, 4]}\n",
      "{'device': device(type='mps'), 'arch': 'BERT', 'loadable': 'distilbert-base-uncased', 'optimizer': <class 'torch.optim.adamw.AdamW'>, 'lr': 1e-05, 'weight_decay': 0, 'loss_fn': <class 'torch.nn.modules.loss.CrossEntropyLoss'>, 'num_epochs': 9}\n"
     ]
    },
    {
     "name": "stderr",
     "output_type": "stream",
     "text": [
      "                                                                               \r"
     ]
    },
    {
     "name": "stdout",
     "output_type": "stream",
     "text": [
      "0.6511627906976745\n",
      "1\n",
      "0.5951035781544256\n",
      "0.7972972972972974\n",
      "0.6428571428571428\n",
      "{'PH3': False, 'reducer': '', 'kernel': '', 'label_col': 'class_numeric', 'batch_size': 1024, 'class_list': 'specified', 'data_unit': 'Spv', 'PH2': True, 'n': 75, 'difficulty': 'hard', 'class_numeric_list': [2, 3]}\n",
      "{'device': device(type='mps'), 'arch': 'BERT', 'loadable': 'distilbert-base-uncased', 'optimizer': <class 'torch.optim.adamw.AdamW'>, 'lr': 1e-05, 'weight_decay': 0, 'loss_fn': <class 'torch.nn.modules.loss.CrossEntropyLoss'>, 'num_epochs': 9}\n"
     ]
    },
    {
     "name": "stderr",
     "output_type": "stream",
     "text": [
      "                                                                               \r"
     ]
    },
    {
     "name": "stdout",
     "output_type": "stream",
     "text": [
      "0.6904761904761905\n",
      "1\n",
      "0.6888888888888889\n",
      "0.6944444444444444\n",
      "0.6904761904761905\n",
      "{'PH3': False, 'reducer': '', 'kernel': '', 'label_col': 'class_numeric', 'batch_size': 1024, 'class_list': 'specified', 'data_unit': 'Spv', 'PH2': True, 'n': 75, 'difficulty': 'easy', 'class_numeric_list': [1, 6, 7, 9]}\n",
      "{'device': device(type='mps'), 'arch': 'BERT', 'loadable': 'distilbert-base-uncased', 'optimizer': <class 'torch.optim.adamw.AdamW'>, 'lr': 1e-05, 'weight_decay': 0, 'loss_fn': <class 'torch.nn.modules.loss.CrossEntropyLoss'>, 'num_epochs': 16}\n"
     ]
    },
    {
     "name": "stderr",
     "output_type": "stream",
     "text": [
      "/Users/diego/miniconda3/envs/TOG_BERT_v2/lib/python3.10/site-packages/sklearn/metrics/_classification.py:1706: UndefinedMetricWarning: Precision is ill-defined and being set to 0.0 in labels with no predicted samples. Use `zero_division` parameter to control this behavior.\n",
      "  _warn_prf(average, modifier, f\"{metric.capitalize()} is\", result.shape[0])\n"
     ]
    },
    {
     "name": "stdout",
     "output_type": "stream",
     "text": [
      "0.5764705882352941\n",
      "0.9411764705882353\n",
      "0.49778225806451615\n",
      "0.46111111111111114\n",
      "0.5681818181818181\n",
      "{'PH3': False, 'reducer': '', 'kernel': '', 'label_col': 'class_numeric', 'batch_size': 1024, 'class_list': 'specified', 'data_unit': 'Spv', 'PH2': True, 'n': 75, 'difficulty': 'average', 'class_numeric_list': [1, 4, 7, 8]}\n",
      "{'device': device(type='mps'), 'arch': 'BERT', 'loadable': 'distilbert-base-uncased', 'optimizer': <class 'torch.optim.adamw.AdamW'>, 'lr': 1e-05, 'weight_decay': 0, 'loss_fn': <class 'torch.nn.modules.loss.CrossEntropyLoss'>, 'num_epochs': 16}\n"
     ]
    },
    {
     "name": "stderr",
     "output_type": "stream",
     "text": [
      "                                                                                  \r"
     ]
    },
    {
     "name": "stdout",
     "output_type": "stream",
     "text": [
      "0.5238095238095238\n",
      "0.8809523809523809\n",
      "0.5059587471352177\n",
      "0.5142357642357642\n",
      "0.5286796536796536\n",
      "{'PH3': False, 'reducer': '', 'kernel': '', 'label_col': 'class_numeric', 'batch_size': 1024, 'class_list': 'specified', 'data_unit': 'Spv', 'PH2': True, 'n': 75, 'difficulty': 'hard', 'class_numeric_list': [0, 1, 5, 9]}\n",
      "{'device': device(type='mps'), 'arch': 'BERT', 'loadable': 'distilbert-base-uncased', 'optimizer': <class 'torch.optim.adamw.AdamW'>, 'lr': 1e-05, 'weight_decay': 0, 'loss_fn': <class 'torch.nn.modules.loss.CrossEntropyLoss'>, 'num_epochs': 16}\n"
     ]
    },
    {
     "name": "stderr",
     "output_type": "stream",
     "text": [
      "                                                                                 \r"
     ]
    },
    {
     "name": "stdout",
     "output_type": "stream",
     "text": [
      "0.5294117647058824\n",
      "0.7647058823529411\n",
      "0.46386158886158885\n",
      "0.6984884219554031\n",
      "0.525\n",
      "{'PH3': False, 'reducer': '', 'kernel': '', 'label_col': 'class_numeric', 'batch_size': 1024, 'class_list': 'specified', 'data_unit': 'Spv', 'PH2': True, 'n': 75, 'difficulty': 'easy', 'class_numeric_list': [1, 3, 5, 6, 7, 9]}\n",
      "{'device': device(type='mps'), 'arch': 'BERT', 'loadable': 'distilbert-base-uncased', 'optimizer': <class 'torch.optim.adamw.AdamW'>, 'lr': 1e-05, 'weight_decay': 0, 'loss_fn': <class 'torch.nn.modules.loss.CrossEntropyLoss'>, 'num_epochs': 23}\n"
     ]
    },
    {
     "name": "stderr",
     "output_type": "stream",
     "text": [
      "                                                                                 \r"
     ]
    },
    {
     "name": "stdout",
     "output_type": "stream",
     "text": [
      "0.48412698412698413\n",
      "0.8412698412698413\n",
      "0.46876963165388214\n",
      "0.5126902230560767\n",
      "0.48740981240981246\n",
      "{'PH3': False, 'reducer': '', 'kernel': '', 'label_col': 'class_numeric', 'batch_size': 1024, 'class_list': 'specified', 'data_unit': 'Spv', 'PH2': True, 'n': 75, 'difficulty': 'average', 'class_numeric_list': [1, 2, 5, 6, 7, 8]}\n",
      "{'device': device(type='mps'), 'arch': 'BERT', 'loadable': 'distilbert-base-uncased', 'optimizer': <class 'torch.optim.adamw.AdamW'>, 'lr': 1e-05, 'weight_decay': 0, 'loss_fn': <class 'torch.nn.modules.loss.CrossEntropyLoss'>, 'num_epochs': 23}\n"
     ]
    },
    {
     "name": "stderr",
     "output_type": "stream",
     "text": [
      "                                                                                 \r"
     ]
    },
    {
     "name": "stdout",
     "output_type": "stream",
     "text": [
      "0.5396825396825397\n",
      "0.8571428571428571\n",
      "0.523979830127371\n",
      "0.6134259259259259\n",
      "0.5437950937950938\n",
      "{'PH3': False, 'reducer': '', 'kernel': '', 'label_col': 'class_numeric', 'batch_size': 1024, 'class_list': 'specified', 'data_unit': 'Spv', 'PH2': True, 'n': 75, 'difficulty': 'hard', 'class_numeric_list': [1, 4, 5, 6, 8, 9]}\n",
      "{'device': device(type='mps'), 'arch': 'BERT', 'loadable': 'distilbert-base-uncased', 'optimizer': <class 'torch.optim.adamw.AdamW'>, 'lr': 1e-05, 'weight_decay': 0, 'loss_fn': <class 'torch.nn.modules.loss.CrossEntropyLoss'>, 'num_epochs': 23}\n"
     ]
    },
    {
     "name": "stderr",
     "output_type": "stream",
     "text": [
      "                                                                                 \r"
     ]
    },
    {
     "name": "stdout",
     "output_type": "stream",
     "text": [
      "0.515625\n",
      "0.734375\n",
      "0.5132396331738437\n",
      "0.5590836859219213\n",
      "0.5113636363636364\n",
      "{'PH3': False, 'reducer': '', 'kernel': '', 'label_col': 'class_numeric', 'batch_size': 1024, 'class_list': 'specified', 'data_unit': 'Spv', 'PH2': True, 'n': 75, 'difficulty': 'easy', 'class_numeric_list': [0, 2, 3, 4, 5, 6, 7, 8]}\n",
      "{'device': device(type='mps'), 'arch': 'BERT', 'loadable': 'distilbert-base-uncased', 'optimizer': <class 'torch.optim.adamw.AdamW'>, 'lr': 1e-05, 'weight_decay': 0, 'loss_fn': <class 'torch.nn.modules.loss.CrossEntropyLoss'>, 'num_epochs': 30}\n"
     ]
    },
    {
     "name": "stderr",
     "output_type": "stream",
     "text": [
      "                                                                                 \r"
     ]
    },
    {
     "name": "stdout",
     "output_type": "stream",
     "text": [
      "0.48520710059171596\n",
      "0.7633136094674556\n",
      "0.43720188326166587\n",
      "0.4896788545883941\n",
      "0.48403679653679654\n",
      "{'PH3': False, 'reducer': '', 'kernel': '', 'label_col': 'class_numeric', 'batch_size': 1024, 'class_list': 'specified', 'data_unit': 'Spv', 'PH2': True, 'n': 75, 'difficulty': 'average', 'class_numeric_list': [1, 3, 4, 5, 6, 7, 8, 9]}\n",
      "{'device': device(type='mps'), 'arch': 'BERT', 'loadable': 'distilbert-base-uncased', 'optimizer': <class 'torch.optim.adamw.AdamW'>, 'lr': 1e-05, 'weight_decay': 0, 'loss_fn': <class 'torch.nn.modules.loss.CrossEntropyLoss'>, 'num_epochs': 30}\n"
     ]
    },
    {
     "name": "stderr",
     "output_type": "stream",
     "text": [
      "                                                                                 \r"
     ]
    },
    {
     "name": "stdout",
     "output_type": "stream",
     "text": [
      "0.46745562130177515\n",
      "0.727810650887574\n",
      "0.44848481100197346\n",
      "0.6217668570044251\n",
      "0.4681547619047619\n",
      "{'PH3': False, 'reducer': '', 'kernel': '', 'label_col': 'class_numeric', 'batch_size': 1024, 'class_list': 'specified', 'data_unit': 'Spv', 'PH2': True, 'n': 75, 'difficulty': 'hard', 'class_numeric_list': [0, 1, 2, 4, 5, 7, 8, 9]}\n",
      "{'device': device(type='mps'), 'arch': 'BERT', 'loadable': 'distilbert-base-uncased', 'optimizer': <class 'torch.optim.adamw.AdamW'>, 'lr': 1e-05, 'weight_decay': 0, 'loss_fn': <class 'torch.nn.modules.loss.CrossEntropyLoss'>, 'num_epochs': 30}\n"
     ]
    },
    {
     "name": "stderr",
     "output_type": "stream",
     "text": [
      "                                                                                 \r"
     ]
    },
    {
     "name": "stdout",
     "output_type": "stream",
     "text": [
      "0.47928994082840237\n",
      "0.6745562130177515\n",
      "0.45215060118457506\n",
      "0.4523450080515298\n",
      "0.4806006493506493\n",
      "{'PH3': False, 'reducer': '', 'kernel': '', 'label_col': 'class_numeric', 'batch_size': 1024, 'class_list': 'specified', 'data_unit': 'Spv', 'PH2': True, 'n': 75, 'difficulty': 'easy', 'class_numeric_list': [0, 1, 2, 3, 4, 5, 6, 7, 8, 9]}\n",
      "{'device': device(type='mps'), 'arch': 'BERT', 'loadable': 'distilbert-base-uncased', 'optimizer': <class 'torch.optim.adamw.AdamW'>, 'lr': 1e-05, 'weight_decay': 0, 'loss_fn': <class 'torch.nn.modules.loss.CrossEntropyLoss'>, 'num_epochs': 37}\n"
     ]
    },
    {
     "name": "stderr",
     "output_type": "stream",
     "text": [
      "                                                                                 \r"
     ]
    },
    {
     "name": "stdout",
     "output_type": "stream",
     "text": [
      "0.37264150943396224\n",
      "0.6415094339622641\n",
      "0.3351851508983487\n",
      "0.3512949238050658\n",
      "0.3762121212121212\n",
      "{'PH3': False, 'reducer': '', 'kernel': '', 'label_col': 'class_numeric', 'batch_size': 1024, 'class_list': 'specified', 'data_unit': 'Spv', 'PH2': True, 'n': 75, 'difficulty': 'average', 'class_numeric_list': [0, 1, 2, 3, 4, 5, 6, 7, 8, 9]}\n",
      "{'device': device(type='mps'), 'arch': 'BERT', 'loadable': 'distilbert-base-uncased', 'optimizer': <class 'torch.optim.adamw.AdamW'>, 'lr': 1e-05, 'weight_decay': 0, 'loss_fn': <class 'torch.nn.modules.loss.CrossEntropyLoss'>, 'num_epochs': 37}\n"
     ]
    },
    {
     "name": "stderr",
     "output_type": "stream",
     "text": [
      "                                                                                 \r"
     ]
    },
    {
     "name": "stdout",
     "output_type": "stream",
     "text": [
      "0.42452830188679247\n",
      "0.6415094339622641\n",
      "0.41226727274107355\n",
      "0.4442541659377359\n",
      "0.4258441558441558\n",
      "{'PH3': False, 'reducer': '', 'kernel': '', 'label_col': 'class_numeric', 'batch_size': 1024, 'class_list': 'specified', 'data_unit': 'Spv', 'PH2': True, 'n': 75, 'difficulty': 'hard', 'class_numeric_list': [0, 1, 2, 3, 4, 5, 6, 7, 8, 9]}\n",
      "{'device': device(type='mps'), 'arch': 'BERT', 'loadable': 'distilbert-base-uncased', 'optimizer': <class 'torch.optim.adamw.AdamW'>, 'lr': 1e-05, 'weight_decay': 0, 'loss_fn': <class 'torch.nn.modules.loss.CrossEntropyLoss'>, 'num_epochs': 37}\n"
     ]
    },
    {
     "name": "stderr",
     "output_type": "stream",
     "text": [
      "                                                                                 \r"
     ]
    },
    {
     "name": "stdout",
     "output_type": "stream",
     "text": [
      "0.39622641509433965\n",
      "0.6698113207547169\n",
      "0.3811575554392834\n",
      "0.4111915300007031\n",
      "0.39692640692640696\n"
     ]
    }
   ],
   "source": [
    "for data_unit in [sup.DATA_S_PF, sup.DATA_S_PV]:\n",
    "  data_config = base_data_config.copy()\n",
    "  train_config = base_train_config.copy()\n",
    "\n",
    "  data_config[\"data_unit\"] = data_unit\n",
    "\n",
    "  for PH2 in [False, True]:\n",
    "    data_config[\"PH2\"] = PH2\n",
    "    data_config[\"n\"] = 75 if PH2 else 72\n",
    "\n",
    "    for n in num_class_candidates:\n",
    "      s = subsets[n]\n",
    "      train_config[\"num_epochs\"] = int(base_num_epochs + n * rate_num_epochs)\n",
    "      for difficulty in ['easy', 'average', 'hard']:\n",
    "        s_dif = s[difficulty]\n",
    "        data_config[\"difficulty\"] = difficulty\n",
    "        data_config[\"class_numeric_list\"] = s_dif\n",
    "        \n",
    "        print(data_config)\n",
    "        print(train_config)\n",
    "        model = bert.BERT(data_config=data_config, df=None, \n",
    "                          train_config=train_config)\n",
    "        \n",
    "        model.fit(verbose=True)\n",
    "\n",
    "        model.test()\n",
    "\n",
    "        model.full_score()\n",
    "        print(model.accuracy)\n",
    "        print(model.top2accuracy)\n",
    "        print(model.macro_f1)\n",
    "        print(model.macro_precision)\n",
    "        print(model.macro_recall)\n",
    "\n",
    "        metrics = {\"data_unit\" : data_unit,\n",
    "                    \"PH2\" : PH2,\n",
    "                    \"num_classes\" : n,\n",
    "                    \"difficulty\" : difficulty,\n",
    "                    \"accuracy\" : model.accuracy,\n",
    "                    \"top2accuracy\" : model.top2accuracy,\n",
    "                    \"macro_f1\" : model.macro_f1,\n",
    "                    \"macro_precision\" : model.macro_precision,\n",
    "                    \"macro_recall\" : model.macro_recall}\n",
    "        \n",
    "        model.keep_confusion_matrix()\n",
    "        model.keep_loss()\n",
    "        \n",
    "        metric_tracker.append(metrics.copy())\n",
    "        \n",
    "        bert.clean_bert(model)\n",
    "      \n",
    "      gc.collect()\n",
    "      if torch.backends.mps.is_available():\n",
    "        torch.mps.empty_cache()\n",
    "    \n",
    "    gc.collect()\n",
    "    if torch.backends.mps.is_available():\n",
    "      torch.mps.empty_cache()\n",
    "  \n",
    "  gc.collect()\n",
    "  if torch.backends.mps.is_available():\n",
    "    torch.mps.empty_cache()\n",
    "\n",
    "gc.collect()\n",
    "if torch.backends.mps.is_available():\n",
    "  torch.mps.empty_cache()\n",
    "  \n",
    "\n"
   ]
  },
  {
   "cell_type": "markdown",
   "id": "0fcc663c",
   "metadata": {},
   "source": [
    "# Keep metrics"
   ]
  },
  {
   "cell_type": "code",
   "execution_count": 9,
   "id": "9757dc3a",
   "metadata": {},
   "outputs": [
    {
     "data": {
      "text/html": [
       "<div>\n",
       "<style scoped>\n",
       "    .dataframe tbody tr th:only-of-type {\n",
       "        vertical-align: middle;\n",
       "    }\n",
       "\n",
       "    .dataframe tbody tr th {\n",
       "        vertical-align: top;\n",
       "    }\n",
       "\n",
       "    .dataframe thead th {\n",
       "        text-align: right;\n",
       "    }\n",
       "</style>\n",
       "<table border=\"1\" class=\"dataframe\">\n",
       "  <thead>\n",
       "    <tr style=\"text-align: right;\">\n",
       "      <th></th>\n",
       "      <th>data_unit</th>\n",
       "      <th>PH2</th>\n",
       "      <th>num_classes</th>\n",
       "      <th>difficulty</th>\n",
       "      <th>accuracy</th>\n",
       "      <th>top2accuracy</th>\n",
       "      <th>macro_f1</th>\n",
       "      <th>macro_precision</th>\n",
       "      <th>macro_recall</th>\n",
       "    </tr>\n",
       "  </thead>\n",
       "  <tbody>\n",
       "    <tr>\n",
       "      <th>15</th>\n",
       "      <td>Spf</td>\n",
       "      <td>True</td>\n",
       "      <td>2</td>\n",
       "      <td>easy</td>\n",
       "      <td>0.979296</td>\n",
       "      <td>1.000000</td>\n",
       "      <td>0.979296</td>\n",
       "      <td>0.979598</td>\n",
       "      <td>0.979532</td>\n",
       "    </tr>\n",
       "    <tr>\n",
       "      <th>45</th>\n",
       "      <td>Spv</td>\n",
       "      <td>True</td>\n",
       "      <td>2</td>\n",
       "      <td>easy</td>\n",
       "      <td>0.951220</td>\n",
       "      <td>1.000000</td>\n",
       "      <td>0.951190</td>\n",
       "      <td>0.954545</td>\n",
       "      <td>0.952381</td>\n",
       "    </tr>\n",
       "    <tr>\n",
       "      <th>9</th>\n",
       "      <td>Spf</td>\n",
       "      <td>False</td>\n",
       "      <td>8</td>\n",
       "      <td>easy</td>\n",
       "      <td>0.867850</td>\n",
       "      <td>0.950197</td>\n",
       "      <td>0.867756</td>\n",
       "      <td>0.870830</td>\n",
       "      <td>0.868473</td>\n",
       "    </tr>\n",
       "    <tr>\n",
       "      <th>12</th>\n",
       "      <td>Spf</td>\n",
       "      <td>False</td>\n",
       "      <td>10</td>\n",
       "      <td>easy</td>\n",
       "      <td>0.854724</td>\n",
       "      <td>0.945669</td>\n",
       "      <td>0.854907</td>\n",
       "      <td>0.859644</td>\n",
       "      <td>0.855402</td>\n",
       "    </tr>\n",
       "    <tr>\n",
       "      <th>13</th>\n",
       "      <td>Spf</td>\n",
       "      <td>False</td>\n",
       "      <td>10</td>\n",
       "      <td>average</td>\n",
       "      <td>0.844488</td>\n",
       "      <td>0.941732</td>\n",
       "      <td>0.843554</td>\n",
       "      <td>0.850765</td>\n",
       "      <td>0.845306</td>\n",
       "    </tr>\n",
       "    <tr>\n",
       "      <th>14</th>\n",
       "      <td>Spf</td>\n",
       "      <td>False</td>\n",
       "      <td>10</td>\n",
       "      <td>hard</td>\n",
       "      <td>0.839370</td>\n",
       "      <td>0.937795</td>\n",
       "      <td>0.839858</td>\n",
       "      <td>0.844217</td>\n",
       "      <td>0.839995</td>\n",
       "    </tr>\n",
       "    <tr>\n",
       "      <th>7</th>\n",
       "      <td>Spf</td>\n",
       "      <td>False</td>\n",
       "      <td>6</td>\n",
       "      <td>average</td>\n",
       "      <td>0.833554</td>\n",
       "      <td>0.935676</td>\n",
       "      <td>0.835053</td>\n",
       "      <td>0.843713</td>\n",
       "      <td>0.832564</td>\n",
       "    </tr>\n",
       "    <tr>\n",
       "      <th>6</th>\n",
       "      <td>Spf</td>\n",
       "      <td>False</td>\n",
       "      <td>6</td>\n",
       "      <td>easy</td>\n",
       "      <td>0.832891</td>\n",
       "      <td>0.945623</td>\n",
       "      <td>0.832168</td>\n",
       "      <td>0.839404</td>\n",
       "      <td>0.831504</td>\n",
       "    </tr>\n",
       "    <tr>\n",
       "      <th>4</th>\n",
       "      <td>Spf</td>\n",
       "      <td>False</td>\n",
       "      <td>4</td>\n",
       "      <td>average</td>\n",
       "      <td>0.827689</td>\n",
       "      <td>0.972112</td>\n",
       "      <td>0.826138</td>\n",
       "      <td>0.827934</td>\n",
       "      <td>0.830540</td>\n",
       "    </tr>\n",
       "    <tr>\n",
       "      <th>10</th>\n",
       "      <td>Spf</td>\n",
       "      <td>False</td>\n",
       "      <td>8</td>\n",
       "      <td>average</td>\n",
       "      <td>0.818182</td>\n",
       "      <td>0.935277</td>\n",
       "      <td>0.819499</td>\n",
       "      <td>0.827587</td>\n",
       "      <td>0.818665</td>\n",
       "    </tr>\n",
       "    <tr>\n",
       "      <th>11</th>\n",
       "      <td>Spf</td>\n",
       "      <td>False</td>\n",
       "      <td>8</td>\n",
       "      <td>hard</td>\n",
       "      <td>0.804047</td>\n",
       "      <td>0.924975</td>\n",
       "      <td>0.804490</td>\n",
       "      <td>0.816846</td>\n",
       "      <td>0.805357</td>\n",
       "    </tr>\n",
       "    <tr>\n",
       "      <th>8</th>\n",
       "      <td>Spf</td>\n",
       "      <td>False</td>\n",
       "      <td>6</td>\n",
       "      <td>hard</td>\n",
       "      <td>0.775391</td>\n",
       "      <td>0.908854</td>\n",
       "      <td>0.773216</td>\n",
       "      <td>0.774873</td>\n",
       "      <td>0.775512</td>\n",
       "    </tr>\n",
       "    <tr>\n",
       "      <th>0</th>\n",
       "      <td>Spf</td>\n",
       "      <td>False</td>\n",
       "      <td>2</td>\n",
       "      <td>easy</td>\n",
       "      <td>0.766046</td>\n",
       "      <td>1.000000</td>\n",
       "      <td>0.752751</td>\n",
       "      <td>0.829248</td>\n",
       "      <td>0.762845</td>\n",
       "    </tr>\n",
       "    <tr>\n",
       "      <th>3</th>\n",
       "      <td>Spf</td>\n",
       "      <td>False</td>\n",
       "      <td>4</td>\n",
       "      <td>easy</td>\n",
       "      <td>0.757157</td>\n",
       "      <td>0.926950</td>\n",
       "      <td>0.756207</td>\n",
       "      <td>0.763305</td>\n",
       "      <td>0.760000</td>\n",
       "    </tr>\n",
       "    <tr>\n",
       "      <th>5</th>\n",
       "      <td>Spf</td>\n",
       "      <td>False</td>\n",
       "      <td>4</td>\n",
       "      <td>hard</td>\n",
       "      <td>0.744597</td>\n",
       "      <td>0.948919</td>\n",
       "      <td>0.741979</td>\n",
       "      <td>0.751152</td>\n",
       "      <td>0.742250</td>\n",
       "    </tr>\n",
       "    <tr>\n",
       "      <th>39</th>\n",
       "      <td>Spv</td>\n",
       "      <td>False</td>\n",
       "      <td>8</td>\n",
       "      <td>easy</td>\n",
       "      <td>0.710059</td>\n",
       "      <td>0.852071</td>\n",
       "      <td>0.707482</td>\n",
       "      <td>0.715923</td>\n",
       "      <td>0.708550</td>\n",
       "    </tr>\n",
       "    <tr>\n",
       "      <th>35</th>\n",
       "      <td>Spv</td>\n",
       "      <td>False</td>\n",
       "      <td>4</td>\n",
       "      <td>hard</td>\n",
       "      <td>0.705882</td>\n",
       "      <td>0.894118</td>\n",
       "      <td>0.693220</td>\n",
       "      <td>0.724968</td>\n",
       "      <td>0.699567</td>\n",
       "    </tr>\n",
       "    <tr>\n",
       "      <th>47</th>\n",
       "      <td>Spv</td>\n",
       "      <td>True</td>\n",
       "      <td>2</td>\n",
       "      <td>hard</td>\n",
       "      <td>0.690476</td>\n",
       "      <td>1.000000</td>\n",
       "      <td>0.688889</td>\n",
       "      <td>0.694444</td>\n",
       "      <td>0.690476</td>\n",
       "    </tr>\n",
       "    <tr>\n",
       "      <th>37</th>\n",
       "      <td>Spv</td>\n",
       "      <td>False</td>\n",
       "      <td>6</td>\n",
       "      <td>average</td>\n",
       "      <td>0.674603</td>\n",
       "      <td>0.857143</td>\n",
       "      <td>0.677934</td>\n",
       "      <td>0.715724</td>\n",
       "      <td>0.676479</td>\n",
       "    </tr>\n",
       "    <tr>\n",
       "      <th>32</th>\n",
       "      <td>Spv</td>\n",
       "      <td>False</td>\n",
       "      <td>2</td>\n",
       "      <td>hard</td>\n",
       "      <td>0.666667</td>\n",
       "      <td>1.000000</td>\n",
       "      <td>0.663616</td>\n",
       "      <td>0.672941</td>\n",
       "      <td>0.666667</td>\n",
       "    </tr>\n",
       "    <tr>\n",
       "      <th>46</th>\n",
       "      <td>Spv</td>\n",
       "      <td>True</td>\n",
       "      <td>2</td>\n",
       "      <td>average</td>\n",
       "      <td>0.651163</td>\n",
       "      <td>1.000000</td>\n",
       "      <td>0.595104</td>\n",
       "      <td>0.797297</td>\n",
       "      <td>0.642857</td>\n",
       "    </tr>\n",
       "    <tr>\n",
       "      <th>33</th>\n",
       "      <td>Spv</td>\n",
       "      <td>False</td>\n",
       "      <td>4</td>\n",
       "      <td>easy</td>\n",
       "      <td>0.647059</td>\n",
       "      <td>0.929412</td>\n",
       "      <td>0.629549</td>\n",
       "      <td>0.695863</td>\n",
       "      <td>0.652273</td>\n",
       "    </tr>\n",
       "    <tr>\n",
       "      <th>34</th>\n",
       "      <td>Spv</td>\n",
       "      <td>False</td>\n",
       "      <td>4</td>\n",
       "      <td>average</td>\n",
       "      <td>0.642857</td>\n",
       "      <td>0.904762</td>\n",
       "      <td>0.639686</td>\n",
       "      <td>0.659521</td>\n",
       "      <td>0.647186</td>\n",
       "    </tr>\n",
       "    <tr>\n",
       "      <th>20</th>\n",
       "      <td>Spf</td>\n",
       "      <td>True</td>\n",
       "      <td>4</td>\n",
       "      <td>hard</td>\n",
       "      <td>0.640472</td>\n",
       "      <td>0.866405</td>\n",
       "      <td>0.638049</td>\n",
       "      <td>0.648616</td>\n",
       "      <td>0.640547</td>\n",
       "    </tr>\n",
       "    <tr>\n",
       "      <th>43</th>\n",
       "      <td>Spv</td>\n",
       "      <td>False</td>\n",
       "      <td>10</td>\n",
       "      <td>average</td>\n",
       "      <td>0.636792</td>\n",
       "      <td>0.853774</td>\n",
       "      <td>0.621555</td>\n",
       "      <td>0.663848</td>\n",
       "      <td>0.637792</td>\n",
       "    </tr>\n",
       "    <tr>\n",
       "      <th>42</th>\n",
       "      <td>Spv</td>\n",
       "      <td>False</td>\n",
       "      <td>10</td>\n",
       "      <td>easy</td>\n",
       "      <td>0.608491</td>\n",
       "      <td>0.778302</td>\n",
       "      <td>0.603698</td>\n",
       "      <td>0.615214</td>\n",
       "      <td>0.605844</td>\n",
       "    </tr>\n",
       "    <tr>\n",
       "      <th>41</th>\n",
       "      <td>Spv</td>\n",
       "      <td>False</td>\n",
       "      <td>8</td>\n",
       "      <td>hard</td>\n",
       "      <td>0.603550</td>\n",
       "      <td>0.775148</td>\n",
       "      <td>0.601362</td>\n",
       "      <td>0.616268</td>\n",
       "      <td>0.603680</td>\n",
       "    </tr>\n",
       "    <tr>\n",
       "      <th>19</th>\n",
       "      <td>Spf</td>\n",
       "      <td>True</td>\n",
       "      <td>4</td>\n",
       "      <td>average</td>\n",
       "      <td>0.593625</td>\n",
       "      <td>0.842629</td>\n",
       "      <td>0.596203</td>\n",
       "      <td>0.602130</td>\n",
       "      <td>0.599910</td>\n",
       "    </tr>\n",
       "    <tr>\n",
       "      <th>21</th>\n",
       "      <td>Spf</td>\n",
       "      <td>True</td>\n",
       "      <td>6</td>\n",
       "      <td>easy</td>\n",
       "      <td>0.593501</td>\n",
       "      <td>0.858090</td>\n",
       "      <td>0.569383</td>\n",
       "      <td>0.616990</td>\n",
       "      <td>0.601510</td>\n",
       "    </tr>\n",
       "    <tr>\n",
       "      <th>2</th>\n",
       "      <td>Spf</td>\n",
       "      <td>False</td>\n",
       "      <td>2</td>\n",
       "      <td>hard</td>\n",
       "      <td>0.589286</td>\n",
       "      <td>1.000000</td>\n",
       "      <td>0.507866</td>\n",
       "      <td>0.745212</td>\n",
       "      <td>0.586094</td>\n",
       "    </tr>\n",
       "    <tr>\n",
       "      <th>40</th>\n",
       "      <td>Spv</td>\n",
       "      <td>False</td>\n",
       "      <td>8</td>\n",
       "      <td>average</td>\n",
       "      <td>0.585799</td>\n",
       "      <td>0.810651</td>\n",
       "      <td>0.585226</td>\n",
       "      <td>0.592711</td>\n",
       "      <td>0.586174</td>\n",
       "    </tr>\n",
       "    <tr>\n",
       "      <th>17</th>\n",
       "      <td>Spf</td>\n",
       "      <td>True</td>\n",
       "      <td>2</td>\n",
       "      <td>hard</td>\n",
       "      <td>0.585317</td>\n",
       "      <td>1.000000</td>\n",
       "      <td>0.581985</td>\n",
       "      <td>0.589159</td>\n",
       "      <td>0.586063</td>\n",
       "    </tr>\n",
       "    <tr>\n",
       "      <th>18</th>\n",
       "      <td>Spf</td>\n",
       "      <td>True</td>\n",
       "      <td>4</td>\n",
       "      <td>easy</td>\n",
       "      <td>0.584403</td>\n",
       "      <td>0.888450</td>\n",
       "      <td>0.539474</td>\n",
       "      <td>0.589397</td>\n",
       "      <td>0.597460</td>\n",
       "    </tr>\n",
       "    <tr>\n",
       "      <th>48</th>\n",
       "      <td>Spv</td>\n",
       "      <td>True</td>\n",
       "      <td>4</td>\n",
       "      <td>easy</td>\n",
       "      <td>0.576471</td>\n",
       "      <td>0.941176</td>\n",
       "      <td>0.497782</td>\n",
       "      <td>0.461111</td>\n",
       "      <td>0.568182</td>\n",
       "    </tr>\n",
       "    <tr>\n",
       "      <th>22</th>\n",
       "      <td>Spf</td>\n",
       "      <td>True</td>\n",
       "      <td>6</td>\n",
       "      <td>average</td>\n",
       "      <td>0.566313</td>\n",
       "      <td>0.874005</td>\n",
       "      <td>0.529837</td>\n",
       "      <td>0.580553</td>\n",
       "      <td>0.572893</td>\n",
       "    </tr>\n",
       "    <tr>\n",
       "      <th>44</th>\n",
       "      <td>Spv</td>\n",
       "      <td>False</td>\n",
       "      <td>10</td>\n",
       "      <td>hard</td>\n",
       "      <td>0.566038</td>\n",
       "      <td>0.778302</td>\n",
       "      <td>0.561622</td>\n",
       "      <td>0.603332</td>\n",
       "      <td>0.565173</td>\n",
       "    </tr>\n",
       "    <tr>\n",
       "      <th>1</th>\n",
       "      <td>Spf</td>\n",
       "      <td>False</td>\n",
       "      <td>2</td>\n",
       "      <td>average</td>\n",
       "      <td>0.560311</td>\n",
       "      <td>1.000000</td>\n",
       "      <td>0.450231</td>\n",
       "      <td>0.767010</td>\n",
       "      <td>0.556863</td>\n",
       "    </tr>\n",
       "    <tr>\n",
       "      <th>26</th>\n",
       "      <td>Spf</td>\n",
       "      <td>True</td>\n",
       "      <td>8</td>\n",
       "      <td>hard</td>\n",
       "      <td>0.548865</td>\n",
       "      <td>0.772458</td>\n",
       "      <td>0.532364</td>\n",
       "      <td>0.549313</td>\n",
       "      <td>0.555004</td>\n",
       "    </tr>\n",
       "    <tr>\n",
       "      <th>36</th>\n",
       "      <td>Spv</td>\n",
       "      <td>False</td>\n",
       "      <td>6</td>\n",
       "      <td>easy</td>\n",
       "      <td>0.547619</td>\n",
       "      <td>0.865079</td>\n",
       "      <td>0.547191</td>\n",
       "      <td>0.564144</td>\n",
       "      <td>0.544264</td>\n",
       "    </tr>\n",
       "    <tr>\n",
       "      <th>52</th>\n",
       "      <td>Spv</td>\n",
       "      <td>True</td>\n",
       "      <td>6</td>\n",
       "      <td>average</td>\n",
       "      <td>0.539683</td>\n",
       "      <td>0.857143</td>\n",
       "      <td>0.523980</td>\n",
       "      <td>0.613426</td>\n",
       "      <td>0.543795</td>\n",
       "    </tr>\n",
       "    <tr>\n",
       "      <th>24</th>\n",
       "      <td>Spf</td>\n",
       "      <td>True</td>\n",
       "      <td>8</td>\n",
       "      <td>easy</td>\n",
       "      <td>0.531065</td>\n",
       "      <td>0.820513</td>\n",
       "      <td>0.511313</td>\n",
       "      <td>0.542135</td>\n",
       "      <td>0.536344</td>\n",
       "    </tr>\n",
       "    <tr>\n",
       "      <th>50</th>\n",
       "      <td>Spv</td>\n",
       "      <td>True</td>\n",
       "      <td>4</td>\n",
       "      <td>hard</td>\n",
       "      <td>0.529412</td>\n",
       "      <td>0.764706</td>\n",
       "      <td>0.463862</td>\n",
       "      <td>0.698488</td>\n",
       "      <td>0.525000</td>\n",
       "    </tr>\n",
       "    <tr>\n",
       "      <th>23</th>\n",
       "      <td>Spf</td>\n",
       "      <td>True</td>\n",
       "      <td>6</td>\n",
       "      <td>hard</td>\n",
       "      <td>0.527995</td>\n",
       "      <td>0.779297</td>\n",
       "      <td>0.512401</td>\n",
       "      <td>0.540952</td>\n",
       "      <td>0.527331</td>\n",
       "    </tr>\n",
       "    <tr>\n",
       "      <th>49</th>\n",
       "      <td>Spv</td>\n",
       "      <td>True</td>\n",
       "      <td>4</td>\n",
       "      <td>average</td>\n",
       "      <td>0.523810</td>\n",
       "      <td>0.880952</td>\n",
       "      <td>0.505959</td>\n",
       "      <td>0.514236</td>\n",
       "      <td>0.528680</td>\n",
       "    </tr>\n",
       "    <tr>\n",
       "      <th>38</th>\n",
       "      <td>Spv</td>\n",
       "      <td>False</td>\n",
       "      <td>6</td>\n",
       "      <td>hard</td>\n",
       "      <td>0.523438</td>\n",
       "      <td>0.750000</td>\n",
       "      <td>0.492793</td>\n",
       "      <td>0.510186</td>\n",
       "      <td>0.517208</td>\n",
       "    </tr>\n",
       "    <tr>\n",
       "      <th>53</th>\n",
       "      <td>Spv</td>\n",
       "      <td>True</td>\n",
       "      <td>6</td>\n",
       "      <td>hard</td>\n",
       "      <td>0.515625</td>\n",
       "      <td>0.734375</td>\n",
       "      <td>0.513240</td>\n",
       "      <td>0.559084</td>\n",
       "      <td>0.511364</td>\n",
       "    </tr>\n",
       "    <tr>\n",
       "      <th>25</th>\n",
       "      <td>Spf</td>\n",
       "      <td>True</td>\n",
       "      <td>8</td>\n",
       "      <td>average</td>\n",
       "      <td>0.513834</td>\n",
       "      <td>0.774704</td>\n",
       "      <td>0.478736</td>\n",
       "      <td>0.526573</td>\n",
       "      <td>0.521127</td>\n",
       "    </tr>\n",
       "    <tr>\n",
       "      <th>16</th>\n",
       "      <td>Spf</td>\n",
       "      <td>True</td>\n",
       "      <td>2</td>\n",
       "      <td>average</td>\n",
       "      <td>0.509728</td>\n",
       "      <td>1.000000</td>\n",
       "      <td>0.360961</td>\n",
       "      <td>0.751479</td>\n",
       "      <td>0.513514</td>\n",
       "    </tr>\n",
       "    <tr>\n",
       "      <th>27</th>\n",
       "      <td>Spf</td>\n",
       "      <td>True</td>\n",
       "      <td>10</td>\n",
       "      <td>easy</td>\n",
       "      <td>0.507874</td>\n",
       "      <td>0.783465</td>\n",
       "      <td>0.492766</td>\n",
       "      <td>0.504986</td>\n",
       "      <td>0.512065</td>\n",
       "    </tr>\n",
       "    <tr>\n",
       "      <th>29</th>\n",
       "      <td>Spf</td>\n",
       "      <td>True</td>\n",
       "      <td>10</td>\n",
       "      <td>hard</td>\n",
       "      <td>0.504724</td>\n",
       "      <td>0.771260</td>\n",
       "      <td>0.497065</td>\n",
       "      <td>0.509988</td>\n",
       "      <td>0.506779</td>\n",
       "    </tr>\n",
       "    <tr>\n",
       "      <th>31</th>\n",
       "      <td>Spv</td>\n",
       "      <td>False</td>\n",
       "      <td>2</td>\n",
       "      <td>average</td>\n",
       "      <td>0.488372</td>\n",
       "      <td>1.000000</td>\n",
       "      <td>0.328125</td>\n",
       "      <td>0.244186</td>\n",
       "      <td>0.500000</td>\n",
       "    </tr>\n",
       "    <tr>\n",
       "      <th>30</th>\n",
       "      <td>Spv</td>\n",
       "      <td>False</td>\n",
       "      <td>2</td>\n",
       "      <td>easy</td>\n",
       "      <td>0.487805</td>\n",
       "      <td>1.000000</td>\n",
       "      <td>0.327869</td>\n",
       "      <td>0.243902</td>\n",
       "      <td>0.500000</td>\n",
       "    </tr>\n",
       "    <tr>\n",
       "      <th>54</th>\n",
       "      <td>Spv</td>\n",
       "      <td>True</td>\n",
       "      <td>8</td>\n",
       "      <td>easy</td>\n",
       "      <td>0.485207</td>\n",
       "      <td>0.763314</td>\n",
       "      <td>0.437202</td>\n",
       "      <td>0.489679</td>\n",
       "      <td>0.484037</td>\n",
       "    </tr>\n",
       "    <tr>\n",
       "      <th>51</th>\n",
       "      <td>Spv</td>\n",
       "      <td>True</td>\n",
       "      <td>6</td>\n",
       "      <td>easy</td>\n",
       "      <td>0.484127</td>\n",
       "      <td>0.841270</td>\n",
       "      <td>0.468770</td>\n",
       "      <td>0.512690</td>\n",
       "      <td>0.487410</td>\n",
       "    </tr>\n",
       "    <tr>\n",
       "      <th>56</th>\n",
       "      <td>Spv</td>\n",
       "      <td>True</td>\n",
       "      <td>8</td>\n",
       "      <td>hard</td>\n",
       "      <td>0.479290</td>\n",
       "      <td>0.674556</td>\n",
       "      <td>0.452151</td>\n",
       "      <td>0.452345</td>\n",
       "      <td>0.480601</td>\n",
       "    </tr>\n",
       "    <tr>\n",
       "      <th>28</th>\n",
       "      <td>Spf</td>\n",
       "      <td>True</td>\n",
       "      <td>10</td>\n",
       "      <td>average</td>\n",
       "      <td>0.471654</td>\n",
       "      <td>0.746457</td>\n",
       "      <td>0.457440</td>\n",
       "      <td>0.469523</td>\n",
       "      <td>0.476554</td>\n",
       "    </tr>\n",
       "    <tr>\n",
       "      <th>55</th>\n",
       "      <td>Spv</td>\n",
       "      <td>True</td>\n",
       "      <td>8</td>\n",
       "      <td>average</td>\n",
       "      <td>0.467456</td>\n",
       "      <td>0.727811</td>\n",
       "      <td>0.448485</td>\n",
       "      <td>0.621767</td>\n",
       "      <td>0.468155</td>\n",
       "    </tr>\n",
       "    <tr>\n",
       "      <th>58</th>\n",
       "      <td>Spv</td>\n",
       "      <td>True</td>\n",
       "      <td>10</td>\n",
       "      <td>average</td>\n",
       "      <td>0.424528</td>\n",
       "      <td>0.641509</td>\n",
       "      <td>0.412267</td>\n",
       "      <td>0.444254</td>\n",
       "      <td>0.425844</td>\n",
       "    </tr>\n",
       "    <tr>\n",
       "      <th>59</th>\n",
       "      <td>Spv</td>\n",
       "      <td>True</td>\n",
       "      <td>10</td>\n",
       "      <td>hard</td>\n",
       "      <td>0.396226</td>\n",
       "      <td>0.669811</td>\n",
       "      <td>0.381158</td>\n",
       "      <td>0.411192</td>\n",
       "      <td>0.396926</td>\n",
       "    </tr>\n",
       "    <tr>\n",
       "      <th>57</th>\n",
       "      <td>Spv</td>\n",
       "      <td>True</td>\n",
       "      <td>10</td>\n",
       "      <td>easy</td>\n",
       "      <td>0.372642</td>\n",
       "      <td>0.641509</td>\n",
       "      <td>0.335185</td>\n",
       "      <td>0.351295</td>\n",
       "      <td>0.376212</td>\n",
       "    </tr>\n",
       "  </tbody>\n",
       "</table>\n",
       "</div>"
      ],
      "text/plain": [
       "   data_unit    PH2  num_classes difficulty  accuracy  top2accuracy  macro_f1  \\\n",
       "15       Spf   True            2       easy  0.979296      1.000000  0.979296   \n",
       "45       Spv   True            2       easy  0.951220      1.000000  0.951190   \n",
       "9        Spf  False            8       easy  0.867850      0.950197  0.867756   \n",
       "12       Spf  False           10       easy  0.854724      0.945669  0.854907   \n",
       "13       Spf  False           10    average  0.844488      0.941732  0.843554   \n",
       "14       Spf  False           10       hard  0.839370      0.937795  0.839858   \n",
       "7        Spf  False            6    average  0.833554      0.935676  0.835053   \n",
       "6        Spf  False            6       easy  0.832891      0.945623  0.832168   \n",
       "4        Spf  False            4    average  0.827689      0.972112  0.826138   \n",
       "10       Spf  False            8    average  0.818182      0.935277  0.819499   \n",
       "11       Spf  False            8       hard  0.804047      0.924975  0.804490   \n",
       "8        Spf  False            6       hard  0.775391      0.908854  0.773216   \n",
       "0        Spf  False            2       easy  0.766046      1.000000  0.752751   \n",
       "3        Spf  False            4       easy  0.757157      0.926950  0.756207   \n",
       "5        Spf  False            4       hard  0.744597      0.948919  0.741979   \n",
       "39       Spv  False            8       easy  0.710059      0.852071  0.707482   \n",
       "35       Spv  False            4       hard  0.705882      0.894118  0.693220   \n",
       "47       Spv   True            2       hard  0.690476      1.000000  0.688889   \n",
       "37       Spv  False            6    average  0.674603      0.857143  0.677934   \n",
       "32       Spv  False            2       hard  0.666667      1.000000  0.663616   \n",
       "46       Spv   True            2    average  0.651163      1.000000  0.595104   \n",
       "33       Spv  False            4       easy  0.647059      0.929412  0.629549   \n",
       "34       Spv  False            4    average  0.642857      0.904762  0.639686   \n",
       "20       Spf   True            4       hard  0.640472      0.866405  0.638049   \n",
       "43       Spv  False           10    average  0.636792      0.853774  0.621555   \n",
       "42       Spv  False           10       easy  0.608491      0.778302  0.603698   \n",
       "41       Spv  False            8       hard  0.603550      0.775148  0.601362   \n",
       "19       Spf   True            4    average  0.593625      0.842629  0.596203   \n",
       "21       Spf   True            6       easy  0.593501      0.858090  0.569383   \n",
       "2        Spf  False            2       hard  0.589286      1.000000  0.507866   \n",
       "40       Spv  False            8    average  0.585799      0.810651  0.585226   \n",
       "17       Spf   True            2       hard  0.585317      1.000000  0.581985   \n",
       "18       Spf   True            4       easy  0.584403      0.888450  0.539474   \n",
       "48       Spv   True            4       easy  0.576471      0.941176  0.497782   \n",
       "22       Spf   True            6    average  0.566313      0.874005  0.529837   \n",
       "44       Spv  False           10       hard  0.566038      0.778302  0.561622   \n",
       "1        Spf  False            2    average  0.560311      1.000000  0.450231   \n",
       "26       Spf   True            8       hard  0.548865      0.772458  0.532364   \n",
       "36       Spv  False            6       easy  0.547619      0.865079  0.547191   \n",
       "52       Spv   True            6    average  0.539683      0.857143  0.523980   \n",
       "24       Spf   True            8       easy  0.531065      0.820513  0.511313   \n",
       "50       Spv   True            4       hard  0.529412      0.764706  0.463862   \n",
       "23       Spf   True            6       hard  0.527995      0.779297  0.512401   \n",
       "49       Spv   True            4    average  0.523810      0.880952  0.505959   \n",
       "38       Spv  False            6       hard  0.523438      0.750000  0.492793   \n",
       "53       Spv   True            6       hard  0.515625      0.734375  0.513240   \n",
       "25       Spf   True            8    average  0.513834      0.774704  0.478736   \n",
       "16       Spf   True            2    average  0.509728      1.000000  0.360961   \n",
       "27       Spf   True           10       easy  0.507874      0.783465  0.492766   \n",
       "29       Spf   True           10       hard  0.504724      0.771260  0.497065   \n",
       "31       Spv  False            2    average  0.488372      1.000000  0.328125   \n",
       "30       Spv  False            2       easy  0.487805      1.000000  0.327869   \n",
       "54       Spv   True            8       easy  0.485207      0.763314  0.437202   \n",
       "51       Spv   True            6       easy  0.484127      0.841270  0.468770   \n",
       "56       Spv   True            8       hard  0.479290      0.674556  0.452151   \n",
       "28       Spf   True           10    average  0.471654      0.746457  0.457440   \n",
       "55       Spv   True            8    average  0.467456      0.727811  0.448485   \n",
       "58       Spv   True           10    average  0.424528      0.641509  0.412267   \n",
       "59       Spv   True           10       hard  0.396226      0.669811  0.381158   \n",
       "57       Spv   True           10       easy  0.372642      0.641509  0.335185   \n",
       "\n",
       "    macro_precision  macro_recall  \n",
       "15         0.979598      0.979532  \n",
       "45         0.954545      0.952381  \n",
       "9          0.870830      0.868473  \n",
       "12         0.859644      0.855402  \n",
       "13         0.850765      0.845306  \n",
       "14         0.844217      0.839995  \n",
       "7          0.843713      0.832564  \n",
       "6          0.839404      0.831504  \n",
       "4          0.827934      0.830540  \n",
       "10         0.827587      0.818665  \n",
       "11         0.816846      0.805357  \n",
       "8          0.774873      0.775512  \n",
       "0          0.829248      0.762845  \n",
       "3          0.763305      0.760000  \n",
       "5          0.751152      0.742250  \n",
       "39         0.715923      0.708550  \n",
       "35         0.724968      0.699567  \n",
       "47         0.694444      0.690476  \n",
       "37         0.715724      0.676479  \n",
       "32         0.672941      0.666667  \n",
       "46         0.797297      0.642857  \n",
       "33         0.695863      0.652273  \n",
       "34         0.659521      0.647186  \n",
       "20         0.648616      0.640547  \n",
       "43         0.663848      0.637792  \n",
       "42         0.615214      0.605844  \n",
       "41         0.616268      0.603680  \n",
       "19         0.602130      0.599910  \n",
       "21         0.616990      0.601510  \n",
       "2          0.745212      0.586094  \n",
       "40         0.592711      0.586174  \n",
       "17         0.589159      0.586063  \n",
       "18         0.589397      0.597460  \n",
       "48         0.461111      0.568182  \n",
       "22         0.580553      0.572893  \n",
       "44         0.603332      0.565173  \n",
       "1          0.767010      0.556863  \n",
       "26         0.549313      0.555004  \n",
       "36         0.564144      0.544264  \n",
       "52         0.613426      0.543795  \n",
       "24         0.542135      0.536344  \n",
       "50         0.698488      0.525000  \n",
       "23         0.540952      0.527331  \n",
       "49         0.514236      0.528680  \n",
       "38         0.510186      0.517208  \n",
       "53         0.559084      0.511364  \n",
       "25         0.526573      0.521127  \n",
       "16         0.751479      0.513514  \n",
       "27         0.504986      0.512065  \n",
       "29         0.509988      0.506779  \n",
       "31         0.244186      0.500000  \n",
       "30         0.243902      0.500000  \n",
       "54         0.489679      0.484037  \n",
       "51         0.512690      0.487410  \n",
       "56         0.452345      0.480601  \n",
       "28         0.469523      0.476554  \n",
       "55         0.621767      0.468155  \n",
       "58         0.444254      0.425844  \n",
       "59         0.411192      0.396926  \n",
       "57         0.351295      0.376212  "
      ]
     },
     "execution_count": 9,
     "metadata": {},
     "output_type": "execute_result"
    }
   ],
   "source": [
    "import pandas as pd\n",
    "\n",
    "metrics_df = pd.DataFrame(metric_tracker)\n",
    "metrics_df.sort_values(by='accuracy', ascending=False)"
   ]
  },
  {
   "cell_type": "code",
   "execution_count": 10,
   "id": "b904820b",
   "metadata": {},
   "outputs": [],
   "source": [
    "sup.create_dir_if_not_exists(os.path.join(sup.SCORES_ROOT, \"specified\", sup.TRAIN_BERT_CODE))\n",
    "\n",
    "metrics_df.to_csv(os.path.join(sup.SCORES_ROOT, \"specified\", sup.TRAIN_BERT_CODE, f\"PREPanalysis{num_classes}.csv\"), index=False)"
   ]
  }
 ],
 "metadata": {
  "kernelspec": {
   "display_name": "TOG_BERT_v2",
   "language": "python",
   "name": "python3"
  },
  "language_info": {
   "codemirror_mode": {
    "name": "ipython",
    "version": 3
   },
   "file_extension": ".py",
   "mimetype": "text/x-python",
   "name": "python",
   "nbconvert_exporter": "python",
   "pygments_lexer": "ipython3",
   "version": "3.10.18"
  }
 },
 "nbformat": 4,
 "nbformat_minor": 5
}
