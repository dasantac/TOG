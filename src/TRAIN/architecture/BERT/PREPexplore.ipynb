{
 "cells": [
  {
   "cell_type": "markdown",
   "id": "49d5119d",
   "metadata": {},
   "source": [
    "# Context\n",
    "This notebook drives the training process for different models."
   ]
  },
  {
   "cell_type": "code",
   "execution_count": 1,
   "id": "437324c6",
   "metadata": {},
   "outputs": [],
   "source": [
    "# Set project's environment variables\n",
    "import os\n",
    "import sys\n",
    "from dotenv import load_dotenv\n",
    "load_dotenv(dotenv_path=\"../../../project.env\")\n",
    "sys.path.append(os.environ[\"PYTHONPATH\"])"
   ]
  },
  {
   "cell_type": "code",
   "execution_count": 2,
   "id": "cf9da1c2",
   "metadata": {},
   "outputs": [],
   "source": [
    "# Import project-wide and PH2 specific variables and functions\n",
    "import superheader as sup\n",
    "import TRAIN.architecture.BERT.bert as bert"
   ]
  },
  {
   "cell_type": "markdown",
   "id": "1109f09f",
   "metadata": {},
   "source": [
    "# Models"
   ]
  },
  {
   "cell_type": "markdown",
   "id": "4773797f",
   "metadata": {},
   "source": [
    "## Setup"
   ]
  },
  {
   "cell_type": "code",
   "execution_count": 3,
   "id": "04aaf65a",
   "metadata": {},
   "outputs": [],
   "source": [
    "import torch\n",
    "import torch.nn as nn\n",
    "import torch.optim as optim\n",
    "\n",
    "import gc"
   ]
  },
  {
   "cell_type": "code",
   "execution_count": 4,
   "id": "5419d56f",
   "metadata": {},
   "outputs": [],
   "source": [
    "TRAIN_CLASSES = \"ten-classes\"\n",
    "num_classes = 2\n",
    "exploring_batch_size = 1024\n",
    "base_num_epochs = 2\n",
    "rate_num_epochs = 2\n",
    "num_class_candidates = list(range(2, num_classes+1, 2))"
   ]
  },
  {
   "cell_type": "code",
   "execution_count": 5,
   "id": "2c808347",
   "metadata": {},
   "outputs": [
    {
     "data": {
      "text/plain": [
       "{2: {'easy': [5, 7], 'average': [2, 4], 'hard': [2, 3]},\n",
       " 3: {'easy': [0, 3, 5], 'average': [0, 1, 2], 'hard': [0, 1, 4]},\n",
       " 4: {'easy': [1, 6, 7, 9], 'average': [1, 4, 7, 8], 'hard': [0, 1, 5, 9]},\n",
       " 5: {'easy': [2, 5, 6, 7, 9],\n",
       "  'average': [2, 4, 5, 7, 9],\n",
       "  'hard': [0, 1, 2, 4, 8]},\n",
       " 6: {'easy': [1, 3, 5, 6, 7, 9],\n",
       "  'average': [1, 2, 5, 6, 7, 8],\n",
       "  'hard': [1, 4, 5, 6, 8, 9]},\n",
       " 7: {'easy': [0, 3, 4, 5, 6, 7, 9],\n",
       "  'average': [1, 2, 3, 5, 6, 7, 8],\n",
       "  'hard': [1, 2, 3, 4, 5, 6, 8]},\n",
       " 8: {'easy': [0, 2, 3, 4, 5, 6, 7, 8],\n",
       "  'average': [1, 3, 4, 5, 6, 7, 8, 9],\n",
       "  'hard': [0, 1, 2, 4, 5, 7, 8, 9]},\n",
       " 9: {'easy': [0, 1, 2, 3, 4, 6, 7, 8, 9],\n",
       "  'average': [0, 1, 2, 3, 4, 5, 6, 7, 8],\n",
       "  'hard': [0, 1, 2, 3, 4, 5, 7, 8, 9]},\n",
       " 10: {'easy': [0, 1, 2, 3, 4, 5, 6, 7, 8, 9],\n",
       "  'average': [0, 1, 2, 3, 4, 5, 6, 7, 8, 9],\n",
       "  'hard': [0, 1, 2, 3, 4, 5, 6, 7, 8, 9]}}"
      ]
     },
     "execution_count": 5,
     "metadata": {},
     "output_type": "execute_result"
    }
   ],
   "source": [
    "import json\n",
    "with open(os.path.join(sup.DATA_ROOT, f\"{TRAIN_CLASSES}-subsets.json\"), \"r\") as f:\n",
    "    loaded = json.load(f)\n",
    "\n",
    "# Convert keys back to int and lists back to tuples\n",
    "subsets = {\n",
    "    int(k): {d: v for d, v in v_dict.items()}\n",
    "    for k, v_dict in loaded.items()\n",
    "}\n",
    "subsets\n"
   ]
  },
  {
   "cell_type": "code",
   "execution_count": 6,
   "id": "64e44df6",
   "metadata": {},
   "outputs": [],
   "source": [
    "base_data_config = {\n",
    "  \"PH3\" : False,\n",
    "  \"reducer\" : '',\n",
    "  \"kernel\" : '',\n",
    "  \"label_col\" : sup.class_numeric_column,\n",
    "  \"batch_size\" : exploring_batch_size,\n",
    "  \"class_list\" : 'specified'\n",
    "}\n",
    "\n",
    "base_train_config = {\n",
    "  \"device\" : bert.device,\n",
    "  \"arch\" : sup.TRAIN_BERT_CODE,\n",
    "  \"loadable\" : bert.DISTILBERT,\n",
    "  \"optimizer\" : optim.AdamW,\n",
    "  \"lr\" : 1e-5,\n",
    "  \"weight_decay\" : 0,\n",
    "  \"loss_fn\" : nn.CrossEntropyLoss,\n",
    "}\n",
    "\n"
   ]
  },
  {
   "cell_type": "markdown",
   "id": "de39f8d5",
   "metadata": {},
   "source": [
    "## Train"
   ]
  },
  {
   "cell_type": "code",
   "execution_count": 7,
   "id": "f8ac260c",
   "metadata": {},
   "outputs": [],
   "source": [
    "metric_tracker = list()"
   ]
  },
  {
   "cell_type": "code",
   "execution_count": 8,
   "id": "7710fdf8",
   "metadata": {},
   "outputs": [
    {
     "name": "stdout",
     "output_type": "stream",
     "text": [
      "{'PH3': False, 'reducer': '', 'kernel': '', 'label_col': 'class_numeric', 'batch_size': 1024, 'class_list': 'specified', 'data_unit': 'Spf', 'PH2': False, 'n': 72, 'difficulty': 'easy', 'class_numeric_list': [5, 7]}\n",
      "{'device': device(type='mps'), 'arch': 'BERT', 'loadable': 'distilbert-base-uncased', 'optimizer': <class 'torch.optim.adamw.AdamW'>, 'lr': 1e-05, 'weight_decay': 0, 'loss_fn': <class 'torch.nn.modules.loss.CrossEntropyLoss'>, 'num_epochs': 6}\n"
     ]
    },
    {
     "name": "stderr",
     "output_type": "stream",
     "text": [
      "                                                                              \r"
     ]
    },
    {
     "name": "stdout",
     "output_type": "stream",
     "text": [
      "0.8530020703933747\n",
      "1\n",
      "0.8505393449410534\n",
      "0.8831525762511104\n",
      "0.8550420168067228\n",
      "{'PH3': False, 'reducer': '', 'kernel': '', 'label_col': 'class_numeric', 'batch_size': 1024, 'class_list': 'specified', 'data_unit': 'Spf', 'PH2': False, 'n': 72, 'difficulty': 'average', 'class_numeric_list': [2, 4]}\n",
      "{'device': device(type='mps'), 'arch': 'BERT', 'loadable': 'distilbert-base-uncased', 'optimizer': <class 'torch.optim.adamw.AdamW'>, 'lr': 1e-05, 'weight_decay': 0, 'loss_fn': <class 'torch.nn.modules.loss.CrossEntropyLoss'>, 'num_epochs': 6}\n"
     ]
    },
    {
     "name": "stderr",
     "output_type": "stream",
     "text": [
      "/Users/diego/miniconda3/envs/TOG_BERT_v2/lib/python3.10/site-packages/sklearn/metrics/_classification.py:1706: UndefinedMetricWarning: Precision is ill-defined and being set to 0.0 in labels with no predicted samples. Use `zero_division` parameter to control this behavior.\n",
      "  _warn_prf(average, modifier, f\"{metric.capitalize()} is\", result.shape[0])\n"
     ]
    },
    {
     "name": "stdout",
     "output_type": "stream",
     "text": [
      "0.5038910505836576\n",
      "1\n",
      "0.3350582147477361\n",
      "0.2519455252918288\n",
      "0.5\n",
      "{'PH3': False, 'reducer': '', 'kernel': '', 'label_col': 'class_numeric', 'batch_size': 1024, 'class_list': 'specified', 'data_unit': 'Spf', 'PH2': False, 'n': 72, 'difficulty': 'hard', 'class_numeric_list': [2, 3]}\n",
      "{'device': device(type='mps'), 'arch': 'BERT', 'loadable': 'distilbert-base-uncased', 'optimizer': <class 'torch.optim.adamw.AdamW'>, 'lr': 1e-05, 'weight_decay': 0, 'loss_fn': <class 'torch.nn.modules.loss.CrossEntropyLoss'>, 'num_epochs': 6}\n"
     ]
    },
    {
     "name": "stderr",
     "output_type": "stream",
     "text": [
      "                                                                              \r"
     ]
    },
    {
     "name": "stdout",
     "output_type": "stream",
     "text": [
      "0.6051587301587301\n",
      "1\n",
      "0.5496099907044416\n",
      "0.7179385309728887\n",
      "0.6079842519685039\n",
      "{'PH3': False, 'reducer': '', 'kernel': '', 'label_col': 'class_numeric', 'batch_size': 1024, 'class_list': 'specified', 'data_unit': 'Spf', 'PH2': True, 'n': 75, 'difficulty': 'easy', 'class_numeric_list': [5, 7]}\n",
      "{'device': device(type='mps'), 'arch': 'BERT', 'loadable': 'distilbert-base-uncased', 'optimizer': <class 'torch.optim.adamw.AdamW'>, 'lr': 1e-05, 'weight_decay': 0, 'loss_fn': <class 'torch.nn.modules.loss.CrossEntropyLoss'>, 'num_epochs': 6}\n"
     ]
    },
    {
     "name": "stderr",
     "output_type": "stream",
     "text": [
      "                                                                               \r"
     ]
    },
    {
     "name": "stdout",
     "output_type": "stream",
     "text": [
      "0.9751552795031055\n",
      "1\n",
      "0.975155173005041\n",
      "0.975455387465267\n",
      "0.975390156062425\n",
      "{'PH3': False, 'reducer': '', 'kernel': '', 'label_col': 'class_numeric', 'batch_size': 1024, 'class_list': 'specified', 'data_unit': 'Spf', 'PH2': True, 'n': 75, 'difficulty': 'average', 'class_numeric_list': [2, 4]}\n",
      "{'device': device(type='mps'), 'arch': 'BERT', 'loadable': 'distilbert-base-uncased', 'optimizer': <class 'torch.optim.adamw.AdamW'>, 'lr': 1e-05, 'weight_decay': 0, 'loss_fn': <class 'torch.nn.modules.loss.CrossEntropyLoss'>, 'num_epochs': 6}\n"
     ]
    },
    {
     "name": "stderr",
     "output_type": "stream",
     "text": [
      "                                                                              \r"
     ]
    },
    {
     "name": "stdout",
     "output_type": "stream",
     "text": [
      "0.5019455252918288\n",
      "1\n",
      "0.3443485540031491\n",
      "0.7495107632093934\n",
      "0.5057915057915058\n",
      "{'PH3': False, 'reducer': '', 'kernel': '', 'label_col': 'class_numeric', 'batch_size': 1024, 'class_list': 'specified', 'data_unit': 'Spf', 'PH2': True, 'n': 75, 'difficulty': 'hard', 'class_numeric_list': [2, 3]}\n",
      "{'device': device(type='mps'), 'arch': 'BERT', 'loadable': 'distilbert-base-uncased', 'optimizer': <class 'torch.optim.adamw.AdamW'>, 'lr': 1e-05, 'weight_decay': 0, 'loss_fn': <class 'torch.nn.modules.loss.CrossEntropyLoss'>, 'num_epochs': 6}\n"
     ]
    },
    {
     "name": "stderr",
     "output_type": "stream",
     "text": [
      "                                                                              \r"
     ]
    },
    {
     "name": "stdout",
     "output_type": "stream",
     "text": [
      "0.5119047619047619\n",
      "1\n",
      "0.37182579089232515\n",
      "0.6686991869918699\n",
      "0.5156850393700787\n",
      "{'PH3': False, 'reducer': '', 'kernel': '', 'label_col': 'class_numeric', 'batch_size': 1024, 'class_list': 'specified', 'data_unit': 'Spv', 'PH2': False, 'n': 72, 'difficulty': 'easy', 'class_numeric_list': [5, 7]}\n",
      "{'device': device(type='mps'), 'arch': 'BERT', 'loadable': 'distilbert-base-uncased', 'optimizer': <class 'torch.optim.adamw.AdamW'>, 'lr': 1e-05, 'weight_decay': 0, 'loss_fn': <class 'torch.nn.modules.loss.CrossEntropyLoss'>, 'num_epochs': 6}\n"
     ]
    },
    {
     "name": "stderr",
     "output_type": "stream",
     "text": [
      "                                                                               \r"
     ]
    },
    {
     "name": "stdout",
     "output_type": "stream",
     "text": [
      "0.926829268292683\n",
      "1\n",
      "0.926654740608229\n",
      "0.9282296650717703\n",
      "0.9261904761904762\n",
      "{'PH3': False, 'reducer': '', 'kernel': '', 'label_col': 'class_numeric', 'batch_size': 1024, 'class_list': 'specified', 'data_unit': 'Spv', 'PH2': False, 'n': 72, 'difficulty': 'average', 'class_numeric_list': [2, 4]}\n",
      "{'device': device(type='mps'), 'arch': 'BERT', 'loadable': 'distilbert-base-uncased', 'optimizer': <class 'torch.optim.adamw.AdamW'>, 'lr': 1e-05, 'weight_decay': 0, 'loss_fn': <class 'torch.nn.modules.loss.CrossEntropyLoss'>, 'num_epochs': 6}\n"
     ]
    },
    {
     "name": "stderr",
     "output_type": "stream",
     "text": [
      "                                                                               \r"
     ]
    },
    {
     "name": "stdout",
     "output_type": "stream",
     "text": [
      "0.46511627906976744\n",
      "1\n",
      "0.31746031746031744\n",
      "0.23809523809523808\n",
      "0.47619047619047616\n",
      "{'PH3': False, 'reducer': '', 'kernel': '', 'label_col': 'class_numeric', 'batch_size': 1024, 'class_list': 'specified', 'data_unit': 'Spv', 'PH2': False, 'n': 72, 'difficulty': 'hard', 'class_numeric_list': [2, 3]}\n",
      "{'device': device(type='mps'), 'arch': 'BERT', 'loadable': 'distilbert-base-uncased', 'optimizer': <class 'torch.optim.adamw.AdamW'>, 'lr': 1e-05, 'weight_decay': 0, 'loss_fn': <class 'torch.nn.modules.loss.CrossEntropyLoss'>, 'num_epochs': 6}\n"
     ]
    },
    {
     "name": "stderr",
     "output_type": "stream",
     "text": [
      "                                                                               \r"
     ]
    },
    {
     "name": "stdout",
     "output_type": "stream",
     "text": [
      "0.5952380952380952\n",
      "1\n",
      "0.5159322033898305\n",
      "0.7763157894736843\n",
      "0.5952380952380952\n",
      "{'PH3': False, 'reducer': '', 'kernel': '', 'label_col': 'class_numeric', 'batch_size': 1024, 'class_list': 'specified', 'data_unit': 'Spv', 'PH2': True, 'n': 75, 'difficulty': 'easy', 'class_numeric_list': [5, 7]}\n",
      "{'device': device(type='mps'), 'arch': 'BERT', 'loadable': 'distilbert-base-uncased', 'optimizer': <class 'torch.optim.adamw.AdamW'>, 'lr': 1e-05, 'weight_decay': 0, 'loss_fn': <class 'torch.nn.modules.loss.CrossEntropyLoss'>, 'num_epochs': 6}\n"
     ]
    },
    {
     "name": "stderr",
     "output_type": "stream",
     "text": [
      "                                                                               \r"
     ]
    },
    {
     "name": "stdout",
     "output_type": "stream",
     "text": [
      "0.9512195121951219\n",
      "1\n",
      "0.9511904761904761\n",
      "0.9511904761904761\n",
      "0.9511904761904761\n",
      "{'PH3': False, 'reducer': '', 'kernel': '', 'label_col': 'class_numeric', 'batch_size': 1024, 'class_list': 'specified', 'data_unit': 'Spv', 'PH2': True, 'n': 75, 'difficulty': 'average', 'class_numeric_list': [2, 4]}\n",
      "{'device': device(type='mps'), 'arch': 'BERT', 'loadable': 'distilbert-base-uncased', 'optimizer': <class 'torch.optim.adamw.AdamW'>, 'lr': 1e-05, 'weight_decay': 0, 'loss_fn': <class 'torch.nn.modules.loss.CrossEntropyLoss'>, 'num_epochs': 6}\n"
     ]
    },
    {
     "name": "stderr",
     "output_type": "stream",
     "text": [
      "                                                                               \r"
     ]
    },
    {
     "name": "stdout",
     "output_type": "stream",
     "text": [
      "0.5348837209302325\n",
      "1\n",
      "0.38920454545454547\n",
      "0.7619047619047619\n",
      "0.5238095238095238\n",
      "{'PH3': False, 'reducer': '', 'kernel': '', 'label_col': 'class_numeric', 'batch_size': 1024, 'class_list': 'specified', 'data_unit': 'Spv', 'PH2': True, 'n': 75, 'difficulty': 'hard', 'class_numeric_list': [2, 3]}\n",
      "{'device': device(type='mps'), 'arch': 'BERT', 'loadable': 'distilbert-base-uncased', 'optimizer': <class 'torch.optim.adamw.AdamW'>, 'lr': 1e-05, 'weight_decay': 0, 'loss_fn': <class 'torch.nn.modules.loss.CrossEntropyLoss'>, 'num_epochs': 6}\n"
     ]
    },
    {
     "name": "stderr",
     "output_type": "stream",
     "text": [
      "                                                                               \r"
     ]
    },
    {
     "name": "stdout",
     "output_type": "stream",
     "text": [
      "0.5238095238095238\n",
      "1\n",
      "0.5227272727272727\n",
      "0.5240274599542334\n",
      "0.5238095238095237\n"
     ]
    }
   ],
   "source": [
    "for data_unit in [sup.DATA_S_PF, sup.DATA_S_PV]:\n",
    "  data_config = base_data_config.copy()\n",
    "  train_config = base_train_config.copy()\n",
    "\n",
    "  data_config[\"data_unit\"] = data_unit\n",
    "\n",
    "  for PH2 in [False, True]:\n",
    "    data_config[\"PH2\"] = PH2\n",
    "    data_config[\"n\"] = 75 if PH2 else 72\n",
    "\n",
    "    for n in num_class_candidates:\n",
    "      s = subsets[n]\n",
    "      train_config[\"num_epochs\"] = base_num_epochs + n * rate_num_epochs\n",
    "      for difficulty in ['easy', 'average', 'hard']:\n",
    "        s_dif = s[difficulty]\n",
    "        data_config[\"difficulty\"] = difficulty\n",
    "        data_config[\"class_numeric_list\"] = s_dif\n",
    "        \n",
    "        print(data_config)\n",
    "        print(train_config)\n",
    "        model = bert.BERT(data_config=data_config, df=None, \n",
    "                          train_config=train_config)\n",
    "        \n",
    "        model.fit(verbose=True)\n",
    "\n",
    "        model.test()\n",
    "\n",
    "        model.full_score()\n",
    "        print(model.accuracy)\n",
    "        print(model.top2accuracy)\n",
    "        print(model.macro_f1)\n",
    "        print(model.macro_precision)\n",
    "        print(model.macro_recall)\n",
    "\n",
    "        metrics = {\"data_unit\" : data_unit,\n",
    "                    \"PH2\" : PH2,\n",
    "                    \"num_classes\" : n,\n",
    "                    \"difficulty\" : difficulty,\n",
    "                    \"accuracy\" : model.accuracy,\n",
    "                    \"top2accuracy\" : model.top2accuracy,\n",
    "                    \"macro_f1\" : model.macro_f1,\n",
    "                    \"macro_precision\" : model.macro_precision,\n",
    "                    \"macro_recall\" : model.macro_recall}\n",
    "        \n",
    "        model.keep_confusion_matrix()\n",
    "        model.keep_loss()\n",
    "        \n",
    "        metric_tracker.append(metrics.copy())\n",
    "        \n",
    "        bert.clean_bert(model)\n",
    "      \n",
    "      gc.collect()\n",
    "      if torch.backends.mps.is_available():\n",
    "        torch.mps.empty_cache()\n",
    "    \n",
    "    gc.collect()\n",
    "    if torch.backends.mps.is_available():\n",
    "      torch.mps.empty_cache()\n",
    "  \n",
    "  gc.collect()\n",
    "  if torch.backends.mps.is_available():\n",
    "    torch.mps.empty_cache()\n",
    "\n",
    "gc.collect()\n",
    "if torch.backends.mps.is_available():\n",
    "  torch.mps.empty_cache()\n",
    "  \n",
    "\n"
   ]
  },
  {
   "cell_type": "markdown",
   "id": "0fcc663c",
   "metadata": {},
   "source": [
    "# Keep metrics"
   ]
  },
  {
   "cell_type": "code",
   "execution_count": 9,
   "id": "9757dc3a",
   "metadata": {},
   "outputs": [
    {
     "data": {
      "text/html": [
       "<div>\n",
       "<style scoped>\n",
       "    .dataframe tbody tr th:only-of-type {\n",
       "        vertical-align: middle;\n",
       "    }\n",
       "\n",
       "    .dataframe tbody tr th {\n",
       "        vertical-align: top;\n",
       "    }\n",
       "\n",
       "    .dataframe thead th {\n",
       "        text-align: right;\n",
       "    }\n",
       "</style>\n",
       "<table border=\"1\" class=\"dataframe\">\n",
       "  <thead>\n",
       "    <tr style=\"text-align: right;\">\n",
       "      <th></th>\n",
       "      <th>data_unit</th>\n",
       "      <th>PH2</th>\n",
       "      <th>num_classes</th>\n",
       "      <th>difficulty</th>\n",
       "      <th>accuracy</th>\n",
       "      <th>top2accuracy</th>\n",
       "      <th>macro_f1</th>\n",
       "      <th>macro_precision</th>\n",
       "      <th>macro_recall</th>\n",
       "    </tr>\n",
       "  </thead>\n",
       "  <tbody>\n",
       "    <tr>\n",
       "      <th>3</th>\n",
       "      <td>Spf</td>\n",
       "      <td>True</td>\n",
       "      <td>2</td>\n",
       "      <td>easy</td>\n",
       "      <td>0.975155</td>\n",
       "      <td>1</td>\n",
       "      <td>0.975155</td>\n",
       "      <td>0.975455</td>\n",
       "      <td>0.975390</td>\n",
       "    </tr>\n",
       "    <tr>\n",
       "      <th>9</th>\n",
       "      <td>Spv</td>\n",
       "      <td>True</td>\n",
       "      <td>2</td>\n",
       "      <td>easy</td>\n",
       "      <td>0.951220</td>\n",
       "      <td>1</td>\n",
       "      <td>0.951190</td>\n",
       "      <td>0.951190</td>\n",
       "      <td>0.951190</td>\n",
       "    </tr>\n",
       "    <tr>\n",
       "      <th>6</th>\n",
       "      <td>Spv</td>\n",
       "      <td>False</td>\n",
       "      <td>2</td>\n",
       "      <td>easy</td>\n",
       "      <td>0.926829</td>\n",
       "      <td>1</td>\n",
       "      <td>0.926655</td>\n",
       "      <td>0.928230</td>\n",
       "      <td>0.926190</td>\n",
       "    </tr>\n",
       "    <tr>\n",
       "      <th>0</th>\n",
       "      <td>Spf</td>\n",
       "      <td>False</td>\n",
       "      <td>2</td>\n",
       "      <td>easy</td>\n",
       "      <td>0.853002</td>\n",
       "      <td>1</td>\n",
       "      <td>0.850539</td>\n",
       "      <td>0.883153</td>\n",
       "      <td>0.855042</td>\n",
       "    </tr>\n",
       "    <tr>\n",
       "      <th>2</th>\n",
       "      <td>Spf</td>\n",
       "      <td>False</td>\n",
       "      <td>2</td>\n",
       "      <td>hard</td>\n",
       "      <td>0.605159</td>\n",
       "      <td>1</td>\n",
       "      <td>0.549610</td>\n",
       "      <td>0.717939</td>\n",
       "      <td>0.607984</td>\n",
       "    </tr>\n",
       "    <tr>\n",
       "      <th>8</th>\n",
       "      <td>Spv</td>\n",
       "      <td>False</td>\n",
       "      <td>2</td>\n",
       "      <td>hard</td>\n",
       "      <td>0.595238</td>\n",
       "      <td>1</td>\n",
       "      <td>0.515932</td>\n",
       "      <td>0.776316</td>\n",
       "      <td>0.595238</td>\n",
       "    </tr>\n",
       "    <tr>\n",
       "      <th>10</th>\n",
       "      <td>Spv</td>\n",
       "      <td>True</td>\n",
       "      <td>2</td>\n",
       "      <td>average</td>\n",
       "      <td>0.534884</td>\n",
       "      <td>1</td>\n",
       "      <td>0.389205</td>\n",
       "      <td>0.761905</td>\n",
       "      <td>0.523810</td>\n",
       "    </tr>\n",
       "    <tr>\n",
       "      <th>11</th>\n",
       "      <td>Spv</td>\n",
       "      <td>True</td>\n",
       "      <td>2</td>\n",
       "      <td>hard</td>\n",
       "      <td>0.523810</td>\n",
       "      <td>1</td>\n",
       "      <td>0.522727</td>\n",
       "      <td>0.524027</td>\n",
       "      <td>0.523810</td>\n",
       "    </tr>\n",
       "    <tr>\n",
       "      <th>5</th>\n",
       "      <td>Spf</td>\n",
       "      <td>True</td>\n",
       "      <td>2</td>\n",
       "      <td>hard</td>\n",
       "      <td>0.511905</td>\n",
       "      <td>1</td>\n",
       "      <td>0.371826</td>\n",
       "      <td>0.668699</td>\n",
       "      <td>0.515685</td>\n",
       "    </tr>\n",
       "    <tr>\n",
       "      <th>1</th>\n",
       "      <td>Spf</td>\n",
       "      <td>False</td>\n",
       "      <td>2</td>\n",
       "      <td>average</td>\n",
       "      <td>0.503891</td>\n",
       "      <td>1</td>\n",
       "      <td>0.335058</td>\n",
       "      <td>0.251946</td>\n",
       "      <td>0.500000</td>\n",
       "    </tr>\n",
       "    <tr>\n",
       "      <th>4</th>\n",
       "      <td>Spf</td>\n",
       "      <td>True</td>\n",
       "      <td>2</td>\n",
       "      <td>average</td>\n",
       "      <td>0.501946</td>\n",
       "      <td>1</td>\n",
       "      <td>0.344349</td>\n",
       "      <td>0.749511</td>\n",
       "      <td>0.505792</td>\n",
       "    </tr>\n",
       "    <tr>\n",
       "      <th>7</th>\n",
       "      <td>Spv</td>\n",
       "      <td>False</td>\n",
       "      <td>2</td>\n",
       "      <td>average</td>\n",
       "      <td>0.465116</td>\n",
       "      <td>1</td>\n",
       "      <td>0.317460</td>\n",
       "      <td>0.238095</td>\n",
       "      <td>0.476190</td>\n",
       "    </tr>\n",
       "  </tbody>\n",
       "</table>\n",
       "</div>"
      ],
      "text/plain": [
       "   data_unit    PH2  num_classes difficulty  accuracy  top2accuracy  macro_f1  \\\n",
       "3        Spf   True            2       easy  0.975155             1  0.975155   \n",
       "9        Spv   True            2       easy  0.951220             1  0.951190   \n",
       "6        Spv  False            2       easy  0.926829             1  0.926655   \n",
       "0        Spf  False            2       easy  0.853002             1  0.850539   \n",
       "2        Spf  False            2       hard  0.605159             1  0.549610   \n",
       "8        Spv  False            2       hard  0.595238             1  0.515932   \n",
       "10       Spv   True            2    average  0.534884             1  0.389205   \n",
       "11       Spv   True            2       hard  0.523810             1  0.522727   \n",
       "5        Spf   True            2       hard  0.511905             1  0.371826   \n",
       "1        Spf  False            2    average  0.503891             1  0.335058   \n",
       "4        Spf   True            2    average  0.501946             1  0.344349   \n",
       "7        Spv  False            2    average  0.465116             1  0.317460   \n",
       "\n",
       "    macro_precision  macro_recall  \n",
       "3          0.975455      0.975390  \n",
       "9          0.951190      0.951190  \n",
       "6          0.928230      0.926190  \n",
       "0          0.883153      0.855042  \n",
       "2          0.717939      0.607984  \n",
       "8          0.776316      0.595238  \n",
       "10         0.761905      0.523810  \n",
       "11         0.524027      0.523810  \n",
       "5          0.668699      0.515685  \n",
       "1          0.251946      0.500000  \n",
       "4          0.749511      0.505792  \n",
       "7          0.238095      0.476190  "
      ]
     },
     "execution_count": 9,
     "metadata": {},
     "output_type": "execute_result"
    }
   ],
   "source": [
    "import pandas as pd\n",
    "\n",
    "metrics_df = pd.DataFrame(metric_tracker)\n",
    "metrics_df.sort_values(by='accuracy', ascending=False)"
   ]
  },
  {
   "cell_type": "code",
   "execution_count": 10,
   "id": "b904820b",
   "metadata": {},
   "outputs": [],
   "source": [
    "sup.create_dir_if_not_exists(os.path.join(sup.SCORES_ROOT, \"specified\", sup.TRAIN_BERT_CODE))\n",
    "\n",
    "metrics_df.to_csv(os.path.join(sup.SCORES_ROOT, \"specified\", sup.TRAIN_BERT_CODE, f\"PREPanalysis{num_classes}.csv\"), index=False)"
   ]
  }
 ],
 "metadata": {
  "kernelspec": {
   "display_name": "TOG_BERT_v2",
   "language": "python",
   "name": "python3"
  },
  "language_info": {
   "codemirror_mode": {
    "name": "ipython",
    "version": 3
   },
   "file_extension": ".py",
   "mimetype": "text/x-python",
   "name": "python",
   "nbconvert_exporter": "python",
   "pygments_lexer": "ipython3",
   "version": "3.10.18"
  }
 },
 "nbformat": 4,
 "nbformat_minor": 5
}
