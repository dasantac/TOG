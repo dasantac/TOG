{
 "cells": [
  {
   "cell_type": "markdown",
   "id": "78b4d339",
   "metadata": {},
   "source": [
    "# Context\n",
    "This notebook drives the training process for different models."
   ]
  },
  {
   "cell_type": "code",
   "execution_count": 1,
   "id": "0328c1e3",
   "metadata": {},
   "outputs": [],
   "source": [
    "# Set project's environment variables\n",
    "import os\n",
    "import sys\n",
    "from dotenv import load_dotenv\n",
    "load_dotenv(dotenv_path=\"../../../project.env\")\n",
    "sys.path.append(os.environ[\"PYTHONPATH\"])"
   ]
  },
  {
   "cell_type": "code",
   "execution_count": 2,
   "id": "826105d7",
   "metadata": {},
   "outputs": [],
   "source": [
    "# Import project-wide and PH2 specific variables and functions\n",
    "import superheader as sup\n",
    "import TRAIN.architecture.BERT.bert as bert"
   ]
  },
  {
   "cell_type": "code",
   "execution_count": 3,
   "id": "9cec192f",
   "metadata": {},
   "outputs": [],
   "source": [
    "import pandas as pd\n",
    "from datetime import datetime"
   ]
  },
  {
   "cell_type": "code",
   "execution_count": 4,
   "id": "f5a0b34b",
   "metadata": {},
   "outputs": [],
   "source": [
    "TRAIN_classes = 'two-classes'\n",
    "exploringBERT = bert.DISTILBERT\n",
    "exploring_num_epochs = 2\n",
    "exploring_batch_size = 1024"
   ]
  },
  {
   "cell_type": "markdown",
   "id": "4398ce40",
   "metadata": {},
   "source": [
    "# Model training"
   ]
  },
  {
   "cell_type": "markdown",
   "id": "c820d26e",
   "metadata": {},
   "source": [
    "## Sign prediction"
   ]
  },
  {
   "cell_type": "markdown",
   "id": "ebed4241",
   "metadata": {},
   "source": [
    "### Spf"
   ]
  },
  {
   "cell_type": "code",
   "execution_count": 5,
   "id": "8e5d42b3",
   "metadata": {},
   "outputs": [],
   "source": [
    "sup.bert_score_tracker = []"
   ]
  },
  {
   "cell_type": "code",
   "execution_count": 6,
   "id": "4c243c5c",
   "metadata": {},
   "outputs": [
    {
     "name": "stdout",
     "output_type": "stream",
     "text": [
      "{'PH2': True, 'PH3': True, 'reducer': 'pca', 'kernel': '', 'n': 1, 'data_unit': 'Spf', 'label_col': 'class_numeric', 'class_list': 'two-classes', 'batch_size': 1024, 'seq_len': 1}\n",
      "{'arch': 'BERT', 'device': device(type='mps'), 'loadable': 'distilbert-base-uncased', 'optimizer': <class 'torch.optim.adamw.AdamW'>, 'lr': 1e-05, 'weight_decay': 0, 'loss_fn': <class 'torch.nn.modules.loss.CrossEntropyLoss'>, 'num_epochs': 2}\n"
     ]
    },
    {
     "name": "stderr",
     "output_type": "stream",
     "text": [
      "                                                                              \r"
     ]
    },
    {
     "name": "stdout",
     "output_type": "stream",
     "text": [
      "0.533203125\n",
      "updating best... at 2025-06-13_21:04:05\n",
      "\n",
      "\n",
      "\n",
      "{'PH2': True, 'PH3': True, 'reducer': 'umap', 'kernel': '', 'n': 1, 'data_unit': 'Spf', 'label_col': 'class_numeric', 'class_list': 'two-classes', 'batch_size': 1024, 'seq_len': 1}\n",
      "{'arch': 'BERT', 'device': device(type='mps'), 'loadable': 'distilbert-base-uncased', 'optimizer': <class 'torch.optim.adamw.AdamW'>, 'lr': 1e-05, 'weight_decay': 0, 'loss_fn': <class 'torch.nn.modules.loss.CrossEntropyLoss'>, 'num_epochs': 2}\n"
     ]
    },
    {
     "name": "stderr",
     "output_type": "stream",
     "text": [
      "                                                                              \r"
     ]
    },
    {
     "name": "stdout",
     "output_type": "stream",
     "text": [
      "0.48828125\n",
      "not best... at 2025-06-13_21:04:07\n",
      "\n",
      "\n",
      "\n",
      "{'PH2': True, 'PH3': True, 'reducer': 'pca', 'kernel': '', 'n': 3, 'data_unit': 'Spf', 'label_col': 'class_numeric', 'class_list': 'two-classes', 'batch_size': 1024, 'seq_len': 1}\n",
      "{'arch': 'BERT', 'device': device(type='mps'), 'loadable': 'distilbert-base-uncased', 'optimizer': <class 'torch.optim.adamw.AdamW'>, 'lr': 1e-05, 'weight_decay': 0, 'loss_fn': <class 'torch.nn.modules.loss.CrossEntropyLoss'>, 'num_epochs': 2}\n"
     ]
    },
    {
     "name": "stderr",
     "output_type": "stream",
     "text": [
      "                                                                              \r"
     ]
    },
    {
     "name": "stdout",
     "output_type": "stream",
     "text": [
      "0.5\n",
      "not best... at 2025-06-13_21:04:09\n",
      "\n",
      "\n",
      "\n",
      "{'PH2': True, 'PH3': True, 'reducer': 'umap', 'kernel': '', 'n': 3, 'data_unit': 'Spf', 'label_col': 'class_numeric', 'class_list': 'two-classes', 'batch_size': 1024, 'seq_len': 1}\n",
      "{'arch': 'BERT', 'device': device(type='mps'), 'loadable': 'distilbert-base-uncased', 'optimizer': <class 'torch.optim.adamw.AdamW'>, 'lr': 1e-05, 'weight_decay': 0, 'loss_fn': <class 'torch.nn.modules.loss.CrossEntropyLoss'>, 'num_epochs': 2}\n"
     ]
    },
    {
     "name": "stderr",
     "output_type": "stream",
     "text": [
      "                                                                              \r"
     ]
    },
    {
     "name": "stdout",
     "output_type": "stream",
     "text": [
      "0.53515625\n",
      "updating best... at 2025-06-13_21:04:11\n",
      "\n",
      "\n",
      "\n",
      "{'PH2': True, 'PH3': True, 'reducer': 'pca', 'kernel': '', 'n': 5, 'data_unit': 'Spf', 'label_col': 'class_numeric', 'class_list': 'two-classes', 'batch_size': 1024, 'seq_len': 1}\n",
      "{'arch': 'BERT', 'device': device(type='mps'), 'loadable': 'distilbert-base-uncased', 'optimizer': <class 'torch.optim.adamw.AdamW'>, 'lr': 1e-05, 'weight_decay': 0, 'loss_fn': <class 'torch.nn.modules.loss.CrossEntropyLoss'>, 'num_epochs': 2}\n"
     ]
    },
    {
     "name": "stderr",
     "output_type": "stream",
     "text": [
      "                                                                              \r"
     ]
    },
    {
     "name": "stdout",
     "output_type": "stream",
     "text": [
      "0.51171875\n",
      "not best... at 2025-06-13_21:04:13\n",
      "\n",
      "\n",
      "\n",
      "{'PH2': True, 'PH3': True, 'reducer': 'umap', 'kernel': '', 'n': 5, 'data_unit': 'Spf', 'label_col': 'class_numeric', 'class_list': 'two-classes', 'batch_size': 1024, 'seq_len': 1}\n",
      "{'arch': 'BERT', 'device': device(type='mps'), 'loadable': 'distilbert-base-uncased', 'optimizer': <class 'torch.optim.adamw.AdamW'>, 'lr': 1e-05, 'weight_decay': 0, 'loss_fn': <class 'torch.nn.modules.loss.CrossEntropyLoss'>, 'num_epochs': 2}\n"
     ]
    },
    {
     "name": "stderr",
     "output_type": "stream",
     "text": [
      "                                                                              \r"
     ]
    },
    {
     "name": "stdout",
     "output_type": "stream",
     "text": [
      "0.4921875\n",
      "not best... at 2025-06-13_21:04:15\n",
      "\n",
      "\n",
      "\n",
      "{'PH2': True, 'PH3': True, 'reducer': 'pca', 'kernel': '', 'n': 7, 'data_unit': 'Spf', 'label_col': 'class_numeric', 'class_list': 'two-classes', 'batch_size': 1024, 'seq_len': 1}\n",
      "{'arch': 'BERT', 'device': device(type='mps'), 'loadable': 'distilbert-base-uncased', 'optimizer': <class 'torch.optim.adamw.AdamW'>, 'lr': 1e-05, 'weight_decay': 0, 'loss_fn': <class 'torch.nn.modules.loss.CrossEntropyLoss'>, 'num_epochs': 2}\n"
     ]
    },
    {
     "name": "stderr",
     "output_type": "stream",
     "text": [
      "                                                                              \r"
     ]
    },
    {
     "name": "stdout",
     "output_type": "stream",
     "text": [
      "0.642578125\n",
      "updating best... at 2025-06-13_21:04:17\n",
      "\n",
      "\n",
      "\n",
      "{'PH2': True, 'PH3': True, 'reducer': 'umap', 'kernel': '', 'n': 7, 'data_unit': 'Spf', 'label_col': 'class_numeric', 'class_list': 'two-classes', 'batch_size': 1024, 'seq_len': 1}\n",
      "{'arch': 'BERT', 'device': device(type='mps'), 'loadable': 'distilbert-base-uncased', 'optimizer': <class 'torch.optim.adamw.AdamW'>, 'lr': 1e-05, 'weight_decay': 0, 'loss_fn': <class 'torch.nn.modules.loss.CrossEntropyLoss'>, 'num_epochs': 2}\n"
     ]
    },
    {
     "name": "stderr",
     "output_type": "stream",
     "text": [
      "                                                                              \r"
     ]
    },
    {
     "name": "stdout",
     "output_type": "stream",
     "text": [
      "0.48828125\n",
      "not best... at 2025-06-13_21:04:19\n",
      "\n",
      "\n",
      "\n",
      "{'PH2': True, 'PH3': True, 'reducer': 'pca', 'kernel': '', 'n': 9, 'data_unit': 'Spf', 'label_col': 'class_numeric', 'class_list': 'two-classes', 'batch_size': 1024, 'seq_len': 1}\n",
      "{'arch': 'BERT', 'device': device(type='mps'), 'loadable': 'distilbert-base-uncased', 'optimizer': <class 'torch.optim.adamw.AdamW'>, 'lr': 1e-05, 'weight_decay': 0, 'loss_fn': <class 'torch.nn.modules.loss.CrossEntropyLoss'>, 'num_epochs': 2}\n"
     ]
    },
    {
     "name": "stderr",
     "output_type": "stream",
     "text": [
      "                                                                              \r"
     ]
    },
    {
     "name": "stdout",
     "output_type": "stream",
     "text": [
      "0.51171875\n",
      "not best... at 2025-06-13_21:04:21\n",
      "\n",
      "\n",
      "\n",
      "{'PH2': True, 'PH3': True, 'reducer': 'umap', 'kernel': '', 'n': 9, 'data_unit': 'Spf', 'label_col': 'class_numeric', 'class_list': 'two-classes', 'batch_size': 1024, 'seq_len': 1}\n",
      "{'arch': 'BERT', 'device': device(type='mps'), 'loadable': 'distilbert-base-uncased', 'optimizer': <class 'torch.optim.adamw.AdamW'>, 'lr': 1e-05, 'weight_decay': 0, 'loss_fn': <class 'torch.nn.modules.loss.CrossEntropyLoss'>, 'num_epochs': 2}\n"
     ]
    },
    {
     "name": "stderr",
     "output_type": "stream",
     "text": [
      "                                                                              \r"
     ]
    },
    {
     "name": "stdout",
     "output_type": "stream",
     "text": [
      "0.48828125\n",
      "not best... at 2025-06-13_21:04:22\n",
      "\n",
      "\n",
      "\n",
      "{'PH2': True, 'PH3': True, 'reducer': 'pca', 'kernel': '', 'n': 11, 'data_unit': 'Spf', 'label_col': 'class_numeric', 'class_list': 'two-classes', 'batch_size': 1024, 'seq_len': 1}\n",
      "{'arch': 'BERT', 'device': device(type='mps'), 'loadable': 'distilbert-base-uncased', 'optimizer': <class 'torch.optim.adamw.AdamW'>, 'lr': 1e-05, 'weight_decay': 0, 'loss_fn': <class 'torch.nn.modules.loss.CrossEntropyLoss'>, 'num_epochs': 2}\n"
     ]
    },
    {
     "name": "stderr",
     "output_type": "stream",
     "text": [
      "                                                                              \r"
     ]
    },
    {
     "name": "stdout",
     "output_type": "stream",
     "text": [
      "0.51171875\n",
      "not best... at 2025-06-13_21:04:24\n",
      "\n",
      "\n",
      "\n",
      "{'PH2': True, 'PH3': True, 'reducer': 'umap', 'kernel': '', 'n': 11, 'data_unit': 'Spf', 'label_col': 'class_numeric', 'class_list': 'two-classes', 'batch_size': 1024, 'seq_len': 1}\n",
      "{'arch': 'BERT', 'device': device(type='mps'), 'loadable': 'distilbert-base-uncased', 'optimizer': <class 'torch.optim.adamw.AdamW'>, 'lr': 1e-05, 'weight_decay': 0, 'loss_fn': <class 'torch.nn.modules.loss.CrossEntropyLoss'>, 'num_epochs': 2}\n"
     ]
    },
    {
     "name": "stderr",
     "output_type": "stream",
     "text": [
      "                                                                              \r"
     ]
    },
    {
     "name": "stdout",
     "output_type": "stream",
     "text": [
      "0.48828125\n",
      "not best... at 2025-06-13_21:04:26\n",
      "\n",
      "\n",
      "\n",
      "{'PH2': True, 'PH3': True, 'reducer': 'pca', 'kernel': '', 'n': 13, 'data_unit': 'Spf', 'label_col': 'class_numeric', 'class_list': 'two-classes', 'batch_size': 1024, 'seq_len': 1}\n",
      "{'arch': 'BERT', 'device': device(type='mps'), 'loadable': 'distilbert-base-uncased', 'optimizer': <class 'torch.optim.adamw.AdamW'>, 'lr': 1e-05, 'weight_decay': 0, 'loss_fn': <class 'torch.nn.modules.loss.CrossEntropyLoss'>, 'num_epochs': 2}\n"
     ]
    },
    {
     "name": "stderr",
     "output_type": "stream",
     "text": [
      "                                                                              \r"
     ]
    },
    {
     "name": "stdout",
     "output_type": "stream",
     "text": [
      "0.513671875\n",
      "not best... at 2025-06-13_21:04:28\n",
      "\n",
      "\n",
      "\n",
      "{'PH2': True, 'PH3': True, 'reducer': 'umap', 'kernel': '', 'n': 13, 'data_unit': 'Spf', 'label_col': 'class_numeric', 'class_list': 'two-classes', 'batch_size': 1024, 'seq_len': 1}\n",
      "{'arch': 'BERT', 'device': device(type='mps'), 'loadable': 'distilbert-base-uncased', 'optimizer': <class 'torch.optim.adamw.AdamW'>, 'lr': 1e-05, 'weight_decay': 0, 'loss_fn': <class 'torch.nn.modules.loss.CrossEntropyLoss'>, 'num_epochs': 2}\n"
     ]
    },
    {
     "name": "stderr",
     "output_type": "stream",
     "text": [
      "                                                                              \r"
     ]
    },
    {
     "name": "stdout",
     "output_type": "stream",
     "text": [
      "0.48828125\n",
      "not best... at 2025-06-13_21:04:29\n",
      "\n",
      "\n",
      "\n",
      "{'PH2': True, 'PH3': True, 'reducer': 'pca', 'kernel': '', 'n': 15, 'data_unit': 'Spf', 'label_col': 'class_numeric', 'class_list': 'two-classes', 'batch_size': 1024, 'seq_len': 1}\n",
      "{'arch': 'BERT', 'device': device(type='mps'), 'loadable': 'distilbert-base-uncased', 'optimizer': <class 'torch.optim.adamw.AdamW'>, 'lr': 1e-05, 'weight_decay': 0, 'loss_fn': <class 'torch.nn.modules.loss.CrossEntropyLoss'>, 'num_epochs': 2}\n"
     ]
    },
    {
     "name": "stderr",
     "output_type": "stream",
     "text": [
      "                                                                              \r"
     ]
    },
    {
     "name": "stdout",
     "output_type": "stream",
     "text": [
      "0.48828125\n",
      "not best... at 2025-06-13_21:04:31\n",
      "\n",
      "\n",
      "\n",
      "{'PH2': True, 'PH3': True, 'reducer': 'umap', 'kernel': '', 'n': 15, 'data_unit': 'Spf', 'label_col': 'class_numeric', 'class_list': 'two-classes', 'batch_size': 1024, 'seq_len': 1}\n",
      "{'arch': 'BERT', 'device': device(type='mps'), 'loadable': 'distilbert-base-uncased', 'optimizer': <class 'torch.optim.adamw.AdamW'>, 'lr': 1e-05, 'weight_decay': 0, 'loss_fn': <class 'torch.nn.modules.loss.CrossEntropyLoss'>, 'num_epochs': 2}\n"
     ]
    },
    {
     "name": "stderr",
     "output_type": "stream",
     "text": [
      "                                                                              \r"
     ]
    },
    {
     "name": "stdout",
     "output_type": "stream",
     "text": [
      "0.51171875\n",
      "not best... at 2025-06-13_21:04:33\n",
      "\n",
      "\n",
      "\n",
      "{'PH2': True, 'PH3': False, 'reducer': '', 'kernel': '', 'n': 75, 'data_unit': 'Spf', 'label_col': 'class_numeric', 'class_list': 'two-classes', 'batch_size': 1024, 'seq_len': 1}\n",
      "{'arch': 'BERT', 'device': device(type='mps'), 'loadable': 'distilbert-base-uncased', 'optimizer': <class 'torch.optim.adamw.AdamW'>, 'lr': 1e-05, 'weight_decay': 0, 'loss_fn': <class 'torch.nn.modules.loss.CrossEntropyLoss'>, 'num_epochs': 2}\n"
     ]
    },
    {
     "name": "stderr",
     "output_type": "stream",
     "text": [
      "                                                                              \r"
     ]
    },
    {
     "name": "stdout",
     "output_type": "stream",
     "text": [
      "0.564453125\n",
      "not best... at 2025-06-13_21:04:35\n",
      "\n",
      "\n",
      "\n",
      "{'PH2': False, 'PH3': True, 'reducer': 'pca', 'kernel': '', 'n': 1, 'data_unit': 'Spf', 'label_col': 'class_numeric', 'class_list': 'two-classes', 'batch_size': 1024, 'seq_len': 1}\n",
      "{'arch': 'BERT', 'device': device(type='mps'), 'loadable': 'distilbert-base-uncased', 'optimizer': <class 'torch.optim.adamw.AdamW'>, 'lr': 1e-05, 'weight_decay': 0, 'loss_fn': <class 'torch.nn.modules.loss.CrossEntropyLoss'>, 'num_epochs': 2}\n"
     ]
    },
    {
     "name": "stderr",
     "output_type": "stream",
     "text": [
      "                                                                              \r"
     ]
    },
    {
     "name": "stdout",
     "output_type": "stream",
     "text": [
      "0.60546875\n",
      "not best... at 2025-06-13_21:04:37\n",
      "\n",
      "\n",
      "\n",
      "{'PH2': False, 'PH3': True, 'reducer': 'umap', 'kernel': '', 'n': 1, 'data_unit': 'Spf', 'label_col': 'class_numeric', 'class_list': 'two-classes', 'batch_size': 1024, 'seq_len': 1}\n",
      "{'arch': 'BERT', 'device': device(type='mps'), 'loadable': 'distilbert-base-uncased', 'optimizer': <class 'torch.optim.adamw.AdamW'>, 'lr': 1e-05, 'weight_decay': 0, 'loss_fn': <class 'torch.nn.modules.loss.CrossEntropyLoss'>, 'num_epochs': 2}\n"
     ]
    },
    {
     "name": "stderr",
     "output_type": "stream",
     "text": [
      "                                                                              \r"
     ]
    },
    {
     "name": "stdout",
     "output_type": "stream",
     "text": [
      "0.494140625\n",
      "not best... at 2025-06-13_21:04:38\n",
      "\n",
      "\n",
      "\n",
      "{'PH2': False, 'PH3': True, 'reducer': 'pca', 'kernel': '', 'n': 3, 'data_unit': 'Spf', 'label_col': 'class_numeric', 'class_list': 'two-classes', 'batch_size': 1024, 'seq_len': 1}\n",
      "{'arch': 'BERT', 'device': device(type='mps'), 'loadable': 'distilbert-base-uncased', 'optimizer': <class 'torch.optim.adamw.AdamW'>, 'lr': 1e-05, 'weight_decay': 0, 'loss_fn': <class 'torch.nn.modules.loss.CrossEntropyLoss'>, 'num_epochs': 2}\n"
     ]
    },
    {
     "name": "stderr",
     "output_type": "stream",
     "text": [
      "                                                                              \r"
     ]
    },
    {
     "name": "stdout",
     "output_type": "stream",
     "text": [
      "0.52734375\n",
      "not best... at 2025-06-13_21:04:40\n",
      "\n",
      "\n",
      "\n",
      "{'PH2': False, 'PH3': True, 'reducer': 'umap', 'kernel': '', 'n': 3, 'data_unit': 'Spf', 'label_col': 'class_numeric', 'class_list': 'two-classes', 'batch_size': 1024, 'seq_len': 1}\n",
      "{'arch': 'BERT', 'device': device(type='mps'), 'loadable': 'distilbert-base-uncased', 'optimizer': <class 'torch.optim.adamw.AdamW'>, 'lr': 1e-05, 'weight_decay': 0, 'loss_fn': <class 'torch.nn.modules.loss.CrossEntropyLoss'>, 'num_epochs': 2}\n"
     ]
    },
    {
     "name": "stderr",
     "output_type": "stream",
     "text": [
      "                                                                              \r"
     ]
    },
    {
     "name": "stdout",
     "output_type": "stream",
     "text": [
      "0.517578125\n",
      "not best... at 2025-06-13_21:04:42\n",
      "\n",
      "\n",
      "\n",
      "{'PH2': False, 'PH3': True, 'reducer': 'pca', 'kernel': '', 'n': 5, 'data_unit': 'Spf', 'label_col': 'class_numeric', 'class_list': 'two-classes', 'batch_size': 1024, 'seq_len': 1}\n",
      "{'arch': 'BERT', 'device': device(type='mps'), 'loadable': 'distilbert-base-uncased', 'optimizer': <class 'torch.optim.adamw.AdamW'>, 'lr': 1e-05, 'weight_decay': 0, 'loss_fn': <class 'torch.nn.modules.loss.CrossEntropyLoss'>, 'num_epochs': 2}\n"
     ]
    },
    {
     "name": "stderr",
     "output_type": "stream",
     "text": [
      "                                                                              \r"
     ]
    },
    {
     "name": "stdout",
     "output_type": "stream",
     "text": [
      "0.51171875\n",
      "not best... at 2025-06-13_21:04:43\n",
      "\n",
      "\n",
      "\n",
      "{'PH2': False, 'PH3': True, 'reducer': 'umap', 'kernel': '', 'n': 5, 'data_unit': 'Spf', 'label_col': 'class_numeric', 'class_list': 'two-classes', 'batch_size': 1024, 'seq_len': 1}\n",
      "{'arch': 'BERT', 'device': device(type='mps'), 'loadable': 'distilbert-base-uncased', 'optimizer': <class 'torch.optim.adamw.AdamW'>, 'lr': 1e-05, 'weight_decay': 0, 'loss_fn': <class 'torch.nn.modules.loss.CrossEntropyLoss'>, 'num_epochs': 2}\n"
     ]
    },
    {
     "name": "stderr",
     "output_type": "stream",
     "text": [
      "                                                                              \r"
     ]
    },
    {
     "name": "stdout",
     "output_type": "stream",
     "text": [
      "0.599609375\n",
      "not best... at 2025-06-13_21:04:45\n",
      "\n",
      "\n",
      "\n",
      "{'PH2': False, 'PH3': True, 'reducer': 'pca', 'kernel': '', 'n': 7, 'data_unit': 'Spf', 'label_col': 'class_numeric', 'class_list': 'two-classes', 'batch_size': 1024, 'seq_len': 1}\n",
      "{'arch': 'BERT', 'device': device(type='mps'), 'loadable': 'distilbert-base-uncased', 'optimizer': <class 'torch.optim.adamw.AdamW'>, 'lr': 1e-05, 'weight_decay': 0, 'loss_fn': <class 'torch.nn.modules.loss.CrossEntropyLoss'>, 'num_epochs': 2}\n"
     ]
    },
    {
     "name": "stderr",
     "output_type": "stream",
     "text": [
      "                                                                              \r"
     ]
    },
    {
     "name": "stdout",
     "output_type": "stream",
     "text": [
      "0.546875\n",
      "not best... at 2025-06-13_21:04:47\n",
      "\n",
      "\n",
      "\n",
      "{'PH2': False, 'PH3': True, 'reducer': 'umap', 'kernel': '', 'n': 7, 'data_unit': 'Spf', 'label_col': 'class_numeric', 'class_list': 'two-classes', 'batch_size': 1024, 'seq_len': 1}\n",
      "{'arch': 'BERT', 'device': device(type='mps'), 'loadable': 'distilbert-base-uncased', 'optimizer': <class 'torch.optim.adamw.AdamW'>, 'lr': 1e-05, 'weight_decay': 0, 'loss_fn': <class 'torch.nn.modules.loss.CrossEntropyLoss'>, 'num_epochs': 2}\n"
     ]
    },
    {
     "name": "stderr",
     "output_type": "stream",
     "text": [
      "                                                                              \r"
     ]
    },
    {
     "name": "stdout",
     "output_type": "stream",
     "text": [
      "0.48828125\n",
      "not best... at 2025-06-13_21:04:49\n",
      "\n",
      "\n",
      "\n",
      "{'PH2': False, 'PH3': True, 'reducer': 'pca', 'kernel': '', 'n': 9, 'data_unit': 'Spf', 'label_col': 'class_numeric', 'class_list': 'two-classes', 'batch_size': 1024, 'seq_len': 1}\n",
      "{'arch': 'BERT', 'device': device(type='mps'), 'loadable': 'distilbert-base-uncased', 'optimizer': <class 'torch.optim.adamw.AdamW'>, 'lr': 1e-05, 'weight_decay': 0, 'loss_fn': <class 'torch.nn.modules.loss.CrossEntropyLoss'>, 'num_epochs': 2}\n"
     ]
    },
    {
     "name": "stderr",
     "output_type": "stream",
     "text": [
      "                                                                              \r"
     ]
    },
    {
     "name": "stdout",
     "output_type": "stream",
     "text": [
      "0.546875\n",
      "not best... at 2025-06-13_21:04:50\n",
      "\n",
      "\n",
      "\n",
      "{'PH2': False, 'PH3': True, 'reducer': 'umap', 'kernel': '', 'n': 9, 'data_unit': 'Spf', 'label_col': 'class_numeric', 'class_list': 'two-classes', 'batch_size': 1024, 'seq_len': 1}\n",
      "{'arch': 'BERT', 'device': device(type='mps'), 'loadable': 'distilbert-base-uncased', 'optimizer': <class 'torch.optim.adamw.AdamW'>, 'lr': 1e-05, 'weight_decay': 0, 'loss_fn': <class 'torch.nn.modules.loss.CrossEntropyLoss'>, 'num_epochs': 2}\n"
     ]
    },
    {
     "name": "stderr",
     "output_type": "stream",
     "text": [
      "                                                                              \r"
     ]
    },
    {
     "name": "stdout",
     "output_type": "stream",
     "text": [
      "0.607421875\n",
      "not best... at 2025-06-13_21:04:52\n",
      "\n",
      "\n",
      "\n",
      "{'PH2': False, 'PH3': True, 'reducer': 'pca', 'kernel': '', 'n': 11, 'data_unit': 'Spf', 'label_col': 'class_numeric', 'class_list': 'two-classes', 'batch_size': 1024, 'seq_len': 1}\n",
      "{'arch': 'BERT', 'device': device(type='mps'), 'loadable': 'distilbert-base-uncased', 'optimizer': <class 'torch.optim.adamw.AdamW'>, 'lr': 1e-05, 'weight_decay': 0, 'loss_fn': <class 'torch.nn.modules.loss.CrossEntropyLoss'>, 'num_epochs': 2}\n"
     ]
    },
    {
     "name": "stderr",
     "output_type": "stream",
     "text": [
      "                                                                              \r"
     ]
    },
    {
     "name": "stdout",
     "output_type": "stream",
     "text": [
      "0.55078125\n",
      "not best... at 2025-06-13_21:04:54\n",
      "\n",
      "\n",
      "\n",
      "{'PH2': False, 'PH3': True, 'reducer': 'umap', 'kernel': '', 'n': 11, 'data_unit': 'Spf', 'label_col': 'class_numeric', 'class_list': 'two-classes', 'batch_size': 1024, 'seq_len': 1}\n",
      "{'arch': 'BERT', 'device': device(type='mps'), 'loadable': 'distilbert-base-uncased', 'optimizer': <class 'torch.optim.adamw.AdamW'>, 'lr': 1e-05, 'weight_decay': 0, 'loss_fn': <class 'torch.nn.modules.loss.CrossEntropyLoss'>, 'num_epochs': 2}\n"
     ]
    },
    {
     "name": "stderr",
     "output_type": "stream",
     "text": [
      "                                                                              \r"
     ]
    },
    {
     "name": "stdout",
     "output_type": "stream",
     "text": [
      "0.48828125\n",
      "not best... at 2025-06-13_21:04:55\n",
      "\n",
      "\n",
      "\n",
      "{'PH2': False, 'PH3': True, 'reducer': 'pca', 'kernel': '', 'n': 13, 'data_unit': 'Spf', 'label_col': 'class_numeric', 'class_list': 'two-classes', 'batch_size': 1024, 'seq_len': 1}\n",
      "{'arch': 'BERT', 'device': device(type='mps'), 'loadable': 'distilbert-base-uncased', 'optimizer': <class 'torch.optim.adamw.AdamW'>, 'lr': 1e-05, 'weight_decay': 0, 'loss_fn': <class 'torch.nn.modules.loss.CrossEntropyLoss'>, 'num_epochs': 2}\n"
     ]
    },
    {
     "name": "stderr",
     "output_type": "stream",
     "text": [
      "                                                                              \r"
     ]
    },
    {
     "name": "stdout",
     "output_type": "stream",
     "text": [
      "0.7109375\n",
      "updating best... at 2025-06-13_21:04:57\n",
      "\n",
      "\n",
      "\n",
      "{'PH2': False, 'PH3': True, 'reducer': 'umap', 'kernel': '', 'n': 13, 'data_unit': 'Spf', 'label_col': 'class_numeric', 'class_list': 'two-classes', 'batch_size': 1024, 'seq_len': 1}\n",
      "{'arch': 'BERT', 'device': device(type='mps'), 'loadable': 'distilbert-base-uncased', 'optimizer': <class 'torch.optim.adamw.AdamW'>, 'lr': 1e-05, 'weight_decay': 0, 'loss_fn': <class 'torch.nn.modules.loss.CrossEntropyLoss'>, 'num_epochs': 2}\n"
     ]
    },
    {
     "name": "stderr",
     "output_type": "stream",
     "text": [
      "                                                                              \r"
     ]
    },
    {
     "name": "stdout",
     "output_type": "stream",
     "text": [
      "0.48828125\n",
      "not best... at 2025-06-13_21:05:00\n",
      "\n",
      "\n",
      "\n",
      "{'PH2': False, 'PH3': True, 'reducer': 'pca', 'kernel': '', 'n': 15, 'data_unit': 'Spf', 'label_col': 'class_numeric', 'class_list': 'two-classes', 'batch_size': 1024, 'seq_len': 1}\n",
      "{'arch': 'BERT', 'device': device(type='mps'), 'loadable': 'distilbert-base-uncased', 'optimizer': <class 'torch.optim.adamw.AdamW'>, 'lr': 1e-05, 'weight_decay': 0, 'loss_fn': <class 'torch.nn.modules.loss.CrossEntropyLoss'>, 'num_epochs': 2}\n"
     ]
    },
    {
     "name": "stderr",
     "output_type": "stream",
     "text": [
      "                                                                              \r"
     ]
    },
    {
     "name": "stdout",
     "output_type": "stream",
     "text": [
      "0.498046875\n",
      "not best... at 2025-06-13_21:05:02\n",
      "\n",
      "\n",
      "\n",
      "{'PH2': False, 'PH3': True, 'reducer': 'umap', 'kernel': '', 'n': 15, 'data_unit': 'Spf', 'label_col': 'class_numeric', 'class_list': 'two-classes', 'batch_size': 1024, 'seq_len': 1}\n",
      "{'arch': 'BERT', 'device': device(type='mps'), 'loadable': 'distilbert-base-uncased', 'optimizer': <class 'torch.optim.adamw.AdamW'>, 'lr': 1e-05, 'weight_decay': 0, 'loss_fn': <class 'torch.nn.modules.loss.CrossEntropyLoss'>, 'num_epochs': 2}\n"
     ]
    },
    {
     "name": "stderr",
     "output_type": "stream",
     "text": [
      "                                                                              \r"
     ]
    },
    {
     "name": "stdout",
     "output_type": "stream",
     "text": [
      "0.48828125\n",
      "not best... at 2025-06-13_21:05:03\n",
      "\n",
      "\n",
      "\n",
      "{'PH2': False, 'PH3': False, 'reducer': '', 'kernel': '', 'n': 72, 'data_unit': 'Spf', 'label_col': 'class_numeric', 'class_list': 'two-classes', 'batch_size': 1024, 'seq_len': 1}\n",
      "{'arch': 'BERT', 'device': device(type='mps'), 'loadable': 'distilbert-base-uncased', 'optimizer': <class 'torch.optim.adamw.AdamW'>, 'lr': 1e-05, 'weight_decay': 0, 'loss_fn': <class 'torch.nn.modules.loss.CrossEntropyLoss'>, 'num_epochs': 2}\n"
     ]
    },
    {
     "name": "stderr",
     "output_type": "stream",
     "text": [
      "                                                                              \r"
     ]
    },
    {
     "name": "stdout",
     "output_type": "stream",
     "text": [
      "0.48828125\n",
      "not best... at 2025-06-13_21:05:06\n",
      "\n",
      "\n",
      "\n",
      "Data Unit: Spf\n",
      "Best score: 0.7109375\n",
      "Best data config: {'PH2': False, 'PH3': True, 'reducer': 'pca', 'kernel': '', 'n': 13, 'data_unit': 'Spf', 'label_col': 'class_numeric', 'class_list': 'two-classes', 'batch_size': 1024, 'seq_len': 1}\n",
      "Best train config: {'arch': 'BERT', 'device': device(type='mps'), 'loadable': 'distilbert-base-uncased', 'optimizer': <class 'torch.optim.adamw.AdamW'>, 'lr': 1e-05, 'weight_decay': 0, 'loss_fn': <class 'torch.nn.modules.loss.CrossEntropyLoss'>, 'num_epochs': 2}\n"
     ]
    }
   ],
   "source": [
    "bert.find_best(data_unit=sup.DATA_S_PF, label_col=sup.class_numeric_column, \n",
    "                    class_list=TRAIN_classes, batch_size=exploring_batch_size,\n",
    "                    LOADABLE_CANDIDATES=[exploringBERT], \n",
    "                    num_epochs_CANDIDATES=[exploring_num_epochs])"
   ]
  },
  {
   "cell_type": "code",
   "execution_count": 7,
   "id": "f3148a43",
   "metadata": {},
   "outputs": [],
   "source": [
    "spf_bert_scores_df = pd.DataFrame(sup.bert_score_tracker, columns=sup.bert_scores_columns)\n",
    "now = datetime.now().strftime(\"%Y-%m-%d_%H:%M:%S\")\n",
    "sup.create_dir_if_not_exists(os.path.join(sup.TRAIN_SCORES_ROOT, TRAIN_classes, \n",
    "                                          sup.TRAIN_BERT_CODE,\n",
    "                                          sup.DATA_S_PF,\n",
    "                                          exploringBERT))\n",
    "spf_bert_scores_df.to_csv(os.path.join(sup.TRAIN_SCORES_ROOT, TRAIN_classes, \n",
    "                                       sup.TRAIN_BERT_CODE,\n",
    "                                       sup.DATA_S_PF,\n",
    "                                       exploringBERT, \n",
    "                                       f\"{now}.csv\"), index=False)"
   ]
  },
  {
   "cell_type": "markdown",
   "id": "78fbf302",
   "metadata": {},
   "source": [
    "### Spv"
   ]
  },
  {
   "cell_type": "code",
   "execution_count": 8,
   "id": "454b403b",
   "metadata": {},
   "outputs": [],
   "source": [
    "sup.bert_score_tracker = []\n"
   ]
  },
  {
   "cell_type": "code",
   "execution_count": 9,
   "id": "c92362f9",
   "metadata": {},
   "outputs": [
    {
     "name": "stdout",
     "output_type": "stream",
     "text": [
      "{'PH2': True, 'PH3': True, 'reducer': 'pca', 'kernel': '', 'n': 1, 'data_unit': 'Spv', 'label_col': 'class_numeric', 'class_list': 'two-classes', 'batch_size': 1024, 'seq_len': 12}\n",
      "{'arch': 'BERT', 'device': device(type='mps'), 'loadable': 'distilbert-base-uncased', 'optimizer': <class 'torch.optim.adamw.AdamW'>, 'lr': 1e-05, 'weight_decay': 0, 'loss_fn': <class 'torch.nn.modules.loss.CrossEntropyLoss'>, 'num_epochs': 2}\n"
     ]
    },
    {
     "name": "stderr",
     "output_type": "stream",
     "text": [
      "                                                                               \r"
     ]
    },
    {
     "name": "stdout",
     "output_type": "stream",
     "text": [
      "0.5348837209302325\n",
      "updating best... at 2025-06-13_21:05:08\n",
      "\n",
      "\n",
      "\n",
      "{'PH2': True, 'PH3': True, 'reducer': 'umap', 'kernel': '', 'n': 1, 'data_unit': 'Spv', 'label_col': 'class_numeric', 'class_list': 'two-classes', 'batch_size': 1024, 'seq_len': 12}\n",
      "{'arch': 'BERT', 'device': device(type='mps'), 'loadable': 'distilbert-base-uncased', 'optimizer': <class 'torch.optim.adamw.AdamW'>, 'lr': 1e-05, 'weight_decay': 0, 'loss_fn': <class 'torch.nn.modules.loss.CrossEntropyLoss'>, 'num_epochs': 2}\n"
     ]
    },
    {
     "name": "stderr",
     "output_type": "stream",
     "text": [
      "                                                                               \r"
     ]
    },
    {
     "name": "stdout",
     "output_type": "stream",
     "text": [
      "0.5348837209302325\n",
      "not best... at 2025-06-13_21:05:10\n",
      "\n",
      "\n",
      "\n",
      "{'PH2': True, 'PH3': True, 'reducer': 'pca', 'kernel': '', 'n': 3, 'data_unit': 'Spv', 'label_col': 'class_numeric', 'class_list': 'two-classes', 'batch_size': 1024, 'seq_len': 12}\n",
      "{'arch': 'BERT', 'device': device(type='mps'), 'loadable': 'distilbert-base-uncased', 'optimizer': <class 'torch.optim.adamw.AdamW'>, 'lr': 1e-05, 'weight_decay': 0, 'loss_fn': <class 'torch.nn.modules.loss.CrossEntropyLoss'>, 'num_epochs': 2}\n"
     ]
    },
    {
     "name": "stderr",
     "output_type": "stream",
     "text": [
      "                                                                               \r"
     ]
    },
    {
     "name": "stdout",
     "output_type": "stream",
     "text": [
      "0.4883720930232558\n",
      "not best... at 2025-06-13_21:05:12\n",
      "\n",
      "\n",
      "\n",
      "{'PH2': True, 'PH3': True, 'reducer': 'umap', 'kernel': '', 'n': 3, 'data_unit': 'Spv', 'label_col': 'class_numeric', 'class_list': 'two-classes', 'batch_size': 1024, 'seq_len': 12}\n",
      "{'arch': 'BERT', 'device': device(type='mps'), 'loadable': 'distilbert-base-uncased', 'optimizer': <class 'torch.optim.adamw.AdamW'>, 'lr': 1e-05, 'weight_decay': 0, 'loss_fn': <class 'torch.nn.modules.loss.CrossEntropyLoss'>, 'num_epochs': 2}\n"
     ]
    },
    {
     "name": "stderr",
     "output_type": "stream",
     "text": [
      "                                                                               \r"
     ]
    },
    {
     "name": "stdout",
     "output_type": "stream",
     "text": [
      "0.4883720930232558\n",
      "not best... at 2025-06-13_21:05:14\n",
      "\n",
      "\n",
      "\n",
      "{'PH2': True, 'PH3': True, 'reducer': 'pca', 'kernel': '', 'n': 5, 'data_unit': 'Spv', 'label_col': 'class_numeric', 'class_list': 'two-classes', 'batch_size': 1024, 'seq_len': 12}\n",
      "{'arch': 'BERT', 'device': device(type='mps'), 'loadable': 'distilbert-base-uncased', 'optimizer': <class 'torch.optim.adamw.AdamW'>, 'lr': 1e-05, 'weight_decay': 0, 'loss_fn': <class 'torch.nn.modules.loss.CrossEntropyLoss'>, 'num_epochs': 2}\n"
     ]
    },
    {
     "name": "stderr",
     "output_type": "stream",
     "text": [
      "                                                                               \r"
     ]
    },
    {
     "name": "stdout",
     "output_type": "stream",
     "text": [
      "0.5581395348837209\n",
      "updating best... at 2025-06-13_21:05:15\n",
      "\n",
      "\n",
      "\n",
      "{'PH2': True, 'PH3': True, 'reducer': 'umap', 'kernel': '', 'n': 5, 'data_unit': 'Spv', 'label_col': 'class_numeric', 'class_list': 'two-classes', 'batch_size': 1024, 'seq_len': 12}\n",
      "{'arch': 'BERT', 'device': device(type='mps'), 'loadable': 'distilbert-base-uncased', 'optimizer': <class 'torch.optim.adamw.AdamW'>, 'lr': 1e-05, 'weight_decay': 0, 'loss_fn': <class 'torch.nn.modules.loss.CrossEntropyLoss'>, 'num_epochs': 2}\n"
     ]
    },
    {
     "name": "stderr",
     "output_type": "stream",
     "text": [
      "                                                                               \r"
     ]
    },
    {
     "name": "stdout",
     "output_type": "stream",
     "text": [
      "0.5116279069767442\n",
      "not best... at 2025-06-13_21:05:18\n",
      "\n",
      "\n",
      "\n",
      "{'PH2': True, 'PH3': True, 'reducer': 'pca', 'kernel': '', 'n': 7, 'data_unit': 'Spv', 'label_col': 'class_numeric', 'class_list': 'two-classes', 'batch_size': 1024, 'seq_len': 12}\n",
      "{'arch': 'BERT', 'device': device(type='mps'), 'loadable': 'distilbert-base-uncased', 'optimizer': <class 'torch.optim.adamw.AdamW'>, 'lr': 1e-05, 'weight_decay': 0, 'loss_fn': <class 'torch.nn.modules.loss.CrossEntropyLoss'>, 'num_epochs': 2}\n"
     ]
    },
    {
     "name": "stderr",
     "output_type": "stream",
     "text": [
      "                                                                               \r"
     ]
    },
    {
     "name": "stdout",
     "output_type": "stream",
     "text": [
      "0.6046511627906976\n",
      "updating best... at 2025-06-13_21:05:20\n",
      "\n",
      "\n",
      "\n",
      "{'PH2': True, 'PH3': True, 'reducer': 'umap', 'kernel': '', 'n': 7, 'data_unit': 'Spv', 'label_col': 'class_numeric', 'class_list': 'two-classes', 'batch_size': 1024, 'seq_len': 12}\n",
      "{'arch': 'BERT', 'device': device(type='mps'), 'loadable': 'distilbert-base-uncased', 'optimizer': <class 'torch.optim.adamw.AdamW'>, 'lr': 1e-05, 'weight_decay': 0, 'loss_fn': <class 'torch.nn.modules.loss.CrossEntropyLoss'>, 'num_epochs': 2}\n"
     ]
    },
    {
     "name": "stderr",
     "output_type": "stream",
     "text": [
      "                                                                               \r"
     ]
    },
    {
     "name": "stdout",
     "output_type": "stream",
     "text": [
      "0.5116279069767442\n",
      "not best... at 2025-06-13_21:05:23\n",
      "\n",
      "\n",
      "\n",
      "{'PH2': True, 'PH3': True, 'reducer': 'pca', 'kernel': '', 'n': 9, 'data_unit': 'Spv', 'label_col': 'class_numeric', 'class_list': 'two-classes', 'batch_size': 1024, 'seq_len': 12}\n",
      "{'arch': 'BERT', 'device': device(type='mps'), 'loadable': 'distilbert-base-uncased', 'optimizer': <class 'torch.optim.adamw.AdamW'>, 'lr': 1e-05, 'weight_decay': 0, 'loss_fn': <class 'torch.nn.modules.loss.CrossEntropyLoss'>, 'num_epochs': 2}\n"
     ]
    },
    {
     "name": "stderr",
     "output_type": "stream",
     "text": [
      "                                                                               \r"
     ]
    },
    {
     "name": "stdout",
     "output_type": "stream",
     "text": [
      "0.5116279069767442\n",
      "not best... at 2025-06-13_21:05:25\n",
      "\n",
      "\n",
      "\n",
      "{'PH2': True, 'PH3': True, 'reducer': 'umap', 'kernel': '', 'n': 9, 'data_unit': 'Spv', 'label_col': 'class_numeric', 'class_list': 'two-classes', 'batch_size': 1024, 'seq_len': 12}\n",
      "{'arch': 'BERT', 'device': device(type='mps'), 'loadable': 'distilbert-base-uncased', 'optimizer': <class 'torch.optim.adamw.AdamW'>, 'lr': 1e-05, 'weight_decay': 0, 'loss_fn': <class 'torch.nn.modules.loss.CrossEntropyLoss'>, 'num_epochs': 2}\n"
     ]
    },
    {
     "name": "stderr",
     "output_type": "stream",
     "text": [
      "                                                                               \r"
     ]
    },
    {
     "name": "stdout",
     "output_type": "stream",
     "text": [
      "0.5116279069767442\n",
      "not best... at 2025-06-13_21:05:26\n",
      "\n",
      "\n",
      "\n",
      "{'PH2': True, 'PH3': True, 'reducer': 'pca', 'kernel': '', 'n': 11, 'data_unit': 'Spv', 'label_col': 'class_numeric', 'class_list': 'two-classes', 'batch_size': 1024, 'seq_len': 12}\n",
      "{'arch': 'BERT', 'device': device(type='mps'), 'loadable': 'distilbert-base-uncased', 'optimizer': <class 'torch.optim.adamw.AdamW'>, 'lr': 1e-05, 'weight_decay': 0, 'loss_fn': <class 'torch.nn.modules.loss.CrossEntropyLoss'>, 'num_epochs': 2}\n"
     ]
    },
    {
     "name": "stderr",
     "output_type": "stream",
     "text": [
      "                                                                               \r"
     ]
    },
    {
     "name": "stdout",
     "output_type": "stream",
     "text": [
      "0.5116279069767442\n",
      "not best... at 2025-06-13_21:05:28\n",
      "\n",
      "\n",
      "\n",
      "{'PH2': True, 'PH3': True, 'reducer': 'umap', 'kernel': '', 'n': 11, 'data_unit': 'Spv', 'label_col': 'class_numeric', 'class_list': 'two-classes', 'batch_size': 1024, 'seq_len': 12}\n",
      "{'arch': 'BERT', 'device': device(type='mps'), 'loadable': 'distilbert-base-uncased', 'optimizer': <class 'torch.optim.adamw.AdamW'>, 'lr': 1e-05, 'weight_decay': 0, 'loss_fn': <class 'torch.nn.modules.loss.CrossEntropyLoss'>, 'num_epochs': 2}\n"
     ]
    },
    {
     "name": "stderr",
     "output_type": "stream",
     "text": [
      "                                                                               \r"
     ]
    },
    {
     "name": "stdout",
     "output_type": "stream",
     "text": [
      "0.5116279069767442\n",
      "not best... at 2025-06-13_21:05:30\n",
      "\n",
      "\n",
      "\n",
      "{'PH2': True, 'PH3': True, 'reducer': 'pca', 'kernel': '', 'n': 13, 'data_unit': 'Spv', 'label_col': 'class_numeric', 'class_list': 'two-classes', 'batch_size': 1024, 'seq_len': 12}\n",
      "{'arch': 'BERT', 'device': device(type='mps'), 'loadable': 'distilbert-base-uncased', 'optimizer': <class 'torch.optim.adamw.AdamW'>, 'lr': 1e-05, 'weight_decay': 0, 'loss_fn': <class 'torch.nn.modules.loss.CrossEntropyLoss'>, 'num_epochs': 2}\n"
     ]
    },
    {
     "name": "stderr",
     "output_type": "stream",
     "text": [
      "                                                                               \r"
     ]
    },
    {
     "name": "stdout",
     "output_type": "stream",
     "text": [
      "0.5116279069767442\n",
      "not best... at 2025-06-13_21:05:32\n",
      "\n",
      "\n",
      "\n",
      "{'PH2': True, 'PH3': True, 'reducer': 'umap', 'kernel': '', 'n': 13, 'data_unit': 'Spv', 'label_col': 'class_numeric', 'class_list': 'two-classes', 'batch_size': 1024, 'seq_len': 12}\n",
      "{'arch': 'BERT', 'device': device(type='mps'), 'loadable': 'distilbert-base-uncased', 'optimizer': <class 'torch.optim.adamw.AdamW'>, 'lr': 1e-05, 'weight_decay': 0, 'loss_fn': <class 'torch.nn.modules.loss.CrossEntropyLoss'>, 'num_epochs': 2}\n"
     ]
    },
    {
     "name": "stderr",
     "output_type": "stream",
     "text": [
      "                                                                               \r"
     ]
    },
    {
     "name": "stdout",
     "output_type": "stream",
     "text": [
      "0.4883720930232558\n",
      "not best... at 2025-06-13_21:05:34\n",
      "\n",
      "\n",
      "\n",
      "{'PH2': True, 'PH3': True, 'reducer': 'pca', 'kernel': '', 'n': 15, 'data_unit': 'Spv', 'label_col': 'class_numeric', 'class_list': 'two-classes', 'batch_size': 1024, 'seq_len': 12}\n",
      "{'arch': 'BERT', 'device': device(type='mps'), 'loadable': 'distilbert-base-uncased', 'optimizer': <class 'torch.optim.adamw.AdamW'>, 'lr': 1e-05, 'weight_decay': 0, 'loss_fn': <class 'torch.nn.modules.loss.CrossEntropyLoss'>, 'num_epochs': 2}\n"
     ]
    },
    {
     "name": "stderr",
     "output_type": "stream",
     "text": [
      "                                                                               \r"
     ]
    },
    {
     "name": "stdout",
     "output_type": "stream",
     "text": [
      "0.4883720930232558\n",
      "not best... at 2025-06-13_21:05:36\n",
      "\n",
      "\n",
      "\n",
      "{'PH2': True, 'PH3': True, 'reducer': 'umap', 'kernel': '', 'n': 15, 'data_unit': 'Spv', 'label_col': 'class_numeric', 'class_list': 'two-classes', 'batch_size': 1024, 'seq_len': 12}\n",
      "{'arch': 'BERT', 'device': device(type='mps'), 'loadable': 'distilbert-base-uncased', 'optimizer': <class 'torch.optim.adamw.AdamW'>, 'lr': 1e-05, 'weight_decay': 0, 'loss_fn': <class 'torch.nn.modules.loss.CrossEntropyLoss'>, 'num_epochs': 2}\n"
     ]
    },
    {
     "name": "stderr",
     "output_type": "stream",
     "text": [
      "                                                                               \r"
     ]
    },
    {
     "name": "stdout",
     "output_type": "stream",
     "text": [
      "0.5116279069767442\n",
      "not best... at 2025-06-13_21:05:37\n",
      "\n",
      "\n",
      "\n",
      "{'PH2': True, 'PH3': False, 'reducer': '', 'kernel': '', 'n': 75, 'data_unit': 'Spv', 'label_col': 'class_numeric', 'class_list': 'two-classes', 'batch_size': 1024, 'seq_len': 12}\n",
      "{'arch': 'BERT', 'device': device(type='mps'), 'loadable': 'distilbert-base-uncased', 'optimizer': <class 'torch.optim.adamw.AdamW'>, 'lr': 1e-05, 'weight_decay': 0, 'loss_fn': <class 'torch.nn.modules.loss.CrossEntropyLoss'>, 'num_epochs': 2}\n"
     ]
    },
    {
     "name": "stderr",
     "output_type": "stream",
     "text": [
      "                                                                               \r"
     ]
    },
    {
     "name": "stdout",
     "output_type": "stream",
     "text": [
      "0.4883720930232558\n",
      "not best... at 2025-06-13_21:05:40\n",
      "\n",
      "\n",
      "\n",
      "{'PH2': False, 'PH3': True, 'reducer': 'pca', 'kernel': '', 'n': 1, 'data_unit': 'Spv', 'label_col': 'class_numeric', 'class_list': 'two-classes', 'batch_size': 1024, 'seq_len': 12}\n",
      "{'arch': 'BERT', 'device': device(type='mps'), 'loadable': 'distilbert-base-uncased', 'optimizer': <class 'torch.optim.adamw.AdamW'>, 'lr': 1e-05, 'weight_decay': 0, 'loss_fn': <class 'torch.nn.modules.loss.CrossEntropyLoss'>, 'num_epochs': 2}\n"
     ]
    },
    {
     "name": "stderr",
     "output_type": "stream",
     "text": [
      "                                                                               \r"
     ]
    },
    {
     "name": "stdout",
     "output_type": "stream",
     "text": [
      "0.6511627906976745\n",
      "updating best... at 2025-06-13_21:05:42\n",
      "\n",
      "\n",
      "\n",
      "{'PH2': False, 'PH3': True, 'reducer': 'umap', 'kernel': '', 'n': 1, 'data_unit': 'Spv', 'label_col': 'class_numeric', 'class_list': 'two-classes', 'batch_size': 1024, 'seq_len': 12}\n",
      "{'arch': 'BERT', 'device': device(type='mps'), 'loadable': 'distilbert-base-uncased', 'optimizer': <class 'torch.optim.adamw.AdamW'>, 'lr': 1e-05, 'weight_decay': 0, 'loss_fn': <class 'torch.nn.modules.loss.CrossEntropyLoss'>, 'num_epochs': 2}\n"
     ]
    },
    {
     "name": "stderr",
     "output_type": "stream",
     "text": [
      "                                                                               \r"
     ]
    },
    {
     "name": "stdout",
     "output_type": "stream",
     "text": [
      "0.5348837209302325\n",
      "not best... at 2025-06-13_21:05:44\n",
      "\n",
      "\n",
      "\n",
      "{'PH2': False, 'PH3': True, 'reducer': 'pca', 'kernel': '', 'n': 3, 'data_unit': 'Spv', 'label_col': 'class_numeric', 'class_list': 'two-classes', 'batch_size': 1024, 'seq_len': 12}\n",
      "{'arch': 'BERT', 'device': device(type='mps'), 'loadable': 'distilbert-base-uncased', 'optimizer': <class 'torch.optim.adamw.AdamW'>, 'lr': 1e-05, 'weight_decay': 0, 'loss_fn': <class 'torch.nn.modules.loss.CrossEntropyLoss'>, 'num_epochs': 2}\n"
     ]
    },
    {
     "name": "stderr",
     "output_type": "stream",
     "text": [
      "                                                                               \r"
     ]
    },
    {
     "name": "stdout",
     "output_type": "stream",
     "text": [
      "0.6976744186046512\n",
      "updating best... at 2025-06-13_21:05:46\n",
      "\n",
      "\n",
      "\n",
      "{'PH2': False, 'PH3': True, 'reducer': 'umap', 'kernel': '', 'n': 3, 'data_unit': 'Spv', 'label_col': 'class_numeric', 'class_list': 'two-classes', 'batch_size': 1024, 'seq_len': 12}\n",
      "{'arch': 'BERT', 'device': device(type='mps'), 'loadable': 'distilbert-base-uncased', 'optimizer': <class 'torch.optim.adamw.AdamW'>, 'lr': 1e-05, 'weight_decay': 0, 'loss_fn': <class 'torch.nn.modules.loss.CrossEntropyLoss'>, 'num_epochs': 2}\n"
     ]
    },
    {
     "name": "stderr",
     "output_type": "stream",
     "text": [
      "                                                                               \r"
     ]
    },
    {
     "name": "stdout",
     "output_type": "stream",
     "text": [
      "0.5813953488372093\n",
      "not best... at 2025-06-13_21:05:49\n",
      "\n",
      "\n",
      "\n",
      "{'PH2': False, 'PH3': True, 'reducer': 'pca', 'kernel': '', 'n': 5, 'data_unit': 'Spv', 'label_col': 'class_numeric', 'class_list': 'two-classes', 'batch_size': 1024, 'seq_len': 12}\n",
      "{'arch': 'BERT', 'device': device(type='mps'), 'loadable': 'distilbert-base-uncased', 'optimizer': <class 'torch.optim.adamw.AdamW'>, 'lr': 1e-05, 'weight_decay': 0, 'loss_fn': <class 'torch.nn.modules.loss.CrossEntropyLoss'>, 'num_epochs': 2}\n"
     ]
    },
    {
     "name": "stderr",
     "output_type": "stream",
     "text": [
      "                                                                               \r"
     ]
    },
    {
     "name": "stdout",
     "output_type": "stream",
     "text": [
      "0.627906976744186\n",
      "not best... at 2025-06-13_21:05:51\n",
      "\n",
      "\n",
      "\n",
      "{'PH2': False, 'PH3': True, 'reducer': 'umap', 'kernel': '', 'n': 5, 'data_unit': 'Spv', 'label_col': 'class_numeric', 'class_list': 'two-classes', 'batch_size': 1024, 'seq_len': 12}\n",
      "{'arch': 'BERT', 'device': device(type='mps'), 'loadable': 'distilbert-base-uncased', 'optimizer': <class 'torch.optim.adamw.AdamW'>, 'lr': 1e-05, 'weight_decay': 0, 'loss_fn': <class 'torch.nn.modules.loss.CrossEntropyLoss'>, 'num_epochs': 2}\n"
     ]
    },
    {
     "name": "stderr",
     "output_type": "stream",
     "text": [
      "                                                                               \r"
     ]
    },
    {
     "name": "stdout",
     "output_type": "stream",
     "text": [
      "0.5116279069767442\n",
      "not best... at 2025-06-13_21:05:52\n",
      "\n",
      "\n",
      "\n",
      "{'PH2': False, 'PH3': True, 'reducer': 'pca', 'kernel': '', 'n': 7, 'data_unit': 'Spv', 'label_col': 'class_numeric', 'class_list': 'two-classes', 'batch_size': 1024, 'seq_len': 12}\n",
      "{'arch': 'BERT', 'device': device(type='mps'), 'loadable': 'distilbert-base-uncased', 'optimizer': <class 'torch.optim.adamw.AdamW'>, 'lr': 1e-05, 'weight_decay': 0, 'loss_fn': <class 'torch.nn.modules.loss.CrossEntropyLoss'>, 'num_epochs': 2}\n"
     ]
    },
    {
     "name": "stderr",
     "output_type": "stream",
     "text": [
      "                                                                               \r"
     ]
    },
    {
     "name": "stdout",
     "output_type": "stream",
     "text": [
      "0.4883720930232558\n",
      "not best... at 2025-06-13_21:05:54\n",
      "\n",
      "\n",
      "\n",
      "{'PH2': False, 'PH3': True, 'reducer': 'umap', 'kernel': '', 'n': 7, 'data_unit': 'Spv', 'label_col': 'class_numeric', 'class_list': 'two-classes', 'batch_size': 1024, 'seq_len': 12}\n",
      "{'arch': 'BERT', 'device': device(type='mps'), 'loadable': 'distilbert-base-uncased', 'optimizer': <class 'torch.optim.adamw.AdamW'>, 'lr': 1e-05, 'weight_decay': 0, 'loss_fn': <class 'torch.nn.modules.loss.CrossEntropyLoss'>, 'num_epochs': 2}\n"
     ]
    },
    {
     "name": "stderr",
     "output_type": "stream",
     "text": [
      "                                                                               \r"
     ]
    },
    {
     "name": "stdout",
     "output_type": "stream",
     "text": [
      "0.5116279069767442\n",
      "not best... at 2025-06-13_21:05:56\n",
      "\n",
      "\n",
      "\n",
      "{'PH2': False, 'PH3': True, 'reducer': 'pca', 'kernel': '', 'n': 9, 'data_unit': 'Spv', 'label_col': 'class_numeric', 'class_list': 'two-classes', 'batch_size': 1024, 'seq_len': 12}\n",
      "{'arch': 'BERT', 'device': device(type='mps'), 'loadable': 'distilbert-base-uncased', 'optimizer': <class 'torch.optim.adamw.AdamW'>, 'lr': 1e-05, 'weight_decay': 0, 'loss_fn': <class 'torch.nn.modules.loss.CrossEntropyLoss'>, 'num_epochs': 2}\n"
     ]
    },
    {
     "name": "stderr",
     "output_type": "stream",
     "text": [
      "                                                                               \r"
     ]
    },
    {
     "name": "stdout",
     "output_type": "stream",
     "text": [
      "0.7209302325581395\n",
      "updating best... at 2025-06-13_21:05:58\n",
      "\n",
      "\n",
      "\n",
      "{'PH2': False, 'PH3': True, 'reducer': 'umap', 'kernel': '', 'n': 9, 'data_unit': 'Spv', 'label_col': 'class_numeric', 'class_list': 'two-classes', 'batch_size': 1024, 'seq_len': 12}\n",
      "{'arch': 'BERT', 'device': device(type='mps'), 'loadable': 'distilbert-base-uncased', 'optimizer': <class 'torch.optim.adamw.AdamW'>, 'lr': 1e-05, 'weight_decay': 0, 'loss_fn': <class 'torch.nn.modules.loss.CrossEntropyLoss'>, 'num_epochs': 2}\n"
     ]
    },
    {
     "name": "stderr",
     "output_type": "stream",
     "text": [
      "                                                                               \r"
     ]
    },
    {
     "name": "stdout",
     "output_type": "stream",
     "text": [
      "0.4883720930232558\n",
      "not best... at 2025-06-13_21:06:01\n",
      "\n",
      "\n",
      "\n",
      "{'PH2': False, 'PH3': True, 'reducer': 'pca', 'kernel': '', 'n': 11, 'data_unit': 'Spv', 'label_col': 'class_numeric', 'class_list': 'two-classes', 'batch_size': 1024, 'seq_len': 12}\n",
      "{'arch': 'BERT', 'device': device(type='mps'), 'loadable': 'distilbert-base-uncased', 'optimizer': <class 'torch.optim.adamw.AdamW'>, 'lr': 1e-05, 'weight_decay': 0, 'loss_fn': <class 'torch.nn.modules.loss.CrossEntropyLoss'>, 'num_epochs': 2}\n"
     ]
    },
    {
     "name": "stderr",
     "output_type": "stream",
     "text": [
      "                                                                               \r"
     ]
    },
    {
     "name": "stdout",
     "output_type": "stream",
     "text": [
      "0.5813953488372093\n",
      "not best... at 2025-06-13_21:06:02\n",
      "\n",
      "\n",
      "\n",
      "{'PH2': False, 'PH3': True, 'reducer': 'umap', 'kernel': '', 'n': 11, 'data_unit': 'Spv', 'label_col': 'class_numeric', 'class_list': 'two-classes', 'batch_size': 1024, 'seq_len': 12}\n",
      "{'arch': 'BERT', 'device': device(type='mps'), 'loadable': 'distilbert-base-uncased', 'optimizer': <class 'torch.optim.adamw.AdamW'>, 'lr': 1e-05, 'weight_decay': 0, 'loss_fn': <class 'torch.nn.modules.loss.CrossEntropyLoss'>, 'num_epochs': 2}\n"
     ]
    },
    {
     "name": "stderr",
     "output_type": "stream",
     "text": [
      "                                                                               \r"
     ]
    },
    {
     "name": "stdout",
     "output_type": "stream",
     "text": [
      "0.5116279069767442\n",
      "not best... at 2025-06-13_21:06:04\n",
      "\n",
      "\n",
      "\n",
      "{'PH2': False, 'PH3': True, 'reducer': 'pca', 'kernel': '', 'n': 13, 'data_unit': 'Spv', 'label_col': 'class_numeric', 'class_list': 'two-classes', 'batch_size': 1024, 'seq_len': 12}\n",
      "{'arch': 'BERT', 'device': device(type='mps'), 'loadable': 'distilbert-base-uncased', 'optimizer': <class 'torch.optim.adamw.AdamW'>, 'lr': 1e-05, 'weight_decay': 0, 'loss_fn': <class 'torch.nn.modules.loss.CrossEntropyLoss'>, 'num_epochs': 2}\n"
     ]
    },
    {
     "name": "stderr",
     "output_type": "stream",
     "text": [
      "                                                                               \r"
     ]
    },
    {
     "name": "stdout",
     "output_type": "stream",
     "text": [
      "0.5348837209302325\n",
      "not best... at 2025-06-13_21:06:06\n",
      "\n",
      "\n",
      "\n",
      "{'PH2': False, 'PH3': True, 'reducer': 'umap', 'kernel': '', 'n': 13, 'data_unit': 'Spv', 'label_col': 'class_numeric', 'class_list': 'two-classes', 'batch_size': 1024, 'seq_len': 12}\n",
      "{'arch': 'BERT', 'device': device(type='mps'), 'loadable': 'distilbert-base-uncased', 'optimizer': <class 'torch.optim.adamw.AdamW'>, 'lr': 1e-05, 'weight_decay': 0, 'loss_fn': <class 'torch.nn.modules.loss.CrossEntropyLoss'>, 'num_epochs': 2}\n"
     ]
    },
    {
     "name": "stderr",
     "output_type": "stream",
     "text": [
      "                                                                               \r"
     ]
    },
    {
     "name": "stdout",
     "output_type": "stream",
     "text": [
      "0.4883720930232558\n",
      "not best... at 2025-06-13_21:06:08\n",
      "\n",
      "\n",
      "\n",
      "{'PH2': False, 'PH3': True, 'reducer': 'pca', 'kernel': '', 'n': 15, 'data_unit': 'Spv', 'label_col': 'class_numeric', 'class_list': 'two-classes', 'batch_size': 1024, 'seq_len': 12}\n",
      "{'arch': 'BERT', 'device': device(type='mps'), 'loadable': 'distilbert-base-uncased', 'optimizer': <class 'torch.optim.adamw.AdamW'>, 'lr': 1e-05, 'weight_decay': 0, 'loss_fn': <class 'torch.nn.modules.loss.CrossEntropyLoss'>, 'num_epochs': 2}\n"
     ]
    },
    {
     "name": "stderr",
     "output_type": "stream",
     "text": [
      "                                                                               \r"
     ]
    },
    {
     "name": "stdout",
     "output_type": "stream",
     "text": [
      "0.5116279069767442\n",
      "not best... at 2025-06-13_21:06:10\n",
      "\n",
      "\n",
      "\n",
      "{'PH2': False, 'PH3': True, 'reducer': 'umap', 'kernel': '', 'n': 15, 'data_unit': 'Spv', 'label_col': 'class_numeric', 'class_list': 'two-classes', 'batch_size': 1024, 'seq_len': 12}\n",
      "{'arch': 'BERT', 'device': device(type='mps'), 'loadable': 'distilbert-base-uncased', 'optimizer': <class 'torch.optim.adamw.AdamW'>, 'lr': 1e-05, 'weight_decay': 0, 'loss_fn': <class 'torch.nn.modules.loss.CrossEntropyLoss'>, 'num_epochs': 2}\n"
     ]
    },
    {
     "name": "stderr",
     "output_type": "stream",
     "text": [
      "                                                                               \r"
     ]
    },
    {
     "name": "stdout",
     "output_type": "stream",
     "text": [
      "0.4883720930232558\n",
      "not best... at 2025-06-13_21:06:12\n",
      "\n",
      "\n",
      "\n",
      "{'PH2': False, 'PH3': False, 'reducer': '', 'kernel': '', 'n': 72, 'data_unit': 'Spv', 'label_col': 'class_numeric', 'class_list': 'two-classes', 'batch_size': 1024, 'seq_len': 12}\n",
      "{'arch': 'BERT', 'device': device(type='mps'), 'loadable': 'distilbert-base-uncased', 'optimizer': <class 'torch.optim.adamw.AdamW'>, 'lr': 1e-05, 'weight_decay': 0, 'loss_fn': <class 'torch.nn.modules.loss.CrossEntropyLoss'>, 'num_epochs': 2}\n"
     ]
    },
    {
     "name": "stderr",
     "output_type": "stream",
     "text": [
      "                                                                               \r"
     ]
    },
    {
     "name": "stdout",
     "output_type": "stream",
     "text": [
      "0.5116279069767442\n",
      "not best... at 2025-06-13_21:06:14\n",
      "\n",
      "\n",
      "\n",
      "Data Unit: Spv\n",
      "Best score: 0.7209302325581395\n",
      "Best data config: {'PH2': False, 'PH3': True, 'reducer': 'pca', 'kernel': '', 'n': 9, 'data_unit': 'Spv', 'label_col': 'class_numeric', 'class_list': 'two-classes', 'batch_size': 1024, 'seq_len': 12}\n",
      "Best train config: {'arch': 'BERT', 'device': device(type='mps'), 'loadable': 'distilbert-base-uncased', 'optimizer': <class 'torch.optim.adamw.AdamW'>, 'lr': 1e-05, 'weight_decay': 0, 'loss_fn': <class 'torch.nn.modules.loss.CrossEntropyLoss'>, 'num_epochs': 2}\n"
     ]
    }
   ],
   "source": [
    "bert.find_best(data_unit=sup.DATA_S_PV, label_col=sup.class_numeric_column, \n",
    "                    class_list=TRAIN_classes, batch_size=exploring_batch_size,\n",
    "                    LOADABLE_CANDIDATES=[exploringBERT], \n",
    "                    num_epochs_CANDIDATES=[exploring_num_epochs])"
   ]
  },
  {
   "cell_type": "code",
   "execution_count": 10,
   "id": "971b697a",
   "metadata": {},
   "outputs": [],
   "source": [
    "spv_bert_scores_df = pd.DataFrame(sup.bert_score_tracker, columns=sup.bert_scores_columns)\n",
    "now = datetime.now().strftime(\"%Y-%m-%d_%H:%M:%S\")\n",
    "sup.create_dir_if_not_exists(os.path.join(sup.TRAIN_SCORES_ROOT, TRAIN_classes, \n",
    "                                          sup.TRAIN_BERT_CODE,\n",
    "                                          sup.DATA_S_PV,\n",
    "                                          exploringBERT))\n",
    "spv_bert_scores_df.to_csv(os.path.join(sup.TRAIN_SCORES_ROOT, TRAIN_classes, \n",
    "                                       sup.TRAIN_BERT_CODE,\n",
    "                                       sup.DATA_S_PV,\n",
    "                                       exploringBERT, \n",
    "                                       f\"{now}.csv\"), index=False)"
   ]
  }
 ],
 "metadata": {
  "kernelspec": {
   "display_name": "TOG_BERT_v2",
   "language": "python",
   "name": "python3"
  },
  "language_info": {
   "codemirror_mode": {
    "name": "ipython",
    "version": 3
   },
   "file_extension": ".py",
   "mimetype": "text/x-python",
   "name": "python",
   "nbconvert_exporter": "python",
   "pygments_lexer": "ipython3",
   "version": "3.10.18"
  }
 },
 "nbformat": 4,
 "nbformat_minor": 5
}
