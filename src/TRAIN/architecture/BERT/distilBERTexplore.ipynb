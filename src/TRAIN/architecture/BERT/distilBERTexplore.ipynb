{
 "cells": [
  {
   "cell_type": "markdown",
   "id": "78b4d339",
   "metadata": {},
   "source": [
    "# Context\n",
    "This notebook drives the training process for different models."
   ]
  },
  {
   "cell_type": "code",
   "execution_count": 1,
   "id": "0328c1e3",
   "metadata": {},
   "outputs": [],
   "source": [
    "# Set project's environment variables\n",
    "import os\n",
    "import sys\n",
    "from dotenv import load_dotenv\n",
    "load_dotenv(dotenv_path=\"../../../project.env\")\n",
    "sys.path.append(os.environ[\"PYTHONPATH\"])"
   ]
  },
  {
   "cell_type": "code",
   "execution_count": 2,
   "id": "826105d7",
   "metadata": {},
   "outputs": [],
   "source": [
    "# Import project-wide and PH2 specific variables and functions\n",
    "import superheader as sup\n",
    "import TRAIN.architecture.BERT.bert as bert"
   ]
  },
  {
   "cell_type": "code",
   "execution_count": 3,
   "id": "9cec192f",
   "metadata": {},
   "outputs": [],
   "source": [
    "import pandas as pd\n",
    "from datetime import datetime"
   ]
  },
  {
   "cell_type": "code",
   "execution_count": 4,
   "id": "f5a0b34b",
   "metadata": {},
   "outputs": [],
   "source": [
    "TRAIN_classes = 'two-classes'\n",
    "exploringBERT = bert.DISTILBERT\n",
    "exploring_num_epochs_spf = 9\n",
    "exploring_num_epochs_spv = 36\n",
    "exploring_batch_size = 1024"
   ]
  },
  {
   "cell_type": "markdown",
   "id": "4398ce40",
   "metadata": {},
   "source": [
    "# Model training"
   ]
  },
  {
   "cell_type": "markdown",
   "id": "c820d26e",
   "metadata": {},
   "source": [
    "## Sign prediction"
   ]
  },
  {
   "cell_type": "markdown",
   "id": "ebed4241",
   "metadata": {},
   "source": [
    "### Spf"
   ]
  },
  {
   "cell_type": "code",
   "execution_count": 5,
   "id": "8e5d42b3",
   "metadata": {},
   "outputs": [],
   "source": [
    "sup.bert_score_tracker = []"
   ]
  },
  {
   "cell_type": "code",
   "execution_count": 6,
   "id": "4c243c5c",
   "metadata": {},
   "outputs": [
    {
     "name": "stdout",
     "output_type": "stream",
     "text": [
      "{'data_unit': 'Spf', 'PH2': True, 'PH3': True, 'reducer': 'pca', 'kernel': '', 'n': 1, 'label_col': 'class_numeric', 'class_list': 'two-classes', 'batch_size': 1024}\n",
      "{'arch': 'BERT', 'device': device(type='mps'), 'loadable': 'distilbert-base-uncased', 'optimizer': <class 'torch.optim.adamw.AdamW'>, 'lr': 1e-05, 'weight_decay': 0, 'loss_fn': <class 'torch.nn.modules.loss.CrossEntropyLoss'>, 'num_epochs': 9}\n"
     ]
    },
    {
     "name": "stderr",
     "output_type": "stream",
     "text": [
      "                                                                              \r"
     ]
    },
    {
     "name": "stdout",
     "output_type": "stream",
     "text": [
      "0.53515625\n",
      "updating best... at 2025-06-14_10:25:49\n",
      "\n",
      "\n",
      "\n",
      "{'data_unit': 'Spf', 'PH2': True, 'PH3': True, 'reducer': 'umap', 'kernel': '', 'n': 1, 'label_col': 'class_numeric', 'class_list': 'two-classes', 'batch_size': 1024}\n",
      "{'arch': 'BERT', 'device': device(type='mps'), 'loadable': 'distilbert-base-uncased', 'optimizer': <class 'torch.optim.adamw.AdamW'>, 'lr': 1e-05, 'weight_decay': 0, 'loss_fn': <class 'torch.nn.modules.loss.CrossEntropyLoss'>, 'num_epochs': 9}\n"
     ]
    },
    {
     "name": "stderr",
     "output_type": "stream",
     "text": [
      "                                                                              \r"
     ]
    },
    {
     "name": "stdout",
     "output_type": "stream",
     "text": [
      "0.609375\n",
      "updating best... at 2025-06-14_10:25:55\n",
      "\n",
      "\n",
      "\n",
      "{'data_unit': 'Spf', 'PH2': True, 'PH3': True, 'reducer': 'pca', 'kernel': '', 'n': 3, 'label_col': 'class_numeric', 'class_list': 'two-classes', 'batch_size': 1024}\n",
      "{'arch': 'BERT', 'device': device(type='mps'), 'loadable': 'distilbert-base-uncased', 'optimizer': <class 'torch.optim.adamw.AdamW'>, 'lr': 1e-05, 'weight_decay': 0, 'loss_fn': <class 'torch.nn.modules.loss.CrossEntropyLoss'>, 'num_epochs': 9}\n"
     ]
    },
    {
     "name": "stderr",
     "output_type": "stream",
     "text": [
      "                                                                              \r"
     ]
    },
    {
     "name": "stdout",
     "output_type": "stream",
     "text": [
      "0.73046875\n",
      "updating best... at 2025-06-14_10:26:01\n",
      "\n",
      "\n",
      "\n",
      "{'data_unit': 'Spf', 'PH2': True, 'PH3': True, 'reducer': 'umap', 'kernel': '', 'n': 3, 'label_col': 'class_numeric', 'class_list': 'two-classes', 'batch_size': 1024}\n",
      "{'arch': 'BERT', 'device': device(type='mps'), 'loadable': 'distilbert-base-uncased', 'optimizer': <class 'torch.optim.adamw.AdamW'>, 'lr': 1e-05, 'weight_decay': 0, 'loss_fn': <class 'torch.nn.modules.loss.CrossEntropyLoss'>, 'num_epochs': 9}\n"
     ]
    },
    {
     "name": "stderr",
     "output_type": "stream",
     "text": [
      "                                                                              \r"
     ]
    },
    {
     "name": "stdout",
     "output_type": "stream",
     "text": [
      "0.703125\n",
      "not best... at 2025-06-14_10:26:06\n",
      "\n",
      "\n",
      "\n",
      "{'data_unit': 'Spf', 'PH2': True, 'PH3': True, 'reducer': 'pca', 'kernel': '', 'n': 5, 'label_col': 'class_numeric', 'class_list': 'two-classes', 'batch_size': 1024}\n",
      "{'arch': 'BERT', 'device': device(type='mps'), 'loadable': 'distilbert-base-uncased', 'optimizer': <class 'torch.optim.adamw.AdamW'>, 'lr': 1e-05, 'weight_decay': 0, 'loss_fn': <class 'torch.nn.modules.loss.CrossEntropyLoss'>, 'num_epochs': 9}\n"
     ]
    },
    {
     "name": "stderr",
     "output_type": "stream",
     "text": [
      "                                                                              \r"
     ]
    },
    {
     "name": "stdout",
     "output_type": "stream",
     "text": [
      "0.720703125\n",
      "not best... at 2025-06-14_10:26:11\n",
      "\n",
      "\n",
      "\n",
      "{'data_unit': 'Spf', 'PH2': True, 'PH3': True, 'reducer': 'umap', 'kernel': '', 'n': 5, 'label_col': 'class_numeric', 'class_list': 'two-classes', 'batch_size': 1024}\n",
      "{'arch': 'BERT', 'device': device(type='mps'), 'loadable': 'distilbert-base-uncased', 'optimizer': <class 'torch.optim.adamw.AdamW'>, 'lr': 1e-05, 'weight_decay': 0, 'loss_fn': <class 'torch.nn.modules.loss.CrossEntropyLoss'>, 'num_epochs': 9}\n"
     ]
    },
    {
     "name": "stderr",
     "output_type": "stream",
     "text": [
      "                                                                              \r"
     ]
    },
    {
     "name": "stdout",
     "output_type": "stream",
     "text": [
      "0.537109375\n",
      "not best... at 2025-06-14_10:26:16\n",
      "\n",
      "\n",
      "\n",
      "{'data_unit': 'Spf', 'PH2': True, 'PH3': True, 'reducer': 'pca', 'kernel': '', 'n': 7, 'label_col': 'class_numeric', 'class_list': 'two-classes', 'batch_size': 1024}\n",
      "{'arch': 'BERT', 'device': device(type='mps'), 'loadable': 'distilbert-base-uncased', 'optimizer': <class 'torch.optim.adamw.AdamW'>, 'lr': 1e-05, 'weight_decay': 0, 'loss_fn': <class 'torch.nn.modules.loss.CrossEntropyLoss'>, 'num_epochs': 9}\n"
     ]
    },
    {
     "name": "stderr",
     "output_type": "stream",
     "text": [
      "                                                                              \r"
     ]
    },
    {
     "name": "stdout",
     "output_type": "stream",
     "text": [
      "0.736328125\n",
      "updating best... at 2025-06-14_10:26:21\n",
      "\n",
      "\n",
      "\n",
      "{'data_unit': 'Spf', 'PH2': True, 'PH3': True, 'reducer': 'umap', 'kernel': '', 'n': 7, 'label_col': 'class_numeric', 'class_list': 'two-classes', 'batch_size': 1024}\n",
      "{'arch': 'BERT', 'device': device(type='mps'), 'loadable': 'distilbert-base-uncased', 'optimizer': <class 'torch.optim.adamw.AdamW'>, 'lr': 1e-05, 'weight_decay': 0, 'loss_fn': <class 'torch.nn.modules.loss.CrossEntropyLoss'>, 'num_epochs': 9}\n"
     ]
    },
    {
     "name": "stderr",
     "output_type": "stream",
     "text": [
      "                                                                              \r"
     ]
    },
    {
     "name": "stdout",
     "output_type": "stream",
     "text": [
      "0.599609375\n",
      "not best... at 2025-06-14_10:26:27\n",
      "\n",
      "\n",
      "\n",
      "{'data_unit': 'Spf', 'PH2': True, 'PH3': True, 'reducer': 'pca', 'kernel': '', 'n': 9, 'label_col': 'class_numeric', 'class_list': 'two-classes', 'batch_size': 1024}\n",
      "{'arch': 'BERT', 'device': device(type='mps'), 'loadable': 'distilbert-base-uncased', 'optimizer': <class 'torch.optim.adamw.AdamW'>, 'lr': 1e-05, 'weight_decay': 0, 'loss_fn': <class 'torch.nn.modules.loss.CrossEntropyLoss'>, 'num_epochs': 9}\n"
     ]
    },
    {
     "name": "stderr",
     "output_type": "stream",
     "text": [
      "                                                                              \r"
     ]
    },
    {
     "name": "stdout",
     "output_type": "stream",
     "text": [
      "0.6328125\n",
      "not best... at 2025-06-14_10:26:32\n",
      "\n",
      "\n",
      "\n",
      "{'data_unit': 'Spf', 'PH2': True, 'PH3': True, 'reducer': 'umap', 'kernel': '', 'n': 9, 'label_col': 'class_numeric', 'class_list': 'two-classes', 'batch_size': 1024}\n",
      "{'arch': 'BERT', 'device': device(type='mps'), 'loadable': 'distilbert-base-uncased', 'optimizer': <class 'torch.optim.adamw.AdamW'>, 'lr': 1e-05, 'weight_decay': 0, 'loss_fn': <class 'torch.nn.modules.loss.CrossEntropyLoss'>, 'num_epochs': 9}\n"
     ]
    },
    {
     "name": "stderr",
     "output_type": "stream",
     "text": [
      "                                                                              \r"
     ]
    },
    {
     "name": "stdout",
     "output_type": "stream",
     "text": [
      "0.65234375\n",
      "not best... at 2025-06-14_10:26:37\n",
      "\n",
      "\n",
      "\n",
      "{'data_unit': 'Spf', 'PH2': True, 'PH3': True, 'reducer': 'pca', 'kernel': '', 'n': 11, 'label_col': 'class_numeric', 'class_list': 'two-classes', 'batch_size': 1024}\n",
      "{'arch': 'BERT', 'device': device(type='mps'), 'loadable': 'distilbert-base-uncased', 'optimizer': <class 'torch.optim.adamw.AdamW'>, 'lr': 1e-05, 'weight_decay': 0, 'loss_fn': <class 'torch.nn.modules.loss.CrossEntropyLoss'>, 'num_epochs': 9}\n"
     ]
    },
    {
     "name": "stderr",
     "output_type": "stream",
     "text": [
      "                                                                              \r"
     ]
    },
    {
     "name": "stdout",
     "output_type": "stream",
     "text": [
      "0.73828125\n",
      "updating best... at 2025-06-14_10:26:42\n",
      "\n",
      "\n",
      "\n",
      "{'data_unit': 'Spf', 'PH2': True, 'PH3': True, 'reducer': 'umap', 'kernel': '', 'n': 11, 'label_col': 'class_numeric', 'class_list': 'two-classes', 'batch_size': 1024}\n",
      "{'arch': 'BERT', 'device': device(type='mps'), 'loadable': 'distilbert-base-uncased', 'optimizer': <class 'torch.optim.adamw.AdamW'>, 'lr': 1e-05, 'weight_decay': 0, 'loss_fn': <class 'torch.nn.modules.loss.CrossEntropyLoss'>, 'num_epochs': 9}\n"
     ]
    },
    {
     "name": "stderr",
     "output_type": "stream",
     "text": [
      "                                                                              \r"
     ]
    },
    {
     "name": "stdout",
     "output_type": "stream",
     "text": [
      "0.61328125\n",
      "not best... at 2025-06-14_10:26:48\n",
      "\n",
      "\n",
      "\n",
      "{'data_unit': 'Spf', 'PH2': True, 'PH3': True, 'reducer': 'pca', 'kernel': '', 'n': 13, 'label_col': 'class_numeric', 'class_list': 'two-classes', 'batch_size': 1024}\n",
      "{'arch': 'BERT', 'device': device(type='mps'), 'loadable': 'distilbert-base-uncased', 'optimizer': <class 'torch.optim.adamw.AdamW'>, 'lr': 1e-05, 'weight_decay': 0, 'loss_fn': <class 'torch.nn.modules.loss.CrossEntropyLoss'>, 'num_epochs': 9}\n"
     ]
    },
    {
     "name": "stderr",
     "output_type": "stream",
     "text": [
      "                                                                              \r"
     ]
    },
    {
     "name": "stdout",
     "output_type": "stream",
     "text": [
      "0.6484375\n",
      "not best... at 2025-06-14_10:26:53\n",
      "\n",
      "\n",
      "\n",
      "{'data_unit': 'Spf', 'PH2': True, 'PH3': True, 'reducer': 'umap', 'kernel': '', 'n': 13, 'label_col': 'class_numeric', 'class_list': 'two-classes', 'batch_size': 1024}\n",
      "{'arch': 'BERT', 'device': device(type='mps'), 'loadable': 'distilbert-base-uncased', 'optimizer': <class 'torch.optim.adamw.AdamW'>, 'lr': 1e-05, 'weight_decay': 0, 'loss_fn': <class 'torch.nn.modules.loss.CrossEntropyLoss'>, 'num_epochs': 9}\n"
     ]
    },
    {
     "name": "stderr",
     "output_type": "stream",
     "text": [
      "                                                                              \r"
     ]
    },
    {
     "name": "stdout",
     "output_type": "stream",
     "text": [
      "0.708984375\n",
      "not best... at 2025-06-14_10:26:58\n",
      "\n",
      "\n",
      "\n",
      "{'data_unit': 'Spf', 'PH2': True, 'PH3': True, 'reducer': 'pca', 'kernel': '', 'n': 15, 'label_col': 'class_numeric', 'class_list': 'two-classes', 'batch_size': 1024}\n",
      "{'arch': 'BERT', 'device': device(type='mps'), 'loadable': 'distilbert-base-uncased', 'optimizer': <class 'torch.optim.adamw.AdamW'>, 'lr': 1e-05, 'weight_decay': 0, 'loss_fn': <class 'torch.nn.modules.loss.CrossEntropyLoss'>, 'num_epochs': 9}\n"
     ]
    },
    {
     "name": "stderr",
     "output_type": "stream",
     "text": [
      "                                                                              \r"
     ]
    },
    {
     "name": "stdout",
     "output_type": "stream",
     "text": [
      "0.76171875\n",
      "updating best... at 2025-06-14_10:27:03\n",
      "\n",
      "\n",
      "\n",
      "{'data_unit': 'Spf', 'PH2': True, 'PH3': True, 'reducer': 'umap', 'kernel': '', 'n': 15, 'label_col': 'class_numeric', 'class_list': 'two-classes', 'batch_size': 1024}\n",
      "{'arch': 'BERT', 'device': device(type='mps'), 'loadable': 'distilbert-base-uncased', 'optimizer': <class 'torch.optim.adamw.AdamW'>, 'lr': 1e-05, 'weight_decay': 0, 'loss_fn': <class 'torch.nn.modules.loss.CrossEntropyLoss'>, 'num_epochs': 9}\n"
     ]
    },
    {
     "name": "stderr",
     "output_type": "stream",
     "text": [
      "                                                                              \r"
     ]
    },
    {
     "name": "stdout",
     "output_type": "stream",
     "text": [
      "0.654296875\n",
      "not best... at 2025-06-14_10:27:09\n",
      "\n",
      "\n",
      "\n",
      "{'data_unit': 'Spf', 'PH2': True, 'PH3': False, 'reducer': '', 'kernel': '', 'n': 75, 'label_col': 'class_numeric', 'class_list': 'two-classes', 'batch_size': 1024}\n",
      "{'arch': 'BERT', 'device': device(type='mps'), 'loadable': 'distilbert-base-uncased', 'optimizer': <class 'torch.optim.adamw.AdamW'>, 'lr': 1e-05, 'weight_decay': 0, 'loss_fn': <class 'torch.nn.modules.loss.CrossEntropyLoss'>, 'num_epochs': 9}\n"
     ]
    },
    {
     "name": "stderr",
     "output_type": "stream",
     "text": [
      "                                                                              \r"
     ]
    },
    {
     "name": "stdout",
     "output_type": "stream",
     "text": [
      "0.630859375\n",
      "not best... at 2025-06-14_10:27:15\n",
      "\n",
      "\n",
      "\n",
      "{'data_unit': 'Spf', 'PH2': False, 'PH3': True, 'reducer': 'pca', 'kernel': '', 'n': 1, 'label_col': 'class_numeric', 'class_list': 'two-classes', 'batch_size': 1024}\n",
      "{'arch': 'BERT', 'device': device(type='mps'), 'loadable': 'distilbert-base-uncased', 'optimizer': <class 'torch.optim.adamw.AdamW'>, 'lr': 1e-05, 'weight_decay': 0, 'loss_fn': <class 'torch.nn.modules.loss.CrossEntropyLoss'>, 'num_epochs': 9}\n"
     ]
    },
    {
     "name": "stderr",
     "output_type": "stream",
     "text": [
      "                                                                              \r"
     ]
    },
    {
     "name": "stdout",
     "output_type": "stream",
     "text": [
      "0.669921875\n",
      "not best... at 2025-06-14_10:27:20\n",
      "\n",
      "\n",
      "\n",
      "{'data_unit': 'Spf', 'PH2': False, 'PH3': True, 'reducer': 'umap', 'kernel': '', 'n': 1, 'label_col': 'class_numeric', 'class_list': 'two-classes', 'batch_size': 1024}\n",
      "{'arch': 'BERT', 'device': device(type='mps'), 'loadable': 'distilbert-base-uncased', 'optimizer': <class 'torch.optim.adamw.AdamW'>, 'lr': 1e-05, 'weight_decay': 0, 'loss_fn': <class 'torch.nn.modules.loss.CrossEntropyLoss'>, 'num_epochs': 9}\n"
     ]
    },
    {
     "name": "stderr",
     "output_type": "stream",
     "text": [
      "                                                                              \r"
     ]
    },
    {
     "name": "stdout",
     "output_type": "stream",
     "text": [
      "0.58203125\n",
      "not best... at 2025-06-14_10:27:25\n",
      "\n",
      "\n",
      "\n",
      "{'data_unit': 'Spf', 'PH2': False, 'PH3': True, 'reducer': 'pca', 'kernel': '', 'n': 3, 'label_col': 'class_numeric', 'class_list': 'two-classes', 'batch_size': 1024}\n",
      "{'arch': 'BERT', 'device': device(type='mps'), 'loadable': 'distilbert-base-uncased', 'optimizer': <class 'torch.optim.adamw.AdamW'>, 'lr': 1e-05, 'weight_decay': 0, 'loss_fn': <class 'torch.nn.modules.loss.CrossEntropyLoss'>, 'num_epochs': 9}\n"
     ]
    },
    {
     "name": "stderr",
     "output_type": "stream",
     "text": [
      "                                                                              \r"
     ]
    },
    {
     "name": "stdout",
     "output_type": "stream",
     "text": [
      "0.697265625\n",
      "not best... at 2025-06-14_10:27:30\n",
      "\n",
      "\n",
      "\n",
      "{'data_unit': 'Spf', 'PH2': False, 'PH3': True, 'reducer': 'umap', 'kernel': '', 'n': 3, 'label_col': 'class_numeric', 'class_list': 'two-classes', 'batch_size': 1024}\n",
      "{'arch': 'BERT', 'device': device(type='mps'), 'loadable': 'distilbert-base-uncased', 'optimizer': <class 'torch.optim.adamw.AdamW'>, 'lr': 1e-05, 'weight_decay': 0, 'loss_fn': <class 'torch.nn.modules.loss.CrossEntropyLoss'>, 'num_epochs': 9}\n"
     ]
    },
    {
     "name": "stderr",
     "output_type": "stream",
     "text": [
      "                                                                              \r"
     ]
    },
    {
     "name": "stdout",
     "output_type": "stream",
     "text": [
      "0.619140625\n",
      "not best... at 2025-06-14_10:27:35\n",
      "\n",
      "\n",
      "\n",
      "{'data_unit': 'Spf', 'PH2': False, 'PH3': True, 'reducer': 'pca', 'kernel': '', 'n': 5, 'label_col': 'class_numeric', 'class_list': 'two-classes', 'batch_size': 1024}\n",
      "{'arch': 'BERT', 'device': device(type='mps'), 'loadable': 'distilbert-base-uncased', 'optimizer': <class 'torch.optim.adamw.AdamW'>, 'lr': 1e-05, 'weight_decay': 0, 'loss_fn': <class 'torch.nn.modules.loss.CrossEntropyLoss'>, 'num_epochs': 9}\n"
     ]
    },
    {
     "name": "stderr",
     "output_type": "stream",
     "text": [
      "                                                                              \r"
     ]
    },
    {
     "name": "stdout",
     "output_type": "stream",
     "text": [
      "0.7578125\n",
      "not best... at 2025-06-14_10:27:39\n",
      "\n",
      "\n",
      "\n",
      "{'data_unit': 'Spf', 'PH2': False, 'PH3': True, 'reducer': 'umap', 'kernel': '', 'n': 5, 'label_col': 'class_numeric', 'class_list': 'two-classes', 'batch_size': 1024}\n",
      "{'arch': 'BERT', 'device': device(type='mps'), 'loadable': 'distilbert-base-uncased', 'optimizer': <class 'torch.optim.adamw.AdamW'>, 'lr': 1e-05, 'weight_decay': 0, 'loss_fn': <class 'torch.nn.modules.loss.CrossEntropyLoss'>, 'num_epochs': 9}\n"
     ]
    },
    {
     "name": "stderr",
     "output_type": "stream",
     "text": [
      "                                                                              \r"
     ]
    },
    {
     "name": "stdout",
     "output_type": "stream",
     "text": [
      "0.626953125\n",
      "not best... at 2025-06-14_10:27:44\n",
      "\n",
      "\n",
      "\n",
      "{'data_unit': 'Spf', 'PH2': False, 'PH3': True, 'reducer': 'pca', 'kernel': '', 'n': 7, 'label_col': 'class_numeric', 'class_list': 'two-classes', 'batch_size': 1024}\n",
      "{'arch': 'BERT', 'device': device(type='mps'), 'loadable': 'distilbert-base-uncased', 'optimizer': <class 'torch.optim.adamw.AdamW'>, 'lr': 1e-05, 'weight_decay': 0, 'loss_fn': <class 'torch.nn.modules.loss.CrossEntropyLoss'>, 'num_epochs': 9}\n"
     ]
    },
    {
     "name": "stderr",
     "output_type": "stream",
     "text": [
      "                                                                              \r"
     ]
    },
    {
     "name": "stdout",
     "output_type": "stream",
     "text": [
      "0.7734375\n",
      "updating best... at 2025-06-14_10:27:49\n",
      "\n",
      "\n",
      "\n",
      "{'data_unit': 'Spf', 'PH2': False, 'PH3': True, 'reducer': 'umap', 'kernel': '', 'n': 7, 'label_col': 'class_numeric', 'class_list': 'two-classes', 'batch_size': 1024}\n",
      "{'arch': 'BERT', 'device': device(type='mps'), 'loadable': 'distilbert-base-uncased', 'optimizer': <class 'torch.optim.adamw.AdamW'>, 'lr': 1e-05, 'weight_decay': 0, 'loss_fn': <class 'torch.nn.modules.loss.CrossEntropyLoss'>, 'num_epochs': 9}\n"
     ]
    },
    {
     "name": "stderr",
     "output_type": "stream",
     "text": [
      "                                                                              \r"
     ]
    },
    {
     "name": "stdout",
     "output_type": "stream",
     "text": [
      "0.599609375\n",
      "not best... at 2025-06-14_10:27:55\n",
      "\n",
      "\n",
      "\n",
      "{'data_unit': 'Spf', 'PH2': False, 'PH3': True, 'reducer': 'pca', 'kernel': '', 'n': 9, 'label_col': 'class_numeric', 'class_list': 'two-classes', 'batch_size': 1024}\n",
      "{'arch': 'BERT', 'device': device(type='mps'), 'loadable': 'distilbert-base-uncased', 'optimizer': <class 'torch.optim.adamw.AdamW'>, 'lr': 1e-05, 'weight_decay': 0, 'loss_fn': <class 'torch.nn.modules.loss.CrossEntropyLoss'>, 'num_epochs': 9}\n"
     ]
    },
    {
     "name": "stderr",
     "output_type": "stream",
     "text": [
      "                                                                               \r"
     ]
    },
    {
     "name": "stdout",
     "output_type": "stream",
     "text": [
      "0.880859375\n",
      "updating best... at 2025-06-14_10:28:00\n",
      "\n",
      "\n",
      "\n",
      "{'data_unit': 'Spf', 'PH2': False, 'PH3': True, 'reducer': 'umap', 'kernel': '', 'n': 9, 'label_col': 'class_numeric', 'class_list': 'two-classes', 'batch_size': 1024}\n",
      "{'arch': 'BERT', 'device': device(type='mps'), 'loadable': 'distilbert-base-uncased', 'optimizer': <class 'torch.optim.adamw.AdamW'>, 'lr': 1e-05, 'weight_decay': 0, 'loss_fn': <class 'torch.nn.modules.loss.CrossEntropyLoss'>, 'num_epochs': 9}\n"
     ]
    },
    {
     "name": "stderr",
     "output_type": "stream",
     "text": [
      "                                                                              \r"
     ]
    },
    {
     "name": "stdout",
     "output_type": "stream",
     "text": [
      "0.619140625\n",
      "not best... at 2025-06-14_10:28:06\n",
      "\n",
      "\n",
      "\n",
      "{'data_unit': 'Spf', 'PH2': False, 'PH3': True, 'reducer': 'pca', 'kernel': '', 'n': 11, 'label_col': 'class_numeric', 'class_list': 'two-classes', 'batch_size': 1024}\n",
      "{'arch': 'BERT', 'device': device(type='mps'), 'loadable': 'distilbert-base-uncased', 'optimizer': <class 'torch.optim.adamw.AdamW'>, 'lr': 1e-05, 'weight_decay': 0, 'loss_fn': <class 'torch.nn.modules.loss.CrossEntropyLoss'>, 'num_epochs': 9}\n"
     ]
    },
    {
     "name": "stderr",
     "output_type": "stream",
     "text": [
      "                                                                               \r"
     ]
    },
    {
     "name": "stdout",
     "output_type": "stream",
     "text": [
      "0.884765625\n",
      "updating best... at 2025-06-14_10:28:11\n",
      "\n",
      "\n",
      "\n",
      "{'data_unit': 'Spf', 'PH2': False, 'PH3': True, 'reducer': 'umap', 'kernel': '', 'n': 11, 'label_col': 'class_numeric', 'class_list': 'two-classes', 'batch_size': 1024}\n",
      "{'arch': 'BERT', 'device': device(type='mps'), 'loadable': 'distilbert-base-uncased', 'optimizer': <class 'torch.optim.adamw.AdamW'>, 'lr': 1e-05, 'weight_decay': 0, 'loss_fn': <class 'torch.nn.modules.loss.CrossEntropyLoss'>, 'num_epochs': 9}\n"
     ]
    },
    {
     "name": "stderr",
     "output_type": "stream",
     "text": [
      "                                                                              \r"
     ]
    },
    {
     "name": "stdout",
     "output_type": "stream",
     "text": [
      "0.626953125\n",
      "not best... at 2025-06-14_10:28:17\n",
      "\n",
      "\n",
      "\n",
      "{'data_unit': 'Spf', 'PH2': False, 'PH3': True, 'reducer': 'pca', 'kernel': '', 'n': 13, 'label_col': 'class_numeric', 'class_list': 'two-classes', 'batch_size': 1024}\n",
      "{'arch': 'BERT', 'device': device(type='mps'), 'loadable': 'distilbert-base-uncased', 'optimizer': <class 'torch.optim.adamw.AdamW'>, 'lr': 1e-05, 'weight_decay': 0, 'loss_fn': <class 'torch.nn.modules.loss.CrossEntropyLoss'>, 'num_epochs': 9}\n"
     ]
    },
    {
     "name": "stderr",
     "output_type": "stream",
     "text": [
      "                                                                               \r"
     ]
    },
    {
     "name": "stdout",
     "output_type": "stream",
     "text": [
      "0.853515625\n",
      "not best... at 2025-06-14_10:28:22\n",
      "\n",
      "\n",
      "\n",
      "{'data_unit': 'Spf', 'PH2': False, 'PH3': True, 'reducer': 'umap', 'kernel': '', 'n': 13, 'label_col': 'class_numeric', 'class_list': 'two-classes', 'batch_size': 1024}\n",
      "{'arch': 'BERT', 'device': device(type='mps'), 'loadable': 'distilbert-base-uncased', 'optimizer': <class 'torch.optim.adamw.AdamW'>, 'lr': 1e-05, 'weight_decay': 0, 'loss_fn': <class 'torch.nn.modules.loss.CrossEntropyLoss'>, 'num_epochs': 9}\n"
     ]
    },
    {
     "name": "stderr",
     "output_type": "stream",
     "text": [
      "/Users/diego/miniconda3/envs/TOG_BERT_v2/lib/python3.10/site-packages/sklearn/metrics/_classification.py:1706: UndefinedMetricWarning: Precision is ill-defined and being set to 0.0 in labels with no predicted samples. Use `zero_division` parameter to control this behavior.\n",
      "  _warn_prf(average, modifier, f\"{metric.capitalize()} is\", result.shape[0])\n"
     ]
    },
    {
     "name": "stdout",
     "output_type": "stream",
     "text": [
      "0.51171875\n",
      "not best... at 2025-06-14_10:28:27\n",
      "\n",
      "\n",
      "\n",
      "{'data_unit': 'Spf', 'PH2': False, 'PH3': True, 'reducer': 'pca', 'kernel': '', 'n': 15, 'label_col': 'class_numeric', 'class_list': 'two-classes', 'batch_size': 1024}\n",
      "{'arch': 'BERT', 'device': device(type='mps'), 'loadable': 'distilbert-base-uncased', 'optimizer': <class 'torch.optim.adamw.AdamW'>, 'lr': 1e-05, 'weight_decay': 0, 'loss_fn': <class 'torch.nn.modules.loss.CrossEntropyLoss'>, 'num_epochs': 9}\n"
     ]
    },
    {
     "name": "stderr",
     "output_type": "stream",
     "text": [
      "                                                                               \r"
     ]
    },
    {
     "name": "stdout",
     "output_type": "stream",
     "text": [
      "0.876953125\n",
      "not best... at 2025-06-14_10:28:32\n",
      "\n",
      "\n",
      "\n",
      "{'data_unit': 'Spf', 'PH2': False, 'PH3': True, 'reducer': 'umap', 'kernel': '', 'n': 15, 'label_col': 'class_numeric', 'class_list': 'two-classes', 'batch_size': 1024}\n",
      "{'arch': 'BERT', 'device': device(type='mps'), 'loadable': 'distilbert-base-uncased', 'optimizer': <class 'torch.optim.adamw.AdamW'>, 'lr': 1e-05, 'weight_decay': 0, 'loss_fn': <class 'torch.nn.modules.loss.CrossEntropyLoss'>, 'num_epochs': 9}\n"
     ]
    },
    {
     "name": "stderr",
     "output_type": "stream",
     "text": [
      "                                                                              \r"
     ]
    },
    {
     "name": "stdout",
     "output_type": "stream",
     "text": [
      "0.666015625\n",
      "not best... at 2025-06-14_10:28:37\n",
      "\n",
      "\n",
      "\n",
      "{'data_unit': 'Spf', 'PH2': False, 'PH3': False, 'reducer': '', 'kernel': '', 'n': 72, 'label_col': 'class_numeric', 'class_list': 'two-classes', 'batch_size': 1024}\n",
      "{'arch': 'BERT', 'device': device(type='mps'), 'loadable': 'distilbert-base-uncased', 'optimizer': <class 'torch.optim.adamw.AdamW'>, 'lr': 1e-05, 'weight_decay': 0, 'loss_fn': <class 'torch.nn.modules.loss.CrossEntropyLoss'>, 'num_epochs': 9}\n"
     ]
    },
    {
     "name": "stderr",
     "output_type": "stream",
     "text": [
      "                                                                              \r"
     ]
    },
    {
     "name": "stdout",
     "output_type": "stream",
     "text": [
      "0.693359375\n",
      "not best... at 2025-06-14_10:28:43\n",
      "\n",
      "\n",
      "\n",
      "Data Unit: Spf\n",
      "Best score: 0.884765625\n",
      "Best data config: {'data_unit': 'Spf', 'PH2': False, 'PH3': True, 'reducer': 'pca', 'kernel': '', 'n': 11, 'label_col': 'class_numeric', 'class_list': 'two-classes', 'batch_size': 1024}\n",
      "Best train config: {'arch': 'BERT', 'device': device(type='mps'), 'loadable': 'distilbert-base-uncased', 'optimizer': <class 'torch.optim.adamw.AdamW'>, 'lr': 1e-05, 'weight_decay': 0, 'loss_fn': <class 'torch.nn.modules.loss.CrossEntropyLoss'>, 'num_epochs': 9}\n"
     ]
    }
   ],
   "source": [
    "bert.find_best(data_unit=sup.DATA_S_PF, label_col=sup.class_numeric_column, \n",
    "                    class_list=TRAIN_classes, batch_size=exploring_batch_size,\n",
    "                    LOADABLE_CANDIDATES=[exploringBERT], \n",
    "                    num_epochs_CANDIDATES=[exploring_num_epochs_spf])"
   ]
  },
  {
   "cell_type": "code",
   "execution_count": 7,
   "id": "f3148a43",
   "metadata": {},
   "outputs": [],
   "source": [
    "spf_bert_scores_df = pd.DataFrame(sup.bert_score_tracker, columns=sup.bert_scores_columns)\n",
    "now = datetime.now().strftime(\"%Y-%m-%d_%H:%M:%S\")\n",
    "sup.create_dir_if_not_exists(os.path.join(sup.TRAIN_SCORES_ROOT, TRAIN_classes, \n",
    "                                          sup.TRAIN_BERT_CODE,\n",
    "                                          sup.DATA_S_PF,\n",
    "                                          exploringBERT))\n",
    "spf_bert_scores_df.to_csv(os.path.join(sup.TRAIN_SCORES_ROOT, TRAIN_classes, \n",
    "                                       sup.TRAIN_BERT_CODE,\n",
    "                                       sup.DATA_S_PF,\n",
    "                                       exploringBERT, \n",
    "                                       f\"{now}.csv\"), index=False)"
   ]
  },
  {
   "cell_type": "markdown",
   "id": "78fbf302",
   "metadata": {},
   "source": [
    "### Spv"
   ]
  },
  {
   "cell_type": "code",
   "execution_count": 8,
   "id": "454b403b",
   "metadata": {},
   "outputs": [],
   "source": [
    "sup.bert_score_tracker = []\n"
   ]
  },
  {
   "cell_type": "code",
   "execution_count": 9,
   "id": "c92362f9",
   "metadata": {},
   "outputs": [
    {
     "name": "stdout",
     "output_type": "stream",
     "text": [
      "{'data_unit': 'Spv', 'PH2': True, 'PH3': True, 'reducer': 'pca', 'kernel': '', 'n': 1, 'label_col': 'class_numeric', 'class_list': 'two-classes', 'batch_size': 1024}\n",
      "{'arch': 'BERT', 'device': device(type='mps'), 'loadable': 'distilbert-base-uncased', 'optimizer': <class 'torch.optim.adamw.AdamW'>, 'lr': 1e-05, 'weight_decay': 0, 'loss_fn': <class 'torch.nn.modules.loss.CrossEntropyLoss'>, 'num_epochs': 36}\n"
     ]
    },
    {
     "name": "stderr",
     "output_type": "stream",
     "text": [
      "                                                                                  \r"
     ]
    },
    {
     "name": "stdout",
     "output_type": "stream",
     "text": [
      "0.6046511627906976\n",
      "updating best... at 2025-06-14_10:29:01\n",
      "\n",
      "\n",
      "\n",
      "{'data_unit': 'Spv', 'PH2': True, 'PH3': True, 'reducer': 'umap', 'kernel': '', 'n': 1, 'label_col': 'class_numeric', 'class_list': 'two-classes', 'batch_size': 1024}\n",
      "{'arch': 'BERT', 'device': device(type='mps'), 'loadable': 'distilbert-base-uncased', 'optimizer': <class 'torch.optim.adamw.AdamW'>, 'lr': 1e-05, 'weight_decay': 0, 'loss_fn': <class 'torch.nn.modules.loss.CrossEntropyLoss'>, 'num_epochs': 36}\n"
     ]
    },
    {
     "name": "stderr",
     "output_type": "stream",
     "text": [
      "                                                                                  \r"
     ]
    },
    {
     "name": "stdout",
     "output_type": "stream",
     "text": [
      "0.627906976744186\n",
      "updating best... at 2025-06-14_10:29:19\n",
      "\n",
      "\n",
      "\n",
      "{'data_unit': 'Spv', 'PH2': True, 'PH3': True, 'reducer': 'pca', 'kernel': '', 'n': 3, 'label_col': 'class_numeric', 'class_list': 'two-classes', 'batch_size': 1024}\n",
      "{'arch': 'BERT', 'device': device(type='mps'), 'loadable': 'distilbert-base-uncased', 'optimizer': <class 'torch.optim.adamw.AdamW'>, 'lr': 1e-05, 'weight_decay': 0, 'loss_fn': <class 'torch.nn.modules.loss.CrossEntropyLoss'>, 'num_epochs': 36}\n"
     ]
    },
    {
     "name": "stderr",
     "output_type": "stream",
     "text": [
      "                                                                                  \r"
     ]
    },
    {
     "name": "stdout",
     "output_type": "stream",
     "text": [
      "0.813953488372093\n",
      "updating best... at 2025-06-14_10:29:37\n",
      "\n",
      "\n",
      "\n",
      "{'data_unit': 'Spv', 'PH2': True, 'PH3': True, 'reducer': 'umap', 'kernel': '', 'n': 3, 'label_col': 'class_numeric', 'class_list': 'two-classes', 'batch_size': 1024}\n",
      "{'arch': 'BERT', 'device': device(type='mps'), 'loadable': 'distilbert-base-uncased', 'optimizer': <class 'torch.optim.adamw.AdamW'>, 'lr': 1e-05, 'weight_decay': 0, 'loss_fn': <class 'torch.nn.modules.loss.CrossEntropyLoss'>, 'num_epochs': 36}\n"
     ]
    },
    {
     "name": "stderr",
     "output_type": "stream",
     "text": [
      "                                                                                  \r"
     ]
    },
    {
     "name": "stdout",
     "output_type": "stream",
     "text": [
      "0.6976744186046512\n",
      "not best... at 2025-06-14_10:29:55\n",
      "\n",
      "\n",
      "\n",
      "{'data_unit': 'Spv', 'PH2': True, 'PH3': True, 'reducer': 'pca', 'kernel': '', 'n': 5, 'label_col': 'class_numeric', 'class_list': 'two-classes', 'batch_size': 1024}\n",
      "{'arch': 'BERT', 'device': device(type='mps'), 'loadable': 'distilbert-base-uncased', 'optimizer': <class 'torch.optim.adamw.AdamW'>, 'lr': 1e-05, 'weight_decay': 0, 'loss_fn': <class 'torch.nn.modules.loss.CrossEntropyLoss'>, 'num_epochs': 36}\n"
     ]
    },
    {
     "name": "stderr",
     "output_type": "stream",
     "text": [
      "                                                                                  \r"
     ]
    },
    {
     "name": "stdout",
     "output_type": "stream",
     "text": [
      "0.8372093023255814\n",
      "updating best... at 2025-06-14_10:30:12\n",
      "\n",
      "\n",
      "\n",
      "{'data_unit': 'Spv', 'PH2': True, 'PH3': True, 'reducer': 'umap', 'kernel': '', 'n': 5, 'label_col': 'class_numeric', 'class_list': 'two-classes', 'batch_size': 1024}\n",
      "{'arch': 'BERT', 'device': device(type='mps'), 'loadable': 'distilbert-base-uncased', 'optimizer': <class 'torch.optim.adamw.AdamW'>, 'lr': 1e-05, 'weight_decay': 0, 'loss_fn': <class 'torch.nn.modules.loss.CrossEntropyLoss'>, 'num_epochs': 36}\n"
     ]
    },
    {
     "name": "stderr",
     "output_type": "stream",
     "text": [
      "                                                                                  \r"
     ]
    },
    {
     "name": "stdout",
     "output_type": "stream",
     "text": [
      "0.6976744186046512\n",
      "not best... at 2025-06-14_10:30:31\n",
      "\n",
      "\n",
      "\n",
      "{'data_unit': 'Spv', 'PH2': True, 'PH3': True, 'reducer': 'pca', 'kernel': '', 'n': 7, 'label_col': 'class_numeric', 'class_list': 'two-classes', 'batch_size': 1024}\n",
      "{'arch': 'BERT', 'device': device(type='mps'), 'loadable': 'distilbert-base-uncased', 'optimizer': <class 'torch.optim.adamw.AdamW'>, 'lr': 1e-05, 'weight_decay': 0, 'loss_fn': <class 'torch.nn.modules.loss.CrossEntropyLoss'>, 'num_epochs': 36}\n"
     ]
    },
    {
     "name": "stderr",
     "output_type": "stream",
     "text": [
      "                                                                                  \r"
     ]
    },
    {
     "name": "stdout",
     "output_type": "stream",
     "text": [
      "0.7674418604651163\n",
      "not best... at 2025-06-14_10:30:48\n",
      "\n",
      "\n",
      "\n",
      "{'data_unit': 'Spv', 'PH2': True, 'PH3': True, 'reducer': 'umap', 'kernel': '', 'n': 7, 'label_col': 'class_numeric', 'class_list': 'two-classes', 'batch_size': 1024}\n",
      "{'arch': 'BERT', 'device': device(type='mps'), 'loadable': 'distilbert-base-uncased', 'optimizer': <class 'torch.optim.adamw.AdamW'>, 'lr': 1e-05, 'weight_decay': 0, 'loss_fn': <class 'torch.nn.modules.loss.CrossEntropyLoss'>, 'num_epochs': 36}\n"
     ]
    },
    {
     "name": "stderr",
     "output_type": "stream",
     "text": [
      "                                                                                  \r"
     ]
    },
    {
     "name": "stdout",
     "output_type": "stream",
     "text": [
      "0.7674418604651163\n",
      "not best... at 2025-06-14_10:31:06\n",
      "\n",
      "\n",
      "\n",
      "{'data_unit': 'Spv', 'PH2': True, 'PH3': True, 'reducer': 'pca', 'kernel': '', 'n': 9, 'label_col': 'class_numeric', 'class_list': 'two-classes', 'batch_size': 1024}\n",
      "{'arch': 'BERT', 'device': device(type='mps'), 'loadable': 'distilbert-base-uncased', 'optimizer': <class 'torch.optim.adamw.AdamW'>, 'lr': 1e-05, 'weight_decay': 0, 'loss_fn': <class 'torch.nn.modules.loss.CrossEntropyLoss'>, 'num_epochs': 36}\n"
     ]
    },
    {
     "name": "stderr",
     "output_type": "stream",
     "text": [
      "                                                                                  \r"
     ]
    },
    {
     "name": "stdout",
     "output_type": "stream",
     "text": [
      "0.813953488372093\n",
      "not best... at 2025-06-14_10:31:23\n",
      "\n",
      "\n",
      "\n",
      "{'data_unit': 'Spv', 'PH2': True, 'PH3': True, 'reducer': 'umap', 'kernel': '', 'n': 9, 'label_col': 'class_numeric', 'class_list': 'two-classes', 'batch_size': 1024}\n",
      "{'arch': 'BERT', 'device': device(type='mps'), 'loadable': 'distilbert-base-uncased', 'optimizer': <class 'torch.optim.adamw.AdamW'>, 'lr': 1e-05, 'weight_decay': 0, 'loss_fn': <class 'torch.nn.modules.loss.CrossEntropyLoss'>, 'num_epochs': 36}\n"
     ]
    },
    {
     "name": "stderr",
     "output_type": "stream",
     "text": [
      "                                                                                  \r"
     ]
    },
    {
     "name": "stdout",
     "output_type": "stream",
     "text": [
      "0.7441860465116279\n",
      "not best... at 2025-06-14_10:31:41\n",
      "\n",
      "\n",
      "\n",
      "{'data_unit': 'Spv', 'PH2': True, 'PH3': True, 'reducer': 'pca', 'kernel': '', 'n': 11, 'label_col': 'class_numeric', 'class_list': 'two-classes', 'batch_size': 1024}\n",
      "{'arch': 'BERT', 'device': device(type='mps'), 'loadable': 'distilbert-base-uncased', 'optimizer': <class 'torch.optim.adamw.AdamW'>, 'lr': 1e-05, 'weight_decay': 0, 'loss_fn': <class 'torch.nn.modules.loss.CrossEntropyLoss'>, 'num_epochs': 36}\n"
     ]
    },
    {
     "name": "stderr",
     "output_type": "stream",
     "text": [
      "                                                                                  \r"
     ]
    },
    {
     "name": "stdout",
     "output_type": "stream",
     "text": [
      "0.7906976744186046\n",
      "not best... at 2025-06-14_10:31:59\n",
      "\n",
      "\n",
      "\n",
      "{'data_unit': 'Spv', 'PH2': True, 'PH3': True, 'reducer': 'umap', 'kernel': '', 'n': 11, 'label_col': 'class_numeric', 'class_list': 'two-classes', 'batch_size': 1024}\n",
      "{'arch': 'BERT', 'device': device(type='mps'), 'loadable': 'distilbert-base-uncased', 'optimizer': <class 'torch.optim.adamw.AdamW'>, 'lr': 1e-05, 'weight_decay': 0, 'loss_fn': <class 'torch.nn.modules.loss.CrossEntropyLoss'>, 'num_epochs': 36}\n"
     ]
    },
    {
     "name": "stderr",
     "output_type": "stream",
     "text": [
      "                                                                                  \r"
     ]
    },
    {
     "name": "stdout",
     "output_type": "stream",
     "text": [
      "0.627906976744186\n",
      "not best... at 2025-06-14_10:32:16\n",
      "\n",
      "\n",
      "\n",
      "{'data_unit': 'Spv', 'PH2': True, 'PH3': True, 'reducer': 'pca', 'kernel': '', 'n': 13, 'label_col': 'class_numeric', 'class_list': 'two-classes', 'batch_size': 1024}\n",
      "{'arch': 'BERT', 'device': device(type='mps'), 'loadable': 'distilbert-base-uncased', 'optimizer': <class 'torch.optim.adamw.AdamW'>, 'lr': 1e-05, 'weight_decay': 0, 'loss_fn': <class 'torch.nn.modules.loss.CrossEntropyLoss'>, 'num_epochs': 36}\n"
     ]
    },
    {
     "name": "stderr",
     "output_type": "stream",
     "text": [
      "                                                                                  \r"
     ]
    },
    {
     "name": "stdout",
     "output_type": "stream",
     "text": [
      "0.7906976744186046\n",
      "not best... at 2025-06-14_10:32:34\n",
      "\n",
      "\n",
      "\n",
      "{'data_unit': 'Spv', 'PH2': True, 'PH3': True, 'reducer': 'umap', 'kernel': '', 'n': 13, 'label_col': 'class_numeric', 'class_list': 'two-classes', 'batch_size': 1024}\n",
      "{'arch': 'BERT', 'device': device(type='mps'), 'loadable': 'distilbert-base-uncased', 'optimizer': <class 'torch.optim.adamw.AdamW'>, 'lr': 1e-05, 'weight_decay': 0, 'loss_fn': <class 'torch.nn.modules.loss.CrossEntropyLoss'>, 'num_epochs': 36}\n"
     ]
    },
    {
     "name": "stderr",
     "output_type": "stream",
     "text": [
      "                                                                                  \r"
     ]
    },
    {
     "name": "stdout",
     "output_type": "stream",
     "text": [
      "0.7209302325581395\n",
      "not best... at 2025-06-14_10:32:51\n",
      "\n",
      "\n",
      "\n",
      "{'data_unit': 'Spv', 'PH2': True, 'PH3': True, 'reducer': 'pca', 'kernel': '', 'n': 15, 'label_col': 'class_numeric', 'class_list': 'two-classes', 'batch_size': 1024}\n",
      "{'arch': 'BERT', 'device': device(type='mps'), 'loadable': 'distilbert-base-uncased', 'optimizer': <class 'torch.optim.adamw.AdamW'>, 'lr': 1e-05, 'weight_decay': 0, 'loss_fn': <class 'torch.nn.modules.loss.CrossEntropyLoss'>, 'num_epochs': 36}\n"
     ]
    },
    {
     "name": "stderr",
     "output_type": "stream",
     "text": [
      "                                                                                  \r"
     ]
    },
    {
     "name": "stdout",
     "output_type": "stream",
     "text": [
      "0.8604651162790697\n",
      "updating best... at 2025-06-14_10:33:09\n",
      "\n",
      "\n",
      "\n",
      "{'data_unit': 'Spv', 'PH2': True, 'PH3': True, 'reducer': 'umap', 'kernel': '', 'n': 15, 'label_col': 'class_numeric', 'class_list': 'two-classes', 'batch_size': 1024}\n",
      "{'arch': 'BERT', 'device': device(type='mps'), 'loadable': 'distilbert-base-uncased', 'optimizer': <class 'torch.optim.adamw.AdamW'>, 'lr': 1e-05, 'weight_decay': 0, 'loss_fn': <class 'torch.nn.modules.loss.CrossEntropyLoss'>, 'num_epochs': 36}\n"
     ]
    },
    {
     "name": "stderr",
     "output_type": "stream",
     "text": [
      "                                                                                  \r"
     ]
    },
    {
     "name": "stdout",
     "output_type": "stream",
     "text": [
      "0.7674418604651163\n",
      "not best... at 2025-06-14_10:33:27\n",
      "\n",
      "\n",
      "\n",
      "{'data_unit': 'Spv', 'PH2': True, 'PH3': False, 'reducer': '', 'kernel': '', 'n': 75, 'label_col': 'class_numeric', 'class_list': 'two-classes', 'batch_size': 1024}\n",
      "{'arch': 'BERT', 'device': device(type='mps'), 'loadable': 'distilbert-base-uncased', 'optimizer': <class 'torch.optim.adamw.AdamW'>, 'lr': 1e-05, 'weight_decay': 0, 'loss_fn': <class 'torch.nn.modules.loss.CrossEntropyLoss'>, 'num_epochs': 36}\n"
     ]
    },
    {
     "name": "stderr",
     "output_type": "stream",
     "text": [
      "                                                                                  \r"
     ]
    },
    {
     "name": "stdout",
     "output_type": "stream",
     "text": [
      "0.813953488372093\n",
      "not best... at 2025-06-14_10:33:45\n",
      "\n",
      "\n",
      "\n",
      "{'data_unit': 'Spv', 'PH2': False, 'PH3': True, 'reducer': 'pca', 'kernel': '', 'n': 1, 'label_col': 'class_numeric', 'class_list': 'two-classes', 'batch_size': 1024}\n",
      "{'arch': 'BERT', 'device': device(type='mps'), 'loadable': 'distilbert-base-uncased', 'optimizer': <class 'torch.optim.adamw.AdamW'>, 'lr': 1e-05, 'weight_decay': 0, 'loss_fn': <class 'torch.nn.modules.loss.CrossEntropyLoss'>, 'num_epochs': 36}\n"
     ]
    },
    {
     "name": "stderr",
     "output_type": "stream",
     "text": [
      "                                                                                  \r"
     ]
    },
    {
     "name": "stdout",
     "output_type": "stream",
     "text": [
      "0.8604651162790697\n",
      "not best... at 2025-06-14_10:34:03\n",
      "\n",
      "\n",
      "\n",
      "{'data_unit': 'Spv', 'PH2': False, 'PH3': True, 'reducer': 'umap', 'kernel': '', 'n': 1, 'label_col': 'class_numeric', 'class_list': 'two-classes', 'batch_size': 1024}\n",
      "{'arch': 'BERT', 'device': device(type='mps'), 'loadable': 'distilbert-base-uncased', 'optimizer': <class 'torch.optim.adamw.AdamW'>, 'lr': 1e-05, 'weight_decay': 0, 'loss_fn': <class 'torch.nn.modules.loss.CrossEntropyLoss'>, 'num_epochs': 36}\n"
     ]
    },
    {
     "name": "stderr",
     "output_type": "stream",
     "text": [
      "                                                                                  \r"
     ]
    },
    {
     "name": "stdout",
     "output_type": "stream",
     "text": [
      "0.46511627906976744\n",
      "not best... at 2025-06-14_10:34:20\n",
      "\n",
      "\n",
      "\n",
      "{'data_unit': 'Spv', 'PH2': False, 'PH3': True, 'reducer': 'pca', 'kernel': '', 'n': 3, 'label_col': 'class_numeric', 'class_list': 'two-classes', 'batch_size': 1024}\n",
      "{'arch': 'BERT', 'device': device(type='mps'), 'loadable': 'distilbert-base-uncased', 'optimizer': <class 'torch.optim.adamw.AdamW'>, 'lr': 1e-05, 'weight_decay': 0, 'loss_fn': <class 'torch.nn.modules.loss.CrossEntropyLoss'>, 'num_epochs': 36}\n"
     ]
    },
    {
     "name": "stderr",
     "output_type": "stream",
     "text": [
      "                                                                                  \r"
     ]
    },
    {
     "name": "stdout",
     "output_type": "stream",
     "text": [
      "0.7441860465116279\n",
      "not best... at 2025-06-14_10:34:37\n",
      "\n",
      "\n",
      "\n",
      "{'data_unit': 'Spv', 'PH2': False, 'PH3': True, 'reducer': 'umap', 'kernel': '', 'n': 3, 'label_col': 'class_numeric', 'class_list': 'two-classes', 'batch_size': 1024}\n",
      "{'arch': 'BERT', 'device': device(type='mps'), 'loadable': 'distilbert-base-uncased', 'optimizer': <class 'torch.optim.adamw.AdamW'>, 'lr': 1e-05, 'weight_decay': 0, 'loss_fn': <class 'torch.nn.modules.loss.CrossEntropyLoss'>, 'num_epochs': 36}\n"
     ]
    },
    {
     "name": "stderr",
     "output_type": "stream",
     "text": [
      "                                                                                  \r"
     ]
    },
    {
     "name": "stdout",
     "output_type": "stream",
     "text": [
      "0.5581395348837209\n",
      "not best... at 2025-06-14_10:34:54\n",
      "\n",
      "\n",
      "\n",
      "{'data_unit': 'Spv', 'PH2': False, 'PH3': True, 'reducer': 'pca', 'kernel': '', 'n': 5, 'label_col': 'class_numeric', 'class_list': 'two-classes', 'batch_size': 1024}\n",
      "{'arch': 'BERT', 'device': device(type='mps'), 'loadable': 'distilbert-base-uncased', 'optimizer': <class 'torch.optim.adamw.AdamW'>, 'lr': 1e-05, 'weight_decay': 0, 'loss_fn': <class 'torch.nn.modules.loss.CrossEntropyLoss'>, 'num_epochs': 36}\n"
     ]
    },
    {
     "name": "stderr",
     "output_type": "stream",
     "text": [
      "                                                                                  \r"
     ]
    },
    {
     "name": "stdout",
     "output_type": "stream",
     "text": [
      "0.813953488372093\n",
      "not best... at 2025-06-14_10:35:12\n",
      "\n",
      "\n",
      "\n",
      "{'data_unit': 'Spv', 'PH2': False, 'PH3': True, 'reducer': 'umap', 'kernel': '', 'n': 5, 'label_col': 'class_numeric', 'class_list': 'two-classes', 'batch_size': 1024}\n",
      "{'arch': 'BERT', 'device': device(type='mps'), 'loadable': 'distilbert-base-uncased', 'optimizer': <class 'torch.optim.adamw.AdamW'>, 'lr': 1e-05, 'weight_decay': 0, 'loss_fn': <class 'torch.nn.modules.loss.CrossEntropyLoss'>, 'num_epochs': 36}\n"
     ]
    },
    {
     "name": "stderr",
     "output_type": "stream",
     "text": [
      "                                                                                  \r"
     ]
    },
    {
     "name": "stdout",
     "output_type": "stream",
     "text": [
      "0.5813953488372093\n",
      "not best... at 2025-06-14_10:35:29\n",
      "\n",
      "\n",
      "\n",
      "{'data_unit': 'Spv', 'PH2': False, 'PH3': True, 'reducer': 'pca', 'kernel': '', 'n': 7, 'label_col': 'class_numeric', 'class_list': 'two-classes', 'batch_size': 1024}\n",
      "{'arch': 'BERT', 'device': device(type='mps'), 'loadable': 'distilbert-base-uncased', 'optimizer': <class 'torch.optim.adamw.AdamW'>, 'lr': 1e-05, 'weight_decay': 0, 'loss_fn': <class 'torch.nn.modules.loss.CrossEntropyLoss'>, 'num_epochs': 36}\n"
     ]
    },
    {
     "name": "stderr",
     "output_type": "stream",
     "text": [
      "                                                                                  \r"
     ]
    },
    {
     "name": "stdout",
     "output_type": "stream",
     "text": [
      "0.7674418604651163\n",
      "not best... at 2025-06-14_10:35:46\n",
      "\n",
      "\n",
      "\n",
      "{'data_unit': 'Spv', 'PH2': False, 'PH3': True, 'reducer': 'umap', 'kernel': '', 'n': 7, 'label_col': 'class_numeric', 'class_list': 'two-classes', 'batch_size': 1024}\n",
      "{'arch': 'BERT', 'device': device(type='mps'), 'loadable': 'distilbert-base-uncased', 'optimizer': <class 'torch.optim.adamw.AdamW'>, 'lr': 1e-05, 'weight_decay': 0, 'loss_fn': <class 'torch.nn.modules.loss.CrossEntropyLoss'>, 'num_epochs': 36}\n"
     ]
    },
    {
     "name": "stderr",
     "output_type": "stream",
     "text": [
      "                                                                                  \r"
     ]
    },
    {
     "name": "stdout",
     "output_type": "stream",
     "text": [
      "0.5813953488372093\n",
      "not best... at 2025-06-14_10:36:04\n",
      "\n",
      "\n",
      "\n",
      "{'data_unit': 'Spv', 'PH2': False, 'PH3': True, 'reducer': 'pca', 'kernel': '', 'n': 9, 'label_col': 'class_numeric', 'class_list': 'two-classes', 'batch_size': 1024}\n",
      "{'arch': 'BERT', 'device': device(type='mps'), 'loadable': 'distilbert-base-uncased', 'optimizer': <class 'torch.optim.adamw.AdamW'>, 'lr': 1e-05, 'weight_decay': 0, 'loss_fn': <class 'torch.nn.modules.loss.CrossEntropyLoss'>, 'num_epochs': 36}\n"
     ]
    },
    {
     "name": "stderr",
     "output_type": "stream",
     "text": [
      "                                                                                  \r"
     ]
    },
    {
     "name": "stdout",
     "output_type": "stream",
     "text": [
      "0.9302325581395349\n",
      "updating best... at 2025-06-14_10:36:21\n",
      "\n",
      "\n",
      "\n",
      "{'data_unit': 'Spv', 'PH2': False, 'PH3': True, 'reducer': 'umap', 'kernel': '', 'n': 9, 'label_col': 'class_numeric', 'class_list': 'two-classes', 'batch_size': 1024}\n",
      "{'arch': 'BERT', 'device': device(type='mps'), 'loadable': 'distilbert-base-uncased', 'optimizer': <class 'torch.optim.adamw.AdamW'>, 'lr': 1e-05, 'weight_decay': 0, 'loss_fn': <class 'torch.nn.modules.loss.CrossEntropyLoss'>, 'num_epochs': 36}\n"
     ]
    },
    {
     "name": "stderr",
     "output_type": "stream",
     "text": [
      "                                                                                  \r"
     ]
    },
    {
     "name": "stdout",
     "output_type": "stream",
     "text": [
      "0.627906976744186\n",
      "not best... at 2025-06-14_10:36:39\n",
      "\n",
      "\n",
      "\n",
      "{'data_unit': 'Spv', 'PH2': False, 'PH3': True, 'reducer': 'pca', 'kernel': '', 'n': 11, 'label_col': 'class_numeric', 'class_list': 'two-classes', 'batch_size': 1024}\n",
      "{'arch': 'BERT', 'device': device(type='mps'), 'loadable': 'distilbert-base-uncased', 'optimizer': <class 'torch.optim.adamw.AdamW'>, 'lr': 1e-05, 'weight_decay': 0, 'loss_fn': <class 'torch.nn.modules.loss.CrossEntropyLoss'>, 'num_epochs': 36}\n"
     ]
    },
    {
     "name": "stderr",
     "output_type": "stream",
     "text": [
      "                                                                                  \r"
     ]
    },
    {
     "name": "stdout",
     "output_type": "stream",
     "text": [
      "0.9534883720930233\n",
      "updating best... at 2025-06-14_10:36:57\n",
      "\n",
      "\n",
      "\n",
      "{'data_unit': 'Spv', 'PH2': False, 'PH3': True, 'reducer': 'umap', 'kernel': '', 'n': 11, 'label_col': 'class_numeric', 'class_list': 'two-classes', 'batch_size': 1024}\n",
      "{'arch': 'BERT', 'device': device(type='mps'), 'loadable': 'distilbert-base-uncased', 'optimizer': <class 'torch.optim.adamw.AdamW'>, 'lr': 1e-05, 'weight_decay': 0, 'loss_fn': <class 'torch.nn.modules.loss.CrossEntropyLoss'>, 'num_epochs': 36}\n"
     ]
    },
    {
     "name": "stderr",
     "output_type": "stream",
     "text": [
      "                                                                                  \r"
     ]
    },
    {
     "name": "stdout",
     "output_type": "stream",
     "text": [
      "0.6046511627906976\n",
      "not best... at 2025-06-14_10:37:15\n",
      "\n",
      "\n",
      "\n",
      "{'data_unit': 'Spv', 'PH2': False, 'PH3': True, 'reducer': 'pca', 'kernel': '', 'n': 13, 'label_col': 'class_numeric', 'class_list': 'two-classes', 'batch_size': 1024}\n",
      "{'arch': 'BERT', 'device': device(type='mps'), 'loadable': 'distilbert-base-uncased', 'optimizer': <class 'torch.optim.adamw.AdamW'>, 'lr': 1e-05, 'weight_decay': 0, 'loss_fn': <class 'torch.nn.modules.loss.CrossEntropyLoss'>, 'num_epochs': 36}\n"
     ]
    },
    {
     "name": "stderr",
     "output_type": "stream",
     "text": [
      "                                                                                  \r"
     ]
    },
    {
     "name": "stdout",
     "output_type": "stream",
     "text": [
      "0.9534883720930233\n",
      "not best... at 2025-06-14_10:37:32\n",
      "\n",
      "\n",
      "\n",
      "{'data_unit': 'Spv', 'PH2': False, 'PH3': True, 'reducer': 'umap', 'kernel': '', 'n': 13, 'label_col': 'class_numeric', 'class_list': 'two-classes', 'batch_size': 1024}\n",
      "{'arch': 'BERT', 'device': device(type='mps'), 'loadable': 'distilbert-base-uncased', 'optimizer': <class 'torch.optim.adamw.AdamW'>, 'lr': 1e-05, 'weight_decay': 0, 'loss_fn': <class 'torch.nn.modules.loss.CrossEntropyLoss'>, 'num_epochs': 36}\n"
     ]
    },
    {
     "name": "stderr",
     "output_type": "stream",
     "text": [
      "                                                                                  \r"
     ]
    },
    {
     "name": "stdout",
     "output_type": "stream",
     "text": [
      "0.46511627906976744\n",
      "not best... at 2025-06-14_10:37:50\n",
      "\n",
      "\n",
      "\n",
      "{'data_unit': 'Spv', 'PH2': False, 'PH3': True, 'reducer': 'pca', 'kernel': '', 'n': 15, 'label_col': 'class_numeric', 'class_list': 'two-classes', 'batch_size': 1024}\n",
      "{'arch': 'BERT', 'device': device(type='mps'), 'loadable': 'distilbert-base-uncased', 'optimizer': <class 'torch.optim.adamw.AdamW'>, 'lr': 1e-05, 'weight_decay': 0, 'loss_fn': <class 'torch.nn.modules.loss.CrossEntropyLoss'>, 'num_epochs': 36}\n"
     ]
    },
    {
     "name": "stderr",
     "output_type": "stream",
     "text": [
      "                                                                                  \r"
     ]
    },
    {
     "name": "stdout",
     "output_type": "stream",
     "text": [
      "1.0\n",
      "updating best... at 2025-06-14_10:38:07\n",
      "\n",
      "\n",
      "\n",
      "{'data_unit': 'Spv', 'PH2': False, 'PH3': True, 'reducer': 'umap', 'kernel': '', 'n': 15, 'label_col': 'class_numeric', 'class_list': 'two-classes', 'batch_size': 1024}\n",
      "{'arch': 'BERT', 'device': device(type='mps'), 'loadable': 'distilbert-base-uncased', 'optimizer': <class 'torch.optim.adamw.AdamW'>, 'lr': 1e-05, 'weight_decay': 0, 'loss_fn': <class 'torch.nn.modules.loss.CrossEntropyLoss'>, 'num_epochs': 36}\n"
     ]
    },
    {
     "name": "stderr",
     "output_type": "stream",
     "text": [
      "                                                                                  \r"
     ]
    },
    {
     "name": "stdout",
     "output_type": "stream",
     "text": [
      "0.627906976744186\n",
      "not best... at 2025-06-14_10:38:26\n",
      "\n",
      "\n",
      "\n",
      "{'data_unit': 'Spv', 'PH2': False, 'PH3': False, 'reducer': '', 'kernel': '', 'n': 72, 'label_col': 'class_numeric', 'class_list': 'two-classes', 'batch_size': 1024}\n",
      "{'arch': 'BERT', 'device': device(type='mps'), 'loadable': 'distilbert-base-uncased', 'optimizer': <class 'torch.optim.adamw.AdamW'>, 'lr': 1e-05, 'weight_decay': 0, 'loss_fn': <class 'torch.nn.modules.loss.CrossEntropyLoss'>, 'num_epochs': 36}\n"
     ]
    },
    {
     "name": "stderr",
     "output_type": "stream",
     "text": [
      "                                                                                  \r"
     ]
    },
    {
     "name": "stdout",
     "output_type": "stream",
     "text": [
      "0.8372093023255814\n",
      "not best... at 2025-06-14_10:38:44\n",
      "\n",
      "\n",
      "\n",
      "Data Unit: Spv\n",
      "Best score: 1.0\n",
      "Best data config: {'data_unit': 'Spv', 'PH2': False, 'PH3': True, 'reducer': 'pca', 'kernel': '', 'n': 15, 'label_col': 'class_numeric', 'class_list': 'two-classes', 'batch_size': 1024}\n",
      "Best train config: {'arch': 'BERT', 'device': device(type='mps'), 'loadable': 'distilbert-base-uncased', 'optimizer': <class 'torch.optim.adamw.AdamW'>, 'lr': 1e-05, 'weight_decay': 0, 'loss_fn': <class 'torch.nn.modules.loss.CrossEntropyLoss'>, 'num_epochs': 36}\n"
     ]
    }
   ],
   "source": [
    "bert.find_best(data_unit=sup.DATA_S_PV, label_col=sup.class_numeric_column, \n",
    "                    class_list=TRAIN_classes, batch_size=exploring_batch_size,\n",
    "                    LOADABLE_CANDIDATES=[exploringBERT], \n",
    "                    num_epochs_CANDIDATES=[exploring_num_epochs_spv])"
   ]
  },
  {
   "cell_type": "code",
   "execution_count": 10,
   "id": "971b697a",
   "metadata": {},
   "outputs": [],
   "source": [
    "spv_bert_scores_df = pd.DataFrame(sup.bert_score_tracker, columns=sup.bert_scores_columns)\n",
    "now = datetime.now().strftime(\"%Y-%m-%d_%H:%M:%S\")\n",
    "sup.create_dir_if_not_exists(os.path.join(sup.TRAIN_SCORES_ROOT, TRAIN_classes, \n",
    "                                          sup.TRAIN_BERT_CODE,\n",
    "                                          sup.DATA_S_PV,\n",
    "                                          exploringBERT))\n",
    "spv_bert_scores_df.to_csv(os.path.join(sup.TRAIN_SCORES_ROOT, TRAIN_classes, \n",
    "                                       sup.TRAIN_BERT_CODE,\n",
    "                                       sup.DATA_S_PV,\n",
    "                                       exploringBERT, \n",
    "                                       f\"{now}.csv\"), index=False)"
   ]
  }
 ],
 "metadata": {
  "kernelspec": {
   "display_name": "TOG_BERT_v2",
   "language": "python",
   "name": "python3"
  },
  "language_info": {
   "codemirror_mode": {
    "name": "ipython",
    "version": 3
   },
   "file_extension": ".py",
   "mimetype": "text/x-python",
   "name": "python",
   "nbconvert_exporter": "python",
   "pygments_lexer": "ipython3",
   "version": "3.10.18"
  }
 },
 "nbformat": 4,
 "nbformat_minor": 5
}
