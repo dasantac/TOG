{
 "cells": [
  {
   "cell_type": "markdown",
   "id": "78b4d339",
   "metadata": {},
   "source": [
    "# Context\n",
    "This notebook drives the training process for different models."
   ]
  },
  {
   "cell_type": "code",
   "execution_count": 1,
   "id": "0328c1e3",
   "metadata": {},
   "outputs": [],
   "source": [
    "# Set project's environment variables\n",
    "import os\n",
    "import sys\n",
    "from dotenv import load_dotenv\n",
    "load_dotenv(dotenv_path=\"../../../project.env\")\n",
    "sys.path.append(os.environ[\"PYTHONPATH\"])"
   ]
  },
  {
   "cell_type": "code",
   "execution_count": 2,
   "id": "826105d7",
   "metadata": {},
   "outputs": [],
   "source": [
    "# Import project-wide and PH2 specific variables and functions\n",
    "import superheader as sup\n",
    "import TRAIN.architecture.BERT.bert as bert"
   ]
  },
  {
   "cell_type": "code",
   "execution_count": 3,
   "id": "9cec192f",
   "metadata": {},
   "outputs": [],
   "source": [
    "import pandas as pd\n",
    "from datetime import datetime"
   ]
  },
  {
   "cell_type": "code",
   "execution_count": 4,
   "id": "f5a0b34b",
   "metadata": {},
   "outputs": [],
   "source": [
    "TRAIN_classes = 'ten-classes'\n",
    "exploringBERT = bert.DISTILBERT\n",
    "exploring_num_epochs_spf = 37\n",
    "exploring_num_epochs_spv = 148\n",
    "exploring_batch_size = 1024"
   ]
  },
  {
   "cell_type": "markdown",
   "id": "4398ce40",
   "metadata": {},
   "source": [
    "# Model training"
   ]
  },
  {
   "cell_type": "markdown",
   "id": "c820d26e",
   "metadata": {},
   "source": [
    "## Sign prediction"
   ]
  },
  {
   "cell_type": "markdown",
   "id": "ebed4241",
   "metadata": {},
   "source": [
    "### Spf"
   ]
  },
  {
   "cell_type": "code",
   "execution_count": 5,
   "id": "8e5d42b3",
   "metadata": {},
   "outputs": [],
   "source": [
    "sup.bert_score_tracker = []"
   ]
  },
  {
   "cell_type": "code",
   "execution_count": 6,
   "id": "4c243c5c",
   "metadata": {},
   "outputs": [
    {
     "name": "stdout",
     "output_type": "stream",
     "text": [
      "{'data_unit': 'Spf', 'PH2': True, 'PH3': True, 'reducer': 'pca', 'kernel': '', 'n': 1, 'label_col': 'class_numeric', 'class_list': 'ten-classes', 'batch_size': 1024}\n",
      "{'arch': 'BERT', 'device': device(type='mps'), 'loadable': 'distilbert-base-uncased', 'optimizer': <class 'torch.optim.adamw.AdamW'>, 'lr': 1e-05, 'weight_decay': 0, 'loss_fn': <class 'torch.nn.modules.loss.CrossEntropyLoss'>, 'num_epochs': 37}\n"
     ]
    },
    {
     "name": "stderr",
     "output_type": "stream",
     "text": [
      "/Users/diego/miniconda3/envs/TOG_BERT_v2/lib/python3.10/site-packages/sklearn/metrics/_classification.py:1706: UndefinedMetricWarning: Precision is ill-defined and being set to 0.0 in labels with no predicted samples. Use `zero_division` parameter to control this behavior.\n",
      "  _warn_prf(average, modifier, f\"{metric.capitalize()} is\", result.shape[0])\n",
      "/Users/diego/miniconda3/envs/TOG_BERT_v2/lib/python3.10/site-packages/sklearn/metrics/_classification.py:1706: UndefinedMetricWarning: Precision is ill-defined and being set to 0.0 in labels with no predicted samples. Use `zero_division` parameter to control this behavior.\n",
      "  _warn_prf(average, modifier, f\"{metric.capitalize()} is\", result.shape[0])\n"
     ]
    },
    {
     "name": "stdout",
     "output_type": "stream",
     "text": [
      "0.2172017439556084\n",
      "updating best... at 2025-06-14_11:38:55\n",
      "\n",
      "\n",
      "\n",
      "{'data_unit': 'Spf', 'PH2': True, 'PH3': True, 'reducer': 'umap', 'kernel': '', 'n': 1, 'label_col': 'class_numeric', 'class_list': 'ten-classes', 'batch_size': 1024}\n",
      "{'arch': 'BERT', 'device': device(type='mps'), 'loadable': 'distilbert-base-uncased', 'optimizer': <class 'torch.optim.adamw.AdamW'>, 'lr': 1e-05, 'weight_decay': 0, 'loss_fn': <class 'torch.nn.modules.loss.CrossEntropyLoss'>, 'num_epochs': 37}\n"
     ]
    },
    {
     "name": "stderr",
     "output_type": "stream",
     "text": [
      "                                                                                 \r"
     ]
    },
    {
     "name": "stdout",
     "output_type": "stream",
     "text": [
      "0.2211652794292509\n",
      "updating best... at 2025-06-14_11:40:21\n",
      "\n",
      "\n",
      "\n",
      "{'data_unit': 'Spf', 'PH2': True, 'PH3': True, 'reducer': 'pca', 'kernel': '', 'n': 3, 'label_col': 'class_numeric', 'class_list': 'ten-classes', 'batch_size': 1024}\n",
      "{'arch': 'BERT', 'device': device(type='mps'), 'loadable': 'distilbert-base-uncased', 'optimizer': <class 'torch.optim.adamw.AdamW'>, 'lr': 1e-05, 'weight_decay': 0, 'loss_fn': <class 'torch.nn.modules.loss.CrossEntropyLoss'>, 'num_epochs': 37}\n"
     ]
    },
    {
     "name": "stderr",
     "output_type": "stream",
     "text": [
      "                                                                                 \r"
     ]
    },
    {
     "name": "stdout",
     "output_type": "stream",
     "text": [
      "0.463337296868807\n",
      "updating best... at 2025-06-14_11:41:49\n",
      "\n",
      "\n",
      "\n",
      "{'data_unit': 'Spf', 'PH2': True, 'PH3': True, 'reducer': 'umap', 'kernel': '', 'n': 3, 'label_col': 'class_numeric', 'class_list': 'ten-classes', 'batch_size': 1024}\n",
      "{'arch': 'BERT', 'device': device(type='mps'), 'loadable': 'distilbert-base-uncased', 'optimizer': <class 'torch.optim.adamw.AdamW'>, 'lr': 1e-05, 'weight_decay': 0, 'loss_fn': <class 'torch.nn.modules.loss.CrossEntropyLoss'>, 'num_epochs': 37}\n"
     ]
    },
    {
     "name": "stderr",
     "output_type": "stream",
     "text": [
      "                                                                                 \r"
     ]
    },
    {
     "name": "stdout",
     "output_type": "stream",
     "text": [
      "0.45105033690051527\n",
      "not best... at 2025-06-14_11:43:15\n",
      "\n",
      "\n",
      "\n",
      "{'data_unit': 'Spf', 'PH2': True, 'PH3': True, 'reducer': 'pca', 'kernel': '', 'n': 5, 'label_col': 'class_numeric', 'class_list': 'ten-classes', 'batch_size': 1024}\n",
      "{'arch': 'BERT', 'device': device(type='mps'), 'loadable': 'distilbert-base-uncased', 'optimizer': <class 'torch.optim.adamw.AdamW'>, 'lr': 1e-05, 'weight_decay': 0, 'loss_fn': <class 'torch.nn.modules.loss.CrossEntropyLoss'>, 'num_epochs': 37}\n"
     ]
    },
    {
     "name": "stderr",
     "output_type": "stream",
     "text": [
      "                                                                                 \r"
     ]
    },
    {
     "name": "stdout",
     "output_type": "stream",
     "text": [
      "0.4934601664684899\n",
      "updating best... at 2025-06-14_11:44:41\n",
      "\n",
      "\n",
      "\n",
      "{'data_unit': 'Spf', 'PH2': True, 'PH3': True, 'reducer': 'umap', 'kernel': '', 'n': 5, 'label_col': 'class_numeric', 'class_list': 'ten-classes', 'batch_size': 1024}\n",
      "{'arch': 'BERT', 'device': device(type='mps'), 'loadable': 'distilbert-base-uncased', 'optimizer': <class 'torch.optim.adamw.AdamW'>, 'lr': 1e-05, 'weight_decay': 0, 'loss_fn': <class 'torch.nn.modules.loss.CrossEntropyLoss'>, 'num_epochs': 37}\n"
     ]
    },
    {
     "name": "stderr",
     "output_type": "stream",
     "text": [
      "                                                                                 \r"
     ]
    },
    {
     "name": "stdout",
     "output_type": "stream",
     "text": [
      "0.4661117717003567\n",
      "not best... at 2025-06-14_11:46:07\n",
      "\n",
      "\n",
      "\n",
      "{'data_unit': 'Spf', 'PH2': True, 'PH3': True, 'reducer': 'pca', 'kernel': '', 'n': 7, 'label_col': 'class_numeric', 'class_list': 'ten-classes', 'batch_size': 1024}\n",
      "{'arch': 'BERT', 'device': device(type='mps'), 'loadable': 'distilbert-base-uncased', 'optimizer': <class 'torch.optim.adamw.AdamW'>, 'lr': 1e-05, 'weight_decay': 0, 'loss_fn': <class 'torch.nn.modules.loss.CrossEntropyLoss'>, 'num_epochs': 37}\n"
     ]
    },
    {
     "name": "stderr",
     "output_type": "stream",
     "text": [
      "                                                                                 \r"
     ]
    },
    {
     "name": "stdout",
     "output_type": "stream",
     "text": [
      "0.5168450257629805\n",
      "updating best... at 2025-06-14_11:47:33\n",
      "\n",
      "\n",
      "\n",
      "{'data_unit': 'Spf', 'PH2': True, 'PH3': True, 'reducer': 'umap', 'kernel': '', 'n': 7, 'label_col': 'class_numeric', 'class_list': 'ten-classes', 'batch_size': 1024}\n",
      "{'arch': 'BERT', 'device': device(type='mps'), 'loadable': 'distilbert-base-uncased', 'optimizer': <class 'torch.optim.adamw.AdamW'>, 'lr': 1e-05, 'weight_decay': 0, 'loss_fn': <class 'torch.nn.modules.loss.CrossEntropyLoss'>, 'num_epochs': 37}\n"
     ]
    },
    {
     "name": "stderr",
     "output_type": "stream",
     "text": [
      "                                                                                 \r"
     ]
    },
    {
     "name": "stdout",
     "output_type": "stream",
     "text": [
      "0.44787950852160124\n",
      "not best... at 2025-06-14_11:49:00\n",
      "\n",
      "\n",
      "\n",
      "{'data_unit': 'Spf', 'PH2': True, 'PH3': True, 'reducer': 'pca', 'kernel': '', 'n': 9, 'label_col': 'class_numeric', 'class_list': 'ten-classes', 'batch_size': 1024}\n",
      "{'arch': 'BERT', 'device': device(type='mps'), 'loadable': 'distilbert-base-uncased', 'optimizer': <class 'torch.optim.adamw.AdamW'>, 'lr': 1e-05, 'weight_decay': 0, 'loss_fn': <class 'torch.nn.modules.loss.CrossEntropyLoss'>, 'num_epochs': 37}\n"
     ]
    },
    {
     "name": "stderr",
     "output_type": "stream",
     "text": [
      "                                                                                 \r"
     ]
    },
    {
     "name": "stdout",
     "output_type": "stream",
     "text": [
      "0.5390408244153785\n",
      "updating best... at 2025-06-14_11:50:26\n",
      "\n",
      "\n",
      "\n",
      "{'data_unit': 'Spf', 'PH2': True, 'PH3': True, 'reducer': 'umap', 'kernel': '', 'n': 9, 'label_col': 'class_numeric', 'class_list': 'ten-classes', 'batch_size': 1024}\n",
      "{'arch': 'BERT', 'device': device(type='mps'), 'loadable': 'distilbert-base-uncased', 'optimizer': <class 'torch.optim.adamw.AdamW'>, 'lr': 1e-05, 'weight_decay': 0, 'loss_fn': <class 'torch.nn.modules.loss.CrossEntropyLoss'>, 'num_epochs': 37}\n"
     ]
    },
    {
     "name": "stderr",
     "output_type": "stream",
     "text": [
      "                                                                                 \r"
     ]
    },
    {
     "name": "stdout",
     "output_type": "stream",
     "text": [
      "0.4383670233848593\n",
      "not best... at 2025-06-14_11:51:53\n",
      "\n",
      "\n",
      "\n",
      "{'data_unit': 'Spf', 'PH2': True, 'PH3': True, 'reducer': 'pca', 'kernel': '', 'n': 11, 'label_col': 'class_numeric', 'class_list': 'ten-classes', 'batch_size': 1024}\n",
      "{'arch': 'BERT', 'device': device(type='mps'), 'loadable': 'distilbert-base-uncased', 'optimizer': <class 'torch.optim.adamw.AdamW'>, 'lr': 1e-05, 'weight_decay': 0, 'loss_fn': <class 'torch.nn.modules.loss.CrossEntropyLoss'>, 'num_epochs': 37}\n"
     ]
    },
    {
     "name": "stderr",
     "output_type": "stream",
     "text": [
      "                                                                                 \r"
     ]
    },
    {
     "name": "stdout",
     "output_type": "stream",
     "text": [
      "0.5437970669837495\n",
      "updating best... at 2025-06-14_11:53:18\n",
      "\n",
      "\n",
      "\n",
      "{'data_unit': 'Spf', 'PH2': True, 'PH3': True, 'reducer': 'umap', 'kernel': '', 'n': 11, 'label_col': 'class_numeric', 'class_list': 'ten-classes', 'batch_size': 1024}\n",
      "{'arch': 'BERT', 'device': device(type='mps'), 'loadable': 'distilbert-base-uncased', 'optimizer': <class 'torch.optim.adamw.AdamW'>, 'lr': 1e-05, 'weight_decay': 0, 'loss_fn': <class 'torch.nn.modules.loss.CrossEntropyLoss'>, 'num_epochs': 37}\n"
     ]
    },
    {
     "name": "stderr",
     "output_type": "stream",
     "text": [
      "                                                                                 \r"
     ]
    },
    {
     "name": "stdout",
     "output_type": "stream",
     "text": [
      "0.42608006341656757\n",
      "not best... at 2025-06-14_11:54:46\n",
      "\n",
      "\n",
      "\n",
      "{'data_unit': 'Spf', 'PH2': True, 'PH3': True, 'reducer': 'pca', 'kernel': '', 'n': 13, 'label_col': 'class_numeric', 'class_list': 'ten-classes', 'batch_size': 1024}\n",
      "{'arch': 'BERT', 'device': device(type='mps'), 'loadable': 'distilbert-base-uncased', 'optimizer': <class 'torch.optim.adamw.AdamW'>, 'lr': 1e-05, 'weight_decay': 0, 'loss_fn': <class 'torch.nn.modules.loss.CrossEntropyLoss'>, 'num_epochs': 37}\n"
     ]
    },
    {
     "name": "stderr",
     "output_type": "stream",
     "text": [
      "                                                                                 \r"
     ]
    },
    {
     "name": "stdout",
     "output_type": "stream",
     "text": [
      "0.5172413793103449\n",
      "not best... at 2025-06-14_11:56:14\n",
      "\n",
      "\n",
      "\n",
      "{'data_unit': 'Spf', 'PH2': True, 'PH3': True, 'reducer': 'umap', 'kernel': '', 'n': 13, 'label_col': 'class_numeric', 'class_list': 'ten-classes', 'batch_size': 1024}\n",
      "{'arch': 'BERT', 'device': device(type='mps'), 'loadable': 'distilbert-base-uncased', 'optimizer': <class 'torch.optim.adamw.AdamW'>, 'lr': 1e-05, 'weight_decay': 0, 'loss_fn': <class 'torch.nn.modules.loss.CrossEntropyLoss'>, 'num_epochs': 37}\n"
     ]
    },
    {
     "name": "stderr",
     "output_type": "stream",
     "text": [
      "                                                                                 \r"
     ]
    },
    {
     "name": "stdout",
     "output_type": "stream",
     "text": [
      "0.4629409433214427\n",
      "not best... at 2025-06-14_11:57:42\n",
      "\n",
      "\n",
      "\n",
      "{'data_unit': 'Spf', 'PH2': True, 'PH3': True, 'reducer': 'pca', 'kernel': '', 'n': 15, 'label_col': 'class_numeric', 'class_list': 'ten-classes', 'batch_size': 1024}\n",
      "{'arch': 'BERT', 'device': device(type='mps'), 'loadable': 'distilbert-base-uncased', 'optimizer': <class 'torch.optim.adamw.AdamW'>, 'lr': 1e-05, 'weight_decay': 0, 'loss_fn': <class 'torch.nn.modules.loss.CrossEntropyLoss'>, 'num_epochs': 37}\n"
     ]
    },
    {
     "name": "stderr",
     "output_type": "stream",
     "text": [
      "                                                                                 \r"
     ]
    },
    {
     "name": "stdout",
     "output_type": "stream",
     "text": [
      "0.5140705509314308\n",
      "not best... at 2025-06-14_11:59:09\n",
      "\n",
      "\n",
      "\n",
      "{'data_unit': 'Spf', 'PH2': True, 'PH3': True, 'reducer': 'umap', 'kernel': '', 'n': 15, 'label_col': 'class_numeric', 'class_list': 'ten-classes', 'batch_size': 1024}\n",
      "{'arch': 'BERT', 'device': device(type='mps'), 'loadable': 'distilbert-base-uncased', 'optimizer': <class 'torch.optim.adamw.AdamW'>, 'lr': 1e-05, 'weight_decay': 0, 'loss_fn': <class 'torch.nn.modules.loss.CrossEntropyLoss'>, 'num_epochs': 37}\n"
     ]
    },
    {
     "name": "stderr",
     "output_type": "stream",
     "text": [
      "                                                                                 \r"
     ]
    },
    {
     "name": "stdout",
     "output_type": "stream",
     "text": [
      "0.45977011494252873\n",
      "not best... at 2025-06-14_12:00:37\n",
      "\n",
      "\n",
      "\n",
      "{'data_unit': 'Spf', 'PH2': True, 'PH3': False, 'reducer': '', 'kernel': '', 'n': 75, 'label_col': 'class_numeric', 'class_list': 'ten-classes', 'batch_size': 1024}\n",
      "{'arch': 'BERT', 'device': device(type='mps'), 'loadable': 'distilbert-base-uncased', 'optimizer': <class 'torch.optim.adamw.AdamW'>, 'lr': 1e-05, 'weight_decay': 0, 'loss_fn': <class 'torch.nn.modules.loss.CrossEntropyLoss'>, 'num_epochs': 37}\n"
     ]
    },
    {
     "name": "stderr",
     "output_type": "stream",
     "text": [
      "                                                                                 \r"
     ]
    },
    {
     "name": "stdout",
     "output_type": "stream",
     "text": [
      "0.5196195005945303\n",
      "not best... at 2025-06-14_12:02:05\n",
      "\n",
      "\n",
      "\n",
      "{'data_unit': 'Spf', 'PH2': False, 'PH3': True, 'reducer': 'pca', 'kernel': '', 'n': 1, 'label_col': 'class_numeric', 'class_list': 'ten-classes', 'batch_size': 1024}\n",
      "{'arch': 'BERT', 'device': device(type='mps'), 'loadable': 'distilbert-base-uncased', 'optimizer': <class 'torch.optim.adamw.AdamW'>, 'lr': 1e-05, 'weight_decay': 0, 'loss_fn': <class 'torch.nn.modules.loss.CrossEntropyLoss'>, 'num_epochs': 37}\n"
     ]
    },
    {
     "name": "stderr",
     "output_type": "stream",
     "text": [
      "/Users/diego/miniconda3/envs/TOG_BERT_v2/lib/python3.10/site-packages/sklearn/metrics/_classification.py:1706: UndefinedMetricWarning: Precision is ill-defined and being set to 0.0 in labels with no predicted samples. Use `zero_division` parameter to control this behavior.\n",
      "  _warn_prf(average, modifier, f\"{metric.capitalize()} is\", result.shape[0])\n"
     ]
    },
    {
     "name": "stdout",
     "output_type": "stream",
     "text": [
      "0.17875544986127626\n",
      "not best... at 2025-06-14_12:03:32\n",
      "\n",
      "\n",
      "\n",
      "{'data_unit': 'Spf', 'PH2': False, 'PH3': True, 'reducer': 'umap', 'kernel': '', 'n': 1, 'label_col': 'class_numeric', 'class_list': 'ten-classes', 'batch_size': 1024}\n",
      "{'arch': 'BERT', 'device': device(type='mps'), 'loadable': 'distilbert-base-uncased', 'optimizer': <class 'torch.optim.adamw.AdamW'>, 'lr': 1e-05, 'weight_decay': 0, 'loss_fn': <class 'torch.nn.modules.loss.CrossEntropyLoss'>, 'num_epochs': 37}\n"
     ]
    },
    {
     "name": "stderr",
     "output_type": "stream",
     "text": [
      "/Users/diego/miniconda3/envs/TOG_BERT_v2/lib/python3.10/site-packages/sklearn/metrics/_classification.py:1706: UndefinedMetricWarning: Precision is ill-defined and being set to 0.0 in labels with no predicted samples. Use `zero_division` parameter to control this behavior.\n",
      "  _warn_prf(average, modifier, f\"{metric.capitalize()} is\", result.shape[0])\n"
     ]
    },
    {
     "name": "stdout",
     "output_type": "stream",
     "text": [
      "0.18549346016646848\n",
      "not best... at 2025-06-14_12:05:00\n",
      "\n",
      "\n",
      "\n",
      "{'data_unit': 'Spf', 'PH2': False, 'PH3': True, 'reducer': 'pca', 'kernel': '', 'n': 3, 'label_col': 'class_numeric', 'class_list': 'ten-classes', 'batch_size': 1024}\n",
      "{'arch': 'BERT', 'device': device(type='mps'), 'loadable': 'distilbert-base-uncased', 'optimizer': <class 'torch.optim.adamw.AdamW'>, 'lr': 1e-05, 'weight_decay': 0, 'loss_fn': <class 'torch.nn.modules.loss.CrossEntropyLoss'>, 'num_epochs': 37}\n"
     ]
    },
    {
     "name": "stderr",
     "output_type": "stream",
     "text": [
      "                                                                                 \r"
     ]
    },
    {
     "name": "stdout",
     "output_type": "stream",
     "text": [
      "0.3258026159334126\n",
      "not best... at 2025-06-14_12:06:26\n",
      "\n",
      "\n",
      "\n",
      "{'data_unit': 'Spf', 'PH2': False, 'PH3': True, 'reducer': 'umap', 'kernel': '', 'n': 3, 'label_col': 'class_numeric', 'class_list': 'ten-classes', 'batch_size': 1024}\n",
      "{'arch': 'BERT', 'device': device(type='mps'), 'loadable': 'distilbert-base-uncased', 'optimizer': <class 'torch.optim.adamw.AdamW'>, 'lr': 1e-05, 'weight_decay': 0, 'loss_fn': <class 'torch.nn.modules.loss.CrossEntropyLoss'>, 'num_epochs': 37}\n"
     ]
    },
    {
     "name": "stderr",
     "output_type": "stream",
     "text": [
      "                                                                                 \r"
     ]
    },
    {
     "name": "stdout",
     "output_type": "stream",
     "text": [
      "0.4589774078478002\n",
      "not best... at 2025-06-14_12:07:51\n",
      "\n",
      "\n",
      "\n",
      "{'data_unit': 'Spf', 'PH2': False, 'PH3': True, 'reducer': 'pca', 'kernel': '', 'n': 5, 'label_col': 'class_numeric', 'class_list': 'ten-classes', 'batch_size': 1024}\n",
      "{'arch': 'BERT', 'device': device(type='mps'), 'loadable': 'distilbert-base-uncased', 'optimizer': <class 'torch.optim.adamw.AdamW'>, 'lr': 1e-05, 'weight_decay': 0, 'loss_fn': <class 'torch.nn.modules.loss.CrossEntropyLoss'>, 'num_epochs': 37}\n"
     ]
    },
    {
     "name": "stderr",
     "output_type": "stream",
     "text": [
      "                                                                                 \r"
     ]
    },
    {
     "name": "stdout",
     "output_type": "stream",
     "text": [
      "0.4340071343638526\n",
      "not best... at 2025-06-14_12:09:17\n",
      "\n",
      "\n",
      "\n",
      "{'data_unit': 'Spf', 'PH2': False, 'PH3': True, 'reducer': 'umap', 'kernel': '', 'n': 5, 'label_col': 'class_numeric', 'class_list': 'ten-classes', 'batch_size': 1024}\n",
      "{'arch': 'BERT', 'device': device(type='mps'), 'loadable': 'distilbert-base-uncased', 'optimizer': <class 'torch.optim.adamw.AdamW'>, 'lr': 1e-05, 'weight_decay': 0, 'loss_fn': <class 'torch.nn.modules.loss.CrossEntropyLoss'>, 'num_epochs': 37}\n"
     ]
    },
    {
     "name": "stderr",
     "output_type": "stream",
     "text": [
      "                                                                                 \r"
     ]
    },
    {
     "name": "stdout",
     "output_type": "stream",
     "text": [
      "0.5212049147839873\n",
      "not best... at 2025-06-14_12:10:43\n",
      "\n",
      "\n",
      "\n",
      "{'data_unit': 'Spf', 'PH2': False, 'PH3': True, 'reducer': 'pca', 'kernel': '', 'n': 7, 'label_col': 'class_numeric', 'class_list': 'ten-classes', 'batch_size': 1024}\n",
      "{'arch': 'BERT', 'device': device(type='mps'), 'loadable': 'distilbert-base-uncased', 'optimizer': <class 'torch.optim.adamw.AdamW'>, 'lr': 1e-05, 'weight_decay': 0, 'loss_fn': <class 'torch.nn.modules.loss.CrossEntropyLoss'>, 'num_epochs': 37}\n"
     ]
    },
    {
     "name": "stderr",
     "output_type": "stream",
     "text": [
      "                                                                                 \r"
     ]
    },
    {
     "name": "stdout",
     "output_type": "stream",
     "text": [
      "0.5414189456995641\n",
      "not best... at 2025-06-14_12:12:09\n",
      "\n",
      "\n",
      "\n",
      "{'data_unit': 'Spf', 'PH2': False, 'PH3': True, 'reducer': 'umap', 'kernel': '', 'n': 7, 'label_col': 'class_numeric', 'class_list': 'ten-classes', 'batch_size': 1024}\n",
      "{'arch': 'BERT', 'device': device(type='mps'), 'loadable': 'distilbert-base-uncased', 'optimizer': <class 'torch.optim.adamw.AdamW'>, 'lr': 1e-05, 'weight_decay': 0, 'loss_fn': <class 'torch.nn.modules.loss.CrossEntropyLoss'>, 'num_epochs': 37}\n"
     ]
    },
    {
     "name": "stderr",
     "output_type": "stream",
     "text": [
      "                                                                                 \r"
     ]
    },
    {
     "name": "stdout",
     "output_type": "stream",
     "text": [
      "0.4768133174791914\n",
      "not best... at 2025-06-14_12:13:35\n",
      "\n",
      "\n",
      "\n",
      "{'data_unit': 'Spf', 'PH2': False, 'PH3': True, 'reducer': 'pca', 'kernel': '', 'n': 9, 'label_col': 'class_numeric', 'class_list': 'ten-classes', 'batch_size': 1024}\n",
      "{'arch': 'BERT', 'device': device(type='mps'), 'loadable': 'distilbert-base-uncased', 'optimizer': <class 'torch.optim.adamw.AdamW'>, 'lr': 1e-05, 'weight_decay': 0, 'loss_fn': <class 'torch.nn.modules.loss.CrossEntropyLoss'>, 'num_epochs': 37}\n"
     ]
    },
    {
     "name": "stderr",
     "output_type": "stream",
     "text": [
      "                                                                                 \r"
     ]
    },
    {
     "name": "stdout",
     "output_type": "stream",
     "text": [
      "0.7550535077288941\n",
      "updating best... at 2025-06-14_12:15:01\n",
      "\n",
      "\n",
      "\n",
      "{'data_unit': 'Spf', 'PH2': False, 'PH3': True, 'reducer': 'umap', 'kernel': '', 'n': 9, 'label_col': 'class_numeric', 'class_list': 'ten-classes', 'batch_size': 1024}\n",
      "{'arch': 'BERT', 'device': device(type='mps'), 'loadable': 'distilbert-base-uncased', 'optimizer': <class 'torch.optim.adamw.AdamW'>, 'lr': 1e-05, 'weight_decay': 0, 'loss_fn': <class 'torch.nn.modules.loss.CrossEntropyLoss'>, 'num_epochs': 37}\n"
     ]
    },
    {
     "name": "stderr",
     "output_type": "stream",
     "text": [
      "                                                                                 \r"
     ]
    },
    {
     "name": "stdout",
     "output_type": "stream",
     "text": [
      "0.4780023781212842\n",
      "not best... at 2025-06-14_12:16:27\n",
      "\n",
      "\n",
      "\n",
      "{'data_unit': 'Spf', 'PH2': False, 'PH3': True, 'reducer': 'pca', 'kernel': '', 'n': 11, 'label_col': 'class_numeric', 'class_list': 'ten-classes', 'batch_size': 1024}\n",
      "{'arch': 'BERT', 'device': device(type='mps'), 'loadable': 'distilbert-base-uncased', 'optimizer': <class 'torch.optim.adamw.AdamW'>, 'lr': 1e-05, 'weight_decay': 0, 'loss_fn': <class 'torch.nn.modules.loss.CrossEntropyLoss'>, 'num_epochs': 37}\n"
     ]
    },
    {
     "name": "stderr",
     "output_type": "stream",
     "text": [
      "                                                                                 \r"
     ]
    },
    {
     "name": "stdout",
     "output_type": "stream",
     "text": [
      "0.7732857709076496\n",
      "updating best... at 2025-06-14_12:17:53\n",
      "\n",
      "\n",
      "\n",
      "{'data_unit': 'Spf', 'PH2': False, 'PH3': True, 'reducer': 'umap', 'kernel': '', 'n': 11, 'label_col': 'class_numeric', 'class_list': 'ten-classes', 'batch_size': 1024}\n",
      "{'arch': 'BERT', 'device': device(type='mps'), 'loadable': 'distilbert-base-uncased', 'optimizer': <class 'torch.optim.adamw.AdamW'>, 'lr': 1e-05, 'weight_decay': 0, 'loss_fn': <class 'torch.nn.modules.loss.CrossEntropyLoss'>, 'num_epochs': 37}\n"
     ]
    },
    {
     "name": "stderr",
     "output_type": "stream",
     "text": [
      "                                                                                 \r"
     ]
    },
    {
     "name": "stdout",
     "output_type": "stream",
     "text": [
      "0.4244946492271106\n",
      "not best... at 2025-06-14_12:19:19\n",
      "\n",
      "\n",
      "\n",
      "{'data_unit': 'Spf', 'PH2': False, 'PH3': True, 'reducer': 'pca', 'kernel': '', 'n': 13, 'label_col': 'class_numeric', 'class_list': 'ten-classes', 'batch_size': 1024}\n",
      "{'arch': 'BERT', 'device': device(type='mps'), 'loadable': 'distilbert-base-uncased', 'optimizer': <class 'torch.optim.adamw.AdamW'>, 'lr': 1e-05, 'weight_decay': 0, 'loss_fn': <class 'torch.nn.modules.loss.CrossEntropyLoss'>, 'num_epochs': 37}\n"
     ]
    },
    {
     "name": "stderr",
     "output_type": "stream",
     "text": [
      "                                                                                 \r"
     ]
    },
    {
     "name": "stdout",
     "output_type": "stream",
     "text": [
      "0.797859690844233\n",
      "updating best... at 2025-06-14_12:20:45\n",
      "\n",
      "\n",
      "\n",
      "{'data_unit': 'Spf', 'PH2': False, 'PH3': True, 'reducer': 'umap', 'kernel': '', 'n': 13, 'label_col': 'class_numeric', 'class_list': 'ten-classes', 'batch_size': 1024}\n",
      "{'arch': 'BERT', 'device': device(type='mps'), 'loadable': 'distilbert-base-uncased', 'optimizer': <class 'torch.optim.adamw.AdamW'>, 'lr': 1e-05, 'weight_decay': 0, 'loss_fn': <class 'torch.nn.modules.loss.CrossEntropyLoss'>, 'num_epochs': 37}\n"
     ]
    },
    {
     "name": "stderr",
     "output_type": "stream",
     "text": [
      "                                                                                 \r"
     ]
    },
    {
     "name": "stdout",
     "output_type": "stream",
     "text": [
      "0.4383670233848593\n",
      "not best... at 2025-06-14_12:22:14\n",
      "\n",
      "\n",
      "\n",
      "{'data_unit': 'Spf', 'PH2': False, 'PH3': True, 'reducer': 'pca', 'kernel': '', 'n': 15, 'label_col': 'class_numeric', 'class_list': 'ten-classes', 'batch_size': 1024}\n",
      "{'arch': 'BERT', 'device': device(type='mps'), 'loadable': 'distilbert-base-uncased', 'optimizer': <class 'torch.optim.adamw.AdamW'>, 'lr': 1e-05, 'weight_decay': 0, 'loss_fn': <class 'torch.nn.modules.loss.CrossEntropyLoss'>, 'num_epochs': 37}\n"
     ]
    },
    {
     "name": "stderr",
     "output_type": "stream",
     "text": [
      "                                                                                 \r"
     ]
    },
    {
     "name": "stdout",
     "output_type": "stream",
     "text": [
      "0.7950852160126833\n",
      "not best... at 2025-06-14_12:23:42\n",
      "\n",
      "\n",
      "\n",
      "{'data_unit': 'Spf', 'PH2': False, 'PH3': True, 'reducer': 'umap', 'kernel': '', 'n': 15, 'label_col': 'class_numeric', 'class_list': 'ten-classes', 'batch_size': 1024}\n",
      "{'arch': 'BERT', 'device': device(type='mps'), 'loadable': 'distilbert-base-uncased', 'optimizer': <class 'torch.optim.adamw.AdamW'>, 'lr': 1e-05, 'weight_decay': 0, 'loss_fn': <class 'torch.nn.modules.loss.CrossEntropyLoss'>, 'num_epochs': 37}\n"
     ]
    },
    {
     "name": "stderr",
     "output_type": "stream",
     "text": [
      "                                                                                 \r"
     ]
    },
    {
     "name": "stdout",
     "output_type": "stream",
     "text": [
      "0.4684898929845422\n",
      "not best... at 2025-06-14_12:25:09\n",
      "\n",
      "\n",
      "\n",
      "{'data_unit': 'Spf', 'PH2': False, 'PH3': False, 'reducer': '', 'kernel': '', 'n': 72, 'label_col': 'class_numeric', 'class_list': 'ten-classes', 'batch_size': 1024}\n",
      "{'arch': 'BERT', 'device': device(type='mps'), 'loadable': 'distilbert-base-uncased', 'optimizer': <class 'torch.optim.adamw.AdamW'>, 'lr': 1e-05, 'weight_decay': 0, 'loss_fn': <class 'torch.nn.modules.loss.CrossEntropyLoss'>, 'num_epochs': 37}\n"
     ]
    },
    {
     "name": "stderr",
     "output_type": "stream",
     "text": [
      "                                                                                 \r"
     ]
    },
    {
     "name": "stdout",
     "output_type": "stream",
     "text": [
      "0.8787158145065398\n",
      "updating best... at 2025-06-14_12:26:37\n",
      "\n",
      "\n",
      "\n",
      "Data Unit: Spf\n",
      "Best score: 0.8787158145065398\n",
      "Best data config: {'data_unit': 'Spf', 'PH2': False, 'PH3': False, 'reducer': '', 'kernel': '', 'n': 72, 'label_col': 'class_numeric', 'class_list': 'ten-classes', 'batch_size': 1024}\n",
      "Best train config: {'arch': 'BERT', 'device': device(type='mps'), 'loadable': 'distilbert-base-uncased', 'optimizer': <class 'torch.optim.adamw.AdamW'>, 'lr': 1e-05, 'weight_decay': 0, 'loss_fn': <class 'torch.nn.modules.loss.CrossEntropyLoss'>, 'num_epochs': 37}\n"
     ]
    }
   ],
   "source": [
    "bert.find_best(data_unit=sup.DATA_S_PF, label_col=sup.class_numeric_column, \n",
    "                    class_list=TRAIN_classes, batch_size=exploring_batch_size,\n",
    "                    LOADABLE_CANDIDATES=[exploringBERT], \n",
    "                    num_epochs_CANDIDATES=[exploring_num_epochs_spf])"
   ]
  },
  {
   "cell_type": "code",
   "execution_count": 7,
   "id": "f3148a43",
   "metadata": {},
   "outputs": [],
   "source": [
    "spf_bert_scores_df = pd.DataFrame(sup.bert_score_tracker, columns=sup.bert_scores_columns)\n",
    "now = datetime.now().strftime(\"%Y-%m-%d_%H:%M:%S\")\n",
    "sup.create_dir_if_not_exists(os.path.join(sup.TRAIN_SCORES_ROOT, TRAIN_classes, \n",
    "                                          sup.TRAIN_BERT_CODE,\n",
    "                                          sup.DATA_S_PF,\n",
    "                                          exploringBERT))\n",
    "spf_bert_scores_df.to_csv(os.path.join(sup.TRAIN_SCORES_ROOT, TRAIN_classes, \n",
    "                                       sup.TRAIN_BERT_CODE,\n",
    "                                       sup.DATA_S_PF,\n",
    "                                       exploringBERT, \n",
    "                                       f\"{now}.csv\"), index=False)"
   ]
  },
  {
   "cell_type": "markdown",
   "id": "78fbf302",
   "metadata": {},
   "source": [
    "### Spv"
   ]
  },
  {
   "cell_type": "code",
   "execution_count": 8,
   "id": "454b403b",
   "metadata": {},
   "outputs": [],
   "source": [
    "sup.bert_score_tracker = []\n"
   ]
  },
  {
   "cell_type": "code",
   "execution_count": 9,
   "id": "c92362f9",
   "metadata": {},
   "outputs": [
    {
     "name": "stdout",
     "output_type": "stream",
     "text": [
      "{'data_unit': 'Spv', 'PH2': True, 'PH3': True, 'reducer': 'pca', 'kernel': '', 'n': 1, 'label_col': 'class_numeric', 'class_list': 'ten-classes', 'batch_size': 1024}\n",
      "{'arch': 'BERT', 'device': device(type='mps'), 'loadable': 'distilbert-base-uncased', 'optimizer': <class 'torch.optim.adamw.AdamW'>, 'lr': 1e-05, 'weight_decay': 0, 'loss_fn': <class 'torch.nn.modules.loss.CrossEntropyLoss'>, 'num_epochs': 148}\n"
     ]
    },
    {
     "name": "stderr",
     "output_type": "stream",
     "text": [
      "                                                                                    \r"
     ]
    },
    {
     "name": "stdout",
     "output_type": "stream",
     "text": [
      "0.3222748815165877\n",
      "updating best... at 2025-06-14_12:31:57\n",
      "\n",
      "\n",
      "\n",
      "{'data_unit': 'Spv', 'PH2': True, 'PH3': True, 'reducer': 'umap', 'kernel': '', 'n': 1, 'label_col': 'class_numeric', 'class_list': 'ten-classes', 'batch_size': 1024}\n",
      "{'arch': 'BERT', 'device': device(type='mps'), 'loadable': 'distilbert-base-uncased', 'optimizer': <class 'torch.optim.adamw.AdamW'>, 'lr': 1e-05, 'weight_decay': 0, 'loss_fn': <class 'torch.nn.modules.loss.CrossEntropyLoss'>, 'num_epochs': 148}\n"
     ]
    },
    {
     "name": "stderr",
     "output_type": "stream",
     "text": [
      "                                                                                    \r"
     ]
    },
    {
     "name": "stdout",
     "output_type": "stream",
     "text": [
      "0.22748815165876776\n",
      "not best... at 2025-06-14_12:37:17\n",
      "\n",
      "\n",
      "\n",
      "{'data_unit': 'Spv', 'PH2': True, 'PH3': True, 'reducer': 'pca', 'kernel': '', 'n': 3, 'label_col': 'class_numeric', 'class_list': 'ten-classes', 'batch_size': 1024}\n",
      "{'arch': 'BERT', 'device': device(type='mps'), 'loadable': 'distilbert-base-uncased', 'optimizer': <class 'torch.optim.adamw.AdamW'>, 'lr': 1e-05, 'weight_decay': 0, 'loss_fn': <class 'torch.nn.modules.loss.CrossEntropyLoss'>, 'num_epochs': 148}\n"
     ]
    },
    {
     "name": "stderr",
     "output_type": "stream",
     "text": [
      "                                                                                    \r"
     ]
    },
    {
     "name": "stdout",
     "output_type": "stream",
     "text": [
      "0.5734597156398105\n",
      "updating best... at 2025-06-14_12:42:34\n",
      "\n",
      "\n",
      "\n",
      "{'data_unit': 'Spv', 'PH2': True, 'PH3': True, 'reducer': 'umap', 'kernel': '', 'n': 3, 'label_col': 'class_numeric', 'class_list': 'ten-classes', 'batch_size': 1024}\n",
      "{'arch': 'BERT', 'device': device(type='mps'), 'loadable': 'distilbert-base-uncased', 'optimizer': <class 'torch.optim.adamw.AdamW'>, 'lr': 1e-05, 'weight_decay': 0, 'loss_fn': <class 'torch.nn.modules.loss.CrossEntropyLoss'>, 'num_epochs': 148}\n"
     ]
    },
    {
     "name": "stderr",
     "output_type": "stream",
     "text": [
      "                                                                                    \r"
     ]
    },
    {
     "name": "stdout",
     "output_type": "stream",
     "text": [
      "0.4976303317535545\n",
      "not best... at 2025-06-14_12:47:53\n",
      "\n",
      "\n",
      "\n",
      "{'data_unit': 'Spv', 'PH2': True, 'PH3': True, 'reducer': 'pca', 'kernel': '', 'n': 5, 'label_col': 'class_numeric', 'class_list': 'ten-classes', 'batch_size': 1024}\n",
      "{'arch': 'BERT', 'device': device(type='mps'), 'loadable': 'distilbert-base-uncased', 'optimizer': <class 'torch.optim.adamw.AdamW'>, 'lr': 1e-05, 'weight_decay': 0, 'loss_fn': <class 'torch.nn.modules.loss.CrossEntropyLoss'>, 'num_epochs': 148}\n"
     ]
    },
    {
     "name": "stderr",
     "output_type": "stream",
     "text": [
      "                                                                                     \r"
     ]
    },
    {
     "name": "stdout",
     "output_type": "stream",
     "text": [
      "0.5734597156398105\n",
      "not best... at 2025-06-14_12:53:11\n",
      "\n",
      "\n",
      "\n",
      "{'data_unit': 'Spv', 'PH2': True, 'PH3': True, 'reducer': 'umap', 'kernel': '', 'n': 5, 'label_col': 'class_numeric', 'class_list': 'ten-classes', 'batch_size': 1024}\n",
      "{'arch': 'BERT', 'device': device(type='mps'), 'loadable': 'distilbert-base-uncased', 'optimizer': <class 'torch.optim.adamw.AdamW'>, 'lr': 1e-05, 'weight_decay': 0, 'loss_fn': <class 'torch.nn.modules.loss.CrossEntropyLoss'>, 'num_epochs': 148}\n"
     ]
    },
    {
     "name": "stderr",
     "output_type": "stream",
     "text": [
      "                                                                                    \r"
     ]
    },
    {
     "name": "stdout",
     "output_type": "stream",
     "text": [
      "0.5213270142180095\n",
      "not best... at 2025-06-14_12:58:27\n",
      "\n",
      "\n",
      "\n",
      "{'data_unit': 'Spv', 'PH2': True, 'PH3': True, 'reducer': 'pca', 'kernel': '', 'n': 7, 'label_col': 'class_numeric', 'class_list': 'ten-classes', 'batch_size': 1024}\n",
      "{'arch': 'BERT', 'device': device(type='mps'), 'loadable': 'distilbert-base-uncased', 'optimizer': <class 'torch.optim.adamw.AdamW'>, 'lr': 1e-05, 'weight_decay': 0, 'loss_fn': <class 'torch.nn.modules.loss.CrossEntropyLoss'>, 'num_epochs': 148}\n"
     ]
    },
    {
     "name": "stderr",
     "output_type": "stream",
     "text": [
      "                                                                                     \r"
     ]
    },
    {
     "name": "stdout",
     "output_type": "stream",
     "text": [
      "0.6587677725118484\n",
      "updating best... at 2025-06-14_13:03:37\n",
      "\n",
      "\n",
      "\n",
      "{'data_unit': 'Spv', 'PH2': True, 'PH3': True, 'reducer': 'umap', 'kernel': '', 'n': 7, 'label_col': 'class_numeric', 'class_list': 'ten-classes', 'batch_size': 1024}\n",
      "{'arch': 'BERT', 'device': device(type='mps'), 'loadable': 'distilbert-base-uncased', 'optimizer': <class 'torch.optim.adamw.AdamW'>, 'lr': 1e-05, 'weight_decay': 0, 'loss_fn': <class 'torch.nn.modules.loss.CrossEntropyLoss'>, 'num_epochs': 148}\n"
     ]
    },
    {
     "name": "stderr",
     "output_type": "stream",
     "text": [
      "                                                                                    \r"
     ]
    },
    {
     "name": "stdout",
     "output_type": "stream",
     "text": [
      "0.4834123222748815\n",
      "not best... at 2025-06-14_13:08:49\n",
      "\n",
      "\n",
      "\n",
      "{'data_unit': 'Spv', 'PH2': True, 'PH3': True, 'reducer': 'pca', 'kernel': '', 'n': 9, 'label_col': 'class_numeric', 'class_list': 'ten-classes', 'batch_size': 1024}\n",
      "{'arch': 'BERT', 'device': device(type='mps'), 'loadable': 'distilbert-base-uncased', 'optimizer': <class 'torch.optim.adamw.AdamW'>, 'lr': 1e-05, 'weight_decay': 0, 'loss_fn': <class 'torch.nn.modules.loss.CrossEntropyLoss'>, 'num_epochs': 148}\n"
     ]
    },
    {
     "name": "stderr",
     "output_type": "stream",
     "text": [
      "                                                                                     \r"
     ]
    },
    {
     "name": "stdout",
     "output_type": "stream",
     "text": [
      "0.5545023696682464\n",
      "not best... at 2025-06-14_13:14:01\n",
      "\n",
      "\n",
      "\n",
      "{'data_unit': 'Spv', 'PH2': True, 'PH3': True, 'reducer': 'umap', 'kernel': '', 'n': 9, 'label_col': 'class_numeric', 'class_list': 'ten-classes', 'batch_size': 1024}\n",
      "{'arch': 'BERT', 'device': device(type='mps'), 'loadable': 'distilbert-base-uncased', 'optimizer': <class 'torch.optim.adamw.AdamW'>, 'lr': 1e-05, 'weight_decay': 0, 'loss_fn': <class 'torch.nn.modules.loss.CrossEntropyLoss'>, 'num_epochs': 148}\n"
     ]
    },
    {
     "name": "stderr",
     "output_type": "stream",
     "text": [
      "                                                                                    \r"
     ]
    },
    {
     "name": "stdout",
     "output_type": "stream",
     "text": [
      "0.5213270142180095\n",
      "not best... at 2025-06-14_13:19:14\n",
      "\n",
      "\n",
      "\n",
      "{'data_unit': 'Spv', 'PH2': True, 'PH3': True, 'reducer': 'pca', 'kernel': '', 'n': 11, 'label_col': 'class_numeric', 'class_list': 'ten-classes', 'batch_size': 1024}\n",
      "{'arch': 'BERT', 'device': device(type='mps'), 'loadable': 'distilbert-base-uncased', 'optimizer': <class 'torch.optim.adamw.AdamW'>, 'lr': 1e-05, 'weight_decay': 0, 'loss_fn': <class 'torch.nn.modules.loss.CrossEntropyLoss'>, 'num_epochs': 148}\n"
     ]
    },
    {
     "name": "stderr",
     "output_type": "stream",
     "text": [
      "                                                                                     \r"
     ]
    },
    {
     "name": "stdout",
     "output_type": "stream",
     "text": [
      "0.6635071090047393\n",
      "updating best... at 2025-06-14_13:24:32\n",
      "\n",
      "\n",
      "\n",
      "{'data_unit': 'Spv', 'PH2': True, 'PH3': True, 'reducer': 'umap', 'kernel': '', 'n': 11, 'label_col': 'class_numeric', 'class_list': 'ten-classes', 'batch_size': 1024}\n",
      "{'arch': 'BERT', 'device': device(type='mps'), 'loadable': 'distilbert-base-uncased', 'optimizer': <class 'torch.optim.adamw.AdamW'>, 'lr': 1e-05, 'weight_decay': 0, 'loss_fn': <class 'torch.nn.modules.loss.CrossEntropyLoss'>, 'num_epochs': 148}\n"
     ]
    },
    {
     "name": "stderr",
     "output_type": "stream",
     "text": [
      "                                                                                    \r"
     ]
    },
    {
     "name": "stdout",
     "output_type": "stream",
     "text": [
      "0.4786729857819905\n",
      "not best... at 2025-06-14_13:29:51\n",
      "\n",
      "\n",
      "\n",
      "{'data_unit': 'Spv', 'PH2': True, 'PH3': True, 'reducer': 'pca', 'kernel': '', 'n': 13, 'label_col': 'class_numeric', 'class_list': 'ten-classes', 'batch_size': 1024}\n",
      "{'arch': 'BERT', 'device': device(type='mps'), 'loadable': 'distilbert-base-uncased', 'optimizer': <class 'torch.optim.adamw.AdamW'>, 'lr': 1e-05, 'weight_decay': 0, 'loss_fn': <class 'torch.nn.modules.loss.CrossEntropyLoss'>, 'num_epochs': 148}\n"
     ]
    },
    {
     "name": "stderr",
     "output_type": "stream",
     "text": [
      "                                                                                     \r"
     ]
    },
    {
     "name": "stdout",
     "output_type": "stream",
     "text": [
      "0.6350710900473934\n",
      "not best... at 2025-06-14_13:35:09\n",
      "\n",
      "\n",
      "\n",
      "{'data_unit': 'Spv', 'PH2': True, 'PH3': True, 'reducer': 'umap', 'kernel': '', 'n': 13, 'label_col': 'class_numeric', 'class_list': 'ten-classes', 'batch_size': 1024}\n",
      "{'arch': 'BERT', 'device': device(type='mps'), 'loadable': 'distilbert-base-uncased', 'optimizer': <class 'torch.optim.adamw.AdamW'>, 'lr': 1e-05, 'weight_decay': 0, 'loss_fn': <class 'torch.nn.modules.loss.CrossEntropyLoss'>, 'num_epochs': 148}\n"
     ]
    },
    {
     "name": "stderr",
     "output_type": "stream",
     "text": [
      "                                                                                    \r"
     ]
    },
    {
     "name": "stdout",
     "output_type": "stream",
     "text": [
      "0.5023696682464455\n",
      "not best... at 2025-06-14_13:40:27\n",
      "\n",
      "\n",
      "\n",
      "{'data_unit': 'Spv', 'PH2': True, 'PH3': True, 'reducer': 'pca', 'kernel': '', 'n': 15, 'label_col': 'class_numeric', 'class_list': 'ten-classes', 'batch_size': 1024}\n",
      "{'arch': 'BERT', 'device': device(type='mps'), 'loadable': 'distilbert-base-uncased', 'optimizer': <class 'torch.optim.adamw.AdamW'>, 'lr': 1e-05, 'weight_decay': 0, 'loss_fn': <class 'torch.nn.modules.loss.CrossEntropyLoss'>, 'num_epochs': 148}\n"
     ]
    },
    {
     "name": "stderr",
     "output_type": "stream",
     "text": [
      "                                                                                     \r"
     ]
    },
    {
     "name": "stdout",
     "output_type": "stream",
     "text": [
      "0.6350710900473934\n",
      "not best... at 2025-06-14_13:45:45\n",
      "\n",
      "\n",
      "\n",
      "{'data_unit': 'Spv', 'PH2': True, 'PH3': True, 'reducer': 'umap', 'kernel': '', 'n': 15, 'label_col': 'class_numeric', 'class_list': 'ten-classes', 'batch_size': 1024}\n",
      "{'arch': 'BERT', 'device': device(type='mps'), 'loadable': 'distilbert-base-uncased', 'optimizer': <class 'torch.optim.adamw.AdamW'>, 'lr': 1e-05, 'weight_decay': 0, 'loss_fn': <class 'torch.nn.modules.loss.CrossEntropyLoss'>, 'num_epochs': 148}\n"
     ]
    },
    {
     "name": "stderr",
     "output_type": "stream",
     "text": [
      "                                                                                    \r"
     ]
    },
    {
     "name": "stdout",
     "output_type": "stream",
     "text": [
      "0.4976303317535545\n",
      "not best... at 2025-06-14_13:51:04\n",
      "\n",
      "\n",
      "\n",
      "{'data_unit': 'Spv', 'PH2': True, 'PH3': False, 'reducer': '', 'kernel': '', 'n': 75, 'label_col': 'class_numeric', 'class_list': 'ten-classes', 'batch_size': 1024}\n",
      "{'arch': 'BERT', 'device': device(type='mps'), 'loadable': 'distilbert-base-uncased', 'optimizer': <class 'torch.optim.adamw.AdamW'>, 'lr': 1e-05, 'weight_decay': 0, 'loss_fn': <class 'torch.nn.modules.loss.CrossEntropyLoss'>, 'num_epochs': 148}\n"
     ]
    },
    {
     "name": "stderr",
     "output_type": "stream",
     "text": [
      "                                                                                     \r"
     ]
    },
    {
     "name": "stdout",
     "output_type": "stream",
     "text": [
      "0.5450236966824644\n",
      "not best... at 2025-06-14_13:56:23\n",
      "\n",
      "\n",
      "\n",
      "{'data_unit': 'Spv', 'PH2': False, 'PH3': True, 'reducer': 'pca', 'kernel': '', 'n': 1, 'label_col': 'class_numeric', 'class_list': 'ten-classes', 'batch_size': 1024}\n",
      "{'arch': 'BERT', 'device': device(type='mps'), 'loadable': 'distilbert-base-uncased', 'optimizer': <class 'torch.optim.adamw.AdamW'>, 'lr': 1e-05, 'weight_decay': 0, 'loss_fn': <class 'torch.nn.modules.loss.CrossEntropyLoss'>, 'num_epochs': 148}\n"
     ]
    },
    {
     "name": "stderr",
     "output_type": "stream",
     "text": [
      "                                                                                    \r"
     ]
    },
    {
     "name": "stdout",
     "output_type": "stream",
     "text": [
      "0.23696682464454977\n",
      "not best... at 2025-06-14_14:01:41\n",
      "\n",
      "\n",
      "\n",
      "{'data_unit': 'Spv', 'PH2': False, 'PH3': True, 'reducer': 'umap', 'kernel': '', 'n': 1, 'label_col': 'class_numeric', 'class_list': 'ten-classes', 'batch_size': 1024}\n",
      "{'arch': 'BERT', 'device': device(type='mps'), 'loadable': 'distilbert-base-uncased', 'optimizer': <class 'torch.optim.adamw.AdamW'>, 'lr': 1e-05, 'weight_decay': 0, 'loss_fn': <class 'torch.nn.modules.loss.CrossEntropyLoss'>, 'num_epochs': 148}\n"
     ]
    },
    {
     "name": "stderr",
     "output_type": "stream",
     "text": [
      "                                                                                    \r"
     ]
    },
    {
     "name": "stdout",
     "output_type": "stream",
     "text": [
      "0.15639810426540285\n",
      "not best... at 2025-06-14_14:06:59\n",
      "\n",
      "\n",
      "\n",
      "{'data_unit': 'Spv', 'PH2': False, 'PH3': True, 'reducer': 'pca', 'kernel': '', 'n': 3, 'label_col': 'class_numeric', 'class_list': 'ten-classes', 'batch_size': 1024}\n",
      "{'arch': 'BERT', 'device': device(type='mps'), 'loadable': 'distilbert-base-uncased', 'optimizer': <class 'torch.optim.adamw.AdamW'>, 'lr': 1e-05, 'weight_decay': 0, 'loss_fn': <class 'torch.nn.modules.loss.CrossEntropyLoss'>, 'num_epochs': 148}\n"
     ]
    },
    {
     "name": "stderr",
     "output_type": "stream",
     "text": [
      "                                                                                    \r"
     ]
    },
    {
     "name": "stdout",
     "output_type": "stream",
     "text": [
      "0.3459715639810427\n",
      "not best... at 2025-06-14_14:12:16\n",
      "\n",
      "\n",
      "\n",
      "{'data_unit': 'Spv', 'PH2': False, 'PH3': True, 'reducer': 'umap', 'kernel': '', 'n': 3, 'label_col': 'class_numeric', 'class_list': 'ten-classes', 'batch_size': 1024}\n",
      "{'arch': 'BERT', 'device': device(type='mps'), 'loadable': 'distilbert-base-uncased', 'optimizer': <class 'torch.optim.adamw.AdamW'>, 'lr': 1e-05, 'weight_decay': 0, 'loss_fn': <class 'torch.nn.modules.loss.CrossEntropyLoss'>, 'num_epochs': 148}\n"
     ]
    },
    {
     "name": "stderr",
     "output_type": "stream",
     "text": [
      "                                                                                    \r"
     ]
    },
    {
     "name": "stdout",
     "output_type": "stream",
     "text": [
      "0.2843601895734597\n",
      "not best... at 2025-06-14_14:17:34\n",
      "\n",
      "\n",
      "\n",
      "{'data_unit': 'Spv', 'PH2': False, 'PH3': True, 'reducer': 'pca', 'kernel': '', 'n': 5, 'label_col': 'class_numeric', 'class_list': 'ten-classes', 'batch_size': 1024}\n",
      "{'arch': 'BERT', 'device': device(type='mps'), 'loadable': 'distilbert-base-uncased', 'optimizer': <class 'torch.optim.adamw.AdamW'>, 'lr': 1e-05, 'weight_decay': 0, 'loss_fn': <class 'torch.nn.modules.loss.CrossEntropyLoss'>, 'num_epochs': 148}\n"
     ]
    },
    {
     "name": "stderr",
     "output_type": "stream",
     "text": [
      "                                                                                    \r"
     ]
    },
    {
     "name": "stdout",
     "output_type": "stream",
     "text": [
      "0.44075829383886256\n",
      "not best... at 2025-06-14_14:22:52\n",
      "\n",
      "\n",
      "\n",
      "{'data_unit': 'Spv', 'PH2': False, 'PH3': True, 'reducer': 'umap', 'kernel': '', 'n': 5, 'label_col': 'class_numeric', 'class_list': 'ten-classes', 'batch_size': 1024}\n",
      "{'arch': 'BERT', 'device': device(type='mps'), 'loadable': 'distilbert-base-uncased', 'optimizer': <class 'torch.optim.adamw.AdamW'>, 'lr': 1e-05, 'weight_decay': 0, 'loss_fn': <class 'torch.nn.modules.loss.CrossEntropyLoss'>, 'num_epochs': 148}\n"
     ]
    },
    {
     "name": "stderr",
     "output_type": "stream",
     "text": [
      "                                                                                    \r"
     ]
    },
    {
     "name": "stdout",
     "output_type": "stream",
     "text": [
      "0.2985781990521327\n",
      "not best... at 2025-06-14_14:28:10\n",
      "\n",
      "\n",
      "\n",
      "{'data_unit': 'Spv', 'PH2': False, 'PH3': True, 'reducer': 'pca', 'kernel': '', 'n': 7, 'label_col': 'class_numeric', 'class_list': 'ten-classes', 'batch_size': 1024}\n",
      "{'arch': 'BERT', 'device': device(type='mps'), 'loadable': 'distilbert-base-uncased', 'optimizer': <class 'torch.optim.adamw.AdamW'>, 'lr': 1e-05, 'weight_decay': 0, 'loss_fn': <class 'torch.nn.modules.loss.CrossEntropyLoss'>, 'num_epochs': 148}\n"
     ]
    },
    {
     "name": "stderr",
     "output_type": "stream",
     "text": [
      "                                                                                     \r"
     ]
    },
    {
     "name": "stdout",
     "output_type": "stream",
     "text": [
      "0.5355450236966824\n",
      "not best... at 2025-06-14_14:33:28\n",
      "\n",
      "\n",
      "\n",
      "{'data_unit': 'Spv', 'PH2': False, 'PH3': True, 'reducer': 'umap', 'kernel': '', 'n': 7, 'label_col': 'class_numeric', 'class_list': 'ten-classes', 'batch_size': 1024}\n",
      "{'arch': 'BERT', 'device': device(type='mps'), 'loadable': 'distilbert-base-uncased', 'optimizer': <class 'torch.optim.adamw.AdamW'>, 'lr': 1e-05, 'weight_decay': 0, 'loss_fn': <class 'torch.nn.modules.loss.CrossEntropyLoss'>, 'num_epochs': 148}\n"
     ]
    },
    {
     "name": "stderr",
     "output_type": "stream",
     "text": [
      "                                                                                    \r"
     ]
    },
    {
     "name": "stdout",
     "output_type": "stream",
     "text": [
      "0.32701421800947866\n",
      "not best... at 2025-06-14_14:38:45\n",
      "\n",
      "\n",
      "\n",
      "{'data_unit': 'Spv', 'PH2': False, 'PH3': True, 'reducer': 'pca', 'kernel': '', 'n': 9, 'label_col': 'class_numeric', 'class_list': 'ten-classes', 'batch_size': 1024}\n",
      "{'arch': 'BERT', 'device': device(type='mps'), 'loadable': 'distilbert-base-uncased', 'optimizer': <class 'torch.optim.adamw.AdamW'>, 'lr': 1e-05, 'weight_decay': 0, 'loss_fn': <class 'torch.nn.modules.loss.CrossEntropyLoss'>, 'num_epochs': 148}\n"
     ]
    },
    {
     "name": "stderr",
     "output_type": "stream",
     "text": [
      "                                                                                     \r"
     ]
    },
    {
     "name": "stdout",
     "output_type": "stream",
     "text": [
      "0.7630331753554502\n",
      "updating best... at 2025-06-14_14:44:04\n",
      "\n",
      "\n",
      "\n",
      "{'data_unit': 'Spv', 'PH2': False, 'PH3': True, 'reducer': 'umap', 'kernel': '', 'n': 9, 'label_col': 'class_numeric', 'class_list': 'ten-classes', 'batch_size': 1024}\n",
      "{'arch': 'BERT', 'device': device(type='mps'), 'loadable': 'distilbert-base-uncased', 'optimizer': <class 'torch.optim.adamw.AdamW'>, 'lr': 1e-05, 'weight_decay': 0, 'loss_fn': <class 'torch.nn.modules.loss.CrossEntropyLoss'>, 'num_epochs': 148}\n"
     ]
    },
    {
     "name": "stderr",
     "output_type": "stream",
     "text": [
      "                                                                                    \r"
     ]
    },
    {
     "name": "stdout",
     "output_type": "stream",
     "text": [
      "0.2938388625592417\n",
      "not best... at 2025-06-14_14:49:23\n",
      "\n",
      "\n",
      "\n",
      "{'data_unit': 'Spv', 'PH2': False, 'PH3': True, 'reducer': 'pca', 'kernel': '', 'n': 11, 'label_col': 'class_numeric', 'class_list': 'ten-classes', 'batch_size': 1024}\n",
      "{'arch': 'BERT', 'device': device(type='mps'), 'loadable': 'distilbert-base-uncased', 'optimizer': <class 'torch.optim.adamw.AdamW'>, 'lr': 1e-05, 'weight_decay': 0, 'loss_fn': <class 'torch.nn.modules.loss.CrossEntropyLoss'>, 'num_epochs': 148}\n"
     ]
    },
    {
     "name": "stderr",
     "output_type": "stream",
     "text": [
      "                                                                                     \r"
     ]
    },
    {
     "name": "stdout",
     "output_type": "stream",
     "text": [
      "0.7867298578199052\n",
      "updating best... at 2025-06-14_14:54:41\n",
      "\n",
      "\n",
      "\n",
      "{'data_unit': 'Spv', 'PH2': False, 'PH3': True, 'reducer': 'umap', 'kernel': '', 'n': 11, 'label_col': 'class_numeric', 'class_list': 'ten-classes', 'batch_size': 1024}\n",
      "{'arch': 'BERT', 'device': device(type='mps'), 'loadable': 'distilbert-base-uncased', 'optimizer': <class 'torch.optim.adamw.AdamW'>, 'lr': 1e-05, 'weight_decay': 0, 'loss_fn': <class 'torch.nn.modules.loss.CrossEntropyLoss'>, 'num_epochs': 148}\n"
     ]
    },
    {
     "name": "stderr",
     "output_type": "stream",
     "text": [
      "                                                                                    \r"
     ]
    },
    {
     "name": "stdout",
     "output_type": "stream",
     "text": [
      "0.1990521327014218\n",
      "not best... at 2025-06-14_15:00:01\n",
      "\n",
      "\n",
      "\n",
      "{'data_unit': 'Spv', 'PH2': False, 'PH3': True, 'reducer': 'pca', 'kernel': '', 'n': 13, 'label_col': 'class_numeric', 'class_list': 'ten-classes', 'batch_size': 1024}\n",
      "{'arch': 'BERT', 'device': device(type='mps'), 'loadable': 'distilbert-base-uncased', 'optimizer': <class 'torch.optim.adamw.AdamW'>, 'lr': 1e-05, 'weight_decay': 0, 'loss_fn': <class 'torch.nn.modules.loss.CrossEntropyLoss'>, 'num_epochs': 148}\n"
     ]
    },
    {
     "name": "stderr",
     "output_type": "stream",
     "text": [
      "                                                                                     \r"
     ]
    },
    {
     "name": "stdout",
     "output_type": "stream",
     "text": [
      "0.7488151658767772\n",
      "not best... at 2025-06-14_15:05:16\n",
      "\n",
      "\n",
      "\n",
      "{'data_unit': 'Spv', 'PH2': False, 'PH3': True, 'reducer': 'umap', 'kernel': '', 'n': 13, 'label_col': 'class_numeric', 'class_list': 'ten-classes', 'batch_size': 1024}\n",
      "{'arch': 'BERT', 'device': device(type='mps'), 'loadable': 'distilbert-base-uncased', 'optimizer': <class 'torch.optim.adamw.AdamW'>, 'lr': 1e-05, 'weight_decay': 0, 'loss_fn': <class 'torch.nn.modules.loss.CrossEntropyLoss'>, 'num_epochs': 148}\n"
     ]
    },
    {
     "name": "stderr",
     "output_type": "stream",
     "text": [
      "                                                                                    \r"
     ]
    },
    {
     "name": "stdout",
     "output_type": "stream",
     "text": [
      "0.22748815165876776\n",
      "not best... at 2025-06-14_15:10:24\n",
      "\n",
      "\n",
      "\n",
      "{'data_unit': 'Spv', 'PH2': False, 'PH3': True, 'reducer': 'pca', 'kernel': '', 'n': 15, 'label_col': 'class_numeric', 'class_list': 'ten-classes', 'batch_size': 1024}\n",
      "{'arch': 'BERT', 'device': device(type='mps'), 'loadable': 'distilbert-base-uncased', 'optimizer': <class 'torch.optim.adamw.AdamW'>, 'lr': 1e-05, 'weight_decay': 0, 'loss_fn': <class 'torch.nn.modules.loss.CrossEntropyLoss'>, 'num_epochs': 148}\n"
     ]
    },
    {
     "name": "stderr",
     "output_type": "stream",
     "text": [
      "                                                                                     \r"
     ]
    },
    {
     "name": "stdout",
     "output_type": "stream",
     "text": [
      "0.8530805687203792\n",
      "updating best... at 2025-06-14_15:15:33\n",
      "\n",
      "\n",
      "\n",
      "{'data_unit': 'Spv', 'PH2': False, 'PH3': True, 'reducer': 'umap', 'kernel': '', 'n': 15, 'label_col': 'class_numeric', 'class_list': 'ten-classes', 'batch_size': 1024}\n",
      "{'arch': 'BERT', 'device': device(type='mps'), 'loadable': 'distilbert-base-uncased', 'optimizer': <class 'torch.optim.adamw.AdamW'>, 'lr': 1e-05, 'weight_decay': 0, 'loss_fn': <class 'torch.nn.modules.loss.CrossEntropyLoss'>, 'num_epochs': 148}\n"
     ]
    },
    {
     "name": "stderr",
     "output_type": "stream",
     "text": [
      "                                                                                    \r"
     ]
    },
    {
     "name": "stdout",
     "output_type": "stream",
     "text": [
      "0.2796208530805687\n",
      "not best... at 2025-06-14_15:20:46\n",
      "\n",
      "\n",
      "\n",
      "{'data_unit': 'Spv', 'PH2': False, 'PH3': False, 'reducer': '', 'kernel': '', 'n': 72, 'label_col': 'class_numeric', 'class_list': 'ten-classes', 'batch_size': 1024}\n",
      "{'arch': 'BERT', 'device': device(type='mps'), 'loadable': 'distilbert-base-uncased', 'optimizer': <class 'torch.optim.adamw.AdamW'>, 'lr': 1e-05, 'weight_decay': 0, 'loss_fn': <class 'torch.nn.modules.loss.CrossEntropyLoss'>, 'num_epochs': 148}\n"
     ]
    },
    {
     "name": "stderr",
     "output_type": "stream",
     "text": [
      "                                                                                     \r"
     ]
    },
    {
     "name": "stdout",
     "output_type": "stream",
     "text": [
      "0.9241706161137441\n",
      "updating best... at 2025-06-14_15:25:59\n",
      "\n",
      "\n",
      "\n",
      "Data Unit: Spv\n",
      "Best score: 0.9241706161137441\n",
      "Best data config: {'data_unit': 'Spv', 'PH2': False, 'PH3': False, 'reducer': '', 'kernel': '', 'n': 72, 'label_col': 'class_numeric', 'class_list': 'ten-classes', 'batch_size': 1024}\n",
      "Best train config: {'arch': 'BERT', 'device': device(type='mps'), 'loadable': 'distilbert-base-uncased', 'optimizer': <class 'torch.optim.adamw.AdamW'>, 'lr': 1e-05, 'weight_decay': 0, 'loss_fn': <class 'torch.nn.modules.loss.CrossEntropyLoss'>, 'num_epochs': 148}\n"
     ]
    }
   ],
   "source": [
    "bert.find_best(data_unit=sup.DATA_S_PV, label_col=sup.class_numeric_column, \n",
    "                    class_list=TRAIN_classes, batch_size=exploring_batch_size,\n",
    "                    LOADABLE_CANDIDATES=[exploringBERT], \n",
    "                    num_epochs_CANDIDATES=[exploring_num_epochs_spv])"
   ]
  },
  {
   "cell_type": "code",
   "execution_count": 10,
   "id": "971b697a",
   "metadata": {},
   "outputs": [],
   "source": [
    "spv_bert_scores_df = pd.DataFrame(sup.bert_score_tracker, columns=sup.bert_scores_columns)\n",
    "now = datetime.now().strftime(\"%Y-%m-%d_%H:%M:%S\")\n",
    "sup.create_dir_if_not_exists(os.path.join(sup.TRAIN_SCORES_ROOT, TRAIN_classes, \n",
    "                                          sup.TRAIN_BERT_CODE,\n",
    "                                          sup.DATA_S_PV,\n",
    "                                          exploringBERT))\n",
    "spv_bert_scores_df.to_csv(os.path.join(sup.TRAIN_SCORES_ROOT, TRAIN_classes, \n",
    "                                       sup.TRAIN_BERT_CODE,\n",
    "                                       sup.DATA_S_PV,\n",
    "                                       exploringBERT, \n",
    "                                       f\"{now}.csv\"), index=False)"
   ]
  }
 ],
 "metadata": {
  "kernelspec": {
   "display_name": "TOG_BERT_v2",
   "language": "python",
   "name": "python3"
  },
  "language_info": {
   "codemirror_mode": {
    "name": "ipython",
    "version": 3
   },
   "file_extension": ".py",
   "mimetype": "text/x-python",
   "name": "python",
   "nbconvert_exporter": "python",
   "pygments_lexer": "ipython3",
   "version": "3.10.18"
  }
 },
 "nbformat": 4,
 "nbformat_minor": 5
}
