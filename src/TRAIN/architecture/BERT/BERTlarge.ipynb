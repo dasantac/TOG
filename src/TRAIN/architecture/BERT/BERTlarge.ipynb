{
 "cells": [
  {
   "cell_type": "markdown",
   "id": "75a185de",
   "metadata": {},
   "source": [
    "# Context\n",
    "This notebook drives the training process for different models."
   ]
  },
  {
   "cell_type": "code",
   "execution_count": null,
   "id": "5da4f256",
   "metadata": {},
   "outputs": [],
   "source": [
    "# Set project's environment variables\n",
    "import os\n",
    "import sys\n",
    "from dotenv import load_dotenv\n",
    "load_dotenv(dotenv_path=\"../../../project.env\")\n",
    "sys.path.append(os.environ[\"PYTHONPATH\"])"
   ]
  },
  {
   "cell_type": "code",
   "execution_count": null,
   "id": "18b336cd",
   "metadata": {},
   "outputs": [],
   "source": [
    "# Import project-wide and PH2 specific variables and functions\n",
    "import superheader as sup\n",
    "from TRAIN.architecture.archeader import bert"
   ]
  },
  {
   "cell_type": "markdown",
   "id": "6154886e",
   "metadata": {},
   "source": [
    "# Models"
   ]
  },
  {
   "cell_type": "markdown",
   "id": "70eecdb8",
   "metadata": {},
   "source": [
    "## Setup"
   ]
  },
  {
   "cell_type": "code",
   "execution_count": null,
   "id": "59d30926",
   "metadata": {},
   "outputs": [],
   "source": [
    "import torch.nn as nn\n",
    "import torch.optim as optim"
   ]
  },
  {
   "cell_type": "code",
   "execution_count": null,
   "id": "fd135026",
   "metadata": {},
   "outputs": [],
   "source": [
    "TRAIN_classes = 'alpha-classes'\n",
    "\n",
    "data_config = {\n",
    "  \"data_unit\" : sup.DATA_S_PV,\n",
    "  \"seq_len\" : 12,\n",
    "  \"PH2\" : False,\n",
    "  \"input_dim\" : 72,\n",
    "  \"PH3\" : False,\n",
    "  \"reducer\" : '',\n",
    "  \"kernel\" : '',\n",
    "  \"n\" : -1,\n",
    "  \"label_col\" : sup.class_numeric_column,\n",
    "  \"class_list\" : TRAIN_classes,\n",
    "  \"batch_size\" : 1024,\n",
    "  \n",
    "\n",
    "}\n",
    "\n",
    "train_config = {\n",
    "  \"device\" : bert.device,\n",
    "  \"arch\" : sup.TRAIN_BERT_CODE,\n",
    "  \"loadable\" : bert.BERT_LARGE,\n",
    "  \"optimizer\" : optim.AdamW,\n",
    "  \"lr\" : 2e-5,\n",
    "  \"weight_decay\" : 1e-4,\n",
    "  \"loss_fn\" : nn.CrossEntropyLoss,\n",
    "  \"num_epochs\" : 10\n",
    "}\n"
   ]
  },
  {
   "cell_type": "code",
   "execution_count": null,
   "id": "f32d9dbe",
   "metadata": {},
   "outputs": [],
   "source": [
    "sup.bert_score_tracker = []\n",
    "\n",
    "model = bert.BERT(data_config=data_config, df=None, \n",
    "                  train_config=train_config)"
   ]
  },
  {
   "cell_type": "code",
   "execution_count": null,
   "id": "a01a8381",
   "metadata": {},
   "outputs": [],
   "source": [
    "model.fit(verbose=True, perfect=True)"
   ]
  },
  {
   "cell_type": "code",
   "execution_count": null,
   "id": "f458b207",
   "metadata": {},
   "outputs": [],
   "source": [
    "model.score()\n",
    "print(model.accuracy)\n",
    "model.show_loss()"
   ]
  }
 ],
 "metadata": {
  "kernelspec": {
   "display_name": "TOG_BERT_v2",
   "language": "python",
   "name": "python3"
  },
  "language_info": {
   "codemirror_mode": {
    "name": "ipython",
    "version": 3
   },
   "file_extension": ".py",
   "mimetype": "text/x-python",
   "name": "python",
   "nbconvert_exporter": "python",
   "pygments_lexer": "ipython3",
   "version": "3.10.18"
  }
 },
 "nbformat": 4,
 "nbformat_minor": 5
}
