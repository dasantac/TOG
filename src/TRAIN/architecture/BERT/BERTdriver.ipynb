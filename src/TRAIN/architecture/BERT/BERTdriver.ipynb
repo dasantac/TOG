{
 "cells": [
  {
   "cell_type": "markdown",
   "id": "362e4bb8",
   "metadata": {},
   "source": [
    "# Context\n",
    "This notebook drives the training process for different models."
   ]
  },
  {
   "cell_type": "code",
   "execution_count": 3,
   "id": "e8557528",
   "metadata": {},
   "outputs": [],
   "source": [
    "# Set project's environment variables\n",
    "import os\n",
    "import sys\n",
    "from dotenv import load_dotenv\n",
    "load_dotenv(dotenv_path=\"../../../project.env\")\n",
    "sys.path.append(os.environ[\"PYTHONPATH\"])\n",
    "\n",
    "import pickle"
   ]
  },
  {
   "cell_type": "code",
   "execution_count": 4,
   "id": "9b8f9643",
   "metadata": {},
   "outputs": [
    {
     "name": "stdout",
     "output_type": "stream",
     "text": [
      "\n",
      "\n",
      "Chosen class grouping: two-classes\n",
      "\n",
      "\n",
      "Directory /Users/diego/Desktop/iteso/TOG/ exists. Continuing with execution\n",
      "Directory /Users/diego/Desktop/iteso/TOG/data exists. Continuing with execution\n",
      "Directory /Users/diego/Desktop/iteso/TOG/src exists. Continuing with execution\n",
      "Directory /Users/diego/Desktop/iteso/TOG/bin exists. Continuing with execution\n",
      "Directory /Users/diego/Desktop/iteso/TOG/media exists. Continuing with execution\n",
      "Directory /Users/diego/Desktop/iteso/TOG/scores exists. Continuing with execution\n"
     ]
    }
   ],
   "source": [
    "# Import project-wide and PH2 specific variables and functions\n",
    "import superheader as sup"
   ]
  },
  {
   "cell_type": "markdown",
   "id": "493ee7ff",
   "metadata": {},
   "source": [
    "# Datasets"
   ]
  },
  {
   "cell_type": "code",
   "execution_count": 5,
   "id": "52a87327",
   "metadata": {},
   "outputs": [
    {
     "name": "stdout",
     "output_type": "stream",
     "text": [
      "Directory /Users/diego/Desktop/iteso/TOG/data/PH1/two-classes exists. Continuing with execution\n",
      "Directory /Users/diego/Desktop/iteso/TOG/data/PH2/two-classes exists. Continuing with execution\n",
      "Directory /Users/diego/Desktop/iteso/TOG/data/PH3/two-classes exists. Continuing with execution\n"
     ]
    }
   ],
   "source": [
    "sup.report_dir_if_not_exists(sup.PH1_DATA_ROOT)\n",
    "sup.report_dir_if_not_exists(sup.PH2_DATA_ROOT)\n",
    "sup.report_dir_if_not_exists(sup.PH3_DATA_ROOT)"
   ]
  },
  {
   "cell_type": "markdown",
   "id": "c6506238",
   "metadata": {},
   "source": [
    "# BERT"
   ]
  },
  {
   "cell_type": "code",
   "execution_count": 8,
   "id": "97f7faf7",
   "metadata": {},
   "outputs": [],
   "source": [
    "from transformers import BertModel, BertConfig\n",
    "\n",
    "bert = BertModel.from_pretrained(\"bert-base-uncased\")"
   ]
  },
  {
   "cell_type": "code",
   "execution_count": 9,
   "id": "6842c546",
   "metadata": {},
   "outputs": [],
   "source": [
    "import torch.nn as nn\n",
    "\n",
    "input_dim = 10 # for now\n",
    "hidden_size = bert.config.hidden_size  # usually 768\n",
    "\n",
    "projection = nn.Linear(input_dim, hidden_size)"
   ]
  },
  {
   "cell_type": "code",
   "execution_count": null,
   "id": "46719742",
   "metadata": {},
   "outputs": [],
   "source": [
    "# x: (batch_size, seq_len, input_dim)\n",
    "x_proj = projection(x)\n",
    "\n",
    "# Optional: add a [CLS] token (learned)\n",
    "cls_token = nn.Parameter(torch.zeros(1, 1, hidden_size))\n",
    "cls = cls_token.expand(x_proj.size(0), -1, -1)\n",
    "x_with_cls = torch.cat([cls, x_proj], dim=1)\n",
    "\n",
    "# Create attention mask (1s for real tokens)\n",
    "attention_mask = torch.ones(x_with_cls.size()[:2]).to(x.device)\n",
    "\n",
    "# Forward through pretrained BERT\n",
    "outputs = bert(inputs_embeds=x_with_cls, attention_mask=attention_mask)\n",
    "pooled_output = outputs.last_hidden_state[:, 0]  # [CLS] token"
   ]
  },
  {
   "cell_type": "code",
   "execution_count": null,
   "id": "678f8dc6",
   "metadata": {},
   "outputs": [],
   "source": [
    "# Assume: x = [batch, seq_len, input_dim]\n",
    "x_proj = projection(x)                            # shape: [B, T, H]\n",
    "x_proj = torch.cat([cls_token.repeat(B, 1, 1), x_proj], dim=1)\n",
    "mask = torch.ones(x_proj.size()[:2]).to(device)\n",
    "\n",
    "outputs = bert(inputs_embeds=x_proj, attention_mask=mask)\n",
    "cls_out = outputs.last_hidden_state[:, 0]\n",
    "logits = classifier(cls_out)"
   ]
  }
 ],
 "metadata": {
  "kernelspec": {
   "display_name": "TOG_BERT_v1",
   "language": "python",
   "name": "python3"
  },
  "language_info": {
   "codemirror_mode": {
    "name": "ipython",
    "version": 3
   },
   "file_extension": ".py",
   "mimetype": "text/x-python",
   "name": "python",
   "nbconvert_exporter": "python",
   "pygments_lexer": "ipython3",
   "version": "3.10.18"
  }
 },
 "nbformat": 4,
 "nbformat_minor": 5
}
