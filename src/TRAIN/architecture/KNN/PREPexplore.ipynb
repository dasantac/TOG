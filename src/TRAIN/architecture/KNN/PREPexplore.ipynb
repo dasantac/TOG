{
 "cells": [
  {
   "cell_type": "markdown",
   "id": "49d5119d",
   "metadata": {},
   "source": [
    "# Context\n",
    "This notebook drives the training process for different models."
   ]
  },
  {
   "cell_type": "code",
   "execution_count": null,
   "id": "437324c6",
   "metadata": {},
   "outputs": [],
   "source": [
    "# Set project's environment variables\n",
    "import os\n",
    "import sys\n",
    "from dotenv import load_dotenv\n",
    "load_dotenv(dotenv_path=\"../../../project.env\")\n",
    "sys.path.append(os.environ[\"PYTHONPATH\"])"
   ]
  },
  {
   "cell_type": "code",
   "execution_count": null,
   "id": "cf9da1c2",
   "metadata": {},
   "outputs": [],
   "source": [
    "# Import project-wide and PH2 specific variables and functions\n",
    "import superheader as sup\n",
    "from TRAIN.architecture.archeader import knn"
   ]
  },
  {
   "cell_type": "markdown",
   "id": "1109f09f",
   "metadata": {},
   "source": [
    "# Models"
   ]
  },
  {
   "cell_type": "markdown",
   "id": "4773797f",
   "metadata": {},
   "source": [
    "## Setup"
   ]
  },
  {
   "cell_type": "code",
   "execution_count": null,
   "id": "04aaf65a",
   "metadata": {},
   "outputs": [],
   "source": [
    "import gc"
   ]
  },
  {
   "cell_type": "code",
   "execution_count": null,
   "id": "2c808347",
   "metadata": {},
   "outputs": [],
   "source": [
    "import json\n",
    "with open(os.path.join(sup.DATA_ROOT, \"all-classes-subsets.json\"), \"r\") as f:\n",
    "    loaded = json.load(f)\n",
    "\n",
    "# Convert keys back to int and lists back to tuples\n",
    "subsets = {\n",
    "    int(k): {d: v for d, v in v_dict.items()}\n",
    "    for k, v_dict in loaded.items()\n",
    "}\n",
    "subsets\n"
   ]
  },
  {
   "cell_type": "code",
   "execution_count": null,
   "id": "64e44df6",
   "metadata": {},
   "outputs": [],
   "source": [
    "base_data_config = {\n",
    "  \"PH3\" : False,\n",
    "  \"reducer\" : '',\n",
    "  \"kernel\" : '',\n",
    "  \"n\" : -1,\n",
    "  \"label_col\" : sup.class_numeric_column,\n",
    "  \"class_list\" : 'specified'\n",
    "}\n",
    "\n",
    "base_train_config = {\n",
    "  \"arch\" : sup.TRAIN_KNN_CODE,\n",
    "  \"k\" : 1\n",
    "}\n",
    "\n",
    "num_class_candidates = list(range(2, 38+1, 1))"
   ]
  },
  {
   "cell_type": "markdown",
   "id": "de39f8d5",
   "metadata": {},
   "source": [
    "## Train"
   ]
  },
  {
   "cell_type": "code",
   "execution_count": null,
   "id": "f8ac260c",
   "metadata": {},
   "outputs": [],
   "source": [
    "metric_tracker = list()"
   ]
  },
  {
   "cell_type": "code",
   "execution_count": null,
   "id": "688c2f2f",
   "metadata": {},
   "outputs": [],
   "source": [
    "for data_unit in [sup.DATA_S_PF, sup.DATA_S_PV]:\n",
    "  data_config = base_data_config.copy()\n",
    "  train_config = base_train_config.copy()\n",
    "\n",
    "  data_config[\"data_unit\"] = data_unit\n",
    "\n",
    "  for PH2 in [False, True]:\n",
    "    data_config[\"PH2\"] = PH2\n",
    "\n",
    "    for n in num_class_candidates:\n",
    "      s = subsets[n]\n",
    "      for difficulty in ['easy', 'average', 'hard']:\n",
    "        s_dif = s[difficulty]\n",
    "        data_config[\"difficulty\"] = difficulty\n",
    "        data_config[\"class_numeric_list\"] = s_dif\n",
    "        \n",
    "        print(data_config)\n",
    "        print(train_config)\n",
    "        model = knn.KNN(data_config=data_config, df=None, \n",
    "                          train_config=train_config)\n",
    "        \n",
    "        model.fit()\n",
    "\n",
    "        model.test()\n",
    "\n",
    "        model.full_score()\n",
    "        print(model.accuracy)\n",
    "        print(model.top2accuracy)\n",
    "        print(model.macro_f1)\n",
    "        print(model.macro_precision)\n",
    "        print(model.macro_recall)\n",
    "\n",
    "        metrics = {\"data_unit\" : data_unit,\n",
    "                    \"PH2\" : PH2,\n",
    "                    \"num_classes\" : n,\n",
    "                    \"difficulty\" : difficulty,\n",
    "                    \"accuracy\" : model.accuracy,\n",
    "                    \"top2accuracy\" : model.top2accuracy,\n",
    "                    \"macro_f1\" : model.macro_f1,\n",
    "                    \"macro_precision\" : model.macro_precision,\n",
    "                    \"macro_recall\" : model.macro_recall}\n",
    "        \n",
    "        model.keep_confusion_matrix()\n",
    "        #model.keep_loss()\n",
    "        \n",
    "        metric_tracker.append(metrics.copy())\n",
    "        \n",
    "        print(\"clearing memory...\")\n",
    "        del model\n",
    "        gc.collect()"
   ]
  },
  {
   "cell_type": "markdown",
   "id": "baf13eae",
   "metadata": {},
   "source": [
    "# Keep metrics"
   ]
  },
  {
   "cell_type": "code",
   "execution_count": null,
   "id": "d72b8bd7",
   "metadata": {},
   "outputs": [],
   "source": [
    "import pandas as pd\n",
    "\n",
    "metrics_df = pd.DataFrame(metric_tracker)\n",
    "metrics_df"
   ]
  },
  {
   "cell_type": "code",
   "execution_count": null,
   "id": "4a4687b9",
   "metadata": {},
   "outputs": [],
   "source": [
    "sup.create_dir_if_not_exists(os.path.join(sup.SCORES_ROOT, \"specified\", sup.TRAIN_KNN_CODE))\n",
    "\n",
    "metrics_df.to_csv(os.path.join(sup.SCORES_ROOT, \"specified\", sup.TRAIN_KNN_CODE, \"PREPanalysis.csv\"), index=False)"
   ]
  }
 ],
 "metadata": {
  "kernelspec": {
   "display_name": "TOG_BERT_v2",
   "language": "python",
   "name": "python3"
  },
  "language_info": {
   "codemirror_mode": {
    "name": "ipython",
    "version": 3
   },
   "file_extension": ".py",
   "mimetype": "text/x-python",
   "name": "python",
   "nbconvert_exporter": "python",
   "pygments_lexer": "ipython3",
   "version": "3.10.18"
  }
 },
 "nbformat": 4,
 "nbformat_minor": 5
}
